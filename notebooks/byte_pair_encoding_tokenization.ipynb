{
 "cells": [
  {
   "cell_type": "markdown",
   "id": "c8b08c55-6acc-4835-a70d-d8d868050ebb",
   "metadata": {},
   "source": [
    "<img src=\"images/logo/selene-logo-640.png\" style=\"max-height:75px;\" alt=\"SELENE Logo\" />\n",
    "\n",
    "**Disclaimer:** This Jupyter Notebook contains content generated with the assistance of AI. While every effort has been made to review and validate the outputs, users should independently verify critical information before relying on it. The SELENE notebook repository is constantly evolving. We recommend downloading or pulling the latest version of this notebook from Github."
   ]
  },
  {
   "cell_type": "markdown",
   "id": "cb3b5b8f-b875-4a0d-bfc5-e6494b4d976a",
   "metadata": {},
   "source": [
    "# Byte-Pair Encoding Tokenization\n",
    "\n",
    "Byte-Pair Encoding (BPE) is a widely used method for subword tokenization in natural language processing (NLP). Subword tokenization refers to breaking text into smaller units, such as parts of words, instead of splitting only by full words or single characters. This technique is particularly useful in tasks like machine translation, text generation, and speech recognition, where handling large and diverse vocabularies efficiently is crucial. BPE achieves this by striking a balance between using full words and individual characters, creating tokens that are subword units.\n",
    "\n",
    "The motivation for using BPE lies in the challenges posed by natural language. Words in any language vary widely in their frequency of usage &mdash; some appear often (like *\"the\"* or *\"and\"*), while others are rare (like *\"antidisestablishmentarianism\"*). Storing and processing all these words as separate tokens would make the vocabulary size enormous and computationally expensive. On the other hand, splitting text into individual characters would lose the meaningful structure of words, making it harder for models to learn semantic relationships. BPE provides an elegant solution by building a vocabulary of common subword units that can effectively represent both frequent and rare words.\n",
    "\n",
    "BPE works by initially treating every character in a text as a token and then iteratively merging the most frequent pairs of tokens into new subword units. For instance, if *\"th\"* and *\"e\"* frequently appear together, they are merged into *\"the\"*. This process continues until a predefined vocabulary size is reached. The resulting subword tokens capture common patterns in the language, such as prefixes, suffixes, or word stems, which helps models understand linguistic structures better while keeping the vocabulary manageable.\n",
    "\n",
    "One of the key advantages of BPE is its ability to handle out-of-vocabulary words effectively. In traditional tokenization methods, a completely new word might be treated as unknown or ignored. With BPE, even unseen words can be broken into subword units that the model has already learned, allowing it to make better predictions. This capability makes BPE particularly important for working with morphologically rich languages or domains with specialized vocabularies, such as medical or legal texts.\n",
    "\n",
    "In this notebook, we will take a closer look at BPE and implement a basic BPE tokenizer from scratch in a step-by-step and illustrative manner."
   ]
  },
  {
   "cell_type": "markdown",
   "id": "6cebf426-279b-4ae5-b9cf-2abdca268639",
   "metadata": {},
   "source": [
    "### Setting up the Notebook\n",
    "\n",
    "#### Make Required Imports\n",
    "\n",
    "This notebook requires the import of different Python packages but also additional Python modules that are part of the repository. If a package is missing, use your preferred package manager (e.g., [conda](https://anaconda.org/anaconda/conda) or [pip](https://pypi.org/project/pip/)) to install it. If the code cell below runs with any errors, all required packages and modules have successfully been imported."
   ]
  },
  {
   "cell_type": "code",
   "execution_count": 1,
   "id": "be0934a8-9d56-416d-8993-0aae4b8dfee5",
   "metadata": {},
   "outputs": [],
   "source": [
    "import re, regex, collections, json\n",
    "from src.text.preprocessing.tokenizing import MyBpeTokenizer\n",
    "from src.utils.data.files import *"
   ]
  },
  {
   "cell_type": "markdown",
   "id": "fbb7f71d-5a09-431b-930d-d3cca5470bd1",
   "metadata": {},
   "source": [
    "#### Download Required Data\n",
    "\n",
    "Some code examples in this notebook use data that first need to be downloaded by running the code cell below. If this code cell throws any error, please check the configuration file `config.yaml` if the URL for downloading datasets is up to date and matches the one on Github. If not, simply download or pull the latest version from Github."
   ]
  },
  {
   "cell_type": "code",
   "execution_count": 2,
   "id": "a5838bab-d268-4328-91f6-2d4e7913f75e",
   "metadata": {},
   "outputs": [
    {
     "name": "stdout",
     "output_type": "stream",
     "text": [
      "File 'data/datasets/text/corpora/books/treasure-island.txt' already exists (use 'overwrite=True' to overwrite it).\n"
     ]
    }
   ],
   "source": [
    "treasure_island_book, _ = download_dataset(\"text/corpora/books/treasure-island.txt\")"
   ]
  },
  {
   "cell_type": "markdown",
   "id": "b759cd98-945b-4032-b3a9-39d0dc249455",
   "metadata": {},
   "source": [
    "---"
   ]
  },
  {
   "cell_type": "markdown",
   "id": "463a5852-9d15-4fd6-b3ae-191cf5aa586e",
   "metadata": {},
   "source": [
    "## BPE from Scratch\n",
    "\n",
    "The fundamental idea behind BPE is quite straightforward to understand and easy to implement, and will go through the algorithm step by step in the following. Practical implementations of BPE will be more sophisticated as they consider additional refinements or aim for more efficient implementations. Here, the focus is on the understanding of BPE for tokenization. This includes that we use a very artificial example document to better illustrate the inner workings of the algorithm. This example document is defined in the code cell below."
   ]
  },
  {
   "cell_type": "code",
   "execution_count": 3,
   "id": "340aebe3-9987-4e6c-817c-17b7d7206c9d",
   "metadata": {},
   "outputs": [],
   "source": [
    "doc = 'low low low low low lower lower newest newest newest newest newest newest widest widest widest longer'"
   ]
  },
  {
   "cell_type": "markdown",
   "id": "d3363c8f-4447-449b-9d2d-cc65020858be",
   "metadata": {},
   "source": [
    "The algorithm also needs some special character to mark the end of a word; its purpose will be clear once we go through the algorithm. Again, to keep it simple, we simply use the underscore character `_` for this. Note that this means that our input document is not allowed to contain underscore characters. This works perfectly fine for our example document here."
   ]
  },
  {
   "cell_type": "code",
   "execution_count": 4,
   "id": "c976b4cc-c417-4d64-ad30-a21e805ce607",
   "metadata": {},
   "outputs": [],
   "source": [
    "TOKEN_EOS = '_'"
   ]
  },
  {
   "cell_type": "markdown",
   "id": "39724fba-ee23-4728-a868-31f1428bf643",
   "metadata": {},
   "source": [
    "### Core Steps\n",
    "\n",
    "We first go through the core steps of BPE, before combining them to the final learning algorithm.\n",
    "\n",
    "#### Pretokenize Text\n",
    "\n",
    "BPE assumes that the corpus has been pretokenized into a initial list of tokens. The most basic approach is to pretokenize a text based on whitespace characters &mdash; in practice, slightly more sophisticated methods are used (discussed later). The code cell below contains the method `pretokenize()` the uses the built-in Python method `split()` to convert a text string into a list of tokens by splitting the string with respect to whitespace characters."
   ]
  },
  {
   "cell_type": "code",
   "execution_count": 5,
   "id": "606e1c24-c1e8-498e-b6d9-3fd71701409a",
   "metadata": {},
   "outputs": [],
   "source": [
    "def pretokenize(doc):\n",
    "    return doc.split()"
   ]
  },
  {
   "cell_type": "markdown",
   "id": "03f98c54-3d94-4200-9181-b7566c44aa36",
   "metadata": {},
   "source": [
    "To show an example, we can apply this method to our example document."
   ]
  },
  {
   "cell_type": "code",
   "execution_count": 6,
   "id": "0d5e2cfc-2015-47d7-9612-f7b40c6cfa8f",
   "metadata": {},
   "outputs": [
    {
     "name": "stdout",
     "output_type": "stream",
     "text": [
      "['low', 'low', 'low', 'low', 'low', 'lower', 'lower', 'newest', 'newest', 'newest', 'newest', 'newest', 'newest', 'widest', 'widest', 'widest', 'longer']\n"
     ]
    }
   ],
   "source": [
    "print(pretokenize(doc))"
   ]
  },
  {
   "cell_type": "markdown",
   "id": "d3493921-4fa1-4df9-846a-daeacb47ae4a",
   "metadata": {},
   "source": [
    "#### Initialize Corpus State and Vocabulary\n",
    "\n",
    "The corpus state represents a data structure, here a dictionary, that maps each unique token after pretokenization to its number of occurrences on the training corpus. Since BPE is a bottom-up approach, we also need to split each token (typically a word) into its characters, and the special TOKEN_EOS is added. Let's first create a utility method that performs this step for an initial word/token."
   ]
  },
  {
   "cell_type": "code",
   "execution_count": 7,
   "id": "f891c53d-1a69-404b-be0b-0c3429916d61",
   "metadata": {},
   "outputs": [
    {
     "data": {
      "text/plain": [
       "'f a s t e s t _'"
      ]
     },
     "execution_count": 7,
     "metadata": {},
     "output_type": "execute_result"
    }
   ],
   "source": [
    "def generate_sequence(word, eos=TOKEN_EOS):\n",
    "    return ' '.join((list(word) + [eos]))\n",
    "    \n",
    "generate_sequence('fastest')"
   ]
  },
  {
   "cell_type": "markdown",
   "id": "dd548c92-cc73-4fb3-9364-13ec836b52cd",
   "metadata": {},
   "source": [
    "Now we can go through our all documents to initialize the **corpus state**, i.e., the set of unique words/tokens across the whole corpus converted to their sequences. This for each document we perform the following steps:\n",
    "\n",
    "* Perform simple pretokenization using the `pretokenize()` method.\n",
    "* Split each token into its characters using the utility method `generate_sequence()`.\n",
    "* Add the generate sequence to the corpus state; to avoid repeated entries of the same sequence, we also keep track of the number of times a token appears in the corpus &mdash; we therefore implement the corpus state as dictionary with the sequences as the keys and the number of occurrences as the values.\n",
    "\n",
    "During this process, we also initialize the vocabulary as the set of all unique characters. Later, the learning algorithm will add strings longer than a single character to the vocabulary. Note, however, that the vocabulary itself is not crucial for the BPE algorithm itself.\n",
    "\n",
    "The method `initialize_corpus_state()` in the code cell below implements both steps and returns the initial corpus state and vocabulary."
   ]
  },
  {
   "cell_type": "code",
   "execution_count": 8,
   "id": "126f8c42-29e7-4428-b620-d4e8fb69fde3",
   "metadata": {},
   "outputs": [],
   "source": [
    "def initialize_corpus_state(docs: list):\n",
    "    # Initial vocabulary as an empty set\n",
    "    vocabulary = set()\n",
    "    # Initialize dictionary representing the corpus state\n",
    "    corpus_state = collections.defaultdict(int)\n",
    "    # Loop over all documents\n",
    "    for doc in docs:\n",
    "        # Add all characters in the current document to the vocabulary\n",
    "        vocabulary.update(set(doc))\n",
    "        # For each word in the document, generate the sequence and update add it to the corpus state\n",
    "        for word in pretokenize(doc):\n",
    "            corpus_state[generate_sequence(word)] += 1\n",
    "    # Remove whitespace character from final vocabulary\n",
    "    vocabulary.discard(\" \")\n",
    "    # Add EOS token\n",
    "    vocabulary.add(TOKEN_EOS)\n",
    "    return dict(corpus_state), vocabulary"
   ]
  },
  {
   "cell_type": "markdown",
   "id": "1ca25e47-d745-48cb-b10b-2bd49e47602d",
   "metadata": {},
   "source": [
    "We can now run the method over our toy corpus which is just a single document."
   ]
  },
  {
   "cell_type": "code",
   "execution_count": 9,
   "id": "b0aa3829-e487-4978-91dd-116d2700cd39",
   "metadata": {},
   "outputs": [],
   "source": [
    "corpus_state, vocabulary = initialize_corpus_state([doc])"
   ]
  },
  {
   "cell_type": "markdown",
   "id": "379ebe2e-70af-486a-ba2e-35f99ad5d162",
   "metadata": {},
   "source": [
    "Let's first have a look at the corpus state; we use the `dumps()` method of the json library for a more user-friendly output."
   ]
  },
  {
   "cell_type": "code",
   "execution_count": 10,
   "id": "c13cb28d-1fed-44b4-9066-a7d227b7a58f",
   "metadata": {},
   "outputs": [
    {
     "name": "stdout",
     "output_type": "stream",
     "text": [
      "{\n",
      "  \"l o w _\": 5,\n",
      "  \"l o w e r _\": 2,\n",
      "  \"n e w e s t _\": 6,\n",
      "  \"w i d e s t _\": 3,\n",
      "  \"l o n g e r _\": 1\n",
      "}\n"
     ]
    }
   ],
   "source": [
    "print(json.dumps(corpus_state, indent=2))"
   ]
  },
  {
   "cell_type": "markdown",
   "id": "23762bbf-9089-46ae-843e-a4898c249889",
   "metadata": {},
   "source": [
    "When looking at the result, you should recognize all five unique words/tokens that appear in our toy document, only converted to their initial sequences. The number reflects how often that word/token appeared in the document. For example, the key-value pair `\"w i d e s t _\": 3` indicates that the word *\"widest\"* appeared three times in the document.\n",
    "\n",
    "We can also look at the initial vocabulary which is simply the set of all unique characters in the document, together with the special EOS token."
   ]
  },
  {
   "cell_type": "code",
   "execution_count": 11,
   "id": "e323199d-58e1-4daf-9ebf-2a4f990f36c7",
   "metadata": {},
   "outputs": [
    {
     "name": "stdout",
     "output_type": "stream",
     "text": [
      "{'d', 'r', 'n', 't', '_', 'l', 'g', 'o', 's', 'i', 'w', 'e'}\n"
     ]
    }
   ],
   "source": [
    "print(vocabulary)"
   ]
  },
  {
   "cell_type": "markdown",
   "id": "3f024ae4-dac9-4e5f-bda3-506a25b16772",
   "metadata": {},
   "source": [
    "If we would do nothing else &mdash; that is, not actually perform any training &mdash; the BPE tokenizer would behave like a character tokenizer. We will actually try this later."
   ]
  },
  {
   "cell_type": "markdown",
   "id": "abc494aa-1428-4f02-a10b-c9616f9bf176",
   "metadata": {},
   "source": [
    "#### Token Merging Step\n",
    " \n",
    "The key idea of BPE is to iteratively merge the most frequent token pairs in the corpus state to build a vocabulary that efficiently represents the structure of the input text. The goal is to identify and represent commonly occurring patterns &mdash; such as subwords, roots, prefixes, or suffixes &mdash; with single tokens. This reduces the number of tokens needed to encode the text while maintaining flexibility for representing rare or unseen words through combinations of smaller subword units.\n",
    "\n",
    "By iteratively merging the most frequent adjacent token pairs, BPE strikes a balance between character-level and word-level tokenization. Character-level tokenization ensures coverage for any text but can result in extremely long sequences that are computationally expensive to process. On the other hand, word-level tokenization creates inefficiencies when encountering rare words, as each unique word would need a separate token. BPE bridges this gap by creating a subword-level tokenization scheme: frequent word components are merged into single tokens, while rare or out-of-vocabulary words can still be represented as sequences of smaller subword units.\n",
    "\n",
    "##### Calculate Number of Token Pairs\n",
    "\n",
    "To know which token pair to merge, we first need to find the most frequent pair (or pairs) of tokens in the current corpus state. For example, assuming the initial corpus state from above, we need to calculate the number of occurrences of *\"l o\"*, *\"o w\"*, *\"w _\"*, *\"w e\"*, *\"e r\"*, and so on, to know which pair to merge next. The method `find_most_frequent_token_pair()` in the code cell below implements this calculation by iterating over all words in the corpus state, and for each word, iterating over all token pairs to sum up each pair's total number of occurrences. The method then returns the most frequent token pairs as well as a dictionary with all token pairs and their respective counts. The latter is only to have a look at the counts; this dictionary is not need for the algorithm itself"
   ]
  },
  {
   "cell_type": "code",
   "execution_count": 12,
   "id": "6fcd7034-030c-4f9c-b205-927a1b5d1e7d",
   "metadata": {},
   "outputs": [],
   "source": [
    "def find_most_frequent_token_pair(corpus_state):\n",
    "    token_pair_counts = collections.defaultdict(int)\n",
    "    \n",
    "    for word, freq in corpus_state.items():\n",
    "        sequence = word.split()\n",
    "        for i in range(len(sequence)-1):\n",
    "            token_pair_counts[f\"{sequence[i]} {sequence[i+1]}\"] += freq\n",
    "\n",
    "    # Return the most frequent pair (if their are ties, we just randomly break them) + all token pair counts\n",
    "    return max(token_pair_counts.keys(), key=(lambda key: token_pair_counts[key])), token_pair_counts"
   ]
  },
  {
   "cell_type": "markdown",
   "id": "27d6e7f8-9e27-4d15-afff-036e48eff3fb",
   "metadata": {},
   "source": [
    "Using the method `find_most_frequent_token_pair()`, we can identify the first token pair to merge for our initial corpus state. In general, there might be multiple token pairs that have the same highest number of occurrences. In this situation, we pick any token pair from this subset randomly."
   ]
  },
  {
   "cell_type": "code",
   "execution_count": 13,
   "id": "97b55114-5660-4dd9-885b-0980308ee531",
   "metadata": {},
   "outputs": [],
   "source": [
    "# We re-initialize the corpus state and the vocabulary to ensure a consistent output of this code cell\n",
    "corpus_state, vocabulary = initialize_corpus_state([doc])\n",
    "\n",
    "top_token_pair, token_pair_counts = find_most_frequent_token_pair(corpus_state)"
   ]
  },
  {
   "cell_type": "markdown",
   "id": "172b7897-8a3f-42ab-a473-aa89ac4c7d56",
   "metadata": {},
   "source": [
    "Let's first look at the counts for all token pairs. Again, this is just for illustrative purposes and not required for the BPE algorithm itself."
   ]
  },
  {
   "cell_type": "code",
   "execution_count": 14,
   "id": "4f386f1a-1284-4730-8a1f-60784b1fc949",
   "metadata": {},
   "outputs": [
    {
     "name": "stdout",
     "output_type": "stream",
     "text": [
      "{\n",
      "  \"l o\": 8,\n",
      "  \"o w\": 7,\n",
      "  \"w _\": 5,\n",
      "  \"w e\": 8,\n",
      "  \"e r\": 3,\n",
      "  \"r _\": 3,\n",
      "  \"n e\": 6,\n",
      "  \"e w\": 6,\n",
      "  \"e s\": 9,\n",
      "  \"s t\": 9,\n",
      "  \"t _\": 9,\n",
      "  \"w i\": 3,\n",
      "  \"i d\": 3,\n",
      "  \"d e\": 3,\n",
      "  \"o n\": 1,\n",
      "  \"n g\": 1,\n",
      "  \"g e\": 1\n",
      "}\n"
     ]
    }
   ],
   "source": [
    "print(json.dumps(token_pair_counts, indent=2))"
   ]
  },
  {
   "cell_type": "markdown",
   "id": "b69ec22e-0268-4339-8c59-85df3ca29576",
   "metadata": {},
   "source": [
    "We can see that in fact three token pairs have the highest number of occurrences of 9: *\"e s\"*, *\"s t\"*, and *\"t _\"*. Any of those three is a suitable candidate to get merged next. So let's see which pair the method `find_most_frequent_token_pair()` has returned."
   ]
  },
  {
   "cell_type": "code",
   "execution_count": 15,
   "id": "be1431ec-445f-4e02-b97c-72c24c5c8e65",
   "metadata": {},
   "outputs": [
    {
     "name": "stdout",
     "output_type": "stream",
     "text": [
      "e s\n"
     ]
    }
   ],
   "source": [
    "print(top_token_pair)"
   ]
  },
  {
   "cell_type": "markdown",
   "id": "acad7e7c-dd3a-497c-ab3e-90228d8d36cb",
   "metadata": {},
   "source": [
    "In the following, let's assume the most frequent token pair that was returned is *\"e s\"*.\n",
    "\n",
    "##### Perform Merge\n",
    "\n",
    "With the next most frequent token pair found, we can actually perform the merging step. This step includes three core substeps:\n",
    "\n",
    "* Merge the token pair into a new token (e.g., *\"e s\"* becomes *\"es\"*)\n",
    "* Add this new token (here, *\"es\"*) to the vocabulary\n",
    "* Update the corpus state by replacing all occurrences of the token pair with the new token &mdash; for our example, replace all occurrences of *\"e s\"* in the corpus state with *\"es\"*.\n",
    "\n",
    "The method `perform_merge()` implements these three substeps. Merging the token pair into a new token and adding this news token to the vocabulary is straightforward. Updating the corpus state is only a bit more complex. Since the corpus state is implemented as a dictionary and replacing all occurrences of the token pair with the merge token means changing the keys of this dictionary, we cannot simply iterate over this dictionary and directly change the keys. We therefore break this update step up into two loops\n",
    "\n",
    "* In the first loop, we find all keys (i.e., the words in the corpus state) that contain the token pair (at least once) and therefore need to be updated. We identify these keys using a Regular Expression that matches the token pair in a key. For example, given the key *\"n e w e s t _\"*, the Regular Expression looking for *\"e s\"* would match; but would not match for *\"l o n g e r _\"*. We keep track of all matching keys using the dictionary `matches` where its keys are the old keys in corpus state and the values are the new keys for the corpus state. We use the same Regular Expression to generate the new keys; for example, *\"n e w e s t _\"* becomes *\"n e w es t _\"*.\n",
    "\n",
    "* In the second loop, we iterate over all matches to add the new keys to the corpus state and give them the values of their respective old keys (those values representing the initial count do not change). We do this using the built-in `pop()` method which automatically removes the entry for the old key from the corpus state.\n",
    "\n",
    "Finally we return the merge (i.e., the tuple of the token pair and the new token &mdash; we need this later), the updated corpus state, and the updated vocabulary."
   ]
  },
  {
   "cell_type": "code",
   "execution_count": 16,
   "id": "2647299f-ebad-4b23-832b-a10d2283919a",
   "metadata": {},
   "outputs": [],
   "source": [
    "def perform_merge(token_pair, corpus_state, vocabulary):\n",
    "    # Create new token by merging token pair\n",
    "    new_token = re.sub(' ', '', token_pair)\n",
    "    # Create merge as tuple of token pair and new token\n",
    "    merge = (token_pair, new_token)\n",
    "    # Add new token to vocabulary\n",
    "    vocabulary.add(new_token)\n",
    "    # Define search pattern\n",
    "    pattern = re.compile(r\"(?<!\\S)\" + re.escape(token_pair) + r\"(?!\\S)\")\n",
    "    # Loop through corpus state and record which keys/sequences need to be updated\n",
    "    matches = {}\n",
    "    for sequence, count in corpus_state.items():\n",
    "        for match in pattern.finditer(sequence):\n",
    "            matches[sequence] = pattern.sub(new_token, sequence)\n",
    "    # Perform the update of keys/sequences\n",
    "    for old, new in matches.items():\n",
    "        corpus_state[new] = corpus_state.pop(old)\n",
    "    # Return the updated corpus state and vocabulary\n",
    "    return merge, corpus_state, vocabulary"
   ]
  },
  {
   "cell_type": "markdown",
   "id": "bd8e0820-b4bf-432e-8744-5ea6176224e7",
   "metadata": {},
   "source": [
    "For testing, we can run the method `perform_merge()` over our initial corpus state and vocabulary. We only re-initialize the both corpus state and vocabulary to ensure the output of the code cell is always the same."
   ]
  },
  {
   "cell_type": "code",
   "execution_count": 17,
   "id": "96c84816-8e1b-46de-8caf-67fb7de47768",
   "metadata": {},
   "outputs": [],
   "source": [
    "# We re-initialize the corpus state and the vocabulary to ensure a consistent output of this code cell\n",
    "corpus_state, vocabulary = initialize_corpus_state([doc])\n",
    "\n",
    "merge, corpus_state, vocabulary = perform_merge('e s', corpus_state, vocabulary)"
   ]
  },
  {
   "cell_type": "markdown",
   "id": "15af8493-421a-4c49-958a-416d4b6617e0",
   "metadata": {},
   "source": [
    "Let's have a look at all three return values of this method."
   ]
  },
  {
   "cell_type": "code",
   "execution_count": 18,
   "id": "e240c9c9-0138-4d1a-a7c6-43b5c55fa3aa",
   "metadata": {},
   "outputs": [
    {
     "name": "stdout",
     "output_type": "stream",
     "text": [
      "Merge: ('e s', 'es')\n",
      "\n",
      "Updated corpus state:\n",
      "{\n",
      "  \"l o w _\": 5,\n",
      "  \"l o w e r _\": 2,\n",
      "  \"l o n g e r _\": 1,\n",
      "  \"n e w es t _\": 6,\n",
      "  \"w i d es t _\": 3\n",
      "}\n",
      "\n",
      "Updated vocabulary\n",
      "{'d', 'es', 'r', 'n', 't', '_', 'l', 'g', 'o', 's', 'i', 'w', 'e'}\n"
     ]
    }
   ],
   "source": [
    "print(f\"Merge: {merge}\")\n",
    "print()\n",
    "print(\"Updated corpus state:\")\n",
    "print(json.dumps(corpus_state, indent=2))\n",
    "print()\n",
    "print(\"Updated vocabulary\")\n",
    "print(vocabulary)"
   ]
  },
  {
   "cell_type": "markdown",
   "id": "d0d5208f-d320-4437-8be5-6ddf0bd9a93c",
   "metadata": {},
   "source": [
    "Particularly, notice the changes in the corpus state: *\"n e w e s t _\"* became *\"n e w es t _\"*, and *\"w i d e s t _\"* became *\"w i d es t _\"*. Also, *\"es\"* has been added to the vocabulary."
   ]
  },
  {
   "cell_type": "markdown",
   "id": "08bf7601-67fb-4578-bfb6-b21d878a4f7a",
   "metadata": {},
   "source": [
    "### BPE Learning Algorithm\n",
    "\n",
    "With these three core steps, that is:\n",
    "* Initialization of the corpus state and vocabulary\n",
    "* Finding the most frequent token pair (for the current corpus state), and\n",
    "* Performing the merging step and updating the corpus state\n",
    "\n",
    "We now have everything in place to implement the BPE learning algorithm by plugging the methods implementing those three steps together; see the method `bpe_learn()` in the code cell below. Although the implementation of this method is rather straightforward, three small details are worth mentioning\n",
    "\n",
    "* One of the aforementioned advantages of BPE is that we can specify the maximum size of the resulting vocabulary. Since each merging step adds a new token to the vocabulary, we can restrict the size of the vocabulary by limiting the number of merging steps. However, since our initial vocabulary is not empty but the set of all unique characters, the number of merging steps &mdash; that is, the number of iterations `num_iter` in the code &mdash; derives from the difference of the specified maximum vocabulary size `max_vocab_size` and the size of the initial vocabulary.\n",
    "\n",
    "* In principle, particularly if the corpus is not very large, the algorithm might perform more merges than possible. This happens when all words in the corpus state have been merged to their original form (plus the EOS token). For example, after a certain amount of iterations, say, *\"n e w e s t _\"* will have been merged to \"newest_\". If this is true for all words in the corpus state, the corpus state does no longer contain any pair of tokens. In this case, the method `find_most_frequent_token_pair()` will throw an error and exit the loop since the learning algorithm has finished.\n",
    "\n",
    "* In each iteration, we keep track of the recent merge by adding it to a list of all previous merges. This list of merges is in fact the most important return value of the learning algorithm as it is used for tokenizing text. This includes that the order matters as we want to merge tokens in a new text in the same order as we merged them during the learning phase."
   ]
  },
  {
   "cell_type": "code",
   "execution_count": 19,
   "id": "781d1636-4eb6-4647-b20d-97eea59f7726",
   "metadata": {},
   "outputs": [],
   "source": [
    "def bpe_learn(corpus, max_vocab_size=10000):\n",
    "\n",
    "    # Initialize corpus state and vocabulary\n",
    "    corpus_state, vocabulary = initialize_corpus_state(corpus)\n",
    "\n",
    "    # Initialize the list of merges\n",
    "    merges = []\n",
    "\n",
    "    # Calculate the number of merging steps to ensure the maximum size of the vocabulary\n",
    "    num_iter = max_vocab_size - len(vocabulary)\n",
    "    \n",
    "    for _ in range(num_iter):\n",
    "\n",
    "        # Find the most frequent pair; if this fails, no more merging was possible and we can stop\n",
    "        try:\n",
    "            top_token_pair, _ = find_most_frequent_token_pair(corpus_state)\n",
    "        except:\n",
    "            break\n",
    "    \n",
    "        # Update corpus state and the vocabulary\n",
    "        merge, corpus_state, vocabulary = perform_merge(top_token_pair, corpus_state, vocabulary)\n",
    "        \n",
    "        # Add newly merged token to vocabulary\n",
    "        merges.append(merge)\n",
    "\n",
    "    # Return list of merges, the corpus state, and the vocabulary\n",
    "    return merges, corpus_state, vocabulary"
   ]
  },
  {
   "cell_type": "markdown",
   "id": "e3cb2286-0205-430c-bb64-66e307531c4e",
   "metadata": {},
   "source": [
    "Well, let's train a BPE tokenizer over our toy document.\n",
    "\n",
    "**Your turn:** Try different values for `max_vocab_size` and inspect the results. Of course, the larger this value, the larger the final vocabulary and the list of merges, but also the corpus state shows larger tokens. For example, a large value, say, `max_vocab_size=1000`, the learning algorithm tries to make more merging steps as actually possible. You can tell by looking at the corpus state where all words are merged into a single token."
   ]
  },
  {
   "cell_type": "code",
   "execution_count": 20,
   "id": "d4d63974-93dd-4c81-9350-ca6936604d86",
   "metadata": {},
   "outputs": [
    {
     "name": "stdout",
     "output_type": "stream",
     "text": [
      "Final corpus state:\n",
      "{\n",
      "  \"w i d est_\": 3,\n",
      "  \"lo n g e r _\": 1,\n",
      "  \"low e r _\": 2,\n",
      "  \"newest_\": 6,\n",
      "  \"low_\": 5\n",
      "}\n",
      "\n",
      "Final vocabulary (size: 21):\n",
      "{'d', 'es', 'ne', 'low_', 'l', 'low', 'new', '_', 'g', 's', 'i', 'est', 'newest_', 'w', 'n', 't', 'r', 'lo', 'o', 'est_', 'e'}\n",
      " \n",
      "Final list of merges:\n",
      "[('e s', 'es'), ('es t', 'est'), ('est _', 'est_'), ('l o', 'lo'), ('lo w', 'low'), ('n e', 'ne'), ('ne w', 'new'), ('new est_', 'newest_'), ('low _', 'low_')]\n"
     ]
    }
   ],
   "source": [
    "merges, corpus_state, vocabulary = bpe_learn([doc], max_vocab_size=21)\n",
    "\n",
    "print(f\"Final corpus state:\\n{json.dumps(corpus_state, indent=2)}\\n\")\n",
    "print(f\"Final vocabulary (size: {len(vocabulary)}):\\n{vocabulary}\\n \")\n",
    "print(f\"Final list of merges:\\n{merges}\")"
   ]
  },
  {
   "cell_type": "markdown",
   "id": "5d5e001e-994e-4fc5-b820-df5c589bd823",
   "metadata": {},
   "source": [
    "### BPE Tokenization Algorithm\n",
    "\n",
    "Once we applied the BPE learning algorithm over a corpus, using this learned model for actually tokenizing an arbitrary text is very straightforward. In fact, strictly speaking, we only need the list of merges that was returned from the learning algorithm (see above). In some sense, the tokenization algorithm mimics the learning algorithm. This includes that we first perform whitespace tokenization and treat each initial token separately. The method `tokenize_word()` tokenizes a single (initial) token based on the learned list of merges as follows:\n",
    "\n",
    "* First, the method splits the word into character tokens and adds the EOS token using the `generate_sequence()` method. For example, the words *\"newer\"* becomes *\"n e w e r _\"*\n",
    "\n",
    "* Then, the method iterates over the list of merges and checks if a merge can be applied, and does so if a match is found. For example, the merge `(\"e w\", \"ew\")` will find a match in *\"n e w e r _\"* and convert it the *\"n ew e r _\"*. To find the matches and perform the merges, we use the same Regular Expression we have already seen in the learning algorithm.\n",
    "\n",
    "The rest of the implementation is merely for printing the intermediate results for illustrative purposes."
   ]
  },
  {
   "cell_type": "code",
   "execution_count": 21,
   "id": "c8d8f704-1187-4514-92f6-6345c3f3ba68",
   "metadata": {},
   "outputs": [],
   "source": [
    "def tokenize_word(word, merges, verbose=False):\n",
    "    sequence = generate_sequence(word)\n",
    "    \n",
    "    if verbose == True:\n",
    "        print(sequence)\n",
    "        \n",
    "    for p, m in merges:\n",
    "        if p not in sequence:\n",
    "            continue\n",
    "            \n",
    "        p = re.compile(r'(?<!\\S)' + re.escape(p) + r'(?!\\S)')\n",
    "        sequence = p.sub(m, sequence)\n",
    "        \n",
    "        if verbose == True:\n",
    "            print(sequence)\n",
    "        \n",
    "    return sequence.split(' ')"
   ]
  },
  {
   "cell_type": "markdown",
   "id": "cacf642a-73c1-4a30-917d-a3206b2c4318",
   "metadata": {},
   "source": [
    "Let's run the `tokenize_word()` over a word that was not in the training document. Of course, the exact output will depend on the value for `max_vocab_size` you chose to train the BPE tokenizer. For example, with `max_vocab_size=0`, the word will be split into its individual characters since a new merge is performed. In other words, with `max_vocab_size=0`, the BPE tokenizer becomes a character tokenizer. In contrast, if the value for `max_vocab_size` is very large, the BPE tokenizer is more likely to behave like a word tokenizer.\n",
    "\n",
    "**Your turn:** Run the method `bpe_learn()` implementing the BPE learning algorithm with different values for `max_vocab_size` and see how the output of the code cell below changes."
   ]
  },
  {
   "cell_type": "code",
   "execution_count": 22,
   "id": "0c96b9aa-44b0-4fb7-a286-02ab76f21703",
   "metadata": {},
   "outputs": [
    {
     "name": "stdout",
     "output_type": "stream",
     "text": [
      "n e w e r _\n",
      "ne w e r _\n",
      "new e r _\n",
      "['new', 'e', 'r', '_']\n"
     ]
    }
   ],
   "source": [
    "tokens = tokenize_word('newer', merges, verbose=True)\n",
    "\n",
    "print(tokens)"
   ]
  },
  {
   "cell_type": "markdown",
   "id": "a6b312a8-c6bf-4f17-b6ea-d76daf2d9d40",
   "metadata": {},
   "source": [
    "To tokenize a complete document &mdash; again, mimicking the learning algorithm &mdash; we first need to pretokenize the document, and then run the method `tokenize_word()` over each initial token. The method `tokenize` implements these basic steps."
   ]
  },
  {
   "cell_type": "code",
   "execution_count": 23,
   "id": "14ba433f-e136-488e-86cd-8d502a7ba547",
   "metadata": {},
   "outputs": [],
   "source": [
    "def tokenize(doc, merges, verbose=False):\n",
    "    pretokens = pretokenize(doc)\n",
    "\n",
    "    tokens = []\n",
    "    for pt in pretokens:\n",
    "        tokens.extend(tokenize_word(pt, merges, verbose=verbose))\n",
    "\n",
    "    return tokens"
   ]
  },
  {
   "cell_type": "markdown",
   "id": "6eed2c12-c530-40ba-bb52-f55885855a0d",
   "metadata": {},
   "source": [
    "The code cell below defines another example document to test the behavior of method `tokenize()`. As before, the exact output will depend on the value of `max_vocab_size` when training the tokenizer and the document `doc` itself. Feel free to modify the document by adding new words or tweaking existing ones. You are also encouraged to run the code cell with different versions of the tokenizer (i.e., trained using different values for `max_vocab_size`)."
   ]
  },
  {
   "cell_type": "code",
   "execution_count": 24,
   "id": "dfe3aeb0-0216-49b1-add9-7b5b2b55ce61",
   "metadata": {},
   "outputs": [
    {
     "name": "stdout",
     "output_type": "stream",
     "text": [
      "n e w e r _\n",
      "ne w e r _\n",
      "new e r _\n",
      "l o n g e s t _\n",
      "l o n g es t _\n",
      "l o n g est _\n",
      "l o n g est_\n",
      "lo n g est_\n",
      "k n e w _\n",
      "k ne w _\n",
      "k new _\n",
      "i n g e s t _\n",
      "i n g es t _\n",
      "i n g est _\n",
      "i n g est_\n",
      "b e l o n g _\n",
      "b e lo n g _\n",
      "n e w e s t _\n",
      "n e w es t _\n",
      "n e w est _\n",
      "n e w est_\n",
      "ne w est_\n",
      "new est_\n",
      "newest_\n",
      "['new', 'e', 'r', '_', 'lo', 'n', 'g', 'est_', 'k', 'new', '_', 'i', 'n', 'g', 'est_', 'b', 'e', 'lo', 'n', 'g', '_', 'newest_']\n"
     ]
    }
   ],
   "source": [
    "doc2 = \"newer longest knew ingest belong newest\"\n",
    "\n",
    "print(tokenize(doc2, merges, verbose=True))"
   ]
  },
  {
   "cell_type": "markdown",
   "id": "6b0b0c95-0ca7-4a94-86d8-4e10d22002e5",
   "metadata": {},
   "source": [
    "### Detokenize\n",
    "\n",
    "If we would use the BPE tokenizer only to tokenize a text to serve as input for a machine learning model, we could stop here. However, text generation tasks such as machine translation, question answering, chatbots, etc. not only take tokenized text as input but also generate text in the form of tokens from the learned vocabulary. This means we need ways to convert a list of tokens back to a proper text. However, at least in its basic form, can be done performing to simple steps:\n",
    "\n",
    "* Concatenate all tokens into a single string, and\n",
    "* Replace the special EOS character with a whitespace character.\n",
    "\n",
    "The method `detokenize()` implements these two trivial steps; and let's test it on some example token list."
   ]
  },
  {
   "cell_type": "code",
   "execution_count": 25,
   "id": "d9c771b7-2ec6-474a-a119-92091e602c4c",
   "metadata": {},
   "outputs": [
    {
     "name": "stdout",
     "output_type": "stream",
     "text": [
      "newer longest knew ingest belong newest\n"
     ]
    }
   ],
   "source": [
    "def detokenize(tokens: list):\n",
    "    doc = ''.join(tokens)\n",
    "    return re.sub(TOKEN_EOS, \" \", doc).strip()\n",
    "\n",
    "print(detokenize(['new', 'er_', 'long', 'est_', 'k', 'new', '_', 'i', 'n', 'g', 'est_', 'b', 'e', 'long', '_', 'newest_']))"
   ]
  },
  {
   "cell_type": "markdown",
   "id": "8c99a2a9-16b1-4e52-8958-d5eae1b7f606",
   "metadata": {},
   "source": [
    "If you have followed the notebook very closely so far, you will notice that this is the actual reason why we need this special EOS character. Without it, for the detokenizing step, it would be impossible to say which tokens need to be merged, or more specifically, which tokens should *not* be merged."
   ]
  },
  {
   "cell_type": "markdown",
   "id": "4b0d526a-b51b-42bd-b93a-bd302964c179",
   "metadata": {},
   "source": [
    "---"
   ]
  },
  {
   "cell_type": "markdown",
   "id": "b0adeee8-bd91-4051-b824-fe34a715aad2",
   "metadata": {},
   "source": [
    "## Discussion & Limitations\n",
    "\n",
    "**Representation of tokens:** In our implementation, the tokens in the corpus state are represented as their actual strings of characters. The advantage is that it is much easier to understand the inner workings of the algorithms. Practical applications, however, commonly represent the tokens as unique ids, and the vocabulary maintains a mapping between the ids and their respective tokens. For example, instead of representing and entry in the corpus state like\n",
    "\n",
    "```\n",
    "{\n",
    "  ...\n",
    "  \"w id est_\": 3,\n",
    "  ...\n",
    "}\n",
    "```\n",
    "\n",
    "the alternative representation using ids could look like\n",
    "\n",
    "```\n",
    "{\n",
    "  ...\n",
    "  \"23 324 108\": 3,\n",
    "  ...\n",
    "}\n",
    "```\n",
    "\n",
    "Where $23$ maps to *\"w\"*, $324$ to *\"id\"*, and $108$ to *\"est_\"*. Thus, every time a token pair gets merged into a new token, a new id gets created for that token. This approach has a couple advantages. Firstly, the implementation in terms of memory management gets easier since integer values have a fixed size in bytes, whereas string tokens vary in size during the learning when the token gets merged. And secondly, token ids are the \"natural\" input for most machine learning algorithms, incl. neural networks. It is therefore more efficient if the tokenizer directly outputs a list of ids. If needed, ids can always be decoded using the mapping between ids and string tokens maintained in the vocabulary.\n",
    "\n",
    "**Special characters:** For our example implementation we used the underscore `_` as a special character to mark the end of a word. We saw that this was needed to reconstruct a list of tokens into a proper text. We already mentioned that the choice of `_` was simply to ease the representation, but we had to make the assumption that the training data does not contain underscores. In real-world text corpora, of course, underscores might very well occur. Therefore, practical BPE tokenizer algorithms favor characters that are arbitrarily unlikely to appear in a text document. For example, GPT often uses **Ġ** as a special character for the tokenizer. The character Ġ (uppercase \"G\" with a dot above; Unicode U+0120) is a letter in the Latin alphabet used in specific languages and contexts such as Maltese, as well as Old English and transcriptions. The special character is also not required to mark the end of a word. Using it to mark the start of a word (e.g., again, like GPT) has the same effect. Lastly, a special placeholder might be more than just a single character but can be represented by multiple characters. For example, the BERT tokenizer uses *\"##\"* to mark the start of a word.\n",
    "\n",
    "**Smart(er) pretokenization:** BPE requires a pretokenization to an initial list of tokens to initialize the corpus state. For English and many other languages, doing this by breaking up a text with respect to whitespace characters, is a quick and simple approach &mdash; and it works, as we have seen throughout the notebook. However, it is very common in English that there is no whitespace between tokens of different categories. For example, there is no whitespace before punctuation marks, and no whitespace before/after a closing/opening parenthesis or quote character. Simple whitespace pretokenization therefore yields initial tokens that do not \"belong together\". For example, an initial corpus state might look like this:\n",
    "\n",
    "```\n",
    "{\n",
    "  ...\n",
    "  \"w i d e s t . _\": 30,\n",
    "  \"w i d e s t ? _\": 16,\n",
    "  \"w i d e s t ! _\": 9,\n",
    "  \"w i d e s t , _\": 3,\n",
    "  \"w i d e s t : _\": 5,\n",
    "  \"w i d e s t ; _\": 10,\n",
    "  ...\n",
    "}\n",
    "```\n",
    "\n",
    "While, in principle, BPE still works, it might lead to suboptimal allocation of limited vocabulary slots. For example, with this corpus state, both *\"st?\"* and *\"st!\"* (and maybe others) might make it into the vocabulary although both tokens are from the perspective of a word they are the same. and model capacity. To avoid this, practical BPE implementations use some smarter pretokenization to the learning algorithm from merging across character categories. For example, with a pretokenizer that splits words from punctuation marks, our corpus state from above might look as follows:\n",
    "\n",
    "```\n",
    "{\n",
    "  ...\n",
    "  \"w i d e s t _\": 73,\n",
    "  \". _\": 10085,\n",
    "  \"? _\": 3120,\n",
    "  \"! _\": 5467,\n",
    "  \", _\": 8985,\n",
    "  \": _\": 1403,\n",
    "  \"; _\": 2050,\n",
    "  ...\n",
    "}\n",
    "```\n",
    "\n",
    "To give a concrete example, GPT2 used the following Regular Expression the pretokenize input texts (note: the expression has be slightly adapted to fit its use in this notebook, and later GPT uses more revised expression; however, here it's only used to show an alternative to naive whitespace pretokenization)."
   ]
  },
  {
   "cell_type": "code",
   "execution_count": 26,
   "id": "1edbdd5d-4807-4794-811a-937f87c48690",
   "metadata": {},
   "outputs": [
    {
     "name": "stdout",
     "output_type": "stream",
     "text": [
      "['Hello', \"'ve\", 'world', '123', 'how', \"'s\", 'are', 'you', '!!!?']\n"
     ]
    }
   ],
   "source": [
    "gpt2pattern = regex.compile(r\"\"\"'s|'t|'re|'ve|'m|'ll|'d|\\p{L}+|\\p{N}+|[^\\s\\p{L}\\p{N}]+\"\"\")\n",
    "\n",
    "print(regex.findall(gpt2pattern, \"Hello've world123 how's     are you!!!?   \"))"
   ]
  },
  {
   "cell_type": "markdown",
   "id": "77d2f4c2-c09f-4548-9011-5288f26ed005",
   "metadata": {},
   "source": [
    "From the output of the previous code cell, you can already see how the Regular Expression is working; in simple terms it splits an input text into tokens that are:\n",
    "\n",
    "* from a predefined set of clitics (*\"'s\"*, *\"'t\"*, *\"'re\"*, *\"'ve\"*, *\"'m\"*, *\"'ll\"* ,*\"'d\"*)\n",
    "* a sequence of letters of arbitrary length\n",
    "* a sequence of digits of arbitrary lengths\n",
    "* a sequence of anything but letter, digits, and whitespaces of arbitrary length\n",
    "\n",
    "As you can see, there are many tweaks and improvements that practical BPE implementations are including to yield better results. However, none of those additions change the fundamental BPE learning and tokenization algorithm covered in this notebook. In fact, many of these improvements you are likely to add yourself to the basic algorithm covered here."
   ]
  },
  {
   "cell_type": "markdown",
   "id": "8592fc4d-296a-4086-bce5-f4aae6a7f4b2",
   "metadata": {},
   "source": [
    "---"
   ]
  },
  {
   "cell_type": "markdown",
   "id": "549f067b-ef57-4940-8ca2-32325d6ddf5a",
   "metadata": {},
   "source": [
    "## Example Application\n",
    "\n",
    "So far, we only run our BPE tokenizer implementation only over a very simple and \"artificial\" example document to better understand all the steps of the algorithm. Now let's use a larger document to see how our tokenizer performs. While in practice, huge corpora are used to train a subword tokenizer such as BPE, here we limit ourselves to a single book to keep the training time in check. The result will still give us very interesting insights."
   ]
  },
  {
   "cell_type": "markdown",
   "id": "fce5f979-a53b-4f07-8551-c18645419387",
   "metadata": {},
   "source": [
    "### Revised BPE Tokenizer Implementation\n",
    "\n",
    "For this application use case, we provide the class `MyBpeTokenizer` in the file `src/tokenizer.py`. This class contains exactly the methods we used so far to train and use our tokenizer. However, incorporating all methods into this class allows for a cleaner code and a much easier usage &mdash; now that we understand how BPE works. This means, we can train our BPE tokenizer now with a single line of code. The code for the class contains only two minor changes:\n",
    "\n",
    "* By default, like GPT2, it uses the character Ġ (instead of the underscore) as a special character. We also move this special character from the end of a word to that start of the word. This has no effect on the algorithm, and we only do this so our output mimics the one from pretrained BPE tokenizer models.\n",
    "* For pretokenization, it supports naive whitespace tokenization as well as approach done by GPT2 (see above).\n",
    "\n",
    "Let's first do this for our example document before using the real-world document."
   ]
  },
  {
   "cell_type": "code",
   "execution_count": 27,
   "id": "4516ca5b-9911-42d2-8197-c771cbe883c1",
   "metadata": {},
   "outputs": [
    {
     "name": "stdout",
     "output_type": "stream",
     "text": [
      "Initilize corpus and vocabulary...\n",
      "Perform 88 iterations...\n"
     ]
    },
    {
     "name": "stderr",
     "output_type": "stream",
     "text": [
      " 20%|██████████████████████▎                                                                                      | 18/88 [00:00<00:00, 5328.73it/s]\n"
     ]
    }
   ],
   "source": [
    "my_tokenizer_example = MyBpeTokenizer(pretokenize=MyBpeTokenizer.PRE_TOKENIZE__SPLIT).fit([doc], max_vocab_size=100, verbose=True)"
   ]
  },
  {
   "cell_type": "markdown",
   "id": "56e5e2d6-6381-4095-bc9a-c757536af599",
   "metadata": {},
   "source": [
    "The progress bar will stop before 100% if the value for `max_vocab_size` is large enough so that the loop will stop before the expected number of iterations has been reached. Recall, this happens if all possible token pairs have been merged, and therefore no further merge is possible. And this will happen very quickly with very small documents like our toy document.\n",
    "\n",
    "As this is our small toy document, we can still look at the final corpus state, vocabulary and the list of merges."
   ]
  },
  {
   "cell_type": "code",
   "execution_count": 28,
   "id": "ad1e6920-fd0d-4c30-b374-4e328881b433",
   "metadata": {},
   "outputs": [
    {
     "name": "stdout",
     "output_type": "stream",
     "text": [
      "Final corpus state:\n",
      "{\n",
      "  \"\\u0120low\": 5,\n",
      "  \"\\u0120newest\": 6,\n",
      "  \"\\u0120widest\": 3,\n",
      "  \"\\u0120lower\": 2,\n",
      "  \"\\u0120longer\": 1\n",
      "}\n",
      "\n",
      "Final vocabulary (size: 30):\n",
      "{'d', 'es', 'Ġlo', 'l', 'Ġne', 'Ġlower', 'Ġwid', 'Ġnewest', 'Ġwidest', 'g', 'Ġl', 'Ġnew', 's', 'i', 'Ġn', 'Ġlonger', 'est', 'Ġlow', 'Ġw', 'Ġ', 'w', 'n', 't', 'Ġlon', 'r', 'o', 'Ġlong', 'Ġwi', 'er', 'e'}\n",
      " \n",
      "Final list of merges:\n",
      "[('e s', 'es'), ('es t', 'est'), ('Ġ l', 'Ġl'), ('Ġl o', 'Ġlo'), ('Ġlo w', 'Ġlow'), ('Ġ n', 'Ġn'), ('Ġn e', 'Ġne'), ('Ġne w', 'Ġnew'), ('Ġnew est', 'Ġnewest'), ('Ġ w', 'Ġw'), ('e r', 'er'), ('Ġw i', 'Ġwi'), ('Ġwi d', 'Ġwid'), ('Ġwid est', 'Ġwidest'), ('Ġlow er', 'Ġlower'), ('Ġlo n', 'Ġlon'), ('Ġlon g', 'Ġlong'), ('Ġlong er', 'Ġlonger')]\n"
     ]
    }
   ],
   "source": [
    "print(f\"Final corpus state:\\n{json.dumps(my_tokenizer_example._corpus_state, indent=2)}\\n\")\n",
    "print(f\"Final vocabulary (size: {len(my_tokenizer_example._vocabulary)}):\\n{my_tokenizer_example._vocabulary}\\n \")\n",
    "print(f\"Final list of merges:\\n{my_tokenizer_example._merges}\")"
   ]
  },
  {
   "cell_type": "markdown",
   "id": "241c4b3f-11b6-4149-9d70-e45053a261fb",
   "metadata": {},
   "source": [
    "Of course, when using the same value for `max_vocab_size`, the result should be exactly the same as seen before &mdash; apart from the different special characters."
   ]
  },
  {
   "cell_type": "markdown",
   "id": "05db8a8a-ec6d-4e56-ac3d-c6449df29e6d",
   "metadata": {},
   "source": [
    "### Training using Real-World Data\n",
    "\n",
    "For the training we will use content from [Project Gutenberg](https://www.gutenberg.org/). Project Gutenberg is a digital library that offers free access to thousands of public domain eBooks, including classic literature, historical texts, and reference works. Established in 1971 by Michael S. Hart, it is one of the oldest digital libraries in existence, aiming to democratize access to knowledge by making literature widely available in electronic formats. The collection primarily focuses on works for which copyright has expired, ensuring they are freely and legally accessible to readers worldwide. Books are available in various formats, including plain text, ePub, and Kindle, and the project relies on volunteers to digitize and proofread content.\n",
    "\n",
    "The book of choice is [*Treasure Island*](https://www.gutenberg.org/ebooks/120) by Robert Louis Stevenson. It is an adventurous tale of a young boy named Jim Hawkins who discovers a pirate's treasure map and embarks on a perilous journey to find the hidden fortune. He joins a ship's crew led by Captain Smollett, but the voyage is fraught with danger as the ship’s cook, Long John Silver, turns out to be a cunning pirate with plans to seize the treasure for himself. The story unfolds with thrilling mutinies, battles, and betrayals, as Jim outsmarts the pirates and helps secure the treasure. Ultimately, Jim and the loyal crew members return home safely, leaving much of the treasure behind, having learned valuable lessons about bravery, trust, and greed.\n",
    "\n",
    "Let's first read the file into the variable `book`.\n",
    "\n",
    "**Your turn:** You can download other/more materials from the Project Gutenberg website to expand the overall training corpus. Further down below, when you look at some example sentences that have been tokenized using our trained BPE tokenizer, you will notice some limitations when the training dataset is not large and diverse enough."
   ]
  },
  {
   "cell_type": "code",
   "execution_count": 29,
   "id": "1537ce57-7674-447a-a503-02e80ce51f58",
   "metadata": {},
   "outputs": [
    {
     "name": "stdout",
     "output_type": "stream",
     "text": [
      "Number of characters: 375911\n"
     ]
    }
   ],
   "source": [
    "with open(treasure_island_book, \"r\") as file:\n",
    "    book = file.read().replace('\\n', '').strip()\n",
    "\n",
    "print(f\"Number of characters: {len(book)}\")"
   ]
  },
  {
   "cell_type": "markdown",
   "id": "b9e48821-dd92-4c7a-b703-665b65be6d8c",
   "metadata": {},
   "source": [
    "Using our own BPE tokenizer implementation, we can now run the learning algorithm using *Treasure Island*. Feel free to modify the pretokenization approach and maximum vocabulary size. Keep in mind that our implementation is not optimized for performance and this is not a tiny toy document. As such, the learning will take a couple of minutes."
   ]
  },
  {
   "cell_type": "code",
   "execution_count": 30,
   "id": "b7758358-0e08-4640-a65b-7c8f7d85bcba",
   "metadata": {},
   "outputs": [
    {
     "name": "stdout",
     "output_type": "stream",
     "text": [
      "Initilize corpus and vocabulary...\n",
      "Perform 9911 iterations...\n"
     ]
    },
    {
     "name": "stderr",
     "output_type": "stream",
     "text": [
      "100%|███████████████████████████████████████████████████████████████████████████████████████████████████████████| 9911/9911 [04:14<00:00, 38.89it/s]\n"
     ]
    }
   ],
   "source": [
    "my_tokenizer_book = MyBpeTokenizer(pretokenize=MyBpeTokenizer.PRE_TOKENIZE__GPT2).fit([book], max_vocab_size=10000, verbose=True)"
   ]
  },
  {
   "cell_type": "markdown",
   "id": "21c7b209-f65e-41ff-9e78-fd2079f8599c",
   "metadata": {},
   "source": [
    "Let's tokenize a couple of example sentences."
   ]
  },
  {
   "cell_type": "code",
   "execution_count": 31,
   "id": "2b17b57d-ae7c-475b-863b-4ac07be2eae9",
   "metadata": {},
   "outputs": [
    {
     "name": "stdout",
     "output_type": "stream",
     "text": [
      "['ĠThere', 'Ġis', 'Ġstill', 'Ġa', 'Ġlot', 'Ġof', 'Ġtreasure', 'Ġburied', 'Ġon', 'Ġthe', 'Ġisland', 'Ġ.']\n",
      "['ĠI', 'Ġ', \"'\", 've', 'Ġche', 'cked', 'Ġ,', 'Ġmy', 'Ġlast', 'Ġship', 'ment', 'Ġwas', 'Ġdelayed', 'Ġ.']\n",
      "['ĠThe', 'Ġcaptain', 'Ġand', 'Ġthe', 'Ġlieuten', 'ant', 'Ġhad', 'Ġa', 'Ġdiscu', 'ss', 'ion', 'Ġ.']\n",
      "['ĠThe', 'Ġte', 'am', 'Ġme', 'mb', 'ers', 'Ġare', 'ĠA', 'li', 'ce', 'Ġ,', 'ĠJohn', 'Ġ,', 'ĠJim', 'Ġ,', 'Ġand', 'ĠB', 'o', 'b', 'Ġ.']\n",
      "['ĠI', 'Ġ', \"'\", 've', 'Ġche', 'cked', 'Ġ,', 'Ġbut', 'ĠI', 'Ġwill', 'Ġcheck', 'Ġagain', 'Ġ.']\n"
     ]
    }
   ],
   "source": [
    "print(my_tokenizer_book.tokenize(\"There is still a lot of treasure buried on the island.\"))\n",
    "print(my_tokenizer_book.tokenize(\"I've checked, my last shipment was delayed.\"))\n",
    "print(my_tokenizer_book.tokenize(\"The captain and the lieutenant had a discussion.\"))\n",
    "print(my_tokenizer_book.tokenize(\"The team members are Alice, John, Jim, and Bob.\"))\n",
    "print(my_tokenizer_book.tokenize(\"I've checked, but I will check again.\"))"
   ]
  },
  {
   "cell_type": "markdown",
   "id": "9b403eae-0deb-4490-a041-d69606778415",
   "metadata": {},
   "source": [
    "Unsurprisingly &mdash; assuming `max_vocab_size=10000` for the following discussion &mdash; the tokenizer results reflect the nature of our training document. This means that words are likely to appear frequently in *Treasure Island*, such as *\"treasure\"*, *\"island\"* but also other common words like prepositions, are unlikely to be broken up. We can also see this in the names. *\"John\"* and *\"Jim\"* are the names of characters in the book and therefore appear frequently. In contrast, the *\"Alice\"* and *\"Bob\"* never appear in the book and are as such Out-of-Vocabulary (OOV) tokens which are split into known tokens. The same is true for the two ranks *\"captain\"* (often appears in the book) and *\"lieutenant\"* (never appears in the book). Another interesting observation is that *\"check\"* and *\"checked\"* get tokenized very differently. While this might seem a bit unintuitive at first, it shows that the order of merges matters. For example, if we assume that the merge `(\"k ed\", \"ked\")` is checked very early and there is no merge like `(\"ec ked\", \"ecked\")`, the word *\"checked\"* has no chance to get merged back to its full string."
   ]
  },
  {
   "cell_type": "markdown",
   "id": "d0a9734a-5bbf-49a2-9c02-5b407fba1428",
   "metadata": {},
   "source": [
    "---"
   ]
  },
  {
   "cell_type": "markdown",
   "id": "7e75423a-4462-4c04-a11c-b233cfdd7b38",
   "metadata": {},
   "source": [
    "## Summary\n",
    "\n",
    "Byte Pair Encoding (BPE) is an algorithm widely used for subword tokenization in natural language processing tasks. It starts with a base vocabulary consisting of individual characters and iteratively merges the most frequent adjacent pairs of tokens to form new, larger tokens. This process continues until the vocabulary reaches a predefined size or no more frequent pairs can be found. BPE generates a hierarchical vocabulary of subwords that represent commonly occurring patterns, making it efficient for tasks that involve processing text data with varying word frequencies.\n",
    "\n",
    "One of the major advantages of BPE is its ability to balance coverage and efficiency. Unlike word-level tokenization, which struggles with rare or unseen words, BPE can decompose any word into a sequence of subword units, ensuring no out-of-vocabulary (OOV) issues. It also avoids the inefficiencies of character-level tokenization, which would require longer sequences to represent text. By focusing on frequent subword patterns, BPE creates compact token sequences that preserve meaning while being computationally manageable. Its main advantages are:\n",
    "\n",
    "* **Compact vocabulary:** BPE creates a smaller, more manageable vocabulary by focusing on the most frequent subword patterns. This reduces memory requirements and speeds up training compared to models with word-level vocabularies.\n",
    "\n",
    "* **No OOV problems:** BPE ensures that any word, including rare or novel ones, can be represented using subword units. This is particularly important in languages with rich morphology or compound word formation.\n",
    "\n",
    "* **Efficiency in training and inference:** The use of common subword units reduces sequence length compared to character-level tokenization, improving computational efficiency.\n",
    "\n",
    "On the flips side, BPE has also some characteristics that can be considered disadvantages, mainly:\n",
    "\n",
    "* **Hard-coded vocabulary size:** BPE requires a predefined vocabulary size, which might not always align with the complexity or diversity of the input text. Too small a vocabulary may lead to inefficient tokenization, while too large a vocabulary could introduce redundancy.\n",
    "\n",
    "* **Insensitive to context:** BPE merges subword pairs based solely on their frequency without considering contextual meaning, which may lead to suboptimal token splits in cases where the same subword pair has different meanings in different contexts.\n",
    "\n",
    "* **Static rules:** Once trained, the BPE vocabulary is fixed and cannot adapt to new data or unseen linguistic patterns without retraining. This can limit its flexibility compared to dynamic tokenization methods.\n",
    "\n",
    "Compared to other methods, such as SentencePiece or WordPiece, BPE is simpler and faster to implement. However, techniques like WordPiece can incorporate probabilistic models that better handle context, making them more effective in certain scenarios. SentencePiece, on the other hand, can operate on raw text directly without requiring explicit tokenization into characters, offering additional preprocessing flexibility. In summary, BPE is a powerful and efficient method for subword tokenization that excels in handling OOV issues and maintaining a manageable vocabulary. However, its static and frequency-based approach can be a limitation in scenarios where context or dynamic adaptability is crucial."
   ]
  },
  {
   "cell_type": "code",
   "execution_count": null,
   "id": "29ba3f79-d138-46bd-b897-f2d9e915dc87",
   "metadata": {},
   "outputs": [],
   "source": []
  }
 ],
 "metadata": {
  "kernelspec": {
   "display_name": "py311",
   "language": "python",
   "name": "py311"
  },
  "language_info": {
   "codemirror_mode": {
    "name": "ipython",
    "version": 3
   },
   "file_extension": ".py",
   "mimetype": "text/x-python",
   "name": "python",
   "nbconvert_exporter": "python",
   "pygments_lexer": "ipython3",
   "version": "3.11.8"
  }
 },
 "nbformat": 4,
 "nbformat_minor": 5
}
