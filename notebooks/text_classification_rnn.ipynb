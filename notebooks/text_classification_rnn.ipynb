{
 "cells": [
  {
   "cell_type": "markdown",
   "id": "fe2180ac-9d2b-45ad-95d7-ccd4a0231394",
   "metadata": {},
   "source": [
    "<img src=\"images/logo/selene-logo-640.png\" style=\"max-height:75px;\" alt=\"SELENE Logo\" />\n",
    "\n",
    "**Disclaimer:** This Jupyter Notebook contains content generated with the assistance of AI. While every effort has been made to review and validate the outputs, users should independently verify critical information before relying on it. The SELENE notebook repository is constantly evolving. We recommend downloading or pulling the latest version of this notebook from Github."
   ]
  },
  {
   "cell_type": "markdown",
   "id": "ef7184bf-a47f-4e78-b1e2-a798d52939c0",
   "metadata": {},
   "source": [
    "# Text Classification with Recurrent Neural Networks (RNNs)\n",
    "\n",
    "Text classification is a fundamental task in natural language processing (NLP) that involves assigning predefined categories to text data. One effective approach for text classification is using recurrent neural networks (RNNs), which are well-suited for sequential data such as sentences and documents. In this context, we consider the task of classifying news article headlines into categories such as business, education, entertainment, sports, and technology. Since headlines are typically short and lack extensive context, a powerful model is required to capture the semantic relationships between words.\n",
    "\n",
    "To handle this challenge, we use a specialized type of RNN called a Long Short-Term Memory (LSTM) network. LSTMs address the limitations of traditional RNNs by incorporating memory cells that can retain information over longer sequences, preventing issues like vanishing gradients. This makes LSTMs particularly effective in understanding the meaning of short but contextually rich text, such as news headlines. By processing each word sequentially and learning the dependencies between them, an LSTM can generate meaningful representations of headlines and accurately predict their categories. By leveraging the ability of LSTMs to capture sequential patterns, this approach enables accurate classification of news headlines into relevant categories.\n",
    "\n",
    "Apart from using LSTM as the RNN variant of choice, we otherwise keep the network model purposefully very simple &mdash; this means:\n",
    "* **No** multilayer RNN architecture\n",
    "* **No** bi-directional RNN architecture\n",
    "* **No** attention mechanism\n",
    "\n",
    "Adding such improvements is relatively straightforward, but adds quite some overhead to the otherwise rather simple implementations, and here we want to focus on understanding the core steps when using RNNs for text classification."
   ]
  },
  {
   "cell_type": "markdown",
   "id": "435769d7-804f-4a5f-bc1f-8673dc820b77",
   "metadata": {},
   "source": [
    "### Setting up the Notebook\n",
    "\n",
    "#### Make Required Imports\n",
    "\n",
    "This notebook requires the import of different Python packages but also additional Python modules that are part of the repository. If a package is missing, use your preferred package manager (e.g., [conda](https://anaconda.org/anaconda/conda) or [pip](https://pypi.org/project/pip/)) to install it. If the code cell below runs with any errors, all required packages and modules have successfully been imported."
   ]
  },
  {
   "cell_type": "code",
   "execution_count": 1,
   "id": "33f624de-9cd1-4850-a94a-0ffa61d789a1",
   "metadata": {},
   "outputs": [],
   "source": [
    "from src.text.vectorizing.vocab import Vocabulary\n",
    "from src.utils.libimports.rnntextclass import *\n",
    "from src.utils.plotting.nn import *\n",
    "from src.utils.compute.gpu import *\n",
    "from src.utils.data.files import *"
   ]
  },
  {
   "cell_type": "markdown",
   "id": "8f7918c9-3309-4763-acf3-d339ff62a5e2",
   "metadata": {},
   "source": [
    "#### Download Required Data\n",
    "\n",
    "Some code examples in this notebook use data that first need to be downloaded by running the code cell below. If this code cell throws any error, please check the configuration file `config.yaml` if the URL for downloading datasets is up to date and matches the one on Github. If not, simply download or pull the latest version from Github."
   ]
  },
  {
   "cell_type": "code",
   "execution_count": 2,
   "id": "600f46e8-97ff-42ab-868e-3aaaaf01215d",
   "metadata": {},
   "outputs": [
    {
     "name": "stdout",
     "output_type": "stream",
     "text": [
      "File 'data/datasets/text/classification/news-classification/news-classification-dataset.csv' already exists (use 'overwrite=True' to overwrite it).\n"
     ]
    }
   ],
   "source": [
    "news, _ = download_dataset(\"text/classification/news-classification/news-classification-dataset.csv\")"
   ]
  },
  {
   "cell_type": "markdown",
   "id": "232f44b5-f659-4ec4-af29-dc3933985c5e",
   "metadata": {},
   "source": [
    "#### Checking & Setting Computing Device\n",
    "\n",
    "PyTorch allows to train neural networks on supported GPU to significantly speed up the training process. If you have a support GPU, feel free to utilize it. However, for this notebook it's certainly not needed as our dataset is small and our network model is very simple. We provide an auxiliary method to automatically select the best device. It checks if a supported GPU is available and if so, uses it as the preferred device."
   ]
  },
  {
   "cell_type": "code",
   "execution_count": 3,
   "id": "da824f06-123d-4741-804b-e12c24cc82b1",
   "metadata": {},
   "outputs": [
    {
     "name": "stdout",
     "output_type": "stream",
     "text": [
      "Available device: cuda:0\n"
     ]
    }
   ],
   "source": [
    "# Select preferred device (GPU, if available; CPU otherwise); you can enfore the use of the CPU\n",
    "device = select_device(force_cpu=False)\n",
    "\n",
    "print(\"Available device: {}\".format(device))"
   ]
  },
  {
   "cell_type": "markdown",
   "id": "194aa115-3506-4e3e-80f2-f30f7b7c6e82",
   "metadata": {},
   "source": [
    "---"
   ]
  },
  {
   "cell_type": "markdown",
   "id": "dc1c1d7f-6c43-49e9-84cd-857d9320dc19",
   "metadata": {},
   "source": [
    "## Data Preparation\n",
    "\n",
    "### Loading the Dataset\n",
    "\n",
    "In this notebook, we consider a [publicly available](https://www.kaggle.com/datasets/banuprakashv/news-articles-classification-dataset-for-nlp-and-ml) dataset containing 10,000 new articles from \"The Indian Express\" online news site. Each news article has a headline, a brief summary or description, and a category (business, education, entertainment, sports, or technology). The text classification model we will train in this notebook is to predict the category of a news article based solely on its headline. Let's first load the dataset from the file into Pandas DataFrame for further processing. Since we only consider the headline and the category of each article, we drop the column containing the description."
   ]
  },
  {
   "cell_type": "code",
   "execution_count": 4,
   "id": "25b64498-f45c-4b2b-9fe4-008c8c7d001f",
   "metadata": {},
   "outputs": [
    {
     "data": {
      "text/html": [
       "<div>\n",
       "<style scoped>\n",
       "    .dataframe tbody tr th:only-of-type {\n",
       "        vertical-align: middle;\n",
       "    }\n",
       "\n",
       "    .dataframe tbody tr th {\n",
       "        vertical-align: top;\n",
       "    }\n",
       "\n",
       "    .dataframe thead th {\n",
       "        text-align: right;\n",
       "    }\n",
       "</style>\n",
       "<table border=\"1\" class=\"dataframe\">\n",
       "  <thead>\n",
       "    <tr style=\"text-align: right;\">\n",
       "      <th></th>\n",
       "      <th>headline</th>\n",
       "      <th>category</th>\n",
       "    </tr>\n",
       "  </thead>\n",
       "  <tbody>\n",
       "    <tr>\n",
       "      <th>0</th>\n",
       "      <td>Nirmala Sitharaman to equal Morarji Desai’s re...</td>\n",
       "      <td>business</td>\n",
       "    </tr>\n",
       "    <tr>\n",
       "      <th>1</th>\n",
       "      <td>‘Will densify network, want to be at least no....</td>\n",
       "      <td>business</td>\n",
       "    </tr>\n",
       "    <tr>\n",
       "      <th>2</th>\n",
       "      <td>Air India group to induct an aircraft every si...</td>\n",
       "      <td>business</td>\n",
       "    </tr>\n",
       "    <tr>\n",
       "      <th>3</th>\n",
       "      <td>Red Sea woes: Exporters seek increased credit ...</td>\n",
       "      <td>business</td>\n",
       "    </tr>\n",
       "    <tr>\n",
       "      <th>4</th>\n",
       "      <td>Air India group to induct a plane every 6 days...</td>\n",
       "      <td>business</td>\n",
       "    </tr>\n",
       "  </tbody>\n",
       "</table>\n",
       "</div>"
      ],
      "text/plain": [
       "                                            headline  category\n",
       "0  Nirmala Sitharaman to equal Morarji Desai’s re...  business\n",
       "1  ‘Will densify network, want to be at least no....  business\n",
       "2  Air India group to induct an aircraft every si...  business\n",
       "3  Red Sea woes: Exporters seek increased credit ...  business\n",
       "4  Air India group to induct a plane every 6 days...  business"
      ]
     },
     "execution_count": 4,
     "metadata": {},
     "output_type": "execute_result"
    }
   ],
   "source": [
    "# Load file into Pandas DataFrame\n",
    "df_news = pd.read_csv(news)\n",
    "# Drop column \"description\"\n",
    "df_news = df_news.drop(\"description\", axis=1)\n",
    "# Print the first 5 row of DataFrame\n",
    "df_news.head()"
   ]
  },
  {
   "cell_type": "markdown",
   "id": "a6446281-07d8-45dc-963c-bdfbd9b77b74",
   "metadata": {},
   "source": [
    "### Encoding the News Categories\n",
    "\n",
    "When training a machine learning classifier using PyTorch, class labels must be converted to integers ranging from $0$ to $(\\#\\text{classes} - 1)$ because PyTorch's loss functions and model structures expect labels in this format. For example, [`nn.NLLLoss`](https://pytorch.org/docs/stable/generated/torch.nn.NLLLoss.html), one of the most commonly used loss functions for classification tasks, requires class labels to be non-negative integers starting from $0$. If labels are not in the expected format, the function may produce indexing errors or unexpected behavior.\n",
    "\n",
    "To map the 5 string category labels *\"business\"*, *\"education\"*, \"*entertainment\"*, *\"sports\"*, and *\"technology\"* to integers, we can create two simple dictionaries. In the code cell below, the first line creates a dictionary `class2category` that maps integer indices to unique category names from the *\"category\"* column of the DataFrame `df_news`. It first retrieves all unique category values using `df_news[\"category\"].unique()`, which returns a list or NumPy array of distinct category names. Then, the enumerate function assigns a unique integer index to each category, starting from $0$. Finally, a dictionary comprehension constructs a dictionary where the keys are these integer indices and the values are the corresponding category names. Once we have the dictionary `class2category`, we can easily \"mirror\" it to create `category2class` by swapping the keys and the values of the `class2category`."
   ]
  },
  {
   "cell_type": "code",
   "execution_count": 5,
   "id": "e41236c4-545e-43e5-9de6-013dfb6cd837",
   "metadata": {},
   "outputs": [
    {
     "name": "stdout",
     "output_type": "stream",
     "text": [
      "{0: 'business', 1: 'education', 2: 'entertainment', 3: 'sports', 4: 'technology'}\n",
      "{'business': 0, 'education': 1, 'entertainment': 2, 'sports': 3, 'technology': 4}\n"
     ]
    }
   ],
   "source": [
    "class2category = { idx:cat for idx, cat in enumerate(df_news[\"category\"].unique()) }\n",
    "category2class = { v:k for k,v in class2category.items() }\n",
    "\n",
    "print(class2category)\n",
    "print(category2class)"
   ]
  },
  {
   "cell_type": "markdown",
   "id": "a61d0f57-0731-4add-9d85-77bb744b66e5",
   "metadata": {},
   "source": [
    "We can now use the dictionary `category2class` to map all categories from their original string values to their corresponding integer class labels using `map()`. The `map()` method in Pandas is used to apply a function or mapping dictionary to each element of a Pandas Series. It is commonly used for transforming data, such as replacing values based on a dictionary or applying a custom function element-wise."
   ]
  },
  {
   "cell_type": "code",
   "execution_count": 6,
   "id": "6e5ef336-ada4-4948-8b0e-26c8370ca685",
   "metadata": {},
   "outputs": [
    {
     "data": {
      "text/html": [
       "<div>\n",
       "<style scoped>\n",
       "    .dataframe tbody tr th:only-of-type {\n",
       "        vertical-align: middle;\n",
       "    }\n",
       "\n",
       "    .dataframe tbody tr th {\n",
       "        vertical-align: top;\n",
       "    }\n",
       "\n",
       "    .dataframe thead th {\n",
       "        text-align: right;\n",
       "    }\n",
       "</style>\n",
       "<table border=\"1\" class=\"dataframe\">\n",
       "  <thead>\n",
       "    <tr style=\"text-align: right;\">\n",
       "      <th></th>\n",
       "      <th>headline</th>\n",
       "      <th>category</th>\n",
       "    </tr>\n",
       "  </thead>\n",
       "  <tbody>\n",
       "    <tr>\n",
       "      <th>0</th>\n",
       "      <td>Nirmala Sitharaman to equal Morarji Desai’s re...</td>\n",
       "      <td>0</td>\n",
       "    </tr>\n",
       "    <tr>\n",
       "      <th>1</th>\n",
       "      <td>‘Will densify network, want to be at least no....</td>\n",
       "      <td>0</td>\n",
       "    </tr>\n",
       "    <tr>\n",
       "      <th>2</th>\n",
       "      <td>Air India group to induct an aircraft every si...</td>\n",
       "      <td>0</td>\n",
       "    </tr>\n",
       "    <tr>\n",
       "      <th>3</th>\n",
       "      <td>Red Sea woes: Exporters seek increased credit ...</td>\n",
       "      <td>0</td>\n",
       "    </tr>\n",
       "    <tr>\n",
       "      <th>4</th>\n",
       "      <td>Air India group to induct a plane every 6 days...</td>\n",
       "      <td>0</td>\n",
       "    </tr>\n",
       "  </tbody>\n",
       "</table>\n",
       "</div>"
      ],
      "text/plain": [
       "                                            headline  category\n",
       "0  Nirmala Sitharaman to equal Morarji Desai’s re...         0\n",
       "1  ‘Will densify network, want to be at least no....         0\n",
       "2  Air India group to induct an aircraft every si...         0\n",
       "3  Red Sea woes: Exporters seek increased credit ...         0\n",
       "4  Air India group to induct a plane every 6 days...         0"
      ]
     },
     "execution_count": 6,
     "metadata": {},
     "output_type": "execute_result"
    }
   ],
   "source": [
    "# Create a copy of the original DataFrame to avoid errors if the code cell is executed multiple times\n",
    "df_news_mapped = df_news.copy()\n",
    "# For all categories, map string values to their correspnding integer values\n",
    "df_news_mapped[\"category\"] = df_news[\"category\"].map(category2class)\n",
    "# Print the first 5 row of DataFrame\n",
    "df_news_mapped.head()"
   ]
  },
  {
   "cell_type": "markdown",
   "id": "553b9d16-a45f-4d4e-8fb0-b25e757efc21",
   "metadata": {},
   "source": [
    "Lastly, we can extract all category values to get the list of ground truth values later for training and evaluation."
   ]
  },
  {
   "cell_type": "code",
   "execution_count": 7,
   "id": "c41dd8b3-b8bc-4e2d-a016-82b0c8c448d6",
   "metadata": {},
   "outputs": [],
   "source": [
    "categories = df_news_mapped[\"category\"].tolist()"
   ]
  },
  {
   "cell_type": "markdown",
   "id": "edc6c5d9-8634-4c61-9083-4b9b9d8a5bbe",
   "metadata": {},
   "source": [
    "### Encoding the News Headlines\n",
    "\n",
    "When training text classification models using neural networks, we need to convert tokens or words into indices because neural networks operate on numerical data, not raw text. Words are inherently categorical and cannot be directly processed by models like convolutional neural networks (CNNs) or recurrent neural networks (RNNs). By mapping each word to a unique integer index, we create a structured representation that can be used as input to embedding layers or other numerical processing methods."
   ]
  },
  {
   "cell_type": "markdown",
   "id": "2f3fe43d-96ec-4916-8b10-b74d69f59232",
   "metadata": {},
   "source": [
    "#### Creating the Vocabulary\n",
    "\n",
    "We first need to create our vocabulary, i.e., the unique set of tokens or words, derived from our dataset. We can do this by iterating over all news article headlines, preprocessing them, and keeping track of all unique tokens we encounter. We use spaCy to handle the preprocessing: Each headline is tokenized, and each token is lemmatized and converted to lowercase characters. In the code cell below, we use a `Counter` object to not only keep track of the set of unique tokens but also of their number of occurrences. We use this information later to limit the vocabulary to the most common tokens. In the same loop, we also save all tokenized headlines in the list `token_lists`."
   ]
  },
  {
   "cell_type": "code",
   "execution_count": 8,
   "id": "36586ef5-08e8-47d8-8a22-2167f5f8668f",
   "metadata": {},
   "outputs": [
    {
     "name": "stderr",
     "output_type": "stream",
     "text": [
      "100%|████████████████████████████████████| 10000/10000 [00:47<00:00, 211.16it/s]"
     ]
    },
    {
     "name": "stdout",
     "output_type": "stream",
     "text": [
      "Number of unique tokens: 14571\n"
     ]
    },
    {
     "name": "stderr",
     "output_type": "stream",
     "text": [
      "\n"
     ]
    }
   ],
   "source": [
    "# Create counter (a specialized dictionary)\n",
    "token_counter = Counter()\n",
    "# Create list that will hold all tokenized headlines\n",
    "token_lists = []\n",
    "\n",
    "for text in tqdm(df_news_mapped[\"headline\"].tolist()):\n",
    "    # Use spacy to tokenize + lemmatize + lowercase each headline\n",
    "    tokens = [ token.lemma_.lower() for token in nlp(text) ]\n",
    "    # Add tokenized headline to final list of token lists\n",
    "    token_lists.append(tokens)\n",
    "    # Update the token counter\n",
    "    for token in tokens:\n",
    "        token_counter[token] += 1\n",
    "\n",
    "print(f\"Number of unique tokens: {len(token_counter)}\")"
   ]
  },
  {
   "cell_type": "markdown",
   "id": "226709df-76f6-43c1-99cc-1add115622f0",
   "metadata": {},
   "source": [
    "**Note:** The choice of the applied preprocessing steps generally depends on the tasks. This may include that lemmatizing and/or lowercasing all words might not be a good idea. In contrast, I might help to remove stopwords &mdash; which is not done in the code cell below! You are encouraged to try different preprocessing steps to see how their application affects the final results of the classifier.\n",
    "\n",
    "In text classification, commonly only the most frequent tokens are considered because they carry the most relevant information while reducing noise and computational complexity. Natural language contains many rare words, typos, or domain-specific terms that may not significantly contribute to classification performance. By focusing on the most frequent tokens, we ensure that the model learns from words that appear often enough to establish meaningful patterns rather than overfitting to rare occurrences. Moreover, limiting the vocabulary size helps improve computational efficiency. Neural networks, especially those using embeddings, require a fixed vocabulary size to manage memory and speed up training. Processing a large vocabulary with many rare words increases the dimensionality of embeddings and model complexity, leading to slower training times and higher risk of overfitting. By filtering out infrequent tokens, the model remains efficient while still capturing the core linguistic features necessary for classification.\n",
    "\n",
    "Although our dataset is very small, we still limit the final vocabulary to the most frequent tokens across all headlines. By default, we consider only the 2,000 most frequent tokens. But again, feel free to change this value to see if there are any noticeable differences in quality of the trained classification model."
   ]
  },
  {
   "cell_type": "code",
   "execution_count": 9,
   "id": "bf1a7e7c-2633-490b-a81a-557f5dd2a064",
   "metadata": {},
   "outputs": [],
   "source": [
    "TOP_TOKENS = 2000\n",
    "# Sort tokens by their frequency in descending order\n",
    "token_counter_sorted = sorted(token_counter.items(), key=lambda x: x[1], reverse=True)\n",
    "# Get the TOP_TOKENS most frequent token\n",
    "token_counter_sorted_filtered = token_counter_sorted[:TOP_TOKENS]"
   ]
  },
  {
   "cell_type": "markdown",
   "id": "a52a8e29-1b45-40cf-851e-b9e42b24abb1",
   "metadata": {},
   "source": [
    "Now we no longer need each token's number of occurrences, see we can just extract the list of tokens."
   ]
  },
  {
   "cell_type": "code",
   "execution_count": 10,
   "id": "2d8c7458-ef39-49d8-9c3f-5ca858f29226",
   "metadata": {},
   "outputs": [],
   "source": [
    "tokens = [ tup[0] for tup in token_counter_sorted_filtered ]"
   ]
  },
  {
   "cell_type": "markdown",
   "id": "3fc8b288-96bd-493f-84be-5b0b34bc1c72",
   "metadata": {},
   "source": [
    "When using Recurrent Neural Networks (RNNs) for text classification or sequence modeling, special tokens like padding (`<PAD>`) and unknown words (`<UNK>`) are essential to ensure consistency and robustness in training. The `<PAD>` token is used to make all input sequences the same length by adding extra tokens to shorter sequences. Since RNNs process sequences of varying lengths, padding ensures that batches of data can be efficiently processed in parallel, reducing computational complexity. Without padding, every sequence would need to be processed individually, making training slow and inefficient.\n",
    "\n",
    "The `<UNK>` token is used to handle words that are not present in the model's vocabulary, either because they are rare, misspelled, or simply unseen during training. Since neural networks require numerical representations for words, an out-of-vocabulary word would otherwise disrupt the model’s ability to process input sequences. By assigning a special `<UNK>` token, the model can still handle such words in a standardized way, preventing errors and allowing it to generalize better even when encountering new terms during inference."
   ]
  },
  {
   "cell_type": "code",
   "execution_count": 11,
   "id": "0a606589-253e-48a7-b3f5-c46b00d70a65",
   "metadata": {},
   "outputs": [],
   "source": [
    "TOKEN_PAD, TOKEN_UNK = \"<PAD>\", \"<UNK>\"\n",
    "\n",
    "SPECIAL_TOKENS = [TOKEN_PAD, TOKEN_UNK]"
   ]
  },
  {
   "cell_type": "markdown",
   "id": "bc888a0b-207b-4b84-af69-4204d8bd5a28",
   "metadata": {},
   "source": [
    "We can now create our `Vocabulary` object. Under the hood, it essentially just implements two dictionaries that map tokens to unique integer indices, and vice versa &mdash; very similar to what we have done \"manually\" for the article categories (see above). The `Vocabulary` class also provides some useful methods to convert whole strings of tokens into their corresponding token indices for conveniences. The method `set_default_index()` tells the vocabulary to convert any unknown word (i.e., a word that is not in the vocabulary) into the token index reflecting the special token `<UNK>`."
   ]
  },
  {
   "cell_type": "code",
   "execution_count": 12,
   "id": "5c9c79fe-5978-4a12-8422-2cf123ac4238",
   "metadata": {},
   "outputs": [],
   "source": [
    "vocabulary = Vocabulary(tokens, SPECIAL_TOKENS)\n",
    "\n",
    "vocabulary.set_default_index(vocabulary[TOKEN_UNK])"
   ]
  },
  {
   "cell_type": "markdown",
   "id": "8b324ead-8240-4bd1-af3c-384a4a69820f",
   "metadata": {},
   "source": [
    "**Note:** Since the special token `<PAD>` will be the first token to be added to the vocabulary, it will get the token index $0$. While there is nothing unique about this value, it has almost become the best practice to use $0$ to mark padding, which also makes some later implementation steps a bit more convenient.\n",
    "\n",
    "In principle, we could use the vocabulary to convert all lists of tokens to their corresponding lists of token indices. However, in this notebook we follow the other common alternative of doing this conversion on the fly when training our RNN classification model."
   ]
  },
  {
   "cell_type": "markdown",
   "id": "81fa72dc-3359-47d0-9941-e10334be1348",
   "metadata": {},
   "source": [
    "### Splitting Dataset into Training and Test Data\n",
    "\n",
    "To later better observe how the training progresses, we do not only want to observe the change in the overall loss over time by also how the model's prediction quality changes for the training data as well as some test data. We therefore need to split our initial dataset into two parts. The `train_test_split()` function from the scikit-learn library is used to split a dataset into training and testing subsets. It allows machine learning models to be trained on one portion of the data and evaluated on another to assess their generalization performance. The function takes input features (here: `token_lists`) and target labels (here: `categories`), along with parameters such as the test size (fraction of data reserved for testing) and a random seed (random_state) to ensure reproducibility; see the code cell below."
   ]
  },
  {
   "cell_type": "code",
   "execution_count": 13,
   "id": "49b008fd-19eb-48bd-bbb0-f1bfae117f81",
   "metadata": {},
   "outputs": [],
   "source": [
    "X_train, X_test, y_train, y_test = train_test_split(token_lists, categories, test_size=0.25, random_state=42)"
   ]
  },
  {
   "cell_type": "markdown",
   "id": "c5ffa526-28ed-47d8-a78f-3271befa1a65",
   "metadata": {},
   "source": [
    "### `Dataset` and `DataLoader` Instances\n",
    "\n",
    "The [`Dataset`](https://pytorch.org/docs/stable/data.html#torch.utils.data.Dataset) and [`DataLoader`](https://pytorch.org/docs/stable/data.html#torch.utils.data.DataLoader) classes in the torch library are essential for efficiently handling and processing data when training deep learning models with PyTorch. The `Dataset` class provides a structured way to load and preprocess data by defining how data samples and their corresponding labels should be accessed. By subclassing [`torch.utils.data.Dataset`](https://pytorch.org/docs/stable/data.html#torch.utils.data.Dataset), users can create custom datasets that read data from files, apply transformations, and return samples in a standardized format. This modular approach makes it easier to manage large datasets and ensures consistency in data handling.\n",
    "\n",
    "The [`DataLoader`](https://pytorch.org/docs/stable/data.html#torch.utils.data.DataLoader) class, on the other hand, is responsible for efficiently loading data in batches, shuffling it for randomness, and handling multiprocessing for faster data retrieval. Instead of manually iterating over the dataset, [`DataLoader`](https://pytorch.org/docs/stable/data.html#torch.utils.data.DataLoader) automates the process by fetching mini-batches, which helps optimize GPU utilization and training efficiency. It also supports features like data augmentation, parallel data loading, and padding for variable-length sequences, making it a powerful tool for deep learning workflows in PyTorch."
   ]
  },
  {
   "cell_type": "markdown",
   "id": "98a89d53-c08d-4ee6-8f9f-0ecf96718632",
   "metadata": {},
   "source": [
    "#### Creating a `Dataset` Subclass & Instance\n",
    "\n",
    "To implement a subclass of the [`Dataset`](https://pytorch.org/docs/stable/data.html#torch.utils.data.Dataset) class, we need to override two essential methods: `__len__()` and `__getitem__()`. The `__len__()` method should return the total number of samples in the dataset, allowing PyTorch to determine the size of the dataset when iterating over it. The `__getitem__()` method should define how to access a single data sample, given an index. This is where we typically load the data, apply any necessary transformations, and return the sample along with its corresponding label. While we could include and helper methods for data augmentation, normalization, etc., this is not required for our simple text classification use case here &mdash; recall that we already preprocessed our headlines when we created our vocabulary.\n",
    "\n",
    "The class `SequenceClassificationDataset` in the code cell below implements a subclass of [`Dataset`](https://pytorch.org/docs/stable/data.html#torch.utils.data.Dataset). The only minor addition worth pointing out is that the method `__getitem__()` return 3 values for a single data sample: the list of token indices `x`, the class labels `x`, as well as `len(x)` being the length of the token list `x`. We will see in a bit why returning the length of the token list here is very convenient."
   ]
  },
  {
   "cell_type": "code",
   "execution_count": 14,
   "id": "de38c6c6-c68a-4f1f-b6e9-4fe8451660ce",
   "metadata": {},
   "outputs": [],
   "source": [
    "class SequenceClassificationDataset(Dataset):\n",
    "\n",
    "    def __init__(self, inputs, targets, vocabulary):\n",
    "        self.inputs = inputs\n",
    "        self.targets = targets\n",
    "        self.vocabulary = vocabulary\n",
    "\n",
    "    def __len__(self):\n",
    "        return len(self.inputs)\n",
    "\n",
    "    def __getitem__(self, index):\n",
    "        x = np.asarray(vocabulary.encode(self.inputs[index]))\n",
    "        y = self.targets[index]\n",
    "        return x, y, len(x)"
   ]
  },
  {
   "cell_type": "markdown",
   "id": "e0c40e2a-34f2-4092-8056-14662bd58b01",
   "metadata": {},
   "source": [
    "We can now create 2 instances of our `SequenceClassificationDataset` class, one for the training data and one for the test data."
   ]
  },
  {
   "cell_type": "code",
   "execution_count": 15,
   "id": "ed191fd2-8444-4db2-85da-21ac4a435b7c",
   "metadata": {},
   "outputs": [],
   "source": [
    "dataset_train = SequenceClassificationDataset(X_train, y_train, vocabulary)\n",
    "dataset_test  = SequenceClassificationDataset(X_test,  y_test,  vocabulary)"
   ]
  },
  {
   "cell_type": "markdown",
   "id": "dc0bd166-bc4f-423e-b957-eb68084b3604",
   "metadata": {},
   "source": [
    "#### Creating `DataLoader` Instances for Training & Test Data\n",
    "\n",
    "Our dataset class returns the information about a single data sample. If we would train our RNN classification model later with only batches size of 1, we would be ready to go. However, in practice, we generally prefer training models that use batches of larger sizes. Increasing the batch size can make training neural networks more efficient by improving computational efficiency and leveraging hardware acceleration. Larger batch sizes allow for better utilization of parallelism on GPUs or TPUs, as they can process more data points simultaneously, leading to faster computation per iteration. This reduces the time spent per epoch, speeding up the overall training process, especially for large datasets.\n",
    "\n",
    "However, simply putting multiple headlines into the same batch will generally cause errors since all sequences within a batch must have the same length. When working with batches containing sequences of different lengths in PyTorch, the `collate_fn` parameter of the [`DataLoader`](https://pytorch.org/docs/stable/data.html#torch.utils.data.DataLoader) class is used to customize how individual samples are combined into a batch. By default, the [`DataLoader`](https://pytorch.org/docs/stable/data.html#torch.utils.data.DataLoader) stacks individual samples in a batch along the first dimension, but when sequences have varying lengths (such as in NLP tasks), this could cause issues. For example, a sequence of length 5 cannot be stacked with a sequence of length 10 unless they are padded to a consistent length. The `collate_fn` allows us to define a custom function to handle such cases, such as padding sequences to the same length before batching them.\n",
    "\n",
    "The `collate_fn` function receives a list of individual samples from the dataset and is responsible for transforming them into a single batch. For tasks involving sequences of varying lengths, `collate_fn` typically performs padding to ensure all sequences in a batch have the same length. This idea of padding a batch is implemented by the custom method `collate_fn_pad()` below. The only additional step this method does is to also sort all sequences in the batch with respect to their length (without the padding) in descending order. This will have some added benefit later during the actual training."
   ]
  },
  {
   "cell_type": "code",
   "execution_count": 16,
   "id": "cf996b7c-f825-46a1-b18d-0d303cbe2a6e",
   "metadata": {},
   "outputs": [],
   "source": [
    "def collate_fn_pad(batch):\n",
    "    # Extract sequences, class labels, and sequences lenghts from batch\n",
    "    X, y, lengths = list(map(list, zip(*batch)))\n",
    "    # Convert all sequences from lists to tensors\n",
    "    X = [ torch.LongTensor(x) for x in X ]\n",
    "    # Conver list of class labels and list of lengths to tensors\n",
    "    y, lengths = torch.LongTensor(y), torch.LongTensor(lengths)\n",
    "    # Sort sequences w.r.t. their lengths from longest to shortest\n",
    "    lengths_sorted, sorted_idx = lengths.sort(descending=True)\n",
    "    # Perform left padding on the input sequences\n",
    "    X_padded = pad_sequence(X, batch_first=True, padding_value=0)\n",
    "    # Return sorted sequences, class labels, and lengths\n",
    "    return X_padded[sorted_idx], y[sorted_idx], lengths_sorted"
   ]
  },
  {
   "cell_type": "markdown",
   "id": "796f9027-ba7f-4aaf-bb08-bc8bfaff006a",
   "metadata": {},
   "source": [
    "With our custom `collate_fn_pad` method we can now define the 2 [`DataLoader`](https://pytorch.org/docs/stable/data.html#torch.utils.data.DataLoader) instances for the training and test [`Dataset`](https://pytorch.org/docs/stable/data.html#torch.utils.data.Dataset) instances. Note that this also requires us to specify the batch size. Here we go with 128, but you can change the batch size to see how it affects the training &mdash; however, note that changing the batch size might also require you to modify the learning rate (see below).\n",
    "\n",
    "Also not the parameter `shuffle=True`. Shuffling a training dataset after each epoch helps improve the generalization ability of the model by preventing it from learning spurious patterns that might arise from the order of the data. If the data is not shuffled, the model may become overly sensitive to specific sequences or correlations in the data, especially in cases where the dataset is ordered in some way (e.g., by class or time). Shuffling ensures that the model sees diverse combinations of data in each epoch, making it less likely to overfit to specific patterns tied to the order of the data. Moreover, shuffling helps the optimization process by providing a more representative sample of the entire dataset in each mini-batch, which leads to more robust and stable gradient updates. This randomization reduces the likelihood of the model getting stuck in local minima, as the stochastic nature of gradient descent is preserved. Overall, shuffling promotes better convergence and more reliable training outcomes by ensuring the model is exposed to a variety of data samples in a more randomized and unbiased manner."
   ]
  },
  {
   "cell_type": "code",
   "execution_count": 17,
   "id": "8eaf5aa5-f8d6-4c28-afaf-898d4c269734",
   "metadata": {},
   "outputs": [],
   "source": [
    "batch_size = 128\n",
    "\n",
    "loader_train = DataLoader(dataset_train, collate_fn=collate_fn_pad, batch_size=batch_size, shuffle=True)\n",
    "loader_test  = DataLoader(dataset_test , collate_fn=collate_fn_pad, batch_size=batch_size)"
   ]
  },
  {
   "cell_type": "markdown",
   "id": "4ee3f6fc-7ce7-4a05-9416-f0804e800d43",
   "metadata": {},
   "source": [
    "Of course, we do not need to shuffle the data loader for the test data. We could, and it would not change the results, but let's save this additional overhead. With the 2 data loaders for the training and test data in place, we can now actually use them to train our RNN-based text classification model."
   ]
  },
  {
   "cell_type": "markdown",
   "id": "683de5b3-be4f-4435-bc9d-384c110dea9e",
   "metadata": {},
   "source": [
    "---"
   ]
  },
  {
   "cell_type": "markdown",
   "id": "787ec03b-f847-4df7-8b3b-37709e56ddee",
   "metadata": {},
   "source": [
    "## Model Defintion & Training"
   ]
  },
  {
   "cell_type": "markdown",
   "id": "c5a7407b-2835-4c0b-91b1-200ff310e059",
   "metadata": {},
   "source": [
    "### Model Architecture\n",
    "\n",
    "In the following, we consider a very basic RNN-based model architecture for text classification. This includes that we consider only a single, uni-directional RNN layer. The only extension compared to a Vanilla RNN layer is that we are using the more advanced variant of a Long Short-Term Memory (LSTM) layer. However, since such an LSTM layer is provided by the PyTorch library, this change hardly affects the overall code of our model class. As such, our model architecture consists of 4 layers:\n",
    "\n",
    "* `self.embedding`: The embedding layer expects as input sequences of word/token indices and transform them into the respective vector representations; the definition of the embedding layer is parameterized by the size of the vocabulary (i.e., number of unique tokens) and the embedding size (i.e., the size of the resulting word vectors).\n",
    "* `self.lstm`: The LSTM layer implements the sequential processing of the input sequences. Naturally, the input size of the LSTM layer must match the embedding size of the word vectors. To keep it simple, we fix the size of the hidden state of the LSTM layer to $256$. Lastly, notice the parameters `batch_first=True`.Setting `batch_first=True` when creating an [`nn.LSTM`](https://pytorch.org/docs/stable/generated/torch.nn.LSTM.html) layer ensures that the input tensor follows the shape `(batch_size, seq_len, feature_size)` instead of the default `(seq_len, batch_size, feature_size)`. This means that the first dimension represents the batch size, making it more intuitive and easier to work with, especially when integrating with other layers like embeddings and fully connected layers. By default, PyTorch's LSTM expects the sequence length to be the first dimension, which aligns more with certain sequence processing models but can be inconvenient when handling batches of sequences. Using `batch_first=True allows` for a more natural representation of input data and often simplifies indexing and manipulation of tensors in the model. However, the underlying computations remain the same regardless of this setting.\n",
    "* `self.linear`: We add 1 additional linear hidden layer between the LSTM layer and the final output layer; it's inputs size of $256$ must naturally match the size of the hidden state, and again, we simply fix the output size of this linear hidden layer to $128$\n",
    "* `self.out`: This last linear layer maps the input from the linear hidden layer to the final output; the output size of the last layer depends on the number of unique classes. Although we know that we have 5 classes, we set this value via an input parameter"
   ]
  },
  {
   "cell_type": "code",
   "execution_count": 18,
   "id": "637ee054-1a61-4436-9973-64efab3b777d",
   "metadata": {},
   "outputs": [],
   "source": [
    "class RnnTextClassifier(nn.Module):\n",
    "\n",
    "    def __init__(self, vocab_size, embed_size, output_size):\n",
    "        super().__init__()\n",
    "        # Embedding layer\n",
    "        self.embedding = nn.Embedding(vocab_size, embed_size)\n",
    "        # LSTM layer\n",
    "        self.lstm = nn.LSTM(embed_size, 256, batch_first=True)\n",
    "        # 1 linear hidden layer + output layer\n",
    "        self.linear = nn.Linear(256, 128)\n",
    "        self.out = nn.Linear(128, output_size)\n",
    "    \n",
    "    def forward(self, inputs, hidden, lengths):\n",
    "        batch_size, seq_len = inputs.shape\n",
    "        # Push through embedding layer\n",
    "        X = self.embedding(inputs)\n",
    "        X = pack_padded_sequence(X, lengths, batch_first=True)\n",
    "        # Push through LSTM layer\n",
    "        _, (h, c) = self.lstm(X, hidden)\n",
    "        h = h.squeeze(0)\n",
    "        # Push through linear hidden layers and output layer\n",
    "        h = F.relu(self.linear(h))\n",
    "        h = self.out(h)\n",
    "        # Return log softmax\n",
    "        return F.log_softmax(h, dim=1)\n",
    "    \n",
    "    def init_hidden(self, batch_size, device):\n",
    "        return (torch.zeros(1, batch_size, 256).to(device), torch.zeros(1, batch_size, 256).to(device))"
   ]
  },
  {
   "cell_type": "markdown",
   "id": "9ceb978d-bdf1-49d8-910d-c9266eea5d04",
   "metadata": {},
   "source": [
    "Apart from the constructor where we define all the layers of our model architecture, we also need to implement two additional methods. Firstly, the method `forward()` implements the forward pass &mdash; it performs all calculations to get the final outputs for an input batch by pushing the batch through all the layers. Several things are worth pointing out here:\n",
    "\n",
    "* We use the built-in method `pack_padded_sequence` to convert our batch of padded sequences into a `PackedSequence` object. While this is not required, this internal representation of our batch has the advantage that all padding tokens will be ignored when calculating the loss and the gradients for training. This avoids the risk that padding tokens may negatively affect the training and the results.\n",
    "* The LSTM layer `self.lstm` returns to values: a list of hidden states for all time steps (which we ignore using `_`), and a tuple containing the hidden state `h` and the last cell state `c` after processing all sequences in the batch. In an LSTM, the hidden state `h` and cell state `c` serve different roles. `h` represents the short-term memory and is directly used for output at each timestep. In contrast, the `c` acts as long-term memory, helping the LSTM retain important information over long sequences. Since `h` is the direct output of each LSTM step, it is more relevant for downstream tasks like classification, making it the preferred choice for further processing. `c` is primarily an internal mechanism to prevent vanishing gradients and improve long-term dependencies. However, it is not directly used in output layers because it undergoes additional transformations before influencing `h`. Since `h` already incorporates the necessary processed information, passing it through fully connected layers is sufficient for making predictions in tasks like text classification.\n",
    "* We use the ReLU function as the nonlinear activation function after the linear hidden layer. Since ReLU itself does not have its own learnable parameter, we do not have to define it as its own layer &mdash; although the syntax of PyTorch allows us to do so as well.\n",
    "* Instead of the `softmax` function, we use the `log_softmax` function to get the final output log probabilities. Using `log_softmax` instead of `softmax` when training a neural network provides advantages in numerical stability and computational efficiency. Another advantage is that `log_softmax` works efficiently with the negative log-likelihood loss ([`nn.NLLLoss`](https://pytorch.org/docs/stable/generated/torch.nn.NLLLoss.html); see below), which expects log probabilities as input. When using `log_softmax`, the loss function can be computed directly without requiring an extra logarithm operation on softmax output. This reduces computational redundancy and improves training performance, making `log_softmax` the preferred choice for classification tasks in PyTorch.\n",
    "\n",
    "The last method the `RnnTextClassifier` implements is `init_hidden()` which is used to initialize the hidden state before processing each batch. In this implementation, we consider **zero initialization**. Zero initialization of the hidden state in an RNN means setting the initial hidden state (and cell state in LSTMs) to a tensor of all zeros before processing a sequence. This is a common practice because, at the beginning of a sequence, the model has no prior information, and using zeros ensures a neutral starting point. In PyTorch, this is typically done using `torch.zeros`, ensuring that each new sequence starts with a fresh hidden state unless explicitly carried over. The main advantage of zero initialization is its simplicity and consistency, as it provides a standardized way to start training without introducing unintended biases. Additionally, it prevents the model from favoring any particular direction initially, allowing it to learn patterns purely from the data. However, in some cases, more advanced initialization techniques (like learned initial states) can improve performance, especially for longer sequences where early-stage information matters."
   ]
  },
  {
   "cell_type": "markdown",
   "id": "6813fd86-10bc-443d-a436-4d0e61ea1442",
   "metadata": {},
   "source": [
    "With this implementation of our model architecture, we can define our RNN-based text classification model that we want to train and evaluate on our simple news headlines dataset. The constructor of `RnnTextClassifier` expects three inputs\n",
    "\n",
    "* The input size of the embedding layer which is simply the size of the vocabulary\n",
    "* The size of the word embedding vector (by default, we fix it to $100$ but you can change this value to see its effects)\n",
    "* The size of the output layer is the number of different class labels; we can get this number is the size of our `category2class` or `class2category` dictionary\n",
    "\n",
    "To prepare the training, we also move the model to the device on which the training is performed (e.g., on a GPU if a support GPU is available; otherwise the training is done on the CPU)."
   ]
  },
  {
   "cell_type": "code",
   "execution_count": 19,
   "id": "a9ee1cb3-f490-4f01-95b6-8a2c8fbd0bee",
   "metadata": {},
   "outputs": [
    {
     "name": "stdout",
     "output_type": "stream",
     "text": [
      "RnnTextClassifier(\n",
      "  (embedding): Embedding(2002, 100)\n",
      "  (lstm): LSTM(100, 256, batch_first=True)\n",
      "  (linear): Linear(in_features=256, out_features=128, bias=True)\n",
      "  (out): Linear(in_features=128, out_features=5, bias=True)\n",
      ")\n"
     ]
    }
   ],
   "source": [
    "# Define model\n",
    "model = RnnTextClassifier(len(vocabulary), 100, len(category2class))\n",
    "# Move model to device (i.e., GPU if available, otherwise CPU)\n",
    "model = model.to(device)\n",
    "# Print the model\n",
    "print(model)"
   ]
  },
  {
   "cell_type": "markdown",
   "id": "e59bd81e-967d-4c8a-825c-e3867952c07c",
   "metadata": {},
   "source": [
    "### Model Training\n",
    "\n",
    "#### Defining Auxiliary Method\n",
    "\n",
    "To better observe the training behavior, we not only want to check the report but also the training f1 score and the test f1 score after each iteration. It is therefore useful to wrap training of a single epoch and the evaluation of the current model into auxiliary methods. The code cell below implements the `train_epoch()` method to perform one iteration of training over the complete training dataset. This method iterates over all batches in the data loader, and performs the model training for each batch. This involves to following core steps:\n",
    "\n",
    "* Move the batch (i.e., the sequences and ground truth labels) to the correct device.\n",
    "* Initialize the hidden state for the LSTM layer.\n",
    "* Calculate the log probabilities as the model output for the current batch.\n",
    "* Calculate the loss based on the `criterion` (i.e., the specified loss function); discussed in more detail later.\n",
    "* PyTorch magic: Calculate the gradients using backpropagation and update all weights using the specified `optimizer`; discussed in more detail later.\n",
    "\n",
    "Across all batches we aggregate the loss and return final loss for the epoch."
   ]
  },
  {
   "cell_type": "code",
   "execution_count": 20,
   "id": "482c22a9-0116-4f4a-bfa9-421eee11b15e",
   "metadata": {},
   "outputs": [],
   "source": [
    "def train_epoch(model, loader, optimizer, criterion):\n",
    "    # Initialize epoch loss (cummulative loss fo all batchs)\n",
    "    epoch_loss = 0.0\n",
    "    # Use tqdm to get a nice progress bar\n",
    "    with tqdm(total=len(loader)) as pbar:\n",
    "        # Iterate over all batches\n",
    "        for X_batch, y_batch, lengths_batch in loader:\n",
    "            batch_size, seq_len = X_batch.shape[0], X_batch.shape[1]\n",
    "            # Move the batch to the correct device\n",
    "            X_batch, y_batch = X_batch.to(device), y_batch.to(device)\n",
    "            # Initialize the first hidden state h0 (and move to device)\n",
    "            hidden = model.init_hidden(X_batch.shape[0], device)\n",
    "            # Get model outputs as log probabiltiies\n",
    "            log_probs = model(X_batch, hidden, lengths_batch)\n",
    "            # Calculate loss\n",
    "            loss = criterion(log_probs, y_batch)\n",
    "            ### Pytorch magic! ###\n",
    "            optimizer.zero_grad()\n",
    "            loss.backward()\n",
    "            optimizer.step()\n",
    "            # Keep track of overall epoch loss\n",
    "            epoch_loss += loss.item()\n",
    "            # Update progress bar\n",
    "            pbar.update(1)\n",
    "    # Return total loss across whole dataset\n",
    "    return epoch_loss"
   ]
  },
  {
   "cell_type": "markdown",
   "id": "64b34008-aa10-4b41-a1a1-bdf210d3ac40",
   "metadata": {},
   "source": [
    "The `evaluate()` method in the code cell below implements the calculation of the f1 score for a current model and a given data loader. Similarly to `train_epoch()`, this method iterates over all batches in the data loader, and calculates the output and the loss for each batch. Of course, instead of any training using backpropagation, the `evaluate()` calculates the predicted classes based on the log probabilities. By keeping track of all ground truth labels and corresponding predicted labels, we can calculate the f1 score using the built-in method `f1_score()` provided by the scikit-learn library."
   ]
  },
  {
   "cell_type": "code",
   "execution_count": 21,
   "id": "101f11cf-c152-4ef7-b404-ede4680f40fa",
   "metadata": {},
   "outputs": [],
   "source": [
    "def evaluate(model, loader):\n",
    "    # Define 2 lists holding all true labels and all predicted labels\n",
    "    y_true, y_pred = [], []\n",
    "    # Use tqdm to get a nice progress bar\n",
    "    with tqdm(total=len(loader)) as pbar:\n",
    "        # Iterate over all batches\n",
    "        for X_batch, y_batch, lengths_batch in loader:\n",
    "            batch_size, seq_len = X_batch.shape[0], X_batch.shape[1]\n",
    "            # Move the batch to the correct device\n",
    "            X_batch, y_batch = X_batch.to(device), y_batch.to(device)\n",
    "            # Initialize the first hidden state h0 (and move to device)\n",
    "            hidden = model.init_hidden(X_batch.shape[0], device)\n",
    "            # Get model outputs as log probabiltiies\n",
    "            log_probs = model(X_batch, hidden, lengths_batch)\n",
    "            # Calculate predicted class labels based on largest log probability values\n",
    "            y_batch_pred = torch.argmax(log_probs, dim=1)\n",
    "            # Add the true labels and predicted labels for batch ot final lists\n",
    "            y_true += list(y_batch.cpu())\n",
    "            y_pred += list(y_batch_pred.cpu())\n",
    "            # Update progress bar\n",
    "            pbar.update(1)\n",
    "    # Return f1 score\n",
    "    return f1_score(y_true, y_pred, average='macro')"
   ]
  },
  {
   "cell_type": "markdown",
   "id": "8b9f5b48-e2f0-4598-9b10-41ca6511f041",
   "metadata": {},
   "source": [
    "#### Defining Criterion & Optimizer\n",
    "\n",
    "For calculating the gradients using backpropagation and then updating all weights (i.e., all learnable parameters), we need to define two more components:\n",
    "\n",
    "* The **loss function** &mdash; commonly called **criterion** in PyTorch: Since out model outputs log probabilities &mdash; recall that we used the `log_softmax` function in our `RnnTextClassifier` class &mdash; we need to use negative log-likelihood loss [`nn.NLLLoss`](https://pytorch.org/docs/stable/generated/torch.nn.NLLLoss.html), which expects log probabilities as input.\n",
    "* The **optimizer** that performs the update of the weights w.r.t. the calculated gradients. Here, we are using the **Adam** optimizer. The Adam (Adaptive Moment Estimation) optimizer is an advanced optimization algorithm that combines the benefits of momentum-based optimization (like SGD with momentum) and adaptive learning rate methods (like RMSprop). It maintains two moving averages for each parameter: the first moment (mean of past gradients) and the second moment (uncentered variance of past gradients). These moment estimates help Adam adaptively adjust learning rates for each parameter, leading to faster and more stable convergence. Adam is typically preferred over basic Gradient Descent because it automatically adjusts learning rates based on gradient history, making it well-suited for complex models and noisy datasets. Unlike standard Gradient Descent, which uses a fixed learning rate and can struggle with local minima or saddle points, Adam adapts to different scales of gradients, improving performance in deep learning tasks. This adaptability, combined with efficient computation and minimal memory requirements, makes Adam one of the most commonly used optimizers in modern deep learning frameworks."
   ]
  },
  {
   "cell_type": "code",
   "execution_count": 22,
   "id": "6bc8db1f-f3d2-4ad5-bd06-ce3d68efe5e5",
   "metadata": {},
   "outputs": [],
   "source": [
    "# Define loss function\n",
    "criterion = nn.NLLLoss()\n",
    "# Define optimizer for the update step\n",
    "optimizer = torch.optim.Adam(model.parameters(), lr=0.001)"
   ]
  },
  {
   "cell_type": "markdown",
   "id": "26d6badd-adbe-4d35-a8a6-4bfd02027166",
   "metadata": {},
   "source": [
    "#### Training the Model\n",
    "\n",
    "We are now ready to actually train our model. In the code cell below, we train the model for $10$ epochs. In each iteration we first call `train_epoch()` for the training across all samples in the data loader of the training data, and then call `evaluate()` twice, once over the training data and once over the test data to get both the training and test f1 score. We keep track of both f1 scores as well as the loss after each epoch to later nicely plot those results.\n",
    "\n",
    "Notice also the two calls `model.train()` and `model.eval()`. In PyTorch, the `train()` and `eval()` methods are used to set a neural network model into **training mode** and **evaluation mode**, respectively. These modes affect certain layers like Dropout and Batch Normalization, which behave differently during training and inference. Calling `model.train()` enables training mode, meaning that Dropout layers will randomly deactivate neurons to prevent overfitting, and Batch Normalization will compute running statistics based on the current mini-batch. This ensures that the model learns effectively by preventing reliance on specific features and normalizing activations across different training batches. On the other hand, calling `model.eval()` switches the model to evaluation mode, meaning Dropout is turned off (i.e., neurons are always active), and Batch Normalization uses the precomputed running mean and variance instead of batch statistics. This ensures that predictions are stable and consistent during inference. Forgetting to set `eval()` during validation or testing can lead to incorrect outputs due to the different behaviors of these layers, making these methods essential for proper model performance.\n",
    "\n",
    "**Note:** Since our simple model does not use Dropout or Batch Normalization, we strictly speaking do not need to switch between the training and the evaluation mode. However, it is a good practice to always explicitly set the correct mode to make the code easier to maintain. For example, if you would add any Dropout layer to the model, you would not need to change the training loop as well."
   ]
  },
  {
   "cell_type": "code",
   "execution_count": 23,
   "id": "f7044824-e724-46a3-9c08-ff41fb6c6717",
   "metadata": {},
   "outputs": [
    {
     "name": "stderr",
     "output_type": "stream",
     "text": [
      "100%|███████████████████████████████████████████| 59/59 [00:00<00:00, 65.93it/s]\n",
      "100%|██████████████████████████████████████████| 59/59 [00:00<00:00, 103.03it/s]\n",
      "100%|██████████████████████████████████████████| 20/20 [00:00<00:00, 162.50it/s]\n"
     ]
    },
    {
     "name": "stdout",
     "output_type": "stream",
     "text": [
      "[Epoch 1] loss:\t76.174, f1 train: 0.660, f1 test: 0.632\n"
     ]
    },
    {
     "name": "stderr",
     "output_type": "stream",
     "text": [
      "100%|███████████████████████████████████████████| 59/59 [00:00<00:00, 99.29it/s]\n",
      "100%|██████████████████████████████████████████| 59/59 [00:00<00:00, 162.01it/s]\n",
      "100%|██████████████████████████████████████████| 20/20 [00:00<00:00, 160.89it/s]\n"
     ]
    },
    {
     "name": "stdout",
     "output_type": "stream",
     "text": [
      "[Epoch 2] loss:\t41.224, f1 train: 0.828, f1 test: 0.770\n"
     ]
    },
    {
     "name": "stderr",
     "output_type": "stream",
     "text": [
      "100%|███████████████████████████████████████████| 59/59 [00:00<00:00, 97.83it/s]\n",
      "100%|██████████████████████████████████████████| 59/59 [00:00<00:00, 106.77it/s]\n",
      "100%|██████████████████████████████████████████| 20/20 [00:00<00:00, 160.66it/s]\n"
     ]
    },
    {
     "name": "stdout",
     "output_type": "stream",
     "text": [
      "[Epoch 3] loss:\t26.167, f1 train: 0.898, f1 test: 0.833\n"
     ]
    },
    {
     "name": "stderr",
     "output_type": "stream",
     "text": [
      "100%|███████████████████████████████████████████| 59/59 [00:00<00:00, 98.19it/s]\n",
      "100%|██████████████████████████████████████████| 59/59 [00:00<00:00, 159.79it/s]\n",
      "100%|██████████████████████████████████████████| 20/20 [00:00<00:00, 163.27it/s]\n"
     ]
    },
    {
     "name": "stdout",
     "output_type": "stream",
     "text": [
      "[Epoch 4] loss:\t17.002, f1 train: 0.935, f1 test: 0.847\n"
     ]
    },
    {
     "name": "stderr",
     "output_type": "stream",
     "text": [
      "100%|███████████████████████████████████████████| 59/59 [00:00<00:00, 97.68it/s]\n",
      "100%|██████████████████████████████████████████| 59/59 [00:00<00:00, 160.87it/s]\n",
      "100%|██████████████████████████████████████████| 20/20 [00:00<00:00, 159.23it/s]\n"
     ]
    },
    {
     "name": "stdout",
     "output_type": "stream",
     "text": [
      "[Epoch 5] loss:\t12.727, f1 train: 0.958, f1 test: 0.871\n"
     ]
    },
    {
     "name": "stderr",
     "output_type": "stream",
     "text": [
      "100%|███████████████████████████████████████████| 59/59 [00:00<00:00, 98.90it/s]\n",
      "100%|██████████████████████████████████████████| 59/59 [00:00<00:00, 160.07it/s]\n",
      "100%|██████████████████████████████████████████| 20/20 [00:00<00:00, 159.33it/s]\n"
     ]
    },
    {
     "name": "stdout",
     "output_type": "stream",
     "text": [
      "[Epoch 6] loss:\t8.844, f1 train: 0.969, f1 test: 0.875\n"
     ]
    },
    {
     "name": "stderr",
     "output_type": "stream",
     "text": [
      "100%|███████████████████████████████████████████| 59/59 [00:00<00:00, 99.26it/s]\n",
      "100%|██████████████████████████████████████████| 59/59 [00:00<00:00, 162.68it/s]\n",
      "100%|██████████████████████████████████████████| 20/20 [00:00<00:00, 162.41it/s]\n"
     ]
    },
    {
     "name": "stdout",
     "output_type": "stream",
     "text": [
      "[Epoch 7] loss:\t6.246, f1 train: 0.979, f1 test: 0.872\n"
     ]
    },
    {
     "name": "stderr",
     "output_type": "stream",
     "text": [
      "100%|███████████████████████████████████████████| 59/59 [00:00<00:00, 99.16it/s]\n",
      "100%|██████████████████████████████████████████| 59/59 [00:00<00:00, 161.30it/s]\n",
      "100%|██████████████████████████████████████████| 20/20 [00:00<00:00, 162.76it/s]\n"
     ]
    },
    {
     "name": "stdout",
     "output_type": "stream",
     "text": [
      "[Epoch 8] loss:\t4.233, f1 train: 0.983, f1 test: 0.881\n"
     ]
    },
    {
     "name": "stderr",
     "output_type": "stream",
     "text": [
      "100%|███████████████████████████████████████████| 59/59 [00:00<00:00, 98.08it/s]\n",
      "100%|██████████████████████████████████████████| 59/59 [00:00<00:00, 158.07it/s]\n",
      "100%|██████████████████████████████████████████| 20/20 [00:00<00:00, 161.03it/s]\n"
     ]
    },
    {
     "name": "stdout",
     "output_type": "stream",
     "text": [
      "[Epoch 9] loss:\t2.844, f1 train: 0.994, f1 test: 0.878\n"
     ]
    },
    {
     "name": "stderr",
     "output_type": "stream",
     "text": [
      "100%|███████████████████████████████████████████| 59/59 [00:00<00:00, 98.92it/s]\n",
      "100%|██████████████████████████████████████████| 59/59 [00:00<00:00, 162.33it/s]\n",
      "100%|██████████████████████████████████████████| 20/20 [00:00<00:00, 162.83it/s]\n"
     ]
    },
    {
     "name": "stdout",
     "output_type": "stream",
     "text": [
      "[Epoch 10] loss:\t2.084, f1 train: 0.997, f1 test: 0.885\n"
     ]
    }
   ],
   "source": [
    "num_epochs = 10\n",
    "results = []\n",
    "\n",
    "for epoch in range(1, num_epochs+1):\n",
    "    # Set model into training mode\n",
    "    model.train()\n",
    "    # Train model for a single epch\n",
    "    epoch_loss = train_epoch(model, loader_train, optimizer, criterion)\n",
    "    # Set model into evaluation mode\n",
    "    model.eval()\n",
    "    # Calculate training and test f1 scores\n",
    "    f1_train = evaluate(model, loader_train)\n",
    "    f1_test = evaluate(model, loader_test)\n",
    "    # Append the epoch loss, training f1 score, and test f1 score to final result list (for plotting later)\n",
    "    results.append((epoch_loss, f1_train, f1_test))\n",
    "    # Print progress(epoch loss, training f1 score, and test f1 score)\n",
    "    print(f\"[Epoch {epoch}] loss:\\t{epoch_loss:.3f}, f1 train: {f1_train:.3f}, f1 test: {f1_test:.3f}\")        "
   ]
  },
  {
   "cell_type": "markdown",
   "id": "96d3c430-b80e-4db7-a22a-75071768fdde",
   "metadata": {},
   "source": [
    "The output above prints the current loss as well as the training and test f1 scores after each epoch. Since we also keep track of all three values for each epoch, we can also plot their trends over time. To this end, we provide the auxiliary method to plot the changes in the loss and the f1 scores across all epochs; just execute the code cell below. Note that the loss is normalized to maximum of $1$ so to be of the same scale as the f1 scores."
   ]
  },
  {
   "cell_type": "code",
   "execution_count": 24,
   "id": "110b325c-4209-4a06-a17d-570d26e6a604",
   "metadata": {},
   "outputs": [
    {
     "data": {
      "image/png": "[encoded data removed]",
      "text/plain": [
       "<Figure size 640x480 with 1 Axes>"
      ]
     },
     "metadata": {},
     "output_type": "display_data"
    }
   ],
   "source": [
    "plot_training_results(results, legend=['Loss (normalized)', 'F1 (train)', 'F1 (test)'])"
   ]
  },
  {
   "cell_type": "markdown",
   "id": "4f741c08-643e-4248-b7f1-ed75cfb7926b",
   "metadata": {},
   "source": [
    "From the results and the plot you can see that our model overall trains very well: both the loss and the training f1 score greatly improve even in just 10 epochs. In fact, we see an almost perfect training f1 score of $1.0$. In some sense, this is not surprising as this task is arguably a very simple one since predicting the category of a news headline is unlikely to require a deeper understanding of the text. For example, simply the presence of words such as \"budget\" or \"stock\" are probably already strong indicators of a headline belonging to a business article. The test f1 score improves equally well, but does stay below the train f1 score. Again, this difference is not very surprising. Overall, the dataset is not very large. This means that splitting it into a training and test set is likely to yield in the situation where many words in the testset are not in the training set and therefore not known to the model."
   ]
  },
  {
   "cell_type": "markdown",
   "id": "4fed0078-b5ad-47ca-a383-90165bfe3799",
   "metadata": {},
   "source": [
    "---"
   ]
  },
  {
   "cell_type": "markdown",
   "id": "c1fa0c40-e8ac-4e8a-8e7f-deb3a23f92ad",
   "metadata": {},
   "source": [
    "## Discussion\n",
    "\n",
    "In this notebook, we went through a complete practical example of training and evaluating a RNN-based text classification model. We loaded and prepared the dataset for the training, and then created and trained a model over this dataset. The focus was elaborating on and understanding the steps required as well as highlight potential caveats. The goal was not to achieve any state-of-the-art results. As such, simplifications and restrictions included:\n",
    "\n",
    "**Simple task & small data.** On can argue the task of predicting the news category for a given deadline is rather simple since the category can most likely reliably predicted by the presence or absence of words in a headline &mdash; that is, the actual word or is not that important to actually warrant the use of an RNN compared more traditional text classification models (g.e., Multinomial Naive Bayes). Also, given the size of the dataset and the vocabulary baseline models such as Naive Bayes are likely to perform equally well. However, the focus here was to go through a sample practical example, to cover the most importants steps and challenges when training an RNN for text classification. This includes the choice of a small dataset so that training remains reasonably fast even when using only the CPU (instead of a GPU)\n",
    "\n",
    "**Simple model.** In some sense, we implemented and trained the most basic RNN-based model for text classification tasks. Only by using an LSTM layer instead of the Vanilla layer, we have made our model slightly more sophisticated. Of course, there are many straightforward extension to the model once can explore to see if they yield better prediction results, including but no limited to:\n",
    "* *Additional linear hidden layers.* Our current model only uses a single additional linear hidden layer between the LSTM and the output layer. Additional hidden layers in a neural network help with learning by enabling the model to capture and represent more complex patterns and hierarchical relationships in the data. In deep networks, the first few layers typically learn simple features (such as edges in image processing or common word patterns in text), while deeper layers progressively combine these features into more abstract and meaningful representations. This hierarchical learning allows the network to understand intricate structures that a shallow network might struggle to capture. More hidden layers can also improve the network's ability to approximate complex functions, making it more powerful for tasks such as image recognition, language processing, and decision-making. However, deeper networks require careful tuning, as they are more prone to overfitting and require more data and computational resources.\n",
    "* *Additional Dropout layer.* A Dropout layer is a regularization technique used in neural networks to prevent overfitting by randomly setting a fraction of the neurons to zero during training. This means that at each training step, a specified percentage (e.g., $20\\%$ or $50\\%$) of the neurons in the layer are temporarily \"dropped out\", forcing the network to learn more robust and generalized patterns rather than relying on specific neurons. By preventing co-adaptation of neurons, dropout improves the model’s ability to generalize to unseen data, leading to better performance on validation and test sets. During inference (i.e., when making predictions), all neurons are used, but their outputs are scaled based on the dropout rate to maintain consistency with training.\n",
    "* *Bidirectional LSTM layer.* A Bidirectional LSTM (BiLSTM) layer is an extension of the standard unidirectional LSTM we have used, where the model processes the input sequence in both forward and backward directions. In a unidirectional LSTM, information flows only from past to future, meaning it can only use previous context to make predictions. In contrast, a BiLSTM consists of two LSTM layers: one processes the sequence from start to end, while the other processes it from end to start. This allows the model to capture dependencies from both past and future contexts, making it particularly useful for tasks where understanding the entire context is crucial, such as machine translation, named entity recognition, and text classification. By leveraging information from both directions, a BiLSTM can improve accuracy and capture long-range dependencies more effectively than a unidirectional LSTM. However, it also requires more computational resources due to the doubled number of parameters. While a bidirectional LSTM can easily be implemented in PyTorch by setting `bidirectional=True` when defining the [`nn.LSTM`](https://pytorch.org/docs/stable/generated/torch.nn.LSTM.html) layer, it would also require additional changes in the `forward()` method of the model.\n",
    "* *Multilayer LSTM layer.* A multilayer LSTM (also known as a stacked LSTM) consists of multiple LSTM layers stacked on top of each other, where the output of one LSTM layer serves as the input for the next. In contrast, a single-layer LSTM has only one LSTM layer processing the input sequence before producing an output. The key benefit of a multilayer LSTM is its ability to capture more complex hierarchical patterns in sequential data. The lower layers typically learn basic features, while deeper layers extract higher-level, abstract representations, allowing the model to understand more intricate dependencies. However, stacking multiple LSTM layers increases computational complexity and the risk of overfitting, requiring careful tuning of hyperparameters and regularization techniques like dropout. Again, PyTorch's [`nn.LSTM`](https://pytorch.org/docs/stable/generated/torch.nn.LSTM.html) class allows setting the number of stacked layers using the `num_layers` parameter in the constructor.\n",
    "\n",
    "**Pretrained word embeddings.** In our model, the weights of the embedding layer are randomly initialized and updated during the training. In contrast to a random initialization, would also initialize the weights using pretrained word embedding vectors. Using pretrained word embedding vectors in a text classification model offers several advantages, particularly in improving accuracy and reducing training time. Pretrained embeddings, such as Word2Vec, GloVe, or FastText, are trained on massive text corpora and capture rich semantic relationships between words. Instead of learning word representations from scratch, a model can leverage these embeddings to start with a strong foundation of word meanings and contextual similarities. This is especially beneficial when working with limited labeled data, as pretrained embeddings help the model generalize better by incorporating knowledge from large, diverse text sources. Another key benefit is that pretrained embeddings can capture synonymy and contextual similarities between words. This often leads to faster convergence and better generalization, making pretrained embeddings a powerful tool for text classification tasks such as sentiment analysis, spam detection, and topic categorization.\n",
    "\n",
    "**No hyperparameter tuning.** Throughout this notebook we only considered a single data processing/preparation and the model training setup, and did not explore how a different set up may have affected the results &mdash; including different preprocessing steps, different vocabulary size, different sizes for the embedding and hidden layer, different activation functions, and so on. For example, this task might benefit from removing stopwords, increasing the size of the vocabulary, or increasing the size of the embedding and/or hidden layer. Performing hyperparameter tuning to potentially find the parameters values that maximize test f1 score is relatively straightforward conceptually, but it would add a substantial amount of training time. And this was just not within the scope of this notebook.\n",
    "\n",
    "In short, there are many ways to build upon and potentially improve on the approach for training an RNN-based model for headline classification presented in this notebook. That being said, the core step that we have covered here would remain the same, mainly:\n",
    "\n",
    "* Encoding the headlines into lists of token indices using a vocabulary\n",
    "* Using padding and packing to support batch processing a sequences with different lengths\n",
    "* Creating a model by defining all its layers and how an input batch is pushed through all layers to get the model output\n",
    "* Training the model using the common iterative processing using the support of the PyTorch library\n",
    "\n",
    "Extensions such as a more complex model architecture or performing hyperparameter tuning to find the best model would naturally require additional code and training time, but would not substantially change these core steps."
   ]
  },
  {
   "cell_type": "markdown",
   "id": "1a6eb5b7-a63e-461d-ac0a-74a247efd63e",
   "metadata": {},
   "source": [
    "---"
   ]
  },
  {
   "cell_type": "markdown",
   "id": "639b5555-e855-4ac8-8d19-75b6249dc088",
   "metadata": {},
   "source": [
    "## Summary\n",
    "\n",
    "Recurrent Neural Networks (RNNs) are a type of artificial neural network designed to handle sequential data, making them well-suited for text classification tasks. Unlike traditional feedforward networks, RNNs have loops that allow information to persist, enabling them to capture dependencies between words in a sequence. This capability is particularly useful in natural language processing (NLP) tasks, where understanding the context and order of words is essential. For example, an RNN can be used to classify emails as spam or non-spam based on their content, sentiment classification of customer reviews, or categorization of news articles by topic.\n",
    "\n",
    "To better grasp how RNNs work in text classification, it is highly beneficial to go through a simple practical example. Implementing an RNN step by step allows learners to see how data preprocessing, tokenization, embedding layers, and training work in practice. It also provides insight into how hyperparameters like learning rates, sequence lengths, and hidden unit sizes impact performance. By running a small-scale experiment, one can observe firsthand how the network learns from textual data, makes predictions, and improves through backpropagation.\n",
    "\n",
    "Additionally, working through an example helps in understanding the challenges involved, such as handling imbalanced datasets, overfitting, and choosing appropriate evaluation metrics. Practical implementation encourages experimentation with variations like Long Short-Term Memory (LSTM) networks or Gated Recurrent Units (GRUs), which address some of the shortcomings of vanilla RNNs. Overall, applying RNNs in a hands-on manner reinforces theoretical concepts and builds confidence in using deep learning for text classification tasks."
   ]
  },
  {
   "cell_type": "code",
   "execution_count": null,
   "id": "92553ef8-eb59-45a9-a598-e6ec2523ea69",
   "metadata": {},
   "outputs": [],
   "source": []
  }
 ],
 "metadata": {
  "kernelspec": {
   "display_name": "py311",
   "language": "python",
   "name": "py311"
  },
  "language_info": {
   "codemirror_mode": {
    "name": "ipython",
    "version": 3
   },
   "file_extension": ".py",
   "mimetype": "text/x-python",
   "name": "python",
   "nbconvert_exporter": "python",
   "pygments_lexer": "ipython3",
   "version": "3.11.8"
  }
 },
 "nbformat": 4,
 "nbformat_minor": 5
}
