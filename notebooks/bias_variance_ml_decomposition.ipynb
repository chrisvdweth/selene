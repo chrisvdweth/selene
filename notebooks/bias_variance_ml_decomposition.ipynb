{
 "cells": [
  {
   "cell_type": "markdown",
   "id": "cf689d16-352f-4c5e-bc41-88aa5715c516",
   "metadata": {},
   "source": [
    "<img src=\"images/logo/selene-logo-640.png\" style=\"max-height:75px;\" alt=\"SELENE Logo\" />\n",
    "\n",
    "**Disclaimer:** This Jupyter Notebook contains content generated with the assistance of AI. While every effort has been made to review and validate the outputs, users should independently verify critical information before relying on it. The SELENE notebook repository is constantly evolving. We recommend downloading or pulling the latest version of this notebook from Github."
   ]
  },
  {
   "cell_type": "markdown",
   "id": "ee5888d2-a48e-4543-9abe-5664f36246b5",
   "metadata": {},
   "source": [
    "# Bias-Variance Decomposition\n",
    "\n",
    "The **bias-variance decomposition** is a fundamental concept in machine learning that helps explain the sources of error in a predictive model. When building a model, the goal is not only to perform well on the training data but also to **generalize** well to unseen data. The total prediction error can be decomposed into three components: **bias**, **variance**, and **irreducible error**. This decomposition provides a structured way to understand how model complexity and data characteristics affect performance.\n",
    "\n",
    "**Bias** refers to the error introduced by approximating a complex real-world problem with a simplified model. A model with high bias makes strong assumptions about the data and often fails to capture important patterns, resulting in systematic errors or **underfitting**. In contrast, **variance** measures the model's sensitivity to fluctuations in the training data. High variance implies the model is overfitting &mdash; capturing noise rather than the true signal &mdash; which leads to poor generalization on new data. The **irreducible error** represents the inherent noise in the data that no model can predict.\n",
    "\n",
    "Understanding the bias-variance decomposition is crucial for properly **training, evaluating, and improving machine learning models**. It helps practitioners identify whether a model's poor performance is due to underfitting, overfitting, or data limitations. This insight guides decisions about model selection, feature engineering, regularization, and data collection. For example, if high variance is detected, one might use a simpler model, apply regularization, or gather more training data. If high bias is the issue, a more flexible model or better features may be needed. Ultimately, the bias-variance decomposition provides a theoretical foundation for one of the most important trade-offs in machine learning: the **bias-variance tradeoff**. Striking the right balance is key to developing models that perform well not just on training data, but on unseen data as well &mdash; ensuring reliability and robustness in real-world applications."
   ]
  },
  {
   "cell_type": "markdown",
   "id": "90a69901-157d-4532-8aa2-12a662536e61",
   "metadata": {},
   "source": [
    "---"
   ]
  },
  {
   "cell_type": "markdown",
   "id": "42043a4c-6104-4db8-9c5f-b8b6d6562610",
   "metadata": {},
   "source": [
    "## Quick Refresher: Random Variables, Expectation & Variance\n",
    "\n"
   ]
  },
  {
   "cell_type": "markdown",
   "id": "b886d827-c44d-450c-8999-7a7dba31b061",
   "metadata": {},
   "source": [
    "### Random Variables\n",
    "\n",
    "In probability and statistics, a **random variable** is a numerical description of the outcome of a random phenomenon or experiment. It's a way to assign a specific number to each possible outcome of an uncertain event. More formally, a random variable is a function that maps the outcomes of a random experiment to real numbers. The set of all possible outcomes is called the **sample space**.\n",
    "\n",
    "**Example 1:** Assume you flip a fair coin 3 times and record if the coin shows heads (H) or tails (T). The set of all possible outcomes (i.e., the sample space) is {HHH, HHT, HTH, THH, HTT, THT, TTH, TTT}. A random variable X could be defined as the \"number of heads.\" So, X(HHH)=3, X(HHT)=2, X(TTT)=0, and so on for each of the eight outcomes. Since the X \n",
    "takes on a countable number of distinct values, X is **discrete random variable**.\n",
    "\n",
    "**Example 2:** Assume you are sitting at a bus stop and observe the arrival of buses. A random variable X could be defined as the time between the arrival between two buses. Since the number of all possible times is uncountable, X is a **continuous random variable**.\n",
    "\n",
    "For many machine learning tasks, especially regression and classification, the output of the model (the predicted value or probability) is considered a realization of a random variable. Recall that a regression model has the following form:"
   ]
  },
  {
   "cell_type": "markdown",
   "id": "5f920ea7-64cb-43e7-8f52-963d07312198",
   "metadata": {},
   "source": [
    "$$\\large\n",
    "Y = f(X) + \\epsilon\n",
    "$$"
   ]
  },
  {
   "cell_type": "markdown",
   "id": "514201ce-a8d9-42a9-8add-ffbc550bab77",
   "metadata": {},
   "source": [
    "with $X$ and $Y$ being the input and output space, respectively; $f(X)$ is the true (and unknown!) function mapping the inputs to the corresponding outputs. This error term represents all the unobserved factors that influence $Y$ but are not included in the model. These unobserved factors are inherently random. As such, the error term $\\epsilon$ is a random variable, and therefore **$Y$ is random variable**. In simple terms, the predictions made by the model are uncertain due to that randomness."
   ]
  },
  {
   "cell_type": "markdown",
   "id": "b76e1d14-17a8-4c19-a723-55eb445c689f",
   "metadata": {},
   "source": [
    "### Expected Value\n",
    "\n",
    "The **expected value** (also called the **expectation** or **mean**) of a random variable X, commonly written as $\\mathbb{E}[X]$, is the weighted average of all possible values X can take, where each value is weighted by its probability. It represents the long-term average value of the random variable if the experiment is repeated many times. In case of a discrete random variable $X$, the expected value $\\mathbb{E}(X)$ is define as"
   ]
  },
  {
   "cell_type": "markdown",
   "id": "c16f48e8-d6d0-473e-814a-7eae9655875e",
   "metadata": {},
   "source": [
    "$$\n",
    "\\begin{align}\n",
    "\\large \\mathbb{E}[X] &\\large = {\\sum_{x}x\\cdot P(X=x)}\n",
    "\\end{align}\n",
    "$$"
   ]
  },
  {
   "cell_type": "markdown",
   "id": "183345dc-d224-4566-9031-f1e7dbe5d2ae",
   "metadata": {},
   "source": [
    "for all possible outcomes $x$; $P(X=x)$ denotes the probability of the outcome $x$.\n",
    "\n",
    "Let's illustrate this idea using our coin example from before. Since we assume a fair coin, each of the $8$ outcomes (HHH, HHT, HTH, etc.) is equally likely. We also know that we have four possible outcomes for the number of heads (H): $0$, $1$, $2$, $3$, and $4$. We can therefore the probability for all outcomes $x$ as:\n",
    "\n",
    "* $P(X=0) = 1/8\\ $,  since there is 1 outcome resulting in 0 heads (TTT)\n",
    "* $P(X=1) = 3/8\\ $,  since there are 3 outcomes resulting in 1 head (TTH, THT, HTT)\n",
    "* $P(X=2) = 3/8\\ $,  since there are 3 outcomes resulting in 2 heads (HHT, HTH, THH)\n",
    "* $P(X=3) = 1/8\\ $,  since there is 1 outcome resulting in 3 heads (HHH)\n",
    "\n",
    "Of course, all probabilities sum up to $1$."
   ]
  },
  {
   "cell_type": "markdown",
   "id": "612ccbdf-7de8-4a0c-9e7d-9760cffe21fe",
   "metadata": {},
   "source": [
    "$$\n",
    "\\begin{align}\n",
    "\\large \\mathbb{E}(X) &\\large = {\\sum_{x}x\\cdot P(X=x)}\\\\\n",
    "&\\large = \\left[0\\cdot P(X=0) \\right] + \\left[1\\cdot P(X=1) \\right] + \\left[2\\cdot P(X=2) \\right] + \\left[3\\cdot P(X=3) \\right]\\\\[1.0em]\n",
    "&\\large = \\left[0\\cdot 1/8 \\right] + \\left[1\\cdot 3/8 \\right] + \\left[2\\cdot 3/8 \\right] + \\left[3\\cdot 1/8 \\right]\\\\[1.0em]\n",
    "&\\large = 0 + 3/8 + 6/8 + 3/8 = 12/8 = \\mathbf{1.5}\n",
    "\\end{align}\n",
    "$$"
   ]
  },
  {
   "cell_type": "markdown",
   "id": "ca022212-da4d-493a-9e6e-65c09f4758e2",
   "metadata": {},
   "source": [
    "The expected value of $X$, the number of heads in three coin flips, is $\\mathbb{E}[X]=1.5$.\n",
    "\n",
    "For the purpose of this notebook, we need to cover some of the basic characteristics of the expected value $\\mathbb{E}(X)$:\n",
    "\n",
    "* **Constants:** The expected value of a constant $c$ is also a constant:\n",
    "$$\\large\n",
    "\\mathbb{E}[c] = c\n",
    "$$\n",
    "This also means that $\\mathbb{E}[\\mathbb{E}[X]] = \\mathbb{E}[X]$ since the the expected value of a random variable X is just a constant; recall that we just calculated $\\mathbb{E}[X]=1.5$ for our coin example. Furthermore, if we have a random variable $X$ and a constant $c$, the following relationship holds:\n",
    "$$\\large\n",
    "\\mathbb{E}[cX] = c\\mathbb{E}[X]\n",
    "$$\n",
    "\n",
    "* **Linearity of expectations:** Given two random variables $X$ and $Y$, the expect value of their sum is equal to the sum of their expected values: \n",
    "$$\\large\n",
    "\\mathbb{E}[X + Y] = \\mathbb{E}[X] + \\mathbb{E}[Y]\n",
    "$$\n",
    "\n",
    "* **Product of expectations:** Given two *independent* random variables $X$ and $Y$, the expect value of their product is equal to the product of their expected values: \n",
    "$$\\large\n",
    "\\mathbb{E}[XY] = \\mathbb{E}[X]\\mathbb{E}[Y]\n",
    "$$\n",
    "Again, this only holds true if both random variables $X$ and $Y$ are independent."
   ]
  },
  {
   "cell_type": "markdown",
   "id": "65fd2804-20c3-4b45-b665-b6d40c6e1669",
   "metadata": {},
   "source": [
    "Although we skip the proofs here, they follow directly from the definition of the expected value."
   ]
  },
  {
   "cell_type": "markdown",
   "id": "f27f7220-7690-4a6d-8dcc-6e44b8d94371",
   "metadata": {},
   "source": [
    "### Variance\n",
    "\n",
    "The **variance** of a random variable is a measure of how much the values of the variable differ from the expected value. In simple terms, the variance tells how \"spread out\" the values are. It is calculated as the expected value of the squared difference between the random variable $X$ and its expected value $\\mathbb{E}[X]$:"
   ]
  },
  {
   "cell_type": "markdown",
   "id": "56b36e81-382d-4399-9099-c9d2f0f28177",
   "metadata": {},
   "source": [
    "$$\\large\n",
    "Var(X) = \\mathbb{E}\\left[ \\left(X - \\mathbb{E}[X]  \\right)^2  \\right]\n",
    "$$"
   ]
  },
  {
   "cell_type": "markdown",
   "id": "1a1b0839-d55d-451d-a850-f0a30e5d8bd1",
   "metadata": {},
   "source": [
    "We can write the formula for the variance, by (a) expanding the quadratic term, (b) using the linearity of expectations to move the expected value the the resulting individual terms, and (c) utilizing the fact that $\\mathbb{E}[X]$ is a constant. More formally:"
   ]
  },
  {
   "cell_type": "markdown",
   "id": "5b3ebcad-cef2-444b-810d-90d2b41f36a4",
   "metadata": {},
   "source": [
    "$$\\begin{align}\n",
    "\\large Var(X)\\ & \\large = \\mathbb{E}\\left[ \\left(X - \\mathbb{E}[X]  \\right)^2  \\right]\\\\[1em]\n",
    "& \\large = \\mathbb{E}\\left[ X^2 - 2X\\mathbb{E}[X] + \\mathbb{E}[X]^2  \\right]\\\\[1em]\n",
    "& \\large = \\mathbb{E}\\left[ X^2\\right] - 2\\mathbb{E}\\left[X\\mathbb{E}[X]\\right] + \\mathbb{E}\\left[\\mathbb{E}[X]^2  \\right]\\\\[1em]\n",
    "& \\large = \\mathbb{E}\\left[ X^2\\right] - 2\\mathbb{E}[X]\\mathbb{E}[X] + \\mathbb{E}\\left[\\mathbb{E}[X]^2  \\right]\\\\[1em]\n",
    "& \\large = \\mathbb{E}\\left[ X^2\\right] - 2\\mathbb{E}[X]^2 + \\mathbb{E}[X]^2\\\\[1em]\n",
    "& \\large = \\mathbb{E}\\left[ X^2\\right] - \\mathbb{E}[X]^2 \\\\[1em]\n",
    "\\end{align}\n",
    "$$"
   ]
  },
  {
   "cell_type": "markdown",
   "id": "adf131b3-8f07-40b3-a36c-a032c50ed2ed",
   "metadata": {},
   "source": [
    "Lastly, we can rewrite this formula such that $\\mathbb{E}(X^2)$ is on one side:"
   ]
  },
  {
   "cell_type": "markdown",
   "id": "d0d7ace5-2220-4b84-ab60-0d943524f971",
   "metadata": {},
   "source": [
    "$$\\large\n",
    "\\mathbb{E}(X^2) = \\mathbb{E}[X]^2 + Var(X)\n",
    "$$"
   ]
  },
  {
   "cell_type": "markdown",
   "id": "7b419805-7991-4f1e-a0d3-fd9759e9ff0f",
   "metadata": {},
   "source": [
    "We will later use this equation for the decomposition of the model error; notice how this equation will use the variance by replacing the expected value of a squared random variable using."
   ]
  },
  {
   "cell_type": "markdown",
   "id": "3a60f0c4-8f64-47db-8606-9afd0fad24f2",
   "metadata": {},
   "source": [
    "---"
   ]
  },
  {
   "cell_type": "markdown",
   "id": "0aea1c93-f143-41cf-849e-532abba7587f",
   "metadata": {},
   "source": [
    "## Bias-Variance Decomposition (for regression problems)\n",
    "\n",
    "Recall that for regression problems, we are trying to predict a dependent $X$ with independent features $X$, assuming that there is a true but unknown function $f(X)$ that defines the relationship between $X$ and $Y$. Individual observations $y\\in Y$ will deviate from the true function $f(X)$ by some random error $\\epsilon$ due to random noise or any unobserved factors that influence $Y$. Regression models typically assume that the error term is normally distributed with an expected value $\\mathbb{E}[\\epsilon] = 0$ and variance $Var(\\epsilon) = \\sigma^2$.\n",
    "\n",
    "Our goal is to estimate the true and unknown function $f(x)$.  For this, we obtain a training dataset $D$ containing $n$ samples:"
   ]
  },
  {
   "cell_type": "markdown",
   "id": "49eb9a0d-c73e-4f76-907d-41e4c90e4d64",
   "metadata": {},
   "source": [
    "$$\\large\n",
    "D = \\left\\{(x_1, y_1), (x_2, y_2), \\cdots , (x_n, y_n) \\right\\}\n",
    "$$"
   ]
  },
  {
   "cell_type": "markdown",
   "id": "25c41711-a7f7-4b04-bcaa-5effadeed65c",
   "metadata": {},
   "source": [
    "where $x_i\\in X$ and $y_i\\in Y$. Note that $x_i$ may refer to single input features but also a feature vector comprising several feature values. However, use $x_i$ (instead of $\\mathbf{x}_i$) to ease presentation and this distinction between individual features and feature vectors does not matter for our discussion.\n",
    "\n",
    "It is assumed that the $D$ consists of a sample of independent and identically distributed (i.i.d) pairs. **Independent** means that each sample is not influenced by or correlated with any other sample. In other words, the features and labels of one sample do not tell us anything about another sample. **Identically distributed** means that all samples come from the same underlying probability distribution &mdash; that is, the process that generated the data is consistent across all samples."
   ]
  },
  {
   "cell_type": "markdown",
   "id": "d70fd6d5-13ec-48b3-8f85-640ce0110170",
   "metadata": {},
   "source": [
    "Using any learning algorithm &mdash; for example, (Polynomial) Linear Regression &mdash; we can train a model described by the hypothesis $h_D(X)$ that minimizes the mean squared error (MSE) over all training samples in $D$. We can also say that hypothesis $h_D(X)$ *is* the model. In short, $h_D(X)$ is the hypothesis of the model of our true, unknown function $f(X)$. We use the subscript $D$ to indicate that $h_D(X)$ was training on a specific dataset $D$. We will see later why when it becomes important. The MSE is used for regression models because it measures the average squared difference between the predicted values and the actual values, giving a clear sense of how far off the predictions are:"
   ]
  },
  {
   "cell_type": "markdown",
   "id": "1677a55a-b452-4c34-8ff8-34ebed29e3aa",
   "metadata": {},
   "source": [
    "$$\\large\n",
    "MSE = \\frac{1}{n} \\sum_{(x_i, y_i)\\in D} (y_i - h_D(x_i))^{2}\n",
    "$$"
   ]
  },
  {
   "cell_type": "markdown",
   "id": "325df7a7-a741-4aa9-914f-922aca942755",
   "metadata": {},
   "source": [
    "Squaring the errors ensures that larger mistakes are penalized more heavily than smaller ones, which helps the model focus on reducing big errors. MSE is also mathematically convenient because it is differentiable, making it easier to optimize using methods like gradient descent."
   ]
  },
  {
   "cell_type": "markdown",
   "id": "71f2ff7c-35e1-4f14-879d-158db6d9bc69",
   "metadata": {},
   "source": [
    "We typically assess a model's performance based on how well it performs on unseen data, i.e., data samples that are no in $D$ and therefore have not been seen during training. Let's assume that new data sample $(x^\\prime, y^\\prime)$ with $y^\\prime = f(x^\\prime) + \\epsilon$. Similar to the MSE, we can use the **squared error** (SE) to measure how well the model performs on this new data sample:"
   ]
  },
  {
   "cell_type": "markdown",
   "id": "427fb1f2-80a6-48cc-9709-6f17c089bdda",
   "metadata": {},
   "source": [
    "$$\\large\n",
    "SE = (y^\\prime - h_D(x^\\prime))^{2}\n",
    "$$"
   ]
  },
  {
   "cell_type": "markdown",
   "id": "d0eb2247-972e-4a2c-af8d-ee9fd6246711",
   "metadata": {},
   "source": [
    "In the introductory notebook for bias and variance, we already saw that the prediction $h_D(x^\\prime)$ typically depends on the training dataset $D$ &mdash; that is, if $D$ would contain a different set of samples $(x_i, y_i)$, the model would like to be different and therefore make a different prediction. So let's assume that we have randomly drawn $N$ different datasets $(D_1, D_2, \\dots , D_N)$, and have trained a model using each of those datasets, giving us $N$ models"
   ]
  },
  {
   "cell_type": "markdown",
   "id": "83edd0ec-e42d-45e6-a14a-411853b1af9d",
   "metadata": {},
   "source": [
    "$$\\large\n",
    "\\left[ h_{D_1}(x), h_{D_2}(x), \\dots , h_{D_N}(x) \\right]\n",
    "$$"
   ]
  },
  {
   "cell_type": "markdown",
   "id": "5f69ca3d-69a1-4051-b656-158866b4ce75",
   "metadata": {},
   "source": [
    "Since each model depends on the randomly drawn set of data samples, $h_D(x)$ is a random variable. We can therefore calculate the expected value $\\mathbb{E}[h_D(x)]$ representing the average prediction value of the collection of models over many training datasets $(D_1, D_2, \\dots , D_N)$. For each model, we can now calculate the squared error (SE):"
   ]
  },
  {
   "cell_type": "markdown",
   "id": "b289a1c3-1d47-48dd-a8f0-e3de62b60b61",
   "metadata": {},
   "source": [
    "$$\\large\n",
    "\\left[ (y^\\prime - h_{D_1}(x^\\prime))^{2}, (y^\\prime - h_{D_2}(x^\\prime))^{2}, \\dots , (y^\\prime - h_{D_N}(x^\\prime))^{2} \\right]\n",
    "$$"
   ]
  },
  {
   "cell_type": "markdown",
   "id": "bee42aa9-7259-4ccd-85ce-49e4ca9e334d",
   "metadata": {},
   "source": [
    "Note that the square error we observe is also a random variable. Apart from $h_D(x)$ already being a random variable, $y^\\prime$ contains the error term $\\epsilon$ which itself is a random variable. Thus, to get an overall idea how well our learning algorithm is performing on unseen data, we can compute the expected value of all squared errors, which is called the **expected squared error** or just the model error:"
   ]
  },
  {
   "cell_type": "markdown",
   "id": "8818e618-74c9-4692-b2c3-418e20503710",
   "metadata": {},
   "source": [
    "$$\\large\n",
    "Error = \\mathbb{E}\\left[(y^\\prime - h_D(x^\\prime))^{2}\\right]\n",
    "$$"
   ]
  },
  {
   "cell_type": "markdown",
   "id": "c5947601-ff4f-4ac5-a6c9-0f6893a77cba",
   "metadata": {},
   "source": [
    "### Bias & Variance\n",
    "\n",
    "In the introductory notebook, we also have already introduced the notion of model bias and model variance. Recall that the **bias** describes how much the expected value of the model deviates from the true value of the function $f(x)$ we are trying to estimate. A low bias tells us that our model does a good job of approximating our function $f(x)$, and vice versa for a high bias. With $\\mathbb{E}[h_D(x)]$ being the expected value of the model, the bias is therefore define as:"
   ]
  },
  {
   "cell_type": "markdown",
   "id": "3ce886a2-8901-4667-b013-a0d1b20cee0c",
   "metadata": {},
   "source": [
    "$$\\large\n",
    "Bias(h_D(x)) = \\mathbb{E}[h_D(x)] - f(x)\n",
    "$$"
   ]
  },
  {
   "cell_type": "markdown",
   "id": "1b168161-b072-4f5b-af19-98b07af8dd60",
   "metadata": {},
   "source": [
    "In line with the definition of the variance of a random variable, the **variance** of a model is the expected value of the squared differences between an particular model $h_D(x)$ &mdash; particular with respect to the dataset $D$ &mdash; and the expected value $\\mathbb{E}[h_D(x)]$ of the model:"
   ]
  },
  {
   "cell_type": "markdown",
   "id": "d0a47484-9a2c-4a35-9b04-541e145efb1e",
   "metadata": {},
   "source": [
    "$$\\large\n",
    "Variance(h_D(x)) = \\mathbb{E}\\left[ \\left( h_D(x) - \\mathbb{E}[h_D(x)] \\right)^{2} \\right]\n",
    "$$"
   ]
  },
  {
   "cell_type": "markdown",
   "id": "6af5aef4-6165-44a6-86fe-cafdceaf3f78",
   "metadata": {},
   "source": [
    "The model variance captures how much the model fits vary across different datasets, therefore measuring the average \"consistency\" of the model. A learning algorithm with high variance indicates that the models vary a lot across datasets, while low variance indicates that models are quite similar across datasets."
   ]
  },
  {
   "cell_type": "markdown",
   "id": "5d7083e4-9803-4041-bc11-1007c01746f8",
   "metadata": {},
   "source": [
    "Both bias and variance introduce errors to the model, with bias being a systematic error and variance being a random error. We also now know that the total error of a model is $\\mathbb{E}\\left[(y^\\prime - h_D(x^\\prime))^{2}\\right]$. So the remaining question is now how the bias and the variance actually contribute to the model error."
   ]
  },
  {
   "cell_type": "markdown",
   "id": "d38e6445-b69d-46a1-8499-c5c556e72f82",
   "metadata": {},
   "source": [
    "### Decomposition of Model Error\n",
    "\n",
    "The goal of the decomposition is to see how the bias, the variance, and &mdash; as we will see &mdash; the irreducible error contribute to the total model error. Our starting point is there for the formula for the model error. The only slight change we make to the formula is to write $x$ instead of $x^\\prime$ and $y$ instead of $\\y^\\prime$, just to ease the presentation a bit. This, we start the with following equation for the model error:"
   ]
  },
  {
   "cell_type": "markdown",
   "id": "3e439327-0a84-4e85-8343-e0afdf834559",
   "metadata": {},
   "source": [
    "$$\\large\n",
    "Error = \\mathbb{E}\\left[(y - h_D(x))^{2}\\right]\n",
    "$$"
   ]
  },
  {
   "cell_type": "markdown",
   "id": "e7dfc310-d0ce-46b1-910d-1286a3a2052b",
   "metadata": {},
   "source": [
    "In the first step, we simply replace $y$ with its definition $f(x) + \\epsilon$ and reorder the resulting three terms a bit:"
   ]
  },
  {
   "cell_type": "markdown",
   "id": "ec046a81-1938-41b3-811e-0b34bff3c276",
   "metadata": {},
   "source": [
    "$$\\begin{align}\n",
    "\\large Error\\ &\\large = \\mathbb{E}\\left[(y - h_D(x))^{2}\\right]\\\\[1em]\n",
    "&\\large = \\mathbb{E}\\left[(f(x) + \\epsilon - h_D(x))^{2}\\right]\\\\[1em]\n",
    "&\\large = \\mathbb{E}\\left[(f(x) - h_D(x) + \\epsilon)^{2}\\right]\n",
    "\\end{align}\n",
    "$$"
   ]
  },
  {
   "cell_type": "markdown",
   "id": "53a360fd-7772-4307-911a-0c52d6c87b98",
   "metadata": {},
   "source": [
    "Now we expand the quadratic equation. However, we do treat $f(x) - h_D(x)$ as a single term for the expansion:"
   ]
  },
  {
   "cell_type": "markdown",
   "id": "ab3151ad-543b-4b0a-9f70-639db15d7397",
   "metadata": {},
   "source": [
    "$$\\begin{align}\n",
    "\\large Error\\ &\\large = \\mathbb{E}\\left[({\\color{blue}f(x) - h_D(x)} + {\\color{red}\\epsilon})^{2}\\right]\\\\[1em]\n",
    "&\\large = \\mathbb{E}\\left[({\\color{blue}f(x) - h_D(x)})^2 + 2({\\color{blue}f(x) - h_D(x)}){\\color{red}\\epsilon} + {\\color{red}\\epsilon}^2 \\right] \\\\[1em]\n",
    "&\\large = \\mathbb{E}\\left[({\\color{blue}f(x) - h_D(x)})^2\\right] + 2\\mathbb{E}\\left[ ({\\color{blue}f(x) - h_D(x)}){\\color{red}\\epsilon} \\right] + \\mathbb{E}\\left[ {\\color{red}\\epsilon}^2 \\right] \\\\[1em]\n",
    "\\end{align}\n",
    "$$"
   ]
  },
  {
   "cell_type": "markdown",
   "id": "25fa7403-95e6-47cf-aff0-7b16905575a8",
   "metadata": {},
   "source": [
    "Notice that we also moved the constant factor of $2$ outside the expected value. We can now look at all three terms individually. Let's start with the third term $\\mathbb{E}\\left[ \\epsilon^2 \\right]$ by applying the formula $\\mathbb{E}\\left[X^2\\right] = Var(X) + \\mathbb{E}\\left[ X \\right]^2$ (see above) to get:"
   ]
  },
  {
   "cell_type": "markdown",
   "id": "fad4d0ae-61d0-429d-8d32-584c75235a3c",
   "metadata": {},
   "source": [
    "$$\\begin{align}\n",
    "\\large \\mathbb{E}\\left[ \\epsilon^2 \\right]\\ &\\large = Var(\\epsilon) + \\mathbb{E}\\left[ \\epsilon \\right]^2 \\\\[1em]\n",
    "&\\large = Var(\\epsilon) \\\\[1em]\n",
    "&\\large = \\sigma^2 \\\\[1em]\n",
    "\\end{align}\n",
    "$$"
   ]
  },
  {
   "cell_type": "markdown",
   "id": "cb956964-3c96-4c1c-8315-4c4d6aa2f0ed",
   "metadata": {},
   "source": [
    "since $\\mathbb{E}\\left[ \\epsilon \\right] = 0$ by definition of our model. "
   ]
  },
  {
   "cell_type": "markdown",
   "id": "8159d040-ea40-4b71-9e04-e4a0c060e13a",
   "metadata": {},
   "source": [
    "For the second term $2\\mathbb{E}\\left[ (f(x) - h_D(x))\\epsilon \\right]$, we utilize the fact that the random error $\\epsilon$ is independent of $x$. We can therefore transform the expected value of the product into a product of expected values:"
   ]
  },
  {
   "cell_type": "markdown",
   "id": "e530ace1-6b1b-484c-8633-6c49a7b75906",
   "metadata": {},
   "source": [
    "$$\\large\n",
    "2\\mathbb{E}\\left[ (f(x) - h_D(x))\\epsilon \\right] = 2 \\mathbb{E}\\left[ f(x) - h_D(x)\\right] \\mathbb{E}\\left[ \\epsilon \\right]\n",
    "$$"
   ]
  },
  {
   "cell_type": "markdown",
   "id": "40e80a42-3de6-49e3-983f-a23d11b69a64",
   "metadata": {},
   "source": [
    "However, by definition, $\\mathbb{E}[\\epsilon] = 0$, which means that this term simply equates to $0$. Thus, so far, our equation for the model error looks as follows:"
   ]
  },
  {
   "cell_type": "markdown",
   "id": "04445ff3-85da-4fa3-94c1-88f94560fa87",
   "metadata": {},
   "source": [
    "$$\\begin{align}\n",
    "\\large Error\\ &\\large = \\mathbb{E}\\left[(f(x) - h_D(x))^2\\right] + \\sigma^2 \\\\[1em]\n",
    "\\end{align}\n",
    "$$"
   ]
  },
  {
   "cell_type": "markdown",
   "id": "66ca361b-7c98-4cc0-9efb-42e67e09c9d2",
   "metadata": {},
   "source": [
    "This means that we are now left with the first term $\\mathbb{E}\\left[(f(x) - h_D(x))^2\\right]$. This one will take some more consideration and a bit of mathematical trickery. Recall that our goal is to write the model error in such a way to \"see\" the bias and the variance. Also notice that both the formula for the bias and the variance contain the expected values $\\mathbb{E}[h_D(x)]$, which is so far missing in our equation for the model error. So, let's \"sneak in\" $\\mathbb{E}[h_D(x)]$ into the equation:"
   ]
  },
  {
   "cell_type": "markdown",
   "id": "73918bd1-6d1d-464f-9311-d40e6ff2999b",
   "metadata": {},
   "source": [
    "$$\\large\n",
    "\\mathbb{E}\\left[(f(x) - h_D(x))^2\\right] = \\mathbb{E}\\left[(f(x) - \\mathbb{E}[h_D(x)] + \\mathbb{E}[h_D(x)] - h_D(x))^2\\right]\n",
    "$$"
   ]
  },
  {
   "cell_type": "markdown",
   "id": "57b9e56e-aa1e-4ed2-9aca-653c7c3983bd",
   "metadata": {},
   "source": [
    "Of course, by subtracting and adding $\\mathbb{E}[h_D(x)]$ to the inner term, we do not change the overall expected value. Next, we expand the quadratic term by treating $f(x) - \\mathbb{E}[h_D(x)]$ and $\\mathbb{E}[h_D(x)] - h_D(x)$ as individual terms, followed by moving the calculation if the expected values to the result terms after the expansion:"
   ]
  },
  {
   "cell_type": "markdown",
   "id": "f901026c-a880-432c-a523-819bbf64c048",
   "metadata": {},
   "source": [
    "$$\\begin{align}\n",
    "\\large \\mathbb{E}\\left[(f(x) - h_D(x))^2\\right]\\ &\\large = \\mathbb{E}\\left[({\\color{blue}f(x) - \\mathbb{E}[h_D(x)]} + {\\color{red}\\mathbb{E}[h_D(x)] - h_D(x)})^2\\right]\\\\[1em]\n",
    "&\\large = \\mathbb{E}\\left[({\\color{blue}f(x) - \\mathbb{E}[h_D(x)]})^2 + 2{(\\color{blue}f(x) - \\mathbb{E}[h_D(x)])}{(\\color{red}\\mathbb{E}[h_D(x)] - h_D(x)})  + ({\\color{red}\\mathbb{E}[h_D(x)] - h_D(x)})^2\\right]\\\\[1em]\n",
    "&\\large = \\mathbb{E}\\left[({\\color{blue}f(x) - \\mathbb{E}[h_D(x)]})^2\\left] + 2\\mathbb{E}\\right[ {(\\color{blue}f(x) - \\mathbb{E}[h_D(x)])}{(\\color{red}\\mathbb{E}[h_D(x)] - h_D(x)})\\right]  + \\mathbb{E}\\left[({\\color{red}\\mathbb{E}[h_D(x)] - h_D(x)})^2\\right]\\\\[1em]\n",
    "\\end{align}\n",
    "$$"
   ]
  },
  {
   "cell_type": "markdown",
   "id": "289812ea-a644-4228-b013-11f4077be37a",
   "metadata": {},
   "source": [
    "Again, we have three terms we can address individually. First, notice that the last term $\\mathbb{E}\\left[(\\mathbb{E}[h_D(x)] - h_D(x))^2\\right]$ is already the definition for the variance; thus we can write:"
   ]
  },
  {
   "cell_type": "markdown",
   "id": "33521e09-6652-4e8a-86b6-f6c2900eeb0f",
   "metadata": {},
   "source": [
    "$$\\begin{align}\n",
    "\\large \\mathbb{E}\\left[(f(x) - h_D(x))^2\\right]\\ &\\large = \\mathbb{E}\\left[(f(x) - \\mathbb{E}[h_D(x)])^2\\right]\\ +\\ 2\\mathbb{E}\\left[ (f(x) - \\mathbb{E}[h_D(x)])(\\mathbb{E}[h_D(x)] - h_D(x))\\right]  + Var\\left(h_D(x)\\right)\\\\[1em]\n",
    "\\end{align}\n",
    "$$"
   ]
  },
  {
   "cell_type": "markdown",
   "id": "09af1263-8ae8-4828-979a-d0adb01dc078",
   "metadata": {},
   "source": [
    "Next, we look at the second term $\\mathbb{E}\\left[ (f(x) - \\mathbb{E}[h_D(x)])(\\mathbb{E}[h_D(x)] - h_D(x))\\right]$ &mdash; we can ignore the constant factor of $2$ here &mdash; and show that it equates to $0$. To do this, we first multiply both terms in parentheses together:"
   ]
  },
  {
   "cell_type": "markdown",
   "id": "ea79db87-5903-485a-a223-1d43582ec05b",
   "metadata": {},
   "source": [
    "$$\\begin{align}\n",
    "\\large \\mathbb{E}\\left[ (f(x) - \\mathbb{E}[h_D(x)])(\\mathbb{E}[h_D(x)] - h_D(x))\\right]\\ &\\large = \\mathbb{E}\\left[f(x)\\mathbb{E}[h_D(x)] - f(x)h_D(x) - \\mathbb{E}[h_d(x)]^2 + \\mathbb{E}[h_D(x)]h_d(x) \\right] \\\\[1em]\n",
    "&\\large = \\mathbb{E}\\left[f(x)\\mathbb{E}[h_D(x)]\\right] - \\mathbb{E}\\left[f(x)h_D(x)\\right] - \\mathbb{E}\\left[\\mathbb{E}[h_D(x)]^2\\right] + \\mathbb{E}\\left[\\mathbb{E}[h_D(x)]h_D(x) \\right] \\\\[1em]\n",
    "\\end{align}\n",
    "$$"
   ]
  },
  {
   "cell_type": "markdown",
   "id": "769ec658-d1a7-4c46-b19c-885e4cb610e9",
   "metadata": {},
   "source": [
    "For the next simplifications, we have to remember that $f(x)$  is not a random variable, but a fixed, deterministic function of $x$. Therefore, in the context of calculating expected values, we can treat $f(x)$ as constant. This means that $\\mathbb{E}[f(x)] = f(x)$ and we can move $f(x)$ out of the expected value. Furthermore, we apply the rule that $\\mathbb{E}[\\mathbb{E}(X)] = \\mathbb{E}(X)$. Applying these relationships, we can rewrite the equation as follows."
   ]
  },
  {
   "cell_type": "markdown",
   "id": "0a55f438-a61f-4387-96f5-9621c80570b6",
   "metadata": {},
   "source": [
    "$$\\begin{align}\n",
    "\\large \\mathbb{E}\\left[ (f(x) - \\mathbb{E}[h_D(x)])(\\mathbb{E}[h_D(x)] - h_D(x))\\right]\\ &\\large = \\mathbb{E}\\left[f(x)\\mathbb{E}[h_D(x)]\\right] - \\mathbb{E}\\left[f(x)h_D(x)\\right] - \\mathbb{E}\\left[\\mathbb{E}[h_D(X)]^2\\right] + \\mathbb{E}\\left[\\mathbb{E}[h_D(x)]h_D(x) \\right] \\\\[1em]\n",
    "&\\large = f(x)\\mathbb{E}\\left[\\mathbb{E}[h_D(x)]\\right] - f(x)\\mathbb{E}\\left[h_D(x)\\right] - \\mathbb{E}\\left[\\mathbb{E}[h_d(X)]^2\\right] + \\mathbb{E}[h_D(x)]\\mathbb{E}[h_D(x)] \\\\[1em]\n",
    "&\\large = f(x)\\mathbb{E}[h_D(x)] - f(x)\\mathbb{E}\\left[h_D(x)\\right] - \\mathbb{E}[h_D(x)]^2 + \\mathbb{E}[h_D(x)]^2 \\\\[1em]\n",
    "&\\large = 0  \\\\[1em]\n",
    "\\end{align}\n",
    "$$"
   ]
  },
  {
   "cell_type": "markdown",
   "id": "aae32c44-5c47-45fa-acb3-c6a5e474bec6",
   "metadata": {},
   "source": [
    "Let's take one more pause to look at the current model error. With all the transformations and implications we have done so far, we can now rewrite our model error as follows:"
   ]
  },
  {
   "cell_type": "markdown",
   "id": "ae936f5a-6770-484c-975e-d66f8db3b5e9",
   "metadata": {},
   "source": [
    "$$\\begin{align}\n",
    "\\large Error\\ &\\large =  \\mathbb{E}\\left[(f(x) - \\mathbb{E}[h_D(x)])^2\\right] + Var\\left(h_D(x)\\right) + \\sigma^2 \\\\[1em]\n",
    "\\end{align}\n",
    "$$"
   ]
  },
  {
   "cell_type": "markdown",
   "id": "bd22908a-6bc8-43b7-a18a-7cb3dcc412f9",
   "metadata": {},
   "source": [
    "The last term we need to address is $\\mathbb{E}\\left[(f(x) - \\mathbb{E}[h_D(x)])^2\\right]$. As done before, we first expand the quadratic term and move the expected value to the resulting individual terms:"
   ]
  },
  {
   "cell_type": "markdown",
   "id": "e89a1c6a-7588-4b62-8558-f4288a066a19",
   "metadata": {},
   "source": [
    "$$\\begin{align}\n",
    "\\large \\mathbb{E}\\left[(f(x) - \\mathbb{E}[h_D(x)])^2\\right] \\ &\\large = \\mathbb{E}\\left[ f(x)^2 - 2f(x)\\mathbb{E}[h_D(x)] + \\mathbb{E}[h_D(x)]^2\\right]  \\\\[1em]\n",
    "&\\large = \\mathbb{E}\\left[ f(x)^2 \\right] - 2\\mathbb{E}\\left[f(x)\\mathbb{E}[h_D(x)]\\right] + \\mathbb{E}\\left[\\mathbb{E}[h_D(x)]^2\\right]  \\\\[1em]\n",
    "\\end{align}\n",
    "$$"
   ]
  },
  {
   "cell_type": "markdown",
   "id": "c311e04e-a0ef-4544-ae94-583915693bf8",
   "metadata": {},
   "source": [
    "Again, the important detail here is that $f(x)$ is not a random variable. This means we can once more apply the two rules $\\mathbb{E}[c] = c$ and $\\mathbb{E}[\\mathbb{E}[E]] = \\mathbb{E}[X]$. First, since $f(x)$ is not a random value, neither is $f(x)$, and $\\mathbb{E}\\left[ f(x)^2 \\right]$ simplifies to f(x)^2. By using these two rules, we can also simplify the other two terms accordingly, giving us:"
   ]
  },
  {
   "cell_type": "markdown",
   "id": "696997d4-3fb0-4cf4-87d3-b30589b9ec56",
   "metadata": {},
   "source": [
    "$$\\begin{align}\n",
    "\\large \\mathbb{E}\\left[(f(x) - \\mathbb{E}[h_D(x)])^2\\right] \\ &\\large = \\mathbb{E}\\left[ f(x)^2 \\right] - 2\\mathbb{E}\\left[f(x)\\mathbb{E}[h_D(x)]\\right] + \\mathbb{E}\\left[\\mathbb{E}[h_D(x)]^2\\right]  \\\\[1em]\n",
    "&\\large =  f(x)^2 - 2f(x)\\mathbb{E}[h_D(x)] + \\mathbb{E}[h_D(x)]^2  \\\\[1em]\n",
    "\\end{align}\n",
    "$$"
   ]
  },
  {
   "cell_type": "markdown",
   "id": "255fae33-19ee-41b6-84ce-80de79567f54",
   "metadata": {},
   "source": [
    "We can immediately see that the right-hand side of the equations is the expanded version of the quadratic term. In fact, this quadratic term turns out to be exactly the bias we are looking for. In other words, we can write:"
   ]
  },
  {
   "cell_type": "markdown",
   "id": "85d03a53-fd58-4033-89fa-12801ce16b3a",
   "metadata": {},
   "source": [
    "$$\\begin{align}\n",
    "\\large \\mathbb{E}\\left[(f(x) - \\mathbb{E}[h_D(x)])^2\\right] \\ &\\large =  f(x)^2 - 2f(x)\\mathbb{E}[h_D(x)] + \\mathbb{E}[h_D(x)]^2  \\\\[1em]\n",
    "&\\large =  \\left( f(x) - \\mathbb{E}[h_D(x)\\right)^2  \\\\[1em]\n",
    "&\\large =  Bias(h_D(x))^2  \\\\[1em]\n",
    "\\end{align}\n",
    "$$"
   ]
  },
  {
   "cell_type": "markdown",
   "id": "d55d6b1f-2e47-4565-8fbf-9bb88d764dd6",
   "metadata": {},
   "source": [
    "Thus, finally, the model error can now be written as:"
   ]
  },
  {
   "cell_type": "markdown",
   "id": "254b8cdc-21e5-4e39-bea7-3a58715f45d9",
   "metadata": {},
   "source": [
    "$$\\begin{align}\n",
    "\\large Error\\ &\\large =  Bias(h_D(x))^2 + Var\\left(h_D(x)\\right) + \\sigma^2 \\\\[1em]\n",
    "\\end{align}\n",
    "$$"
   ]
  },
  {
   "cell_type": "markdown",
   "id": "3a708cbf-a0b2-44bb-86b6-7afab9151f63",
   "metadata": {},
   "source": [
    "where $\\sigma^2$ is the so-called **irreducible error** of our model. This irreducible error refers to the portion of the total error that cannot be explained or reduced by any model, regardless of how complex or accurate it is. This error comes from inherent noise in the data &mdash; random fluctuations, measurement errors, missing variables, or factors not captured in the features used for prediction. It is essentially the natural variability in the real-world process being modeled. The irreducible error corresponds to the variance of the noise term $\\epsilon$ in the data-generating process $Y = f(X) + \\epsilon$, where $\\epsilon$ has mean zero and non-zero variance. Even if the model perfectly captures $f(X)$, it cannot predict the random noise $\\epsilon$, and thus the irreducible error sets a lower bound on how accurate any prediction can be."
   ]
  },
  {
   "cell_type": "markdown",
   "id": "102097a0-e539-4356-938c-68d3a2c999fe",
   "metadata": {},
   "source": [
    "---"
   ]
  },
  {
   "cell_type": "markdown",
   "id": "03bb221e-3889-4ba4-9e92-3784a335ac76",
   "metadata": {},
   "source": [
    "## Summary\n",
    "\n",
    "The **bias-variance decomposition** is a fundamental framework in machine learning for understanding the sources of error in predictive models. It breaks down a model’s total expected error into three components: **bias**, **variance**, and **irreducible error**. This decomposition helps us understand how different aspects of a model’s behavior contribute to its overall accuracy, and it provides a useful guide for diagnosing and improving model performance.\n",
    "\n",
    "**Bias** refers to the error introduced by approximating a complex real-world process with a simplified model. A high-bias model makes strong assumptions about the data and often underfits &mdash; it cannot capture the underlying patterns well, leading to systematically inaccurate predictions. **Variance**, on the other hand, measures how sensitive the model is to fluctuations in the training data. A high-variance model reacts too strongly to noise or small changes in the training set, often resulting in overfitting and poor generalization to new data.\n",
    "\n",
    "The **irreducible error** accounts for the inherent noise in the data that no model can eliminate. This component sets a lower bound on the achievable error regardless of the model used. Together, these three components explain why a model may perform poorly: it might be too simple (high bias), too complex (high variance), or simply limited by the data itself (irreducible error).\n",
    "\n",
    "Understanding the bias-variance tradeoff is crucial for model selection and tuning. Increasing model complexity typically reduces bias but increases variance, which in turn is a major cause for **overfitting**. Simplifying the model typically decrease its variance but increases its bias, potentially resulting in **underfitting**. The key challenge is to find the right balance between bias and variance to minimize total prediction error. This insight drives many decisions in machine learning, such as choosing the right model architecture, setting regularization parameters, or deciding how much training data is needed.\n",
    "\n",
    "In practice, the bias-variance decomposition not only clarifies **why** a model performs the way it does but also helps guide strategies for improvement. For example, if a model suffers from high bias, one might use a more flexible model or include more relevant features. If variance is the problem, techniques like regularization, ensembling, or increasing the training set size can help. By explicitly recognizing and balancing these components, practitioners can make more informed and effective modeling decisions."
   ]
  },
  {
   "cell_type": "code",
   "execution_count": null,
   "id": "4d7fab32-27c7-4e3b-96d7-dca967c45e0c",
   "metadata": {},
   "outputs": [],
   "source": []
  }
 ],
 "metadata": {
  "kernelspec": {
   "display_name": "py311",
   "language": "python",
   "name": "py311"
  },
  "language_info": {
   "codemirror_mode": {
    "name": "ipython",
    "version": 3
   },
   "file_extension": ".py",
   "mimetype": "text/x-python",
   "name": "python",
   "nbconvert_exporter": "python",
   "pygments_lexer": "ipython3",
   "version": "3.11.8"
  }
 },
 "nbformat": 4,
 "nbformat_minor": 5
}
