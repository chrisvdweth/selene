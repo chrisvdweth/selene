{
 "cells": [
  {
   "cell_type": "markdown",
   "id": "31670514-7745-4213-8a73-c281db9174ff",
   "metadata": {},
   "source": [
    "<img src=\"images/logo/selene-logo-640.png\" style=\"max-height:75px;\" alt=\"SELENE Logo\" />\n",
    "\n",
    "**Disclaimer:** This Jupyter Notebook contains content generated with the assistance of AI. While every effort has been made to review and validate the outputs, users should independently verify critical information before relying on it. The SELENE notebook repository is constantly evolving. We recommend downloading or pulling the latest version of this notebook from Github."
   ]
  },
  {
   "cell_type": "markdown",
   "id": "0b5471aa-f25a-4cb0-8d15-38ce8ce7d583",
   "metadata": {},
   "source": [
    "# Building a GPT-Style LLM from Scratch\n",
    "\n",
    "This notebook demonstrates how to train a **GPT-style language model** from scratch using the Transformer implementation provided by PyTorch. The model is trained on a toy dataset of 100,000 movie reviews, which makes it computationally manageable while still providing meaningful insights into how Transformer-based language models learn. The primary goal of this notebook is **educational** to help you understand the core components and workflow of training a language model, rather than to build a high-performance, state-of-the-art LLM.\n",
    "\n",
    "The notebook begins by preparing the movie review dataset for a **next-word prediction task**, which is the standard training objective used in autoregressive models like GPT. This process includes tokenizing the text, constructing a vocabulary, and splitting each review into overlapping input-target pairs so the model can learn to predict the next word in a sequence. Although the dataset is small, it allows the training process to be visualized and understood step by step, without the need for massive compute resources.\n",
    "\n",
    "Next, the notebook defines a **decoder-only Transformer model** by leveraging PyTorch's built-in `nn.Transformer` module. This section illustrates how to configure the Transformer to function in a GPT-like manner, including the use of **causal masking**, **sinusoidal positional encodings**, and a simple output projection layer for next-token prediction. Using the native PyTorch API simplifies the implementation, allowing the focus to remain on understanding how the model architecture, positional encodings, and attention mechanism work together.\n",
    "\n",
    "Finally, the notebook walks through the **training loop**, showing how to compute the cross-entropy loss, perform optimization steps, and periodically evaluate the model's ability to generate coherent text continuations. While the resulting model is not designed for real-world deployment, it demonstrates the fundamental process behind GPT-style LLM training in a transparent and reproducible way. Overall, this notebook serves as a **hands-on educational guide** to gain practical experience with Transformer-based language models. By using PyTorch's Transformer implementation, it balances conceptual clarity with practical simplicity, offering an accessible yet technically grounded introduction to autoregressive text modeling."
   ]
  },
  {
   "cell_type": "markdown",
   "id": "3d1be939-a43d-48b2-b90f-190dfd77bd14",
   "metadata": {},
   "source": [
    "### Setting up the Notebook\n",
    "\n",
    "#### Make Required Imports\n",
    "\n",
    "This notebook requires the import of different Python packages but also additional Python modules that are part of the repository. If a package is missing, use your preferred package manager (e.g., [conda](https://anaconda.org/anaconda/conda) or [pip](https://pypi.org/project/pip/)) to install it. If the code cell below runs with any errors, all required packages and modules have successfully been imported."
   ]
  },
  {
   "cell_type": "code",
   "execution_count": 1,
   "id": "36a30f99-a036-4f8f-88fa-28b3c694c82c",
   "metadata": {},
   "outputs": [],
   "source": [
    "import sys\n",
    "import numpy as np\n",
    "from tqdm import tqdm\n",
    "\n",
    "import torch.nn as nn\n",
    "import torch.optim as optim\n",
    "import torch.nn.functional as F\n",
    "from torch.utils.data import Dataset, DataLoader\n",
    "\n",
    "from transformers import AutoTokenizer\n",
    "\n",
    "from src.utils.compute.gpu import *\n",
    "from src.utils.data.files import *"
   ]
  },
  {
   "cell_type": "markdown",
   "id": "dabf864f-c9df-4e34-ac90-b29445cc56eb",
   "metadata": {},
   "source": [
    "#### Download Required Data\n",
    "\n",
    "Some code examples in this notebook use data that first need to be downloaded by running the code cell below. If this code cell throws any error, please check the configuration file `config.yaml` if the URL for downloading datasets is up to date and matches the one on Github. If not, simply download or pull the latest version from Github."
   ]
  },
  {
   "cell_type": "code",
   "execution_count": 2,
   "id": "9638ed78-c161-4b9b-b6fa-638a3d778288",
   "metadata": {},
   "outputs": [
    {
     "name": "stdout",
     "output_type": "stream",
     "text": [
      "File 'data/datasets/text/corpora/reviews/movie-reviews-imdb.zip' already exists (use 'overwrite=True' to overwrite it).\n"
     ]
    }
   ],
   "source": [
    "movie_reviews_zip, target_folder = download_dataset(\"text/corpora/reviews/movie-reviews-imdb.zip\")"
   ]
  },
  {
   "cell_type": "markdown",
   "id": "eeedb764-d5d8-4ad2-b7fa-ccec16069fc4",
   "metadata": {},
   "source": [
    "We also need to decompress the archive file."
   ]
  },
  {
   "cell_type": "code",
   "execution_count": 3,
   "id": "2caf7f34-2de4-40b1-bf70-295230414012",
   "metadata": {},
   "outputs": [
    {
     "name": "stdout",
     "output_type": "stream",
     "text": [
      "['data/datasets/text/corpora/reviews/movie-reviews-imdb.txt']\n"
     ]
    }
   ],
   "source": [
    "movie_reviews = decompress_file(movie_reviews_zip, target_path=target_folder)\n",
    "\n",
    "print(movie_reviews)"
   ]
  },
  {
   "cell_type": "markdown",
   "id": "be1adbf3-691a-4eae-9e6f-c64ad4bdee38",
   "metadata": {},
   "source": [
    "#### Checking & Setting Computing Device\n",
    "\n",
    "PyTorch allows to train neural networks on supported GPU to significantly speed up the training process. If you have a support GPU, feel free to utilize it. However, for this notebook it's certainly not needed as our dataset is small and our network model is very simple. We provide an auxiliary method to automatically select the best device. It checks if a supported GPU is available and if so, uses it as the preferred device."
   ]
  },
  {
   "cell_type": "code",
   "execution_count": 4,
   "id": "cf36f3b8-8c4e-4b0b-a489-b4ebc54e74e9",
   "metadata": {},
   "outputs": [
    {
     "name": "stdout",
     "output_type": "stream",
     "text": [
      "Available device: cuda:0\n"
     ]
    }
   ],
   "source": [
    "# Select preferred device (GPU, if available; CPU otherwise); you can enfore the use of the CPU\n",
    "device = select_device(force_cpu=False)\n",
    "\n",
    "print(\"Available device: {}\".format(device))"
   ]
  },
  {
   "cell_type": "markdown",
   "id": "b36904f5-08a8-4363-9cbe-abd5b31ae091",
   "metadata": {},
   "source": [
    "#### Preliminaries\n",
    "\n",
    "Before checking out this notebook, please consider the following:\n",
    "\n",
    "* This notebook is for education and not to build a state-of-the-art LLM. Not only is the dataset very small it also stems for a single domain: movie reviews. We also use a small version of the GPT-2 model to keep things simple and reasonably fast. In any case, do not expect human-like responses from the trained model, particularly in demo mode (see below).\n",
    "\n",
    "* We assume that you have a good understanding of the Transformer architecture, including the attention mechanisms, causal masking, and positional encodings. If not, we have various other notebooks that cover these topics in great detail. \n",
    "\n",
    "* While not strictly required, we recommend the presence of a GPU to speed up the training. However, any more modern consumer GPU supported by the PyTorch library should be fine. Even for the full training mode, the default parameters are chosen that the training will not require more than 10 GB VRAM; with 16GB slowly becoming the standard even for consumer GPUs.\n",
    "\n",
    "* You can run the notebook in demo mode by using `mode = demo` in the code cell below. In demo mode, we only use 10,000 out of the 100,000 movie reviews as well as a smaller GPT-2 model. We recommend first using the demo mode to see how long the training of the model for individual epochs will require."
   ]
  },
  {
   "cell_type": "code",
   "execution_count": 5,
   "id": "cb7cdc4c-ff07-4611-a99e-9ae21278bbd1",
   "metadata": {},
   "outputs": [],
   "source": [
    "mode = \"demo\"\n",
    "#mode = \"full\""
   ]
  },
  {
   "cell_type": "markdown",
   "id": "89a53b06-2f9c-4c60-b5b6-005d18a9c294",
   "metadata": {},
   "source": [
    "---"
   ]
  },
  {
   "cell_type": "markdown",
   "id": "b39c0f6b-9761-4a3f-9492-b5f2556d2c39",
   "metadata": {},
   "source": [
    "## Dataset Preparation\n",
    "\n",
    "The [**ACL IMDB (Large Movie Review) dataset**](https://ai.stanford.edu/~amaas/data/sentiment/) is a popular benchmark dataset for sentiment analysis, introduced by Andrew Maas et al. (2011). It contains a total of 100,000 movie reviews collected from IMDb, with 50,000 reviews being labeled as either *positive* or *negative* and evenly split into 25,000 reviews for training and 25,000 for testing. For training Word2Vec word embeddings we do not need the sentiment labels. We therefore already preprocessed the original dataset such that all 100,000 reviews are in a single file, with 1 line = 1 review. This preprocessing included the removal of any HTML tags and line breaks.\n",
    "\n",
    "For the training of our model, we make the common assumption that the training data is structured as continuous streams of documents, with each movie review representing a document. Document streams refer to the way text data is fed into the model during training: not as isolated documents, but as a continuous stream of text. Instead of treating each document as an independent unit, the training corpus is viewed as a long sequence of tokens coming from many documents concatenated together. This approach allows the model to learn language patterns and long-range dependencies across boundaries that would otherwise be artificially imposed by document splits. The training process still ensures that context resets appropriately between documents (e.g., by inserting special end-of-document tokens `[EOS]`), but from the model's perspective, the data flows in a seamless stream. Thus, assuming $\\text{doc}_{i}$ is a list of tokens represents the $i$-th documents, our document stream has the following format:"
   ]
  },
  {
   "cell_type": "markdown",
   "id": "d3391695-55b5-44a3-957d-76454d9bf3f6",
   "metadata": {},
   "source": [
    "$$\\large\n",
    "\\text{doc}_{1} + \\text{[EOS]} + \\text{doc}_{2} + \\text{[EOS]} + \\text{doc}_{3} + \\text{[EOS]} + \\dots\n",
    "$$"
   ]
  },
  {
   "cell_type": "markdown",
   "id": "3063447e-5301-4091-b45a-ae37d7a70b2f",
   "metadata": {},
   "source": [
    "In practice, our training data may consist of many such document streams so that each stream can fit into memory. However, here we work with a small example data for educational purposes. This includes that the stream of tokens can be represented by an array that fits completely into memory, therefore avoiding any more sophisticated strategies requiring the splitting of the dataset, etc.\n",
    "\n",
    "Document streaming is essential for efficient batching and scaling when training on massive corpora. LLMs are typically trained on trillions of tokens spread across billions of documents, and it’s computationally impractical to load entire documents or reinitialize contexts for each. Instead, data pipelines tokenize all documents in advance, concatenate them, and then dynamically sample fixed-length chunks (e.g., 1024 tokens) to feed into the model. This \"streaming\" setup keeps GPUs fully utilized and allows distributed training systems to continuously stream data without needing to restart or reshuffle individual documents frequently."
   ]
  },
  {
   "cell_type": "markdown",
   "id": "324f62fe-4ace-472a-b863-8ea55fe12fd8",
   "metadata": {},
   "source": [
    "### Load Reviews from File\n",
    "\n",
    "In the setup section of the notebook, we already downloaded the file containing all 100,000 movie reviews. In the following code cell, simply counts the number of reviews by containing the number of each line in the file, just to check if the dataset is complete. Note that we have to write `movie_reviews[0]` since `movie_reviews` is a list of files &mdash; it just so happens that the list contains only one file."
   ]
  },
  {
   "cell_type": "code",
   "execution_count": 6,
   "id": "9893599c-8d7b-407c-a04e-a87a87659902",
   "metadata": {},
   "outputs": [
    {
     "name": "stdout",
     "output_type": "stream",
     "text": [
      "Total number of reviews (1 review per line): 100000\n"
     ]
    }
   ],
   "source": [
    "total_reviews = sum(1 for _ in open(movie_reviews[0]))\n",
    "\n",
    "print(f\"Total number of reviews (1 review per line): {total_reviews}\")"
   ]
  },
  {
   "cell_type": "markdown",
   "id": "9f306327-1224-4061-a900-895fdd829aef",
   "metadata": {},
   "source": [
    "Although we have a total 100,000 reviews (each containing multiple sentences), we consider only 10,000 reviews in demo mode to speed up the training. However, you can edit the code cell below to increase or decrease the number of considered reviews. For a first run, we recommend sticking to 10,000 reviews to execute and understand the code."
   ]
  },
  {
   "cell_type": "code",
   "execution_count": 7,
   "id": "f8d752c4-7197-49db-9151-6edf02f0150c",
   "metadata": {},
   "outputs": [
    {
     "name": "stdout",
     "output_type": "stream",
     "text": [
      "Number of reviews used for training dataset: 10000\n"
     ]
    }
   ],
   "source": [
    "if mode == \"demo\":\n",
    "    num_considered_reviews = 10_000\n",
    "else:\n",
    "    num_considered_reviews = 100_000\n",
    "\n",
    "num_reviews = min(total_reviews, num_considered_reviews)\n",
    "\n",
    "print(f\"Number of reviews used for training dataset: {num_reviews}\")"
   ]
  },
  {
   "cell_type": "markdown",
   "id": "af0b3a81-3713-4576-a091-d9e5e66c4a13",
   "metadata": {},
   "source": [
    "### Tokenize & Generate Token Stream\n",
    "\n",
    "Each document (i.e., each movie review) is represented as a string. We therefore have to tokenize each review and represent each using a unique token index. In principle, we could implement both steps on our own (e.g., tokenizing using spaCy and creating a vocabulary for creating the token indices). However, to focus on the LLM training, we used the pretrained GPT-2 tokenizer to handle both the tokenization and indexing for us. The GPT-2 tokenizer is a subword tokenizer based on the **Byte-Pair Encoding (BPE)** algorithm.\n",
    "\n",
    "In nutshell, BPE (and similar approaches) learns how to tokenize words from data. Instead of splitting text strictly into full words or individual characters, BPE breaks words into frequently occurring subword units. For example, *\"unhappiness*\" might become *\"un\"*, *\"happi\"*, and *\"ness\"*. This enables the model to represent common words as single tokens while decomposing rare words into smaller, reusable pieces, preventing the out-of-vocabulary (OOV) problem that word-level tokenizers suffer from. Because subword tokens capture meaningful morphological patterns (prefixes, suffixes, roots), models can infer the meaning of new or compound words based on familiar subparts. This reduces the total number of parameters needed for embeddings and improves the model's ability to generalize to unseen text. You can learn all about BPE in a separate notebook\n",
    "\n",
    "To load the pretrained GPT-2 tokenizer, we can use the `AutoTokenizer` class Hugging Face Transformers library. This class is a high-level interface that automatically selects the appropriate tokenizer for a given pretrained model, abstracting away the need to know the specific tokenizer class. The `from_pretrained` method is used to load a tokenizer that has already been trained on a specific model's vocabulary and tokenization rules, either from the Hugging Face model hub or a local path. This method ensures that the tokenizer is configured consistently with the pretrained model, including token-to-ID mappings, special tokens, and any subword tokenization schemes (e.g., BPE), making it ready for encoding text into token IDs suitable for model training or inference. The code cell below used the class and method to load the GPT-2 tokenizer."
   ]
  },
  {
   "cell_type": "code",
   "execution_count": 8,
   "id": "b5431e93-f5e3-489a-89c3-e663bab68690",
   "metadata": {},
   "outputs": [],
   "source": [
    "tokenizer = AutoTokenizer.from_pretrained(\"gpt2\")"
   ]
  },
  {
   "cell_type": "markdown",
   "id": "de3d2153-20c8-4a1e-9654-0e716e2d15bb",
   "metadata": {},
   "source": [
    "Recall that for our document stream, we need to indicate when one movie review ends and another review starts using some `[EOS]` (end-of-sequence) token. However, we cannot simply define our own unique token but must use a token that is known to the tokenizer, i.e., the token is part of the existing vocabulary. Most tokenizers include a small set of special tokens to indicate the end of a sequence, the beginning of a sequence, padding tokens, masked tokens, etc. &mdash; all depending on the data and learning task.\n",
    "\n",
    "We can check the `special_tokens_map` of the GPT-2 tokenizer which special tokens it supports:"
   ]
  },
  {
   "cell_type": "code",
   "execution_count": 9,
   "id": "a6f030b2-61f4-4750-974c-642ee69d584c",
   "metadata": {},
   "outputs": [
    {
     "data": {
      "text/plain": [
       "{'bos_token': '<|endoftext|>',\n",
       " 'eos_token': '<|endoftext|>',\n",
       " 'unk_token': '<|endoftext|>'}"
      ]
     },
     "execution_count": 9,
     "metadata": {},
     "output_type": "execute_result"
    }
   ],
   "source": [
    "tokenizer.special_tokens_map"
   ]
  },
  {
   "cell_type": "markdown",
   "id": "085ad346-010b-4670-8939-0274c1528b58",
   "metadata": {},
   "source": [
    "We can see that the GPT-2 tokenizer recognizes only one special token: `<|endoftext|>`. Since GPT-2 was also trained on a document stream, we only need a single token acting as a separator between documents, which could be either the `[EOS]` or `[BOS]` token. The GPT-2 tokenizer also does not require a dedicated `[UNK]` (unknown) token, since BPE just tokenizes unknown words into known subwords or even just characters, if needed.\n",
    "\n",
    "Let's define this `<|endoftext|>` token as a constant for creating our document stream."
   ]
  },
  {
   "cell_type": "code",
   "execution_count": 10,
   "id": "19fbc937-a32a-4d26-8161-f7d42846eeab",
   "metadata": {},
   "outputs": [],
   "source": [
    "EOS_TOKEN_GPT2 = \"<|endoftext|>\""
   ]
  },
  {
   "cell_type": "markdown",
   "id": "754e9632-d671-4dbe-8e32-a906af070ee4",
   "metadata": {},
   "source": [
    "With the tokenizer, we can now go through all movie reviews (or the maximum number of reviews specified) and tokenize them; see the code cell below. Notice that the preprocess each review before tokenizing by removing any newline characters, converting all words to lowercase, and adding the special `[EOS]` token at the end. \n",
    "\n",
    "Lowercasing all words when training a language model on a small dataset helps reduce the vocabulary size and simplify the learning problem, which is especially important when data is limited. In small datasets, treating *\"Apple\"* and *\"apple\"* as different tokens would split their occurrences across two separate representations, weakening the model's ability to learn consistent word meanings. By lowercasing, all variants are merged into a single token, allowing the model to see more examples of each word and thus learn better statistical patterns. This normalization step reduces data sparsity, speeds up convergence, and makes the model's limited capacity and training data more effectively focused on learning core linguistic relationships rather than case variations. And again, our goal is very far from building state-of-the-art LLM in this notebook."
   ]
  },
  {
   "cell_type": "code",
   "execution_count": 11,
   "id": "2cbea7c8-97c7-4300-ba48-2fe8db38fb1f",
   "metadata": {},
   "outputs": [
    {
     "name": "stderr",
     "output_type": "stream",
     "text": [
      "                                                                                                                                      "
     ]
    },
    {
     "name": "stdout",
     "output_type": "stream",
     "text": [
      "Total number of tokens: 2922984\n"
     ]
    },
    {
     "name": "stderr",
     "output_type": "stream",
     "text": [
      "\r"
     ]
    }
   ],
   "source": [
    "tokens = []\n",
    "\n",
    "with open(movie_reviews[0]) as file:\n",
    "    for idx, review in enumerate(tqdm(file, total=num_reviews, leave=False)):\n",
    "        if idx >= num_reviews:\n",
    "            break\n",
    "        tokens.extend(tokenizer.encode(f\"{review.strip().lower()} {EOS_TOKEN_GPT2}\", truncation=True, max_length=sys.maxsize))\n",
    "\n",
    "print(f\"Total number of tokens: {len(tokens)}\")"
   ]
  },
  {
   "cell_type": "markdown",
   "id": "1a44e018-d0b4-4f29-92c6-2b0ca38f2a32",
   "metadata": {},
   "source": [
    "### Create `Dataset` and `DataLoader`\n",
    "\n",
    "In PyTorch, the `Dataset` class is an abstraction that defines how data is accessed and preprocessed for training. It provides a consistent interface to load individual samples and their labels through the methods `__len__()` and `__getitem__()`. This allows you to wrap any type of data (text, images, tabular data, etc.) into a standardized format that PyTorch models can easily consume. The `DataLoader` class then builds on top of this by handling the efficient batching, shuffling, and parallel loading of data samples from a `Dataset`. It automatically groups multiple samples into mini-batches and can use multiple worker processes to load data in parallel, ensuring that the GPU remains fully utilized during training.\n",
    "\n",
    "For creating our `Dataset` instance, recall that GPT-style LLMs are trained based on the **next-word prediction** task &mdash; given a sequence of words which is next likely word to follow. The figure below shows the required training setup for the Transformer decoder. The target sequence is (almost) the same as the input sequence, only 1 token shifted to the left. Note that the dashed line represents the causal masking where the prediction of a token only depends on preceding tokens but not \"future\" tokens &mdash; recall that the decoder processes *all* tokens in parallel during training, so we need to mask the attention between a token and all tokens preceding it."
   ]
  },
  {
   "cell_type": "markdown",
   "id": "849475c4-ae2d-4d9f-b86c-18063c80b960",
   "metadata": {},
   "source": [
    "<img src=\"images/illustrations/llm/llm-transformer-training-example.png\" style=\"margin:auto;max-width:750px;width:100%\" alt=\"Transformer - Next-Word Prediction Training Setup\" />"
   ]
  },
  {
   "cell_type": "markdown",
   "id": "d0318d45-0d5b-4619-8b7a-9e651513ebb4",
   "metadata": {},
   "source": [
    "Of course, we cannot give the whole sequence of tokens to the model at once. When training LLMs, the **context size**, i.e., the number of tokens the model can attend to at once, is typically fixed to a maximum value due to both computational and architectural constraints. Transformer models compute attention across all token pairs within a sequence, which scales quadratically with sequence length in both memory and computation cost. This means that doubling the context size roughly quadruples the resources required per training step. To make training feasible on available hardware, a practical upper bound (e.g., 512, 1024, or 4096 tokens) is chosen so that the model can learn meaningful dependencies without exhausting GPU memory or dramatically slowing training.\n",
    "\n",
    "We therefore have to feed the model all tokens in chunks. In this notebook, we use a common **sliding window** approach that forms a chunk of a fixed size. More specifically, we use a sliding window with a 50% overlap &mdash; see the example in the figure below. In this simple example, the context size is 6 tokens, meaning that an overlap of 50% means that the last 3 tokens of the current chunk will be the first 3 tokens of the next chunk."
   ]
  },
  {
   "cell_type": "markdown",
   "id": "065f57ef-8385-400b-9721-bc55eeb28a22",
   "metadata": {},
   "source": [
    "<img src=\"images/illustrations/llm/llm-transformer-training-sliding-window-02.png\" style=\"margin:auto;width:100%\" alt=\"Sliding Window with 50% overlap\" />"
   ]
  },
  {
   "cell_type": "markdown",
   "id": "e07ae2c5-4d13-49ae-978e-a17093dab01e",
   "metadata": {},
   "source": [
    "<br />\n",
    "\n",
    "Both the sliding window approach as well as the generation of the target sequences by shifting the input sequences 1 token to the left is very straightforward. The class `CausalLMDataset` in the code cell below implements both steps as a custom `Dataset` class. The `max_len` parameters specify the maximum context size, and the optional `stride` parameter specifies by how many tokens the slides window should be moved each time. If `stride=None` move the window by the whole context size, thus resulting in chunks without overlap."
   ]
  },
  {
   "cell_type": "code",
   "execution_count": 12,
   "id": "b4e09c66-ca85-4926-8bfc-853088fc0bcc",
   "metadata": {},
   "outputs": [],
   "source": [
    "class CausalLMDataset(Dataset):\n",
    "\n",
    "    def __init__(self, tokens, max_len=128, stride=None):\n",
    "        self.input_ids  = []\n",
    "        self.target_ids = []\n",
    "        \n",
    "        if stride is None:\n",
    "            stride = max_len\n",
    "\n",
    "        for i in range(0, len(tokens)-max_len, stride):\n",
    "            self.input_ids.append(torch.LongTensor(tokens[i:(i+max_len)]))\n",
    "            self.target_ids.append(torch.LongTensor(tokens[(i+1):(i+max_len+1)]))\n",
    "\n",
    "    def __len__(self):\n",
    "        return len(self.input_ids)\n",
    "\n",
    "    def __getitem__(self, idx):\n",
    "        return self.input_ids[idx], self.target_ids[idx]"
   ]
  },
  {
   "cell_type": "markdown",
   "id": "fa9e4407-ebf9-4ee9-9feb-0ed9f5fb6470",
   "metadata": {},
   "source": [
    "Let's create an instance of this `CausalLMDataset` by passing our list of tokens as input. Throughout the notebook, we use a context size of 128 tokens by default. Since we aim for a 50% overlap between chunks, we set `stride` to half the context size."
   ]
  },
  {
   "cell_type": "code",
   "execution_count": 13,
   "id": "73655873-5197-4fa4-b67a-50c3ec1f83cb",
   "metadata": {},
   "outputs": [],
   "source": [
    "context_size = 128\n",
    "\n",
    "dataset = CausalLMDataset(tokens, max_len=context_size, stride=context_size//2)"
   ]
  },
  {
   "cell_type": "markdown",
   "id": "2e732edb-edd5-4837-bee8-e17f497b700e",
   "metadata": {},
   "source": [
    "Lastly, we can create a `DataLoader` instance that handles all the batching and shuffling of the samples for us."
   ]
  },
  {
   "cell_type": "code",
   "execution_count": 14,
   "id": "6822ee34-1216-4719-bb8d-384066ae667d",
   "metadata": {},
   "outputs": [],
   "source": [
    "loader = DataLoader(dataset, batch_size=64, shuffle=True, drop_last=True)"
   ]
  },
  {
   "cell_type": "markdown",
   "id": "b1e4724a-e45b-40d6-af6a-fd3435f90e85",
   "metadata": {},
   "source": [
    "With the data loader, we are now ready to train our model. Again, keep in mind that the data preparation was rather simple since we only work with a very small dataset &mdash; at least very small in the context of training an LLM &mdash; so that the complete dataset fits into memory of single machine &mdash; which is sufficient for our purpose here."
   ]
  },
  {
   "cell_type": "markdown",
   "id": "cb3c92c7-7843-4ea9-9f78-90709f7a8c43",
   "metadata": {},
   "source": [
    "---"
   ]
  },
  {
   "cell_type": "markdown",
   "id": "f05e7ce3-4358-4089-a86d-6e04c785dae6",
   "metadata": {},
   "source": [
    "## Auxiliary Methods\n",
    "\n",
    "For the model training and the very crude qualitative evaluation of the model (discussed later), we next define a few auxiliary models for a cleaner code but also support strategies such as checkpointing for training large models in practice."
   ]
  },
  {
   "cell_type": "markdown",
   "id": "914ad954-47af-4c6e-bc2b-12d484ad3ce4",
   "metadata": {},
   "source": [
    "### Training a Single Epoch\n",
    "\n",
    "The method `train_epoch()` takes a data loader, a model and an optimizer to train the model for a single epoch by iterating over all batches of the data loader. Each batch &mdash; composed of input and all target sequences &mdash; is passed to the model to compute the model output (i.e., the logits) and the loss (based on the loss function defined as part of the model). For this method, we only need the loss to perform backpropagation and update the model weights based on the strategy of the optimizer. During the epoch, the method accumulates the losses of each batch to a final epoch loss, which is then returned from the method."
   ]
  },
  {
   "cell_type": "code",
   "execution_count": 15,
   "id": "2805e550-7bc1-4cf1-8de0-1074bc5aae43",
   "metadata": {},
   "outputs": [],
   "source": [
    "def train_epoch(loader, model, optimizer, description):\n",
    "    epoch_loss = 0.0\n",
    "    model_device = next(model.parameters()).device\n",
    "    for idx, (inputs, targets) in enumerate(tqdm(loader, desc=description, leave=False)):\n",
    "        # Move current batch to GPU, if available\n",
    "        inputs, targets = inputs.to(model_device), targets.to(model_device)\n",
    "        # Calculate loss\n",
    "        logits, loss = model(inputs, targets)\n",
    "        # Reset the gradients from previous iteration\n",
    "        model.zero_grad()\n",
    "        # Calculate new Gradients using backpropagation\n",
    "        loss.backward()\n",
    "        # Update all trainable parameters (i.e., the theta values of the model)\n",
    "        optimizer.step()\n",
    "        # Update epoch loss\n",
    "        epoch_loss += loss.item()\n",
    "    return epoch_loss"
   ]
  },
  {
   "cell_type": "markdown",
   "id": "4fc1772e-dda6-4422-bdb9-2f7b6bb294fd",
   "metadata": {},
   "source": [
    "When later training a model over several epochs, we can simply repeatedly call this method to handle training of a single epoch."
   ]
  },
  {
   "cell_type": "markdown",
   "id": "e2b0545b-ba08-444f-94ab-be961bd41e49",
   "metadata": {},
   "source": [
    "### Saving & Loading Checkpoints\n",
    "\n",
    "Training a Transformer-based LLM requires a lot of training, even for a rather small model trained using a rather small dataset. A **checkpoint** in model training is a saved snapshot of the model's state at a specific point during training, typically after a certain number of steps or epochs. It usually includes the model's parameters (weights and biases), the optimizer state (to resume learning with the same momentum and learning rate adjustments), and sometimes metadata like the current epoch or training loss. This allows training to be paused and later resumed from that point without starting over, which is especially important for large models that take days or weeks to train.\n",
    "\n",
    "While many libraries have built-in support for periodically saving checkpoints, in this notebook, we purposefully use only PyTorch and avoid libraries with a higher level of abstraction. However, saving a checkpoint is very straightforward. The method `save_checkpoint()` defined in the code cell below takes a model and optimizer instance, as well as the information about the current epoch and epoch loss. The methods the combines all required information to resume training into a single object and uses the `save()` method of PyTorch to save this object to a file.\n",
    "\n",
    "In PyTorch, the `state_dict()` object is a Python dictionary that contains all the learnable parameters and persistent states of a model or optimizer. For models, it stores mappings from each layer's name to its corresponding tensor values (like weights and biases). For optimizers, it includes the current state of optimization variables such as momentum buffers and learning rate schedules. This dictionary enables easy saving, loading, and transferring of model and optimizer states, making it central to checkpointing and model deployment. By calling `torch.save(model.state_dict())`, you can preserve a model's learned parameters, and later restore them with `model.load_state_dict()`, ensuring the model continues exactly where it left off."
   ]
  },
  {
   "cell_type": "code",
   "execution_count": 16,
   "id": "0ad32db3-ae02-4a1e-8656-5906e2ebd544",
   "metadata": {},
   "outputs": [],
   "source": [
    "def save_checkpoint(model, optimizer, epoch, loss, path=\"checkpoint.pt\"):\n",
    "    checkpoint = {\n",
    "        \"epoch\": epoch,\n",
    "        \"model_state_dict\": model.state_dict(),\n",
    "        \"optimizer_state_dict\": optimizer.state_dict(),\n",
    "        \"loss\": loss,\n",
    "    }\n",
    "    torch.save(checkpoint, path)\n",
    "    print(f\"Checkpoint saved at {path}\")"
   ]
  },
  {
   "cell_type": "markdown",
   "id": "dbf40119-6572-4582-9c77-2820f7cbd53b",
   "metadata": {},
   "source": [
    "Naturally, the counterpart to saving a checkpoint is loading a save checkpoint, as implemented by the method `load_checkpoint()` below. Notice that this method also takes in a model and optimizer instance. In other words, the method does not create a model or optimizer but sets the state of both instances as the states read from the checkpoint file. This of course only works if the model and the optimizer have the same \"structure\" as the model and optimizer used for training. For example, we cannot train a Transformer model with 4 layers and then load its state into a model with more or less layers.\n",
    "\n",
    "Also, notice the `map_location` parameter of PyTorch's `load()` method. This parameter controls how tensors are remapped to devices (like CPU or GPU) when loading a saved model or checkpoint. This is useful when the model was trained on one device but needs to be loaded on another; for example, loading GPU-trained weights onto a CPU-only machine. By specifying `map_location='cpu'`, all tensors are loaded to the CPU regardless of where they were originally saved, while `map_location='cuda:0'` loads them to the first GPU. It can also take a custom function or dictionary to flexibly remap devices, ensuring model compatibility across different hardware setups and preventing errors caused by unavailable devices."
   ]
  },
  {
   "cell_type": "code",
   "execution_count": 17,
   "id": "afdaf3d6-b68b-46a2-b2ef-42927c1582a6",
   "metadata": {},
   "outputs": [],
   "source": [
    "def load_checkpoint(model, optimizer, path=\"checkpoint.pt\", device=\"cuda\"):\n",
    "    checkpoint = torch.load(path, map_location=device)\n",
    "    model.load_state_dict(checkpoint[\"model_state_dict\"])\n",
    "    optimizer.load_state_dict(checkpoint[\"optimizer_state_dict\"])\n",
    "    epoch = checkpoint[\"epoch\"]\n",
    "    loss = checkpoint[\"loss\"]\n",
    "    print(f\"Checkpoint loaded (epoch {epoch}, loss {loss:.4f})\")\n",
    "    return epoch, loss"
   ]
  },
  {
   "cell_type": "markdown",
   "id": "c7a4739e-b7f0-49cf-b091-0025c0cbfd37",
   "metadata": {},
   "source": [
    "### Generate & Save Example Responses\n",
    "\n",
    "When training any kind of model, we typically track the progress by measuring some form of validation loss over time. However, here we keep it very simple and omit the consideration of a separate validation dataset to compute a validation loss after each epoch. After all, the loss itself does not really tell us how well the model is performing. In contrast, we first define the method `generate_response()` that returns the response generated by a model for a given prompt. Notice that this method also needs the tokenizer to encode the prompt and decode the generated response."
   ]
  },
  {
   "cell_type": "code",
   "execution_count": 18,
   "id": "d18e359b-e95a-4349-8810-5b36d5344257",
   "metadata": {},
   "outputs": [],
   "source": [
    "def generate_response(prompt, tokenizer, model, max_new_tokens=50):\n",
    "    model_device = next(model.parameters()).device\n",
    "    prompt_encoded = tokenizer.encode(prompt, return_tensors=\"pt\").to(model_device)\n",
    "    generated = model.generate(prompt_encoded, max_new_tokens=max_new_tokens)\n",
    "    output_text = tokenizer.decode(generated[0], skip_special_tokens=True)\n",
    "    return output_text    "
   ]
  },
  {
   "cell_type": "markdown",
   "id": "ab949328-06c9-43f0-8cf5-fe36eefec010",
   "metadata": {},
   "source": [
    "Similar to saving checkpoints when training the model for a long time, we might also want to save the generated responses for some prompts, e.g., after each epoch. This allows us to later check the generated files, how the quality of the generated responses have changed over time. The method `generate_example_responses()` implements this idea using three simple example prompts related to movie reviews; of course, we can edit the prompts or additional ones. All generated responses are stored in a file given the specified file name."
   ]
  },
  {
   "cell_type": "code",
   "execution_count": 19,
   "id": "7530a69d-3e85-484b-8513-a8d06cdbbd9e",
   "metadata": {},
   "outputs": [],
   "source": [
    "def generate_example_responses(tokenizer, model, path=\"example-responses.txt\"):\n",
    "    prompts = [\"the best part of the movie was\", \"my favorite scene of the in the movie\", \"the script and the direction\"]\n",
    "    with open(path, \"w\") as file:\n",
    "        for prompt in prompts:\n",
    "            response = generate_response(prompt, tokenizer, model)\n",
    "            file.write(f\"{response}\\n\\n\")"
   ]
  },
  {
   "cell_type": "markdown",
   "id": "0074361c-5c0f-472d-8809-782c44c35de7",
   "metadata": {},
   "source": [
    "In the full training mode, we save checkpoints and example responses to disk. Using the code cell below, you can create a folder into which the checkpoint and output files are stored. You can customize the path to fit your local setup."
   ]
  },
  {
   "cell_type": "code",
   "execution_count": 20,
   "id": "9be23b97-4e6d-4d99-ad98-714e0ec502d8",
   "metadata": {},
   "outputs": [
    {
     "name": "stdout",
     "output_type": "stream",
     "text": [
      "data/generated/models/gpt2/\n"
     ]
    }
   ],
   "source": [
    "folder = create_folder(\"data/generated/models/gpt2/\")\n",
    "\n",
    "print(folder)"
   ]
  },
  {
   "cell_type": "markdown",
   "id": "8235437e-992d-4110-8522-4d83d667be8c",
   "metadata": {},
   "source": [
    "---"
   ]
  },
  {
   "cell_type": "markdown",
   "id": "0afbdf03-82d2-42ef-b880-60846f142e26",
   "metadata": {},
   "source": [
    "## Creating the Model\n",
    "\n",
    "The GPT-2 model is a **decoder-only Transformer architecture** because &mdash; that is, it is designed specifically for **autoregressive language modeling**, where the goal is to predict the next token in a sequence based solely on previous tokens. Unlike the original Transformer, which uses an encoder–decoder structure for sequence-to-sequence tasks such as translation, GPT-2 discards the encoder and retains only the **decoder blocks**, each composed of self-attention and feedforward layers. Importantly, it applies a **causal masking**, ensuring that each token can only attend to earlier positions, thereby preserving the left-to-right generation order required for text prediction. This simplified, decoder-only design makes GPT-2 efficient for generative tasks while maintaining the full expressive power of the Transformer architecture."
   ]
  },
  {
   "cell_type": "markdown",
   "id": "ffc3ee6d-f779-4f00-8007-e7936ddbd97a",
   "metadata": {},
   "source": [
    "### Positional Encoding\n",
    "\n",
    "During training and inference, the transformer processes an input sequence in parallel by computing the alignment scores between all pairs of input tokens as part of the attention mechanism. This includes that the Transformer has no built-in mechanism to capture the position of tokens. However, for properly understanding language and text, word/token order matters. This is where **positional encodings** come into play. Similar to word embedding vectors, a positional encoding refers to vectors that capture positional information of tokens. We have several dedicated notebooks that talk about the importance of positional encodings and common strategies.\n",
    "\n",
    "In this notebook, we adopt the positional encodings proposed in the original Transformer paper [*\"Attention Is All You Need\"*](https://arxiv.org/abs/1706.03762). In a nutshell, these **absolute positional encodings** are added to the input embeddings at the bottom of the encoder and decoder stacks, allowing the model to leverage both token identity and position. Rather than learning these positions as parameters, the paper proposed a **fixed sinusoidal encoding** scheme based on sine and cosine functions of varying frequencies. The sinusoidal formulation ensures that each position in the sequence is mapped to a unique vector, while also enabling the model to generalize to sequence lengths longer than those seen during training. Specifically, for each position $pos$ and embedding dimension $i$, the encoding is defined as:"
   ]
  },
  {
   "cell_type": "markdown",
   "id": "4186cd1b-a7a8-48a9-9743-c2b6f8f9b575",
   "metadata": {},
   "source": [
    "$$\n",
    "\\begin{align}\n",
    "\\large PE_{(pos, 2i)} &\\large = \\sin(pos / 10000^{2i/d_{model}})\\\\[1em]\n",
    "\\large PE_{(pos, 2i+1)} &\\large = \\cos(pos / 10000^{2i/d_{model}})\n",
    "\\end{align}\n",
    "$$"
   ]
  },
  {
   "cell_type": "markdown",
   "id": "5bdc5d60-98e1-4e4f-95b4-1e56579615bb",
   "metadata": {},
   "source": [
    "This design produces smooth, continuous patterns that encode both absolute position and relative distance information through the phase difference between positions, providing the Transformer with a simple yet effective way to model sequential structure without relying on recurrence or convolution. Again, we cover this approach in more detail in its own notebook.\n",
    "\n",
    "The class `PositionalEncoding` in the code cell below implements this sinusoidal encoding strategy. The advantage of using absolute positional encodings is that all vectors containing fixed values can be computed a-priori, and then just added to the word embedding vectors during training and inference. By using the `register_buffer()` method, we can specify that the positional encodings are part of the model but should not be treated as learnable parameters, and therefore will not be updated by the optimizer. However, we have to make the encodings part of the model's state so that they are included when saving the model when saving checkpoints."
   ]
  },
  {
   "cell_type": "code",
   "execution_count": 21,
   "id": "7cf8cf6a-734a-46e8-b60e-4a790be6cb2f",
   "metadata": {},
   "outputs": [],
   "source": [
    "class PositionalEncoding(nn.Module):\n",
    "    def __init__(self, emb_size: int, dropout: float, maxlen: int = 1024):\n",
    "        super(PositionalEncoding, self).__init__()\n",
    "        den = torch.exp(- torch.arange(0, emb_size, 2)* np.log(10000) / emb_size)\n",
    "        pos = torch.arange(0, maxlen).reshape(maxlen, 1)\n",
    "        pos_embedding = torch.zeros((maxlen, emb_size))\n",
    "        pos_embedding[:, 0::2] = torch.sin(pos * den)\n",
    "        pos_embedding[:, 1::2] = torch.cos(pos * den)\n",
    "        pos_embedding = pos_embedding.unsqueeze(-2)\n",
    "\n",
    "        self.dropout = nn.Dropout(dropout)\n",
    "        self.register_buffer('pos_embedding', pos_embedding)\n",
    "\n",
    "    def forward(self, token_embedding):\n",
    "        return self.dropout(token_embedding + self.pos_embedding[:token_embedding.size(0), :])"
   ]
  },
  {
   "cell_type": "markdown",
   "id": "c5079d5f-e218-4ebb-af22-d0752220c14d",
   "metadata": {},
   "source": [
    "### Transformer Model\n",
    "\n",
    "GPT-2, like many other popular LLMs, is a so-called decoder only model. This not only means that the model uses only the decoder of the overall architecture but also that the decoder is missing the cross-attention layer that aligns the encoder output with the decoder input. The figure below illustrates this idea by shading out all the parts of the complete Transformer architecture not being used for training a decoder-only LLM such as GPT-2."
   ]
  },
  {
   "cell_type": "markdown",
   "id": "01f8e6f5-592f-4613-84ff-6ed7362fb7d3",
   "metadata": {},
   "source": [
    "<img src=\"images/illustrations/transformer/transformer-architecture-decoder-only.png\" style=\"margin:auto;max-width:500px;width:100%\" alt=\"Transformer Architecture - Decoder-Only\" />"
   ]
  },
  {
   "cell_type": "markdown",
   "id": "26b0c018-136c-43dd-83c6-5b0a76f60e30",
   "metadata": {},
   "source": [
    "To implement our model, we can directly use classes implementing the Transformer architecture provided by PyTorch. This includes the `nn.TransformerDecoder` class implementing the decoder part of the Transformer. However, the problem is that this class expects as input the output of a decoder, which we obviously do not have in our decoder-only setup. However, if you look at the figure above, notice that the decoder without the cross-attention block is the same as the encoder. Thus we can simply use the `nn.TransformerEncoder` class. We only have to keep in mind to still use a causal mask during training and inference to stop the model to \"look into the future\".\n",
    "\n",
    "The class `GPT2LanguageModel` below implements the complete model. Apart from the size of the vocabulary size, the input parameters of the constructor specify the different parameters of the encoder layer incl. the number of attention heads and the number of layers. The internal method `_generate_square_subsequent_mask()` precomputes that causal mask for the maximum context size (i.e., the maximum length of the input sequence). Again, since the mask contains fixed values and not trainable parameters, we use `register_buffer()` to add the mask to the model's state. Overall this class is essentially a 1:1 implementation of the figure above."
   ]
  },
  {
   "cell_type": "code",
   "execution_count": 22,
   "id": "31e9bcce-20cc-4dd7-b456-1ed07f721538",
   "metadata": {},
   "outputs": [],
   "source": [
    "class GPT2LanguageModel(nn.Module):\n",
    "    def __init__(self, vocab_size, d_model=512, n_heads=8, num_layers=6, context_size=128, dropout=0.1):\n",
    "        super().__init__()\n",
    "        self.vocab_size = vocab_size\n",
    "        self.d_model = d_model\n",
    "        self.context_size = context_size\n",
    "\n",
    "        # Token and position embedding layers\n",
    "        self.token_embed = nn.Embedding(vocab_size, d_model)\n",
    "        self.pos_embed = PositionalEncoding(d_model, dropout=dropout)\n",
    "\n",
    "        # Transformer encoder = decoder without cross-attention block\n",
    "        encoder_layer = nn.TransformerEncoderLayer(\n",
    "            d_model=d_model,\n",
    "            nhead=n_heads,\n",
    "            dim_feedforward=4*d_model,\n",
    "            dropout=dropout,\n",
    "            activation=\"gelu\",\n",
    "            batch_first=True\n",
    "        )        \n",
    "        self.transformer = nn.TransformerEncoder(encoder_layer, num_layers=num_layers)\n",
    "        \n",
    "        # Output project from the embedding size to the vocabulary size\n",
    "        self.lm_head = nn.Linear(d_model, vocab_size, bias=False)\n",
    "\n",
    "        # Create causal mask and initialize weights\n",
    "        self.register_buffer(\"mask\", self._generate_square_subsequent_mask(context_size))\n",
    "        self._init_weights()\n",
    "\n",
    "    def _init_weights(self):\n",
    "        nn.init.normal_(self.token_embed.weight, mean=0.0, std=0.02)\n",
    "        nn.init.normal_(self.lm_head.weight, mean=0.0, std=0.02)\n",
    "\n",
    "    def _generate_square_subsequent_mask(self, sz):\n",
    "        mask = torch.triu(torch.ones(sz, sz), diagonal=1).bool()\n",
    "        return mask\n",
    "\n",
    "    def forward(self, input_ids, targets=None):\n",
    "        # Get batch size B and sequence length T from inputs\n",
    "        B, T = input_ids.shape\n",
    "        device = input_ids.device\n",
    "\n",
    "        # Generate combined token and position embedding vectors\n",
    "        x = self.pos_embed(self.token_embed(input_ids))\n",
    "\n",
    "        # Create required causal mask by trimming precomputed mask to current input length\n",
    "        causal_mask = self.mask[:T, :T].to(device)\n",
    "\n",
    "        # Pass inputs and mask to transformer\n",
    "        x = self.transformer(x, mask=causal_mask)\n",
    "\n",
    "        # Compute output logits\n",
    "        logits = self.lm_head(x)  # (B, T, vocab_size)\n",
    "\n",
    "        loss = None\n",
    "        # If targets are available (during training), compute loss\n",
    "        if targets is not None:\n",
    "            loss = F.cross_entropy(\n",
    "                logits.view(-1, self.vocab_size),\n",
    "                targets.view(-1),\n",
    "                ignore_index=-1,\n",
    "            )\n",
    "        # Return logits (for inference) and the loss (for training)\n",
    "        return logits, loss\n",
    "\n",
    "\n",
    "    @torch.no_grad()\n",
    "    def generate(self, input_ids, max_new_tokens=50, temperature=1.0, top_k=10):\n",
    "        for _ in range(max_new_tokens):\n",
    "            if input_ids.size(1) > self.context_size:\n",
    "                input_ids = input_ids[:, -self.context_size:]\n",
    "    \n",
    "            logits, _ = self(input_ids)\n",
    "            logits = logits[:, -1, :] / temperature  # focus on last token\n",
    "    \n",
    "            # Top-k filtering\n",
    "            if top_k is not None and top_k < logits.size(-1):\n",
    "                topk_vals, topk_idx = torch.topk(logits, top_k)\n",
    "                probs = F.softmax(topk_vals, dim=-1)\n",
    "                next_token = topk_idx.gather(\n",
    "                    1, torch.multinomial(probs, num_samples=1)\n",
    "                )\n",
    "            else:\n",
    "                # fallback to full softmax sampling\n",
    "                probs = F.softmax(logits, dim=-1)\n",
    "                next_token = torch.multinomial(probs, num_samples=1)\n",
    "    \n",
    "            input_ids = torch.cat([input_ids, next_token], dim=1)\n",
    "        return input_ids"
   ]
  },
  {
   "cell_type": "markdown",
   "id": "00e609b1-486e-40f0-910c-058286a6a094",
   "metadata": {},
   "source": [
    "The class `GPT2LanguageModel` also implements the `generate()` methods to, given a prompt in terms of a list `input_ids` of token indices, generate a response by predicting the next most likely token over and over. By default, the next token is sampled from the `top_k=10` tokens with the highest scores (logits). The `temperature` parameter is another way to control how deterministically or how random the next token is sampled from the top-k tokens.\n",
    "\n",
    "We can now create the instance for the model and the optimizer to start the training. Again, we go with a smaller model for the demo mode, where smaller refers to smaller embedding sizes, fewer attention heads, and few encoder layers. Notice that you are unlikely to see great results in terms of human-like responses, particularly when only for 5 epochs by default; see further below. However, you should be able to see responses that are often piece-wise coherent."
   ]
  },
  {
   "cell_type": "code",
   "execution_count": 23,
   "id": "0a3e2c07-0f56-4ace-8694-3ed9a0869dab",
   "metadata": {},
   "outputs": [
    {
     "name": "stdout",
     "output_type": "stream",
     "text": [
      "GPT2LanguageModel(\n",
      "  (token_embed): Embedding(50257, 128)\n",
      "  (pos_embed): PositionalEncoding(\n",
      "    (dropout): Dropout(p=0.1, inplace=False)\n",
      "  )\n",
      "  (transformer): TransformerEncoder(\n",
      "    (layers): ModuleList(\n",
      "      (0-2): 3 x TransformerEncoderLayer(\n",
      "        (self_attn): MultiheadAttention(\n",
      "          (out_proj): NonDynamicallyQuantizableLinear(in_features=128, out_features=128, bias=True)\n",
      "        )\n",
      "        (linear1): Linear(in_features=128, out_features=512, bias=True)\n",
      "        (dropout): Dropout(p=0.1, inplace=False)\n",
      "        (linear2): Linear(in_features=512, out_features=128, bias=True)\n",
      "        (norm1): LayerNorm((128,), eps=1e-05, elementwise_affine=True)\n",
      "        (norm2): LayerNorm((128,), eps=1e-05, elementwise_affine=True)\n",
      "        (dropout1): Dropout(p=0.1, inplace=False)\n",
      "        (dropout2): Dropout(p=0.1, inplace=False)\n",
      "      )\n",
      "    )\n",
      "  )\n",
      "  (lm_head): Linear(in_features=128, out_features=50257, bias=False)\n",
      ")\n"
     ]
    }
   ],
   "source": [
    "if mode == \"demo\":\n",
    "    model = GPT2LanguageModel(tokenizer.vocab_size, d_model=128, n_heads=4, num_layers=3).to(device)\n",
    "else:\n",
    "    model = GPT2LanguageModel(tokenizer.vocab_size, d_model=256, n_heads=8, num_layers=6).to(device)\n",
    "\n",
    "\n",
    "optimizer = optim.AdamW(\n",
    "    model.parameters(),\n",
    "    lr=3e-4,          # initial learning rate\n",
    "    betas=(0.9, 0.95),  # GPT-2 and many LM use this instead of (0.9, 0.999)\n",
    "    weight_decay=0.1    # encourages generalization\n",
    ")\n",
    "\n",
    "print(model)"
   ]
  },
  {
   "cell_type": "markdown",
   "id": "dc5a3121-7be6-4c9f-85ba-8beac9145d4a",
   "metadata": {},
   "source": [
    "Before we start training, let's quickly check what the model would generate for a given prompt right now. In demo mode, we simply print the response as the output of the code cell below. Otherwise, we use our auxiliary `generate_example_responses()` method to save the responses of our example prompts to a file for later inspection."
   ]
  },
  {
   "cell_type": "code",
   "execution_count": 24,
   "id": "18459d1a-b678-43c2-8082-a26281182862",
   "metadata": {},
   "outputs": [
    {
     "name": "stdout",
     "output_type": "stream",
     "text": [
      "the best part of the movie was MEN pipeiopCong YOU thruiopiopaks YOUiop Points childcare YOU foreground Vanilla childcareESPN textures textures Points barrier textures Herman bathroomsiop erasediopESPNaks childcare MEN MEN beginner MEN thru motivate bandampire boiler barrieraksaks MEN Points cannonaks thru Hockey childcare\n"
     ]
    }
   ],
   "source": [
    "if mode == \"demo\":\n",
    "    prompt = \"the best part of the movie was\"\n",
    "    print(generate_response(prompt, tokenizer, model))\n",
    "else:\n",
    "    generate_example_responses(tokenizer, model, path=f\"{folder}example-responses-{0}.txt\")"
   ]
  },
  {
   "cell_type": "markdown",
   "id": "0da112ac-f2f1-4db7-9d5b-a35e24947dbf",
   "metadata": {},
   "source": [
    "Unsurprisingly, without training, the response is complete gibberish beyond the tokens for the given prompt. However, you can use these initial results to compare it with the response after even just the first epoch."
   ]
  },
  {
   "cell_type": "markdown",
   "id": "3d0e8e2f-ed5d-4047-96a4-ba649e73c76c",
   "metadata": {},
   "source": [
    "---"
   ]
  },
  {
   "cell_type": "markdown",
   "id": "2e24ee5b-1a02-449e-bb76-086b734fda32",
   "metadata": {},
   "source": [
    "## Model Training\n",
    "\n",
    "Using our auxiliary method `train_epoch()`, the code for training our model for several epochs becomes very simple; see the code cell below. In demo mode, we simply print the response of the model for our example prompt (see above) after each epoch. In the full training mode, we save a checkpoint as well as example response to disk after each epoch. For an initial run, even in demo mode, you can also change the number of epochs to $1$, just to see how long training an epoch will require.\n",
    "\n",
    "**Important:** While the code below saves a checkpoint after each epoch in full training mode, it does not directly resume training after a problem by automatically loading the last checkpoint; notice that the method `load_checkpoint()` is actually nowhere used in the notebook. This is to keep the code as simple and clean as possible. Also, even in full training mode &mdash; and assuming a decent consumer GPU &mdash; the training time is measured in very few hours instead of days."
   ]
  },
  {
   "cell_type": "code",
   "execution_count": 25,
   "id": "9402d3ae-9fb1-42e1-8abb-a4afcb7d242a",
   "metadata": {},
   "outputs": [
    {
     "name": "stderr",
     "output_type": "stream",
     "text": [
      "                                                                                                                                      \r"
     ]
    },
    {
     "name": "stdout",
     "output_type": "stream",
     "text": [
      "the best part of the movie was a few, and it. there's been a movie. i can't have been an lot of the film that and i can be the movie was a very very very bad. the movie to get the first movie. it was a very film.\n"
     ]
    },
    {
     "name": "stderr",
     "output_type": "stream",
     "text": [
      "                                                                                                                                      \r"
     ]
    },
    {
     "name": "stdout",
     "output_type": "stream",
     "text": [
      "the best part of the movie was in a film. this movie. there are so bad movie is just the movie. i can make up to be a few minutes. it's no sense of the story, but this. the film is a film, and one of the end,\n"
     ]
    },
    {
     "name": "stderr",
     "output_type": "stream",
     "text": [
      "                                                                                                                                      \r"
     ]
    },
    {
     "name": "stdout",
     "output_type": "stream",
     "text": [
      "the best part of the movie was a film was to me of the movie. it's really just a film. but i've been funny. it. i was a movie are a bad, but this movie is a great movie that the \"i am not even\n"
     ]
    },
    {
     "name": "stderr",
     "output_type": "stream",
     "text": [
      "                                                                                                                                      \r"
     ]
    },
    {
     "name": "stdout",
     "output_type": "stream",
     "text": [
      "the best part of the movie was the movie is bad. the movie was a good. this movie was not to the characters and you have the movie i was the movie was a bad, it was the movie was so stupid. this is that the worst. i had a\n"
     ]
    },
    {
     "name": "stderr",
     "output_type": "stream",
     "text": [
      "                                                                                                                                      \r"
     ]
    },
    {
     "name": "stdout",
     "output_type": "stream",
     "text": [
      "the best part of the movie was the plot, but they could have been a few other than it was not to do not as it is a lot better. it just to the worst film was made. it was a film. it is no sense. and the worst is the acting\n",
      "Done training 5 epochs.\n"
     ]
    }
   ],
   "source": [
    "num_epochs = 5\n",
    "\n",
    "for epoch in range(num_epochs):\n",
    "    description = f\"Epoch {epoch+1}/{num_epochs}\"\n",
    "    epoch_loss = train_epoch(loader, model, optimizer, description)\n",
    "    #\n",
    "    if mode == \"demo\":\n",
    "        print(generate_response(prompt, tokenizer, model))\n",
    "    else:\n",
    "        save_checkpoint(model, optimizer, epoch+1, epoch_loss, path=f\"{folder}checkpoint-{epoch+1}.pt\")\n",
    "        generate_example_responses(tokenizer, model, path=f\"{folder}example-responses-{epoch+1}.txt\")\n",
    "\n",
    "print(f\"Done training {num_epochs} epochs.\")"
   ]
  },
  {
   "cell_type": "markdown",
   "id": "8c8ba29d-2244-4b75-968c-8dac396a5131",
   "metadata": {},
   "source": [
    "In demo mode and after only a handful of epochs, you should be able to see the responses slowly become better, with short phrases becoming more and more coherent. However, getting the model to generate fluent and coherent response across the whole sequences requires a substantial amount of training and a sufficiently large model."
   ]
  },
  {
   "cell_type": "markdown",
   "id": "a4311a44-32ad-4616-9134-9382a3605478",
   "metadata": {},
   "source": [
    "--- "
   ]
  },
  {
   "cell_type": "markdown",
   "id": "bd9284f6-1f2f-4fc4-a859-41afbc7fa6c0",
   "metadata": {},
   "source": [
    "## Summary\n",
    "\n",
    "Training a GPT-style language model from scratch provides valuable insight into the **core components and workflow** that underlie modern large language models. Even when using a small, toy dataset, the process mirrors the same fundamental principles used to train state-of-the-art systems. The training begins with preparing a text corpus for **next-word prediction**, the central objective of autoregressive language models. This involves tokenizing the text, building a vocabulary, and generating input-target pairs where the model learns to predict the next token in a sequence based on the preceding ones.\n",
    "\n",
    "At the heart of the model lies the **Transformer architecture**, which uses stacked layers of self-attention and feedforward networks to model long-range dependencies in text. In a GPT-style (decoder-only) setup, the Transformer employs **masked self-attention**, ensuring that predictions for a given position depend only on earlier tokens in the sequence. Positional encodings—often fixed sinusoidal functions—are added to the token embeddings to give the model a sense of order, since attention itself has no inherent notion of sequence. These design elements together enable the model to capture complex syntactic and semantic relationships between words.\n",
    "\n",
    "The **training process** typically involves minimizing a cross-entropy loss that measures how well the model predicts the next token. Through repeated optimization steps, the model gradually improves its internal language representations. While a small model trained on limited data will not produce fluent or generalizable text, it still exhibits the same learning dynamics observed in much larger systems, offering a practical and interpretable context for understanding how Transformers learn.\n",
    "\n",
    "In practice, training competitive LLMs requires **vastly larger datasets, model sizes, and computational resources**, often spanning hundreds of billions of tokens and thousands of GPUs. However, the **overall workflow remains fundamentally the same** &mdash; from data preparation and tokenization to model design, loss computation, and iterative optimization. By experimenting with small-scale GPT models, one can grasp the essential mechanics that scale up directly to real-world LLMs, providing a solid conceptual foundation for understanding the architecture and training pipeline behind today’s leading generative models."
   ]
  },
  {
   "cell_type": "code",
   "execution_count": null,
   "id": "def3366b-8512-43e5-a7a9-9203c5e86511",
   "metadata": {},
   "outputs": [],
   "source": []
  }
 ],
 "metadata": {
  "kernelspec": {
   "display_name": "selene",
   "language": "python",
   "name": "selene"
  },
  "language_info": {
   "codemirror_mode": {
    "name": "ipython",
    "version": 3
   },
   "file_extension": ".py",
   "mimetype": "text/x-python",
   "name": "python",
   "nbconvert_exporter": "python",
   "pygments_lexer": "ipython3",
   "version": "3.11.13"
  }
 },
 "nbformat": 4,
 "nbformat_minor": 5
}
