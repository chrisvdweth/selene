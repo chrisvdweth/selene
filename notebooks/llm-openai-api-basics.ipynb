{
 "cells": [
  {
   "cell_type": "markdown",
   "id": "2dd627ec-bbe0-42ba-a2d6-f454a96223fc",
   "metadata": {},
   "source": [
    "<img src=\"images/logo/selene-logo-640.png\" style=\"max-height:75px;\" alt=\"SELENE Logo\" />\n",
    "\n",
    "**Disclaimer:** This Jupyter Notebook contains content generated with the assistance of AI. While every effort has been made to review and validate the outputs, users should independently verify critical information before relying on it. The SELENE notebook repository is constantly evolving. We recommend downloading or pulling the latest version of this notebook from Github."
   ]
  },
  {
   "cell_type": "markdown",
   "id": "9ac9e2f3-5e21-417a-b6e0-5a3317ccc770",
   "metadata": {},
   "source": [
    "# Working with the OpenAI API &mdash; An Introduction\n",
    "\n",
    "The main benefit of accessing LLMs through provided APIs is that developers and organizations can leverage powerful, state-of-the-art models without needing to train or maintain them themselves. Training large language models requires massive datasets, specialized expertise, and extremely costly compute infrastructure &mdash; resources that are out of reach for most teams. With an API, all of that complexity is abstracted away, and you gain instant access to reliable, production-grade models through simple function calls in your code.\n",
    "\n",
    "Another advantage is flexibility and scalability. By using an API, you can integrate language understanding, reasoning, and generation into a wide range of applications &mdash; such as chatbots, search systems, content generation tools, or code assistants &mdash; without being tied to a single platform or architecture. The API ensures you always have access to the latest improvements, updates, and safety features of the model, while scaling seamlessly with demand. This allows teams to focus on building innovative applications rather than managing machine learning infrastructure.\n",
    "\n",
    "In this notebook, we will explore the basic use of the **OpenAI API** with Python. The OpenAI API provides programmatic access to powerful foundation large language models (LLMs) such as GPT, which are capable of understanding and generating natural language, writing code, analyzing data, and much more. By integrating these capabilities directly into Python workflows, developers and researchers can experiment with language models in an interactive and flexible way."
   ]
  },
  {
   "cell_type": "markdown",
   "id": "66ea1364-1a10-4511-a08e-d0033b4d80bc",
   "metadata": {},
   "source": [
    "### Setting up the Notebook\n",
    "\n",
    "#### Make Required Imports\n",
    "\n",
    "This notebook requires the import of different Python packages (particularly the official [OpenAI Python API library](https://github.com/openai/openai-python)) but also additional Python modules that are part of the repository. If a package is missing, use your preferred package manager (e.g., [conda](https://anaconda.org/anaconda/conda) or [pip](https://pypi.org/project/pip/)) to install it. If the code cell below runs with any errors, all required packages and modules have successfully been imported."
   ]
  },
  {
   "cell_type": "code",
   "execution_count": 1,
   "id": "0cbb66fc-67cc-491d-931b-b24e0ff738cd",
   "metadata": {},
   "outputs": [],
   "source": [
    "import openai\n",
    "import random\n",
    "from IPython.display import Image, Audio\n",
    "from src.utils.data.files import *"
   ]
  },
  {
   "cell_type": "markdown",
   "id": "6f3b3065-9688-42c5-b4db-77f340e66d07",
   "metadata": {},
   "source": [
    "#### Download Required Data\n",
    "\n",
    "Some code examples in this notebook use data that first need to be downloaded by running the code cell below. If this code cell throws any error, please check the configuration file `config.yaml` if the URL for downloading datasets is up to date and matches the one on Github. If not, simply download or pull the latest version from Github."
   ]
  },
  {
   "cell_type": "code",
   "execution_count": 2,
   "id": "623e6775-ab15-4e9d-a74c-479b34a626da",
   "metadata": {},
   "outputs": [
    {
     "name": "stdout",
     "output_type": "stream",
     "text": [
      "File 'data/datasets/audio/voice/samples/voice-sample-female-english-01.mp3' already exists (use 'overwrite=True' to overwrite it).\n",
      "File 'data/datasets/audio/voice/samples/voice-sample-female-spanish-01.mp3' already exists (use 'overwrite=True' to overwrite it).\n"
     ]
    }
   ],
   "source": [
    "mp3_voice_sample_english, _ = download_dataset(\"audio/voice/samples/voice-sample-female-english-01.mp3\")\n",
    "mp3_voice_sample_spanish, _ = download_dataset(\"audio/voice/samples/voice-sample-female-spanish-01.mp3\")"
   ]
  },
  {
   "cell_type": "markdown",
   "id": "3346959b-9eb4-4266-82bd-7e6795e83b39",
   "metadata": {},
   "source": [
    "#### Preliminaries\n",
    "\n",
    "Before checking out this notebook, please consider the following:\n",
    "\n",
    "* The OpenAI API is **not free**; it operates on a prepaid, pay-as-you-go model, and you must add a valid payment method and prepay at least a small amount, to use the service. OpenAI no longer provides free trial credits for new accounts, so to utilize the API, you need to fund your account with credits (note: this information may not be up to date; check the [official page](https://platform.openai.com/docs/pricing) for last information about pricing).\n",
    "\n",
    "* This notebooks serves as a **basic introduction** to the OpenAI API. The API offers many endpoints and endpoint parameters, making the API very flexible and powerful. For many more and more sophisticated examples, you can check out the official [OpenAI Cookbook](https://github.com/openai/openai-cookbook/tree/main/examples) as well as the official [API documentation](https://platform.openai.com/docs/api-reference/introduction).\n",
    "\n",
    "* The OpenAI API as well as the information this notebook refers to are **subject to change**. This means that some information in this notebook may be outdated or some of the code examples will no longer work (\"as is\"). This notebook was last updated in *September 2025*."
   ]
  },
  {
   "cell_type": "markdown",
   "id": "ad2a568a-bc4e-41ac-947d-369fa9ddd580",
   "metadata": {},
   "source": [
    "---"
   ]
  },
  {
   "cell_type": "markdown",
   "id": "563d8dbc-4ac5-44f5-8784-bd0c8262780e",
   "metadata": {},
   "source": [
    "## Authentication & API Keys\n",
    "\n",
    "The purpose of authentication when accessing an API is to verify the identity of the user or application making the request, ensuring that only authorized parties can interact with the service. This protects the API from unauthorized access, misuse, or abuse, while also allowing the provider to track usage, enforce quotas, and associate requests with specific accounts for billing or monitoring. In short, authentication establishes trust between the client and the API provider, enabling secure and accountable communication.\n",
    "\n",
    "**API keys** act as a **secure identifier** that authenticates a user or application when accessing an API. In other words, an API key proves to the service provider (like OpenAI) that the request is coming from a valid, authorized source. This ensures that only approved users can make requests and that usage can be tracked and billed appropriately. API keys also serve an important role in **usage monitoring and security**. They allow providers to enforce rate limits, track how much each user or organization is consuming, and prevent abuse or unauthorized access. For developers, API keys make it possible to integrate powerful external services into applications while maintaining control over who can access those services and under what conditions.\n",
    "\n",
    "The OpenAI API distinguishes between two types of keys the; the main difference lies in ownership, usage scope, and billing management.:\n",
    "\n",
    "* **Personal API keys** are tied directly to an individual OpenAI account. They are meant for personal use &mdash; such as testing, learning, or building small projects. Billing is linked to the individual user's payment method, and usage is tracked under that person's account. These keys are ideal if you are experimenting on your own or developing prototypes without team collaboration.\n",
    "\n",
    "* **Organization API keys** are associated with an organization's OpenAI account. Multiple team members can share access, and all API usage is consolidated under the organization's billing and quotas. This makes it easier for companies, research groups, or teams to manage shared resources, monitor usage, and ensure that projects are funded centrally rather than through individual accounts.\n",
    "\n",
    "In the following, we assume you want to create a personal API key. If you are a member of an organization, company, or team with an organization API key, you can check with the creator of the organization to get access to the API."
   ]
  },
  {
   "cell_type": "markdown",
   "id": "61de9491-b3b3-41c2-a95d-45507f5ad43b",
   "metadata": {},
   "source": [
    "### Creating an API Key\n",
    "\n",
    "To create an API key for accessing the OpenAI API, you must first sign in to your [OpenAI account](https://platform.openai.com/). From the account dashboard, you can navigate to the **API Keys** section (left side bar). There, you  can the click **\"Create new secret key\"** button (top right) to generate a new API key. Once created, the key will be displayed only once, so it is important to copy and store it securely (e.g., in a password manager or environment variable). You can then use this key in your code to authenticate requests to the OpenAI API. If your key is ever compromised (e.g., accidentally shared or leaked to other people), you should revoke it immediately and generate a new one."
   ]
  },
  {
   "cell_type": "markdown",
   "id": "90f1717e-5e05-4737-ba6a-dba0629aa576",
   "metadata": {},
   "source": [
    "### Storing your API Key\n",
    "\n",
    "It is not a good practice to include API keys directly in your code because doing so exposes them to potential misuse. If the code is shared publicly (for example, on GitHub, in a notebook, or even within a team), the keys can easily be copied and used by unauthorized parties. This can lead to unexpected costs, data breaches, or service abuse since the API provider cannot distinguish between your legitimate use and someone else's.\n",
    "\n",
    "Instead, best practice is to store API keys securely outside of your code &mdash; for example, in **environment variables**, a **configuration file that is excluded from version control**, or a **secrets manager**. Your application can then load the key at runtime without exposing it in the source code, keeping access secure while still enabling smooth integration. In the following, we describe how you can store your newly generated OpenAI API key using an environment variable; this depends on your type of operating system."
   ]
  },
  {
   "cell_type": "markdown",
   "id": "c1dd76d6-c22d-4881-a419-8b75dbeb7989",
   "metadata": {},
   "source": [
    "#### Windows\n",
    "\n",
    "To set a variable that persists across reboots and new sessions, use the `setx` command in the Windows PowerShell or the Windows Command Prompt. Note that changes made with `setx` won't be visible in your current command prompt session; you will need to open a new one. In case of setting an environment variable for the OpenAI API key, the required command is"
   ]
  },
  {
   "cell_type": "markdown",
   "id": "2c5273da-1fb2-44ad-8e35-74496333e94e",
   "metadata": {},
   "source": [
    "`\n",
    "setx OPENAI_API_KEY \"your_api_key_here\"\n",
    "`"
   ]
  },
  {
   "cell_type": "markdown",
   "id": "6a929c66-cea0-4b8f-bc68-e70b4d9d4eb9",
   "metadata": {},
   "source": [
    "Of course, you need to replace `your_api_key_here` with the API you have just generated. Alternatively, you can use the graphical user interface. Navigate to **System Properties**, then click on **Environment Variables**. There, you can add or edit user-specific or system-wide variables."
   ]
  },
  {
   "cell_type": "markdown",
   "id": "9cba53af-45ee-42c6-96e1-8ba09228d1f1",
   "metadata": {},
   "source": [
    "#### MacOS & Linux\n",
    "\n",
    "For a temporary definition of an environment variable, in both macOS and Linux, which are Unix-like systems, you can use the `export` command to set a variable for the current shell session. However this requires that you have to start your Jupyter environment in the same session you have defined the variable. A more convenient solution is therefore to store the API key permanently. To make a variable permanent, you need to add the export command to one of your shell's startup files. The correct file depends on the shell you're using. Some common files are:\n",
    "\n",
    "* `~/.bash_profile` or `~/.bashrc` for Bash shells\n",
    "\n",
    "* `~/.zshrc` for Zsh shells (default on modern macOS)\n",
    "\n",
    "You can edit these files using a text editor like nano or vim to add the following `export` command to the file (e.g., at the end):"
   ]
  },
  {
   "cell_type": "markdown",
   "id": "7d57f338-e299-4481-9b15-fbdbbf234842",
   "metadata": {},
   "source": [
    "`setx OPENAI_API_KEY \"your_api_key_here\"`"
   ]
  },
  {
   "cell_type": "markdown",
   "id": "4304d43a-2f51-4c5f-b272-07ba87aec969",
   "metadata": {},
   "source": [
    "After adding the variable, you'll need to `source` the file or open a new terminal session for the changes to take effect, for example:"
   ]
  },
  {
   "cell_type": "markdown",
   "id": "3d1327de-e4c0-484f-827b-e541d8c3a90a",
   "metadata": {},
   "source": [
    "`source ~/.bash_profile`"
   ]
  },
  {
   "cell_type": "markdown",
   "id": "91398027-9e57-4b4c-96ce-233b25da4d5d",
   "metadata": {},
   "source": [
    "To check if your environment variable is correctly set you can try to print in the terminal using the following command:"
   ]
  },
  {
   "cell_type": "markdown",
   "id": "5f8ebe54-076e-45b2-ab81-ef2740188b48",
   "metadata": {},
   "source": [
    "`echo $OPENAI_API_KEY`"
   ]
  },
  {
   "cell_type": "markdown",
   "id": "abc10468-cba1-4bbc-ad0b-7717b6283dfe",
   "metadata": {},
   "source": [
    "If you see your API key, the environment variable for the key has been set correctly, and you are ready to go."
   ]
  },
  {
   "cell_type": "markdown",
   "id": "660b3e0e-ac58-4872-bde5-39e6da46ce17",
   "metadata": {},
   "source": [
    "### Creating an Client\n",
    "\n",
    "Once you have set the environment variable for the OpenAI API key you can create a client to use the API for requests. In the OpenAI Python library, the client is the main object you use to communicate with the OpenAI API. It acts as a wrapper around all API endpoints, handling authentication, request formatting, and responses for you. You can create a client using the the following line of code:"
   ]
  },
  {
   "cell_type": "code",
   "execution_count": 3,
   "id": "b4dfbb4e-55da-4ad5-9e4f-f84ccdd7afce",
   "metadata": {},
   "outputs": [],
   "source": [
    "client = openai.OpenAI()"
   ]
  },
  {
   "cell_type": "markdown",
   "id": "041b2488-5378-4bfd-9769-cfaf2bb953e5",
   "metadata": {},
   "source": [
    "The `OpenAI` class can directly read environment variables, so you do not need to manually pass the API key if it is already set as `OPENAI_API_KEY`; the library looks for the `OPENAI_API_KEY` environment variable by default. Again, this makes the code simpler as well as safer. You are now ready to use this client to send requests to the different available API endpoints, and receive the responses in a structured way for further processing in your application. This is what we look at next."
   ]
  },
  {
   "cell_type": "markdown",
   "id": "339879c4-5e6a-46a2-bec5-0f91ae8f9bd5",
   "metadata": {},
   "source": [
    "---"
   ]
  },
  {
   "cell_type": "markdown",
   "id": "1c5ea4be-3756-4a6c-b1fa-41d9e1337d80",
   "metadata": {},
   "source": [
    "## API Endpoints &mdash; Overview\n",
    "\n",
    "OpenAI provides a variety of models via its API, each optimized for different tasks, levels of performance, and cost. The primary categories include **GPT models for text generation and understanding**, **embedding models for semantic representations**, and **multimodal models that handle text, images, or audio**. Within these categories, there are multiple versions and variants, such as the GPT-4 family, GPT-3.5, and specialized models like `gpt-4o-mini`, each designed to balance capabilities, speed, and cost.\n",
    "\n",
    "GPT models differ mainly in **performance, capabilities, and pricing**. For instance, GPT-4 models are more capable than GPT-3.5 in terms of reasoning, creativity, and handling complex instructions, but they are also more expensive per token and may have higher latency. Lighter variants like `gpt-4o-mini` provide faster responses at a lower cost but may sacrifice some depth of reasoning or nuance. This allows developers to choose models based on the specific needs of their application, whether that’s high-quality content generation, interactive chatbots, or rapid prototyping.\n",
    "\n",
    "Embedding models, on the other hand, are optimized for **representing text or other data in high-dimensional vector spaces** for tasks like search, clustering, or recommendation. They generally have lower costs than full GPT models because they are specialized and do not perform free-form text generation. Finally, multimodal models expand the range of tasks to include **image understanding, audio transcription, and code generation**, offering flexibility for applications that require multiple types of input or output. By offering a range of models with different strengths and pricing, OpenAI enables developers to select the most suitable tool for their project while balancing performance and cost.\n",
    "\n",
    "The code cell use the client to retrieve a list of all available models; keep in mind that this list is likely to change over time:"
   ]
  },
  {
   "cell_type": "code",
   "execution_count": 4,
   "id": "6c5a9079-b5d9-423b-b8a7-d7398c60bf23",
   "metadata": {},
   "outputs": [
    {
     "name": "stdout",
     "output_type": "stream",
     "text": [
      "gpt-4-0613\n",
      "gpt-4\n",
      "gpt-3.5-turbo\n",
      "gpt-audio\n",
      "gpt-5-nano\n",
      "gpt-audio-2025-08-28\n",
      "gpt-realtime\n",
      "gpt-realtime-2025-08-28\n",
      "davinci-002\n",
      "babbage-002\n",
      "gpt-3.5-turbo-instruct\n",
      "gpt-3.5-turbo-instruct-0914\n",
      "dall-e-3\n",
      "dall-e-2\n",
      "gpt-4-1106-preview\n",
      "gpt-3.5-turbo-1106\n",
      "tts-1-hd\n",
      "tts-1-1106\n",
      "tts-1-hd-1106\n",
      "text-embedding-3-small\n",
      "text-embedding-3-large\n",
      "gpt-4-0125-preview\n",
      "gpt-4-turbo-preview\n",
      "gpt-3.5-turbo-0125\n",
      "gpt-4-turbo\n",
      "gpt-4-turbo-2024-04-09\n",
      "gpt-4o\n",
      "gpt-4o-2024-05-13\n",
      "gpt-4o-mini-2024-07-18\n",
      "gpt-4o-mini\n",
      "gpt-4o-2024-08-06\n",
      "chatgpt-4o-latest\n",
      "o1-mini-2024-09-12\n",
      "o1-mini\n",
      "gpt-4o-realtime-preview-2024-10-01\n",
      "gpt-4o-audio-preview-2024-10-01\n",
      "gpt-4o-audio-preview\n",
      "gpt-4o-realtime-preview\n",
      "omni-moderation-latest\n",
      "omni-moderation-2024-09-26\n",
      "gpt-4o-realtime-preview-2024-12-17\n",
      "gpt-4o-audio-preview-2024-12-17\n",
      "gpt-4o-mini-realtime-preview-2024-12-17\n",
      "gpt-4o-mini-audio-preview-2024-12-17\n",
      "o1-2024-12-17\n",
      "o1\n",
      "gpt-4o-mini-realtime-preview\n",
      "gpt-4o-mini-audio-preview\n",
      "o3-mini\n",
      "o3-mini-2025-01-31\n",
      "gpt-4o-2024-11-20\n",
      "gpt-4o-search-preview-2025-03-11\n",
      "gpt-4o-search-preview\n",
      "gpt-4o-mini-search-preview-2025-03-11\n",
      "gpt-4o-mini-search-preview\n",
      "gpt-4o-transcribe\n",
      "gpt-4o-mini-transcribe\n",
      "o1-pro-2025-03-19\n",
      "o1-pro\n",
      "gpt-4o-mini-tts\n",
      "o3-2025-04-16\n",
      "o4-mini-2025-04-16\n",
      "o3\n",
      "o4-mini\n",
      "gpt-4.1-2025-04-14\n",
      "gpt-4.1\n",
      "gpt-4.1-mini-2025-04-14\n",
      "gpt-4.1-mini\n",
      "gpt-4.1-nano-2025-04-14\n",
      "gpt-4.1-nano\n",
      "gpt-image-1\n",
      "gpt-4o-realtime-preview-2025-06-03\n",
      "gpt-4o-audio-preview-2025-06-03\n",
      "gpt-5-chat-latest\n",
      "gpt-5-2025-08-07\n",
      "gpt-5\n",
      "gpt-5-mini-2025-08-07\n",
      "gpt-5-mini\n",
      "gpt-5-nano-2025-08-07\n",
      "gpt-3.5-turbo-16k\n",
      "tts-1\n",
      "whisper-1\n",
      "text-embedding-ada-002\n"
     ]
    }
   ],
   "source": [
    "models = client.models.list()\n",
    "for model in models:\n",
    "    print(model.id)"
   ]
  },
  {
   "cell_type": "markdown",
   "id": "b2dead8d-6568-4870-9a7d-fac688fc8952",
   "metadata": {},
   "source": [
    "Unfortunately, this request does not include any pricing information, which needs to be looked up on the [official page](https://platform.openai.com/docs/pricing). However, the table below showing an overview to the main model families includes &mdash; apart from the naming patterns and typical use cases &mdash; also a general pricing focus."
   ]
  },
  {
   "cell_type": "markdown",
   "id": "1f659921-6bb2-40c6-9fa1-3c943c93b26e",
   "metadata": {},
   "source": [
    "| **Model Family**   | **Naming Pattern**                  | **Examples**                  | **Typical Use Cases**                                | **Pricing Focus**              |\n",
    "|---------------------|-------------------------------------|-------------------------------|-----------------------------------------------------|---------------------------------|\n",
    "| **GPT (Text & Chat)** | `gpt-<version>[-variant]`          | `gpt-4o`, `gpt-4o-mini`, `gpt-3.5-turbo` | Natural language generation, chatbots, reasoning, coding assistance | Mini/3.5 = cheaper, 4/4o = more powerful |\n",
    "| **Embeddings**      | `text-embedding-<generation>-<size>` | `text-embedding-3-small`, `text-embedding-3-large` | Semantic search, clustering, recommendations, similarity comparisons | Small = cost-efficient, Large = higher accuracy |\n",
    "| **Images**          | `gpt-image-<version>`               | `gpt-image-1`                 | Text-to-image generation, creative design, visual prototyping | Pay-per-image, higher resolution costs more |\n",
    "| **Audio**           | `whisper-<version>`                 | `whisper-1`                   | Speech-to-text transcription, audio translation | Flat pricing per minute of audio |\n",
    "| **Moderation**      | `<family>-moderation-<version>`     | `omni-moderation-latest`, `omni-moderation-dev` | Content safety filtering, compliance, harmful content detection | Free of charge |\n"
   ]
  },
  {
   "cell_type": "markdown",
   "id": "cff6a874-8847-4027-ae63-bb4ece8d9961",
   "metadata": {},
   "source": [
    "In the following, we will go through each of the model families and show basic examples of their use in practice."
   ]
  },
  {
   "cell_type": "markdown",
   "id": "98a96b4e-0ad0-43eb-9372-87593b8d93de",
   "metadata": {},
   "source": [
    "### Chat / Conversation\n",
    "\n",
    "The `client.chat.completions.create` endpoint is used to generate responses in a conversational format. This endpoint is optimized for chat-based interactions where input and output are structured as a sequence of messages between roles such as \"system\", \"user\", and \"assistant\". This structure allows developers to define context (e.g., rules or instructions with \"system\"), provide user queries (\"user\"), and receive coherent, context-aware responses (\"assistant\"). It is commonly used for building chatbots, virtual assistants, customer support agents, and other interactive applications that require back-and-forth dialogue. The endpoint supports advanced features like function calling, multi-turn memory, and response formatting, making it versatile for both natural conversation and structured tasks such as querying APIs, summarization, or data extraction.\n",
    "\n",
    "Let's run this method with a simple example prompt. We use the **`gpt-3.5-turbo`** model as it offers a strong balance of performance, cost, and speed, making it one of the most practical models for real-world applications. It is significantly faster and cheaper than previous GPT-3 models while maintaining high-quality responses suitable for conversational AI, text generation, and reasoning tasks. Its optimization for chat-based interactions allows developers to build scalable applications like chatbots, support agents, and content tools without incurring the higher costs of larger models like GPT-4, making it an efficient choice for both experimentation and production. \n",
    "\n",
    "Apart from the client and the model, the example below only includes a \"user\" prompt (and ignoring all other roles). However, notice how the user prompt is an element of a list which is the value for the argument `messages`. This list can easily be extended to include additional prompts from the other two roles (\"system\" and \"assistant\")."
   ]
  },
  {
   "cell_type": "code",
   "execution_count": 5,
   "id": "57110666-f76a-403d-a245-02272fb0af44",
   "metadata": {},
   "outputs": [
    {
     "name": "stdout",
     "output_type": "stream",
     "text": [
      "The average distance between the Earth and the moon is about 238,855 miles (384,400 kilometers). However, this distance can vary due to the elliptical orbit of the moon around the Earth.\n"
     ]
    }
   ],
   "source": [
    "model = \"gpt-3.5-turbo\"\n",
    "prompt = \"What us the distance between the earth and the moon?\"\n",
    "\n",
    "try:\n",
    "    # Submit prompt to model\n",
    "    completion = client.chat.completions.create(model=model, messages=[{\"role\": \"user\",\"content\": prompt}]\n",
    "                 )\n",
    "    # Return reponse (content only)\n",
    "    print(completion.choices[0].message.content)\n",
    "except Exception as e:\n",
    "    print(f\"An error occured: {e}\")"
   ]
  },
  {
   "cell_type": "markdown",
   "id": "723c926b-0446-492d-8e2f-0a66e1f24632",
   "metadata": {},
   "source": [
    "The `client.chat.completions.create` endpoint is one of the most commonly used and flexible endpoints in the OpenAI API because it is designed specifically for conversational workflows while also supporting a wide range of other tasks. Its structured message format with roles (\"system\", \"user\", \"assistant\") makes it easy to guide the model's behavior, maintain context across turns, and create dynamic multi-turn conversations. This design aligns naturally with how most real-world applications &mdash; such as chatbots, assistants, or tutoring systems &mdash; interact with users. Beyond simple dialogue, the endpoint's flexibility comes from its ability to handle advanced features like function calling, tool integration, and structured output formatting. This allows developers to go beyond natural conversation and use it for automation, data processing, and API orchestration. Because it can serve both as a conversational engine and a general-purpose text generator, it has become the central entry point for building with OpenAI models."
   ]
  },
  {
   "cell_type": "markdown",
   "id": "14d2d969-e804-439d-b53a-3f49ad314c01",
   "metadata": {},
   "source": [
    "### Responses\n",
    "\n",
    "The `client.responses.create` endpoint is a newer, more flexible alternative to the classic `chat.completions.create` endpoint in the OpenAI API. It is designed as a **unified interface for generating model outputs**, whether they are plain text, structured responses, or tool-augmented actions. Instead of requiring a structured array of `messages`, it accepts a simpler `input` field, and it can return richer, event-based outputs in addition to plain text. This makes it easier to integrate into applications that need structured data, streaming responses, or more complex workflows. The endpoint is primarily used for **building stateful, agent-like applications**. It supports features such as maintaining conversational context across requests (via `previous_response_id`), calling external tools (e.g., web search, file search, code execution), and producing structured outputs like JSON that align with schemas. In practice, this means developers can use this endpoint not just for chatbots, but also for advanced assistants, reasoning tasks, and applications where the model must interact with external systems in a controlled, reliable way.\n",
    "\n",
    "A minimal working example for calling the `client.responses.create` endpoint is shown in the code cell below. Note that unlike `client.chat.completions.create` endpoint, which requires a messages array with roles (\"system\", \"user\", \"assistant\"), the newer `client.responses.create` endpoint works differently. You do not explicitly assign roles like \"system\" or \"assistant\" in the same way. Instead, you provide input, which can be plain text or a list of structured content items. If you need role-like behavior (e.g., system instructions vs. user input), that is handled through the input structure or by passing system-level instructions separately. The Responses API is designed to be simpler and more general-purpose, so it abstracts away explicit roles. We will see more practical examples in later in this notebook"
   ]
  },
  {
   "cell_type": "code",
   "execution_count": 6,
   "id": "b19d68d6-f99d-4d43-948c-5a6e77ea2b7e",
   "metadata": {},
   "outputs": [
    {
     "name": "stdout",
     "output_type": "stream",
     "text": [
      "The average distance between the Earth and the Moon is about 384,400 kilometers (238,855 miles). However, this distance can vary due to the Moon's elliptical orbit around the Earth.\n"
     ]
    }
   ],
   "source": [
    "model = \"gpt-3.5-turbo\"\n",
    "prompt = \"What us the distance between the earth and the moon?\"\n",
    "\n",
    "try:\n",
    "    # Submit prompt to model by call API endpoint\n",
    "    response = client.responses.create(model=model, input=prompt)\n",
    "    # Return reponse (content only)\n",
    "    print(response.output_text)\n",
    "except Exception as e:\n",
    "    print(f\"An error occured: {e}\")"
   ]
  },
  {
   "cell_type": "markdown",
   "id": "224235b2-a0de-44aa-bf98-934ad35dce7f",
   "metadata": {},
   "source": [
    "This is a newer `responses.create` endpoint is designed as a superset of `chat.completions.create`. It simplifies multi-turn dialogues and agent workflows by allowing the service to manage conversation state. You can pass a `previous_response_id` to continue a dialogue naturally without resending the full message history. It also unifies the arguments and usage with other endpoints. The table below provides a brief comparison between both endpoints."
   ]
  },
  {
   "cell_type": "markdown",
   "id": "48698af3-7b42-4a08-8103-cf9703afba2c",
   "metadata": {},
   "source": [
    "| Feature                          | `chat.completions.create`                   | `responses.create`                                         |\n",
    "| -------------------------------- | ------------------------------------------- | ---------------------------------------------------------- |\n",
    "| **Context Management**           | Client-managed message history              | Server-managed via `previous_response_id`                  |\n",
    "| **Input Format**                 | Array of `messages` (roles + content)       | Simple `input` (text or structured list)                   |\n",
    "| **Response Format**              | `choices` array                             | Structured `output` with semantic events and `output_text` |\n",
    "| **Tooling / Agent Capabilities** | Manual integration                          | Native support for web search, file search, computer use   |\n",
    "| **Statefulness**                 | Stateless, conversation managed client-side | Stateful, maintained by service                            |\n",
    "| **Ease of advanced flows**       | Requires manual orchestration               | Simplified orchestration with built-in support             |\n",
    "| **Status / Future Role**         | Long-standing standard; remains supported   | The new, extensible, forward-looking default for agents    |\n"
   ]
  },
  {
   "cell_type": "markdown",
   "id": "2831b995-7e85-4f19-8ad9-963e24f1002c",
   "metadata": {},
   "source": [
    "Both endpoints are very flexible and powerful and the choice of endpoint generally depends on the kind of task you want to solve using the OpenAI API."
   ]
  },
  {
   "cell_type": "markdown",
   "id": "224f0172-0ae6-4bb4-b94d-8ab08263d189",
   "metadata": {},
   "source": [
    "### Moderation\n",
    "\n",
    "The `moderations.create` endpoint of the OpenAI API is a specialized tool for **content safety**. Its main purpose is to analyze a given piece of text (or an image, with newer models) and determine if it violates OpenAI's usage policies. This is a critical step for developers to proactively filter or flag harmful content, such as hate speech, self-harm, sexual content, or violence, before it is displayed to users or processed by a language model. The API returns a classification of the content across a variety of categories, along with a boolean flag indicating if any policy was violated. The models suitable for this endpoint are specifically trained for moderation tasks. The most up-to-date and recommended model is `omni-moderation-latest`, which is built on GPT-4o and supports both text and image inputs, with improved accuracy, especially for non-English languages. There is also a legacy model, `text-moderation-latest`, which only handles text. The use of the moderation API is **free of charge**, and it is a vital component for any application that handles user-generated content, acting as a powerful and scalable guardrail for content safety.\n",
    "\n",
    "The code cell below lists a few example prompts you can try with this endpoint, but you can also write your own prompts to see how well the model performs. We use the  **`omni-moderation-latest`** model as it should be used when calling the moderation endpoint because it is OpenAI's most up-to-date, accurate, and cost-efficient moderation model. This model is continuously improved to better detect harmful or policy-violating content. By always pointing to `-latest`, developers automatically benefit from ongoing updates without needing to change their code whenever a new moderation model is released."
   ]
  },
  {
   "cell_type": "code",
   "execution_count": 7,
   "id": "c3b3fb5b-1210-48ed-b33c-cda39b14a8c7",
   "metadata": {},
   "outputs": [],
   "source": [
    "model  = \"omni-moderation-latest\"\n",
    "\n",
    "#prompt = \"Earth and venus are two planets of very similar size\" # (harmless prompt)\n",
    "prompt = \"I wish all my enemies would suffer!\"\n",
    "#prompt = \"I hate the world. I wish I wouldn't wake up tomorrow.\"\n",
    "#prompt = \"Let's hunt those bastards down and give them a beating.\"\n",
    "\n",
    "try:\n",
    "    # Submit prompt to model by call API endpoint\n",
    "    response = client.moderations.create(model=model, input=prompt)\n",
    "    # Extract main moderation output from JSON object\n",
    "    moderation_output = response.results[0]\n",
    "except Exception as e:\n",
    "    print(f\"An error occured: {e}\")"
   ]
  },
  {
   "cell_type": "markdown",
   "id": "1ba24b76-1d00-46ff-abf0-763d4ea4c7f5",
   "metadata": {},
   "source": [
    "The output of the `moderations.create` endpoint is returned in JSON format, structured to give moderation results for each input text. The most basic result is a boolean flag, where `True` indicates that the moderation identified problems with the prompt."
   ]
  },
  {
   "cell_type": "code",
   "execution_count": 8,
   "id": "a17c853d-bfb9-4366-83f7-2a4ff2649f17",
   "metadata": {},
   "outputs": [
    {
     "name": "stdout",
     "output_type": "stream",
     "text": [
      "Response flag: True\n"
     ]
    }
   ],
   "source": [
    "print(f\"Response flag: {moderation_output.flagged}\")"
   ]
  },
  {
   "cell_type": "markdown",
   "id": "e6fcdea9-f2db-4e5e-bfcd-a14dd96e8652",
   "metadata": {},
   "source": [
    "Apart from just a simple flag whether a prompt violates any usage policy, the response also includes more fine-grained information about various **categories** that indicate whether the input text potentially falls into certain sensitive or restricted content areas. Some of the main categories (as of the current **`omni-moderation-latest`** model) are:\n",
    "\n",
    "* **hate:** content that expresses, incites, or promotes hate based on identity.\n",
    "* **hate/threatening:** hate content that also includes threats of violence.\n",
    "* **self-harm:** content promoting, encouraging, or depicting self-harm.\n",
    "* **sexual:** sexually explicit or pornographic content.\n",
    "* **sexual/minors:** sexual content involving or targeting minors.\n",
    "* **violence:** content that promotes or depicts violence.\n",
    "* **violence/graphic:** explicit or gory depictions of violence.\n",
    "\n",
    "The response provides boolean values (`true`/`false`) for each category, indicating whether the content is likely to fall under it. Additionally, there are **category scores**, which gives a confidence score (between 0 and 1) for each category. This allows developers to build moderation logic that is either strict (blocking on any flag) or flexible (using thresholds on category scores). The code snippet below shows for each available category the boolean values as well as the score."
   ]
  },
  {
   "cell_type": "code",
   "execution_count": 9,
   "id": "9e32d01b-3c40-4cf3-98fb-8ac49501aa6c",
   "metadata": {},
   "outputs": [
    {
     "name": "stdout",
     "output_type": "stream",
     "text": [
      "harassment: True (0.5244)\n",
      "harassment_threatening: True (0.4626)\n",
      "hate: False (0.0084)\n",
      "hate_threatening: False (0.0046)\n",
      "illicit: False (0.0166)\n",
      "illicit_violent: False (0.0002)\n",
      "self_harm: False (0.0005)\n",
      "self_harm_instructions: False (0.0002)\n",
      "self_harm_intent: False (0.0003)\n",
      "sexual: False (0.0001)\n",
      "sexual_minors: False (0.0000)\n",
      "violence: True (0.4232)\n",
      "violence_graphic: False (0.0016)\n",
      "harassment/threatening: True (0.4626)\n",
      "hate/threatening: False (0.0046)\n",
      "illicit/violent: False (0.0002)\n",
      "self-harm/intent: False (0.0003)\n",
      "self-harm/instructions: False (0.0002)\n",
      "self-harm: False (0.0005)\n",
      "sexual/minors: False (0.0000)\n",
      "violence/graphic: False (0.0016)\n"
     ]
    }
   ],
   "source": [
    "for category, score in zip(moderation_output.categories, moderation_output.category_scores):\n",
    "    print(f\"{category[0]}: {category[1]} ({score[1]:.4f})\")"
   ]
  },
  {
   "cell_type": "markdown",
   "id": "88ffcc9b-9f91-400a-88bd-cc60948bb922",
   "metadata": {},
   "source": [
    "At least for the simple examples given in the previous code cell, both the boolean flags and numerical scores for each category are arguably a good match. Of course, language is very expressive and can also be very subtle, typically making it harder for the model to guarantee a reliable moderation."
   ]
  },
  {
   "cell_type": "markdown",
   "id": "8d27b408-5c04-416b-b5b8-d5acf72e523e",
   "metadata": {},
   "source": [
    "### Embeddings\n",
    "\n",
    "The `embeddings.create` endpoint of the OpenAI API is used to convert text (or other data types) into high-dimensional numerical vectors, known as **embeddings**. Embeddings capture the **semantic meaning** of the input, so texts with similar meanings have vectors that are close to each other in the vector space. Unlike text generation endpoints, which produce human-readable outputs, embeddings are primarily used for mathematical and computational operations such as similarity comparison, clustering, or search. This endpoint is commonly used for semantic search and information retrieval. By embedding both a query and a collection of documents, developers can measure the similarity between them using cosine similarity or other distance metrics. This allows applications to retrieve the most relevant documents even if the exact words in the query do not appear in the documents, making it far more powerful than traditional keyword-based search. Embeddings are also widely used in recommendation systems, clustering, and classification tasks. For example, they can help group similar customer reviews, recommend similar products, or categorize content based on semantic meaning. \n",
    "\n",
    "A minimal example using this endpoint is, again, very easy to implement. We use a simple prompt and the **`text-embedding-3-small`** model. This model offers a highly efficient and cost-effective solution for generating embeddings while still maintaining strong performance across semantic search, clustering, classification, and recommendation tasks. Compared to larger embedding models, it is much faster and cheaper, making it ideal for large-scale applications where millions of vectors need to be computed or stored. Despite its smaller size, it delivers competitive accuracy in capturing semantic meaning, making it a practical default choice for most use cases that balance quality with affordability."
   ]
  },
  {
   "cell_type": "code",
   "execution_count": 10,
   "id": "16ca916a-b7ad-49b2-974c-465784a5fed3",
   "metadata": {},
   "outputs": [
    {
     "name": "stdout",
     "output_type": "stream",
     "text": [
      "Length of embedding vector: 1536\n",
      "First 3 vector elements:    [0.0013678136747330427, -0.027956858277320862, 0.017621532082557678]\n"
     ]
    }
   ],
   "source": [
    "model  = \"text-embedding-3-small\"\n",
    "prompt = \"I wish all my enemies would suffer!\"\n",
    "\n",
    "try:\n",
    "    # Generate embedding vector by calling endpoint\n",
    "    response = client.embeddings.create(model=model, input=prompt)\n",
    "    # Extract embedding vector from response object\n",
    "    embedding_vector = response.data[0].embedding\n",
    "    # Print the length of the embedding vector and the first 3 elements as examples\n",
    "    print(f\"Length of embedding vector: {len(embedding_vector)}\")\n",
    "    print(f\"First 3 vector elements:    {embedding_vector[:3]}\")\n",
    "except Exception as e:\n",
    "    print(f\"An error occured: {e}\")"
   ]
  },
  {
   "cell_type": "markdown",
   "id": "af50ded3-4da2-4c75-a043-d922ae3a0450",
   "metadata": {},
   "source": [
    "These embedding vectors can then be used to perform a variety of tasks that rely on measuring similarity or clustering of texts. For example, in semantic search, you can compare the embedding of a query with embeddings of a document database using cosine similarity or Euclidean distance to find the most relevant documents. Similarly, embeddings can be used for clustering similar texts, which is useful for topic modeling, grouping customer feedback, or organizing large text corpora. Embeddings are also commonly used for recommendation systems, where items (e.g., products, articles, or media) are represented by embeddings and recommendations are made by finding items with vectors closest to a user's preferences. In classification tasks, you can feed embeddings into a downstream machine learning model to predict categories based on the semantic content of the text. Overall, embeddings serve as a versatile, numerical representation of language that enables efficient similarity comparisons, clustering, search, and integration into AI-driven applications."
   ]
  },
  {
   "cell_type": "markdown",
   "id": "099920a6-4a7e-456b-809d-3275d9a0ef31",
   "metadata": {},
   "source": [
    "### Audio / Speech\n",
    "\n",
    "The OpenAI API features an endpoint for audio content in the form of speech: `audio.transcriptions.create` to convert audio to text (speech-to-text), and `audio.translations.create` to translate audio into another language, typically English. Under the hood, both endpoints are very similar and may also use the same model."
   ]
  },
  {
   "cell_type": "markdown",
   "id": "88e407ea-882f-4651-b30c-727ff56fb4ef",
   "metadata": {},
   "source": [
    "#### Transcriptions\n",
    "\n",
    "The `audio.transcriptions.create` endpoint is designed to **convert spoken audio into written text**, essentially performing speech-to-text transcription. You provide an audio file in a supported format (such as MP3, WAV, or M4A), and the model processes the audio to produce an accurate textual representation of the speech. This endpoint leverages the **Whisper model**, which is optimized for understanding natural language in audio across multiple languages. This endpoint is commonly used for transcribing meetings, interviews, podcasts, or lectures into written form, making spoken content easier to search, analyze, or archive. It is also useful for building applications such as voice assistants, automated captioning systems, or multilingual transcription services, where converting audio to text is a critical step for further processing or user interaction. By automating transcription, it saves time and reduces the need for manual note-taking or transcription services.\n",
    "\n",
    "To test the endpoint, we provide a small mp3 file from a speech recognition dataset containing a voice recording of an English speaker. You can listen to the recording using the built-in audio play below to check if the transcription indeed matches the recording."
   ]
  },
  {
   "cell_type": "code",
   "execution_count": 11,
   "id": "08666e55-d8a1-4185-8071-e5f68dea4b8c",
   "metadata": {},
   "outputs": [
    {
     "data": {
      "text/html": [
       "\n",
       "                <audio  controls=\"controls\" >\n",
       "                    <source src=\"data:audio/mpeg;base64,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\" type=\"audio/mpeg\" />\n",
       "                    Your browser does not support the audio element.\n",
       "                </audio>\n",
       "              "
      ],
      "text/plain": [
       "<IPython.lib.display.Audio object>"
      ]
     },
     "execution_count": 11,
     "metadata": {},
     "output_type": "execute_result"
    }
   ],
   "source": [
    "Audio(mp3_voice_sample_english)"
   ]
  },
  {
   "cell_type": "markdown",
   "id": "2a59e9ce-446d-4b93-997c-7f2e52a28328",
   "metadata": {},
   "source": [
    "We can now take this mp3 file, load it as a binary file, and pass it as value for the `file` argument of the endpoint. This is rather different to previous endpoints, since `audio.transcriptions.create` does not expect a text prompt as input. The response, however, is a simple JSON document containing the string representing the transcript of the file. The **`whisper-1`** model is OpenAI’s speech-to-text system, designed for automatic speech recognition (ASR) tasks such as transcribing spoken language into written text. It is built on top of the open-source [Whisper architecture](https://openai.com/index/whisper/), which was trained on a large, diverse, and multilingual dataset, giving it strong performance across many languages, dialects, and noisy environments."
   ]
  },
  {
   "cell_type": "code",
   "execution_count": 12,
   "id": "61efb05a-824a-449c-8dbf-8348fa16fe0f",
   "metadata": {},
   "outputs": [
    {
     "name": "stdout",
     "output_type": "stream",
     "text": [
      "Transcription:\n",
      "The invention of movable metal letters in the middle of the 15th century may justly be considered as the invention of the art of printing.\n"
     ]
    }
   ],
   "source": [
    "model =  \"whisper-1\"\n",
    "\n",
    "try:\n",
    "    # Read mp3 file as binary file\n",
    "    audio_file = open(mp3_voice_sample_english, \"rb\")\n",
    "    # Generate transcript by calling the endpoint\n",
    "    response = client.audio.transcriptions.create(model=model, file=audio_file)\n",
    "    # Show generated transcription\n",
    "    print(f\"Transcription:\\n{response.text}\")\n",
    "except Exception as e:\n",
    "    print(f\"An error occured: {e}\")"
   ]
  },
  {
   "cell_type": "markdown",
   "id": "2e524f1f-b5d5-47e4-8f8a-e3aa42ad2626",
   "metadata": {},
   "source": [
    "#### Translations\n",
    "\n",
    "In contrast to transcriptions, the `audio.translations.create` endpoint is designed to **translate spoken audio from one language into another written language**, typically English. You provide an audio file in a supported format (like MP3, WAV, or M4A), and the model processes the audio to generate a translated text output. This endpoint also uses the **Whisper model**, which is capable of both transcription and translation, making it suitable for multilingual audio content. This endpoint is commonly used for localizing audio content**, such as interviews, lectures, podcasts, or international meetings, into a target language for broader accessibility. It enables applications like multilingual transcription services, global content distribution, and real-time translation tools, where users can understand spoken content in languages they may not speak. By automating translation of audio, it reduces the need for manual translation and allows developers to integrate multilingual capabilities directly into their software.\n",
    "\n",
    "As before, let's use a short mp3 file containing a voice recording of a Spanish speaker to test the endpoint."
   ]
  },
  {
   "cell_type": "code",
   "execution_count": 13,
   "id": "b5eb8790-11d7-4389-820a-e841bc9b2edb",
   "metadata": {},
   "outputs": [
    {
     "data": {
      "text/html": [
       "\n",
       "                <audio  controls=\"controls\" >\n",
       "                    <source src=\"data:audio/mpeg;base64,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\" type=\"audio/mpeg\" />\n",
       "                    Your browser does not support the audio element.\n",
       "                </audio>\n",
       "              "
      ],
      "text/plain": [
       "<IPython.lib.display.Audio object>"
      ]
     },
     "execution_count": 13,
     "metadata": {},
     "output_type": "execute_result"
    }
   ],
   "source": [
    "Audio(mp3_voice_sample_spanish)"
   ]
  },
  {
   "cell_type": "markdown",
   "id": "0f702b96-918d-4433-a3b2-b643a9497ef6",
   "metadata": {},
   "source": [
    "The use of this endpoint is very similar to the one for generating transcription; see the code cell below. Again, this important difference compared to most endpoints is that one of the main arguments is an audio file instead of a text prompt. We also use the same model **`whisper-1`** as it was trained on a multilingual dataset and is therefore also capable of translating voice recordings (here from Spanish to English)."
   ]
  },
  {
   "cell_type": "code",
   "execution_count": 14,
   "id": "b10a5e29-9ef1-4ff9-8bcf-c6ab5ef5007c",
   "metadata": {},
   "outputs": [
    {
     "name": "stdout",
     "output_type": "stream",
     "text": [
      "Translation:\n",
      "Now, he said, the door below is well closed. With keys and locks, Tobias replied. The boards are solid, lined with iron, and the posts, the posts too.\n"
     ]
    }
   ],
   "source": [
    "model =  \"whisper-1\"\n",
    "\n",
    "try:\n",
    "    # Read mp3 file as binary file\n",
    "    audio_file = open(mp3_voice_sample_spanish, \"rb\")\n",
    "    # Generate transcript by calling the endpoint\n",
    "    response = client.audio.translations.create(model=model, file=audio_file)\n",
    "    # Show generated translation\n",
    "    print(f\"Translation:\\n{response.text}\")\n",
    "except Exception as e:\n",
    "    print(f\"An error occured: {e}\")"
   ]
  },
  {
   "cell_type": "markdown",
   "id": "f7515f76-bbe5-44a2-b47b-80756ec90fa0",
   "metadata": {},
   "source": [
    "The audio endpoint using the **Whisper model** for speech-to-text is powerful for transcription and translation but has several limitations. **Accuracy** can be affected by background noise, overlapping speakers, heavy accents, or low-quality audio recordings, which may lead to misinterpretations or incomplete transcriptions. The model may also struggle with specialized vocabulary, technical jargon, or rare languages, limiting its reliability for domain-specific applications. There are also **practical constraints** like latency, file size limits, and rate restrictions. Large audio files require longer processing times and more tokens, which can increase costs and slow real-time applications. Additionally, the API outputs primarily textual transcriptions, meaning it does not natively provide speaker diarization, emotion detection, or other enriched audio analyses without additional processing. These factors make the audio endpoints best suited for general-purpose transcription and translation rather than high-precision or highly interactive audio analysis tasks."
   ]
  },
  {
   "cell_type": "markdown",
   "id": "8dfd84e1-e596-4c48-b92a-0b9ccd37fff5",
   "metadata": {},
   "source": [
    "### Images\n",
    "\n",
    "The `images.create` endpoint is used for **text-to-image generation**, where you provide a written prompt and the model produces an image that matches the description. This endpoint leverages models like **`gpt-image-1`**, which are trained to interpret natural language prompts and translate them into detailed, coherent visuals. You can also specify parameters such as image size or the number of variations, giving flexibility in how images are generated. It is commonly used for creative content generation, design prototyping, and visualization tasks. For example, developers and artists can use it to generate concept art, marketing materials, or illustrative graphics without requiring manual design work. Businesses can also use it to create product mockups, social media visuals, or personalized artwork at scale. By enabling programmatic image generation, this endpoint allows applications to dynamically produce visual content tailored to user input or specific scenarios.\n",
    "\n",
    "Let's run &mdash; or at least try to run &mdash; this function with some simple prompt. The **`gpt-image-1`** model is designed for image generation and editing based on text prompts. It allows users to create new images from scratch, modify existing ones (such as adding, removing, or altering objects), and even apply style transformations, all guided by natural language descriptions. In the example below, we only use the model to generate an image for a given text prompt. Apart from the model and the prompt, the size of the generated images is an important argument here. At the time of writing, the only supported values are: *\"1024x1024\"*, *\"1024x1536\"*, *\"1536x1024\"*, and *\"auto\"*. The response of the call is not the image itself but a URL pointing to the generated image. If needed, this image can then be downloaded using some additional simple code."
   ]
  },
  {
   "cell_type": "code",
   "execution_count": 15,
   "id": "ce027093-89fd-46a9-9fc2-5c58dac127c9",
   "metadata": {},
   "outputs": [
    {
     "name": "stdout",
     "output_type": "stream",
     "text": [
      "An error occured: Error code: 403 - {'error': {'message': 'Your organization must be verified to use the model `gpt-image-1`. Please go to: https://platform.openai.com/settings/organization/general and click on Verify Organization. If you just verified, it can take up to 15 minutes for access to propagate.', 'type': 'invalid_request_error', 'param': None, 'code': None}}\n"
     ]
    }
   ],
   "source": [
    "model =  \"gpt-image-1\"\n",
    "prompt = \"A snowman with an colorful drink standing on a beach.\"\n",
    "\n",
    "try:\n",
    "    # Generate image by calling the endpoint\n",
    "    response = client.images.generate(model=model, prompt=prompt, size=\"1024x1024\")\n",
    "    # Print URL pointing to generate image\n",
    "    print(\"Generated image URL:\", response.data[0].url)\n",
    "except Exception as e:\n",
    "    print(f\"An error occured: {e}\")"
   ]
  },
  {
   "cell_type": "markdown",
   "id": "a6890379-ffdd-425f-a762-a7624978117a",
   "metadata": {},
   "source": [
    "**Important:** Depending on your exact OpenAPI account, you are likely to get an error. The OpenAI API endpoint for generating images requires a verification process primarily to prevent misuse and ensure responsible access. Image generation models can be used to create realistic or harmful visual content, including deepfakes, violent imagery, or copyrighted material. By requiring identity verification, OpenAI can confirm that users are accountable for how they use the service, which helps mitigate risks associated with the distribution of unsafe or illegal content. This also allows OpenAI to enforce usage policies and comply with legal and regulatory requirements. Additionally, verification helps manage resource allocation and abuse prevention. Generating images is computationally intensive, and unrestricted access could lead to excessive or malicious usage that impacts service availability for legitimate users. By verifying accounts, OpenAI can tie usage to a responsible entity, monitor usage patterns, and apply safeguards such as rate limits, ensuring that the API remains reliable and sustainable for everyone. This process balances accessibility with safety and ethical considerations for AI-generated visual content."
   ]
  },
  {
   "cell_type": "markdown",
   "id": "e24c5d67-436b-4c36-8a20-c93833960ebf",
   "metadata": {},
   "source": [
    "### Files & Fine-tuning\n",
    "\n",
    "The OpenAI API provides functionality not only for interacting with pre-trained models but also for **customizing models through fine-tuning**. Two key endpoints in this process are `files.upload` and `fine_tunes.create`. These endpoints enable developers to prepare training data, upload it to OpenAI, and create a fine-tuned version of an existing model that is better suited for specific tasks or domains:\n",
    "\n",
    "* **`files.upload`**: this endpoint allows users to securely upload files to OpenAI's servers for use in fine-tuning or other purposes. Typically, these files are in **JSONL format**, where each line represents a training example with a `\"prompt\"` and a `\"completion\"` field. This endpoint ensures that the training data is properly formatted, stored, and accessible for subsequent fine-tuning processes. Users receive a **file ID** after uploading, which acts as a reference to the uploaded file in other API calls.\n",
    "\n",
    "* **`fine_tunes.create`** this endpoint is used to initiate a **fine-tuning job**. This endpoint takes the base model (e.g., `davinci` or `curie`) and the uploaded file ID as input and begins the process of training a new model that adapts the base model to the custom dataset. Fine-tuning allows the model to perform better on domain-specific tasks, produce consistent outputs, and follow particular styles or instructions defined in the training data.\n",
    "\n",
    "Together, these endpoints form a workflow that makes **model customization accessible and manageable**. By uploading curated training datasets and initiating fine-tuning jobs, developers can leverage OpenAI's powerful models while tailoring them to specific business, research, or application requirements. This capability is particularly valuable for applications that require high accuracy in niche domains, specialized terminology, or unique response patterns that generic pre-trained models may not handle optimally. However, since fine-tuning a model involves the collection, cleaning, and preparation of a training dataset, using those endpoints is beyond the scope of this notebook."
   ]
  },
  {
   "cell_type": "markdown",
   "id": "54746d11-d7c1-4ad5-9241-a71cb3979841",
   "metadata": {},
   "source": [
    "### Legacy Endpoints\n",
    "\n",
    "The legacy endpoints of the OpenAI API are the older interfaces that were used before the introduction of the chat-based API and other specialized endpoints. They are still available for backward compatibility, but OpenAI recommends using the newer endpoints for most tasks. The main legacy endpoints are briefly covered in this section."
   ]
  },
  {
   "cell_type": "markdown",
   "id": "d92ee597-755f-40ea-89fa-9085e4065cc3",
   "metadata": {},
   "source": [
    "#### Text Completion\n",
    "\n",
    "The `completions.create` endpoint is designed for **single-turn text generation**. You provide a prompt, and the model generates a continuation or response based on that prompt. This endpoint is suitable for tasks such as summarization, creative writing, code generation, or completing a text snippet. It uses the traditional completion models (like `text-davinci-003`) and does not require the chat-style `messages` format. You can control the output using parameters like `max_tokens`, `temperature`, and `stop` sequences.\n",
    "\n",
    "Note that this endpoint is considered a **legacy endpoint** because it predates the newer **chat-based API** (`chat.completions.create`) that is now the recommended standard for most text generation tasks. While it still works for generating text from a prompt, it lacks the built-in mechanisms for managing conversational context that chat models provide. OpenAI’s newer chat endpoints are more flexible and better suited for modern applications, including multi-turn interactions, role conditioning (system, user, assistant), and improved handling of instructions. The chat API also supports newer, more capable models like GPT-4 and GPT-4o, which are optimized for conversational reasoning. Because of these advantages, `completions.create` is now mostly maintained for backward compatibility, while developers are encouraged to use `chat.completions.create` for new projects."
   ]
  },
  {
   "cell_type": "markdown",
   "id": "435b2b08-18ae-41b0-b3e4-0c60fe47df0a",
   "metadata": {},
   "source": [
    "#### Edits\n",
    "\n",
    "The `edits.create` endpoint of the OpenAI API is a legacy endpoint that was specifically designed to **edit or correct** a piece of text. Its main purpose was to take an existing input string and an instruction, then return the edited version of the text. This was a dedicated API for tasks like proofreading, rewriting a sentence to be more concise, or fixing grammatical errors. The key advantage was its focused functionality for a specific task, differing from general text generation. However, this endpoint, along with the models it was designed for, has been officially deprecated by OpenAI. The models `text-davinci-edit-001` and `code-davinci-edit-001` were created for this purpose. OpenAI now recommends using the `chat.completions.create` ot `responses.create` endpoints with their newer, more capable models for all text editing and correction tasks. The modern chat-based models, such as `gpt-3.5-turbo` and `gpt-4`, are more versatile and can perform editing tasks with greater accuracy and flexibility by simply providing a clear instruction in the prompt."
   ]
  },
  {
   "cell_type": "markdown",
   "id": "ad32c452-c379-471f-9782-3c3f18f50ca7",
   "metadata": {},
   "source": [
    "---"
   ]
  },
  {
   "cell_type": "markdown",
   "id": "469d834a-6623-4e37-afb3-a0b518f38b00",
   "metadata": {},
   "source": [
    "## Responses API &mdash; Practical Examples\n",
    "\n",
    "The `responses.create` endpoint is the next-generation interface of the OpenAI API, designed to go beyond traditional chat completions. Unlike the older `chat.completions.create` endpoint &mdash; which relies on a fixed `messages` structure with roles &mdash;the Responses API accepts a more flexible `input` format and provides richer, structured outputs. It supports not only text generation, but also stateful conversations, tool usage, and structured response formats such as JSON. This makes it especially well-suited for building agent-like applications, assistants that interact with external systems, and workflows requiring precise control over output.\n",
    "\n",
    "In the previous overview to all endpoints, we only included a most basic example for using this endpoint. This section now provides more details. We will first walk through the different arguments supported by `responses.create`, explaining how each affects the model's behavior. We will then explore a series of practical examples, starting with simple text generation and moving towards more advanced use cases such as structured outputs, reasoning control, and multi-turn interactions with memory. By the end, you should have a clear understanding of how to leverage the Responses API to build powerful and flexible AI applications."
   ]
  },
  {
   "cell_type": "markdown",
   "id": "9c53bbca-a0ac-4efd-97a7-670e08f6c156",
   "metadata": {},
   "source": [
    "### Input Arguments\n",
    "\n",
    "In our introductory example for the `reponses.create` endpoint, we only considered the two required arguments `model` and `input`. However, the endpoint provides a whole series of arguments to make its use more flexible and its output more customizable. The table below provides an overview over the input arguments supported by the endpoint."
   ]
  },
  {
   "cell_type": "markdown",
   "id": "f12cc18e-7142-463e-8f5c-d3d57a537cbe",
   "metadata": {},
   "source": [
    "| Argument               | Purpose                                                            |\n",
    "| ---------------------- | ------------------------------------------------------------------ |\n",
    "| `model` (required)     | Chooses which language model to use (e.g., `gpt-3.5-turbo`)        |\n",
    "| `input` (required)     | Main prompt content (text or structured list)                      |\n",
    "| `previous_response_id` | Enables context retention from prior responses                     |\n",
    "| `temperature`          | Adjusts randomness and creativity of responses                     |\n",
    "| `top_p`                | Alternative sampling parameter to control diversity                |\n",
    "| `max_output_tokens`    | Caps the length of generated output                                |\n",
    "| `stream`               | Enables streaming of response data                                 |\n",
    "| `tools`                | Activates built-in or custom tools like search or function calling |\n",
    "| `reasoning`            | Controls internal reasoning style or effort                        |\n",
    "| `truncation`           | Manages input truncation behavior automatically                    |\n",
    "| `instructions`         | Higher-level instructions embedded in the prompt                   |\n",
    "| `metadata`             | Attach custom metadata for tracking purposes                       |\n",
    "| `user`                 | Identifies the end user for logging or policy use                  |\n"
   ]
  },
  {
   "cell_type": "markdown",
   "id": "436faf4d-11c7-44b8-91cf-88dbe03c1884",
   "metadata": {},
   "source": [
    "The purpose/effect of some arguments is arguably more intuitive than for others. For example, `max_output_tokens` allows you to manually restrict the length of the response. The `temperature` argument controls how deterministic or creative the model's output is. A lower value (close to 0) makes the model more focused and deterministic, consistently choosing the most likely responses, which is useful for tasks requiring accuracy and reliability. A higher value (closer to 1 or above) increases randomness, encouraging more diverse and creative outputs, which is useful for brainstorming or generating varied text; `top_p` behaves in a similar way. We will see in more detail how some of the more interesting arguments work when going through practical examples next."
   ]
  },
  {
   "cell_type": "markdown",
   "id": "f8091291-242c-4e77-94a9-401cdbea2606",
   "metadata": {},
   "source": [
    "### Basic Text Generation\n",
    "\n",
    "We already saw the most basic use of the `response.create` endpoint for generating a response text for a given prompt; and the example below is almost identical to the one above. However, instead of just printing the generating text, here we print the complete JSON response object just to see at least once what kind of information a response from the API typically contains."
   ]
  },
  {
   "cell_type": "code",
   "execution_count": 16,
   "id": "4ac5f67e-127e-42d1-a4a9-a45fca98f0ef",
   "metadata": {},
   "outputs": [
    {
     "name": "stdout",
     "output_type": "stream",
     "text": [
      "{\n",
      "  \"id\": \"resp_68bbf28c88f48193a41c12f3cad3dffc0b65059e0aec4874\",\n",
      "  \"created_at\": 1757147788.0,\n",
      "  \"error\": null,\n",
      "  \"incomplete_details\": null,\n",
      "  \"instructions\": null,\n",
      "  \"metadata\": {},\n",
      "  \"model\": \"gpt-3.5-turbo-0125\",\n",
      "  \"object\": \"response\",\n",
      "  \"output\": [\n",
      "    {\n",
      "      \"id\": \"msg_68bbf28cf9808193aeb04fd45f4eecdc0b65059e0aec4874\",\n",
      "      \"content\": [\n",
      "        {\n",
      "          \"annotations\": [],\n",
      "          \"text\": \"The average distance between the Earth and the Moon is about 238,855 miles (384,400 kilometers). However, this distance can vary due to the elliptical orbit of the Moon around the Earth.\",\n",
      "          \"type\": \"output_text\",\n",
      "          \"logprobs\": []\n",
      "        }\n",
      "      ],\n",
      "      \"role\": \"assistant\",\n",
      "      \"status\": \"completed\",\n",
      "      \"type\": \"message\"\n",
      "    }\n",
      "  ],\n",
      "  \"parallel_tool_calls\": true,\n",
      "  \"temperature\": 1.0,\n",
      "  \"tool_choice\": \"auto\",\n",
      "  \"tools\": [],\n",
      "  \"top_p\": 1.0,\n",
      "  \"background\": false,\n",
      "  \"max_output_tokens\": null,\n",
      "  \"previous_response_id\": null,\n",
      "  \"reasoning\": {\n",
      "    \"effort\": null,\n",
      "    \"generate_summary\": null,\n",
      "    \"summary\": null\n",
      "  },\n",
      "  \"service_tier\": \"default\",\n",
      "  \"status\": \"completed\",\n",
      "  \"text\": {\n",
      "    \"format\": {\n",
      "      \"type\": \"text\"\n",
      "    },\n",
      "    \"verbosity\": \"medium\"\n",
      "  },\n",
      "  \"truncation\": \"disabled\",\n",
      "  \"usage\": {\n",
      "    \"input_tokens\": 18,\n",
      "    \"input_tokens_details\": {\n",
      "      \"cached_tokens\": 0\n",
      "    },\n",
      "    \"output_tokens\": 42,\n",
      "    \"output_tokens_details\": {\n",
      "      \"reasoning_tokens\": 0\n",
      "    },\n",
      "    \"total_tokens\": 60\n",
      "  },\n",
      "  \"user\": null,\n",
      "  \"max_tool_calls\": null,\n",
      "  \"prompt_cache_key\": null,\n",
      "  \"safety_identifier\": null,\n",
      "  \"store\": true,\n",
      "  \"top_logprobs\": 0\n",
      "}\n"
     ]
    }
   ],
   "source": [
    "model  = \"gpt-3.5-turbo\"\n",
    "prompt = \"What us the distance between the earth and the moon?\"\n",
    "\n",
    "try:\n",
    "    # Generate model response by calling the endpoint\n",
    "    response = client.responses.create(model=model, input=prompt)\n",
    "    # Print complete JSON object of response\n",
    "    print(response.model_dump_json(indent=2))\n",
    "except Exception as e:\n",
    "    print(f\"An error occured: {e}\")"
   ]
  },
  {
   "cell_type": "markdown",
   "id": "2727ea5d-b0b8-4fbd-9e3b-0bd0b91d1408",
   "metadata": {},
   "source": [
    "A JSON response from the OpenAI API typically contains the model's generated output along with metadata about the request and response. For example, in the case of the `responses.create` or `chat.completions.create` endpoint, the JSON includes the generated text (or multiple possible outputs), information about the role of the message (e.g., \"system\", \"assistant\", \"user\"), and usage statistics like token counts. This structure ensures that both the content and important context are returned, allowing developers to handle not only the model's answer but also performance and cost-tracking details."
   ]
  },
  {
   "cell_type": "markdown",
   "id": "cbebdb19-7d55-43b8-8a88-946ad7d78629",
   "metadata": {},
   "source": [
    "### Text Generation with Instructions\n",
    "\n",
    "The **`instructions`** field in the `responses.create` endpoint is used to provide high-level guidance to the model, similar to how the \"system\" works in the older Chat Completions API. Instead of mixing long-winded setup text into the main `input`, you can separate global directives (e.g., *\"You are a helpful tutor who explains concepts step by step\"* or *\"Always respond in JSON format\"*) into the `instructions` parameter. This helps clearly distinguish **meta-level guidance** from the actual user request, making prompts easier to manage, reuse, and maintain. This is especially useful when building applications where the **style, tone, or constraints** must remain consistent across multiple interactions. By centralizing these instructions, you avoid repeating them in every `input` and reduce prompt engineering overhead. For example, you might set `instructions` to ensure the assistant always responds formally, while the `input` can change dynamically with each user query. This separation of concerns makes your system more modular and easier to scale for complex or multi-turn use cases."
   ]
  },
  {
   "cell_type": "code",
   "execution_count": 17,
   "id": "cb958103-9029-47c9-bc1f-e511202c974f",
   "metadata": {},
   "outputs": [
    {
     "name": "stdout",
     "output_type": "stream",
     "text": [
      "Photosynthesis iz da process by which green plantz, algae, Nd some bacterias convert light energy into chemical energy in da form of glucose. It involves de use of carbon dioxide, water, nd sunlight to produce oxygen nd glucose. Itz basically how plantz make their own food nd release oxygen into da atmosphere. #ScienceIsLit\n"
     ]
    }
   ],
   "source": [
    "model  = \"gpt-3.5-turbo\"\n",
    "prompt = \"Explain what photosynthesis is.\"\n",
    "instructions = \"Write all reponses in Internet slang.\"\n",
    "\n",
    "try:\n",
    "    # Create a response with high-level instructions\n",
    "    response = client.responses.create(model=model, instructions=instructions, input=prompt)\n",
    "    # Print the model's output\n",
    "    print(response.output_text)\n",
    "except Exception as e:\n",
    "    print(f\"An error occured: {e}\")"
   ]
  },
  {
   "cell_type": "markdown",
   "id": "fbbc0fad-470d-42eb-9085-f795befe766b",
   "metadata": {},
   "source": [
    "### Chaining Responses\n",
    "\n",
    "By default, as done in the previous example, all endpoint calls are independent from each other. However, this causes problems for creating conversation needed in applications such as chatbots. A conversation is characterized by **interdependent statements**, where each utterance depends on and shapes the meaning of the next. Unlike isolated sentences, conversational statements are linked through context, reference, and coherence: a response usually presupposes what was said before (e.g., answering a question, clarifying a claim, or challenging a point). This creates a chain of dependencies, where meaning is built incrementally rather than contained in single, standalone statements. These dependencies can take different forms, mainly:\n",
    "\n",
    "* **Referential dependencies:** Referential dependencies in a conversation occur when an utterance uses words or expressions (like pronouns, definite descriptions, or ellipses) that rely on earlier statements for their meaning. For example, in *\"I met Sarah yesterday.\"* &mdash; *\"Oh, what did she say?\"*, the pronoun *she* depends on the prior mention of *Sarah*. These dependencies help maintain coherence while avoiding repetition.\n",
    "\n",
    "* **Logical dependencies:** These dependencies in a conversation arise when one statement relates to another through reasoning, such as agreement, contradiction, cause-and-effect, or providing evidence. For instance, if someone says, *\"It's going to rain\"*, and the other replies, *\"Then we should bring umbrellas\"*, the second statement logically depends on the first. These dependencies drive the progression of ideas and support coherent argumentation or decision-making.\n",
    "\n",
    "* **Pragmatic dependencies:** A pragmatic dependency in a conversation occurs when a statement's meaning or appropriateness depends on the social context, speaker intentions, or conversational norms rather than just literal content. For example, if someone says, *\"Can you pass the salt?\"* the expected response is to hand over the salt, not to comment on one's physical ability. These dependencies ensure that contributions remain relevant, polite, and aligned with the shared goals of the interaction.\n",
    "\n",
    "In principle, you can preserve the context \"manually\" by adding all previous prompts and their responses to a history (e.g., a list of previous prompts and responses), and call the endpoint with this history together with the new prompt. The Responses API simplifies this by introducing the concept of **chaining**.\n",
    "\n",
    "Chaining responses using the `responses.create` endpoint allows you to maintain **stateful, multi-turn conversations** without manually resending the entire conversation history. By passing the `previous_response_id` from an earlier response, the API can automatically carry forward context, instructions, and relevant conversation data. This simplifies building applications where the model needs to remember prior interactions, such as chatbots, tutoring systems, or task-oriented assistants. It effectively enables the model to \"remember\" what has been discussed, reducing the need for clients to reconstruct full conversation context on every call. This approach is particularly useful for **agentic or multi-step workflows**, where the model’s response in one step might influence the next step. For example, you could generate an initial answer, then ask the model to refine, expand, or perform additional calculations based on that output. Chaining responses in this way not only improves efficiency and reduces token usage but also makes your application logic cleaner and easier to maintain, since the API handles context propagation automatically.\n",
    "\n",
    "The code cell below shows a simple example using chaining by calling the endpoint twice, and the second call uses the `id` of the first response as the value for the `previous_response_id` argument. Notice how the second prompt would be completely meaningless without the context of the first prompt and its returned response. Using chaining allows you to much better mimic natural conversation."
   ]
  },
  {
   "cell_type": "code",
   "execution_count": 18,
   "id": "ea2b4d71-c683-4231-8f00-abc185012a32",
   "metadata": {},
   "outputs": [
    {
     "name": "stdout",
     "output_type": "stream",
     "text": [
      "Step 1 response:\n",
      "Jupiter is the largest planet in our solar system.\n",
      "\n",
      "Step 2 response:\n",
      "Mercury is the smallest planet in the solar system.\n"
     ]
    }
   ],
   "source": [
    "model   = \"gpt-3.5-turbo\"\n",
    "prompt1 = \"What is the largest planet in the solar system?\"\n",
    "prompt2 = \"And the smallest?\"\n",
    "\n",
    "try:\n",
    "    # Step 1: Initial prompt\n",
    "    response1 = client.responses.create(model=model, input=prompt1)\n",
    "    print(f\"Step 1 response:\\n{response1.output_text}\\n\")\n",
    "    \n",
    "    # Step 2: Follow-up prompt using previous_response_id to continue the conversation\n",
    "    response2 = client.responses.create(model=model, input=prompt2, previous_response_id=response1.id)\n",
    "    print(f\"Step 2 response:\\n{response2.output_text}\")\n",
    "    \n",
    "except Exception as e:\n",
    "    print(f\"An error occured: {e}\")"
   ]
  },
  {
   "cell_type": "markdown",
   "id": "d1df1df9-e53b-4117-8293-8ee24beea3af",
   "metadata": {},
   "source": [
    "Of course, chaining can be used across more than just two prompts. However, the overall process remains the same: The value for argument `previous_reponse_id` of the next API call is set to the `id` of the response from the previous call.\n",
    "\n",
    "While chaining can enable sophisticated workflows (e.g., multi-step reasoning, retrieval-augmented generation, or structured data extraction) it introduces the risk of **error propagation**. If an early step produces an incorrect, ambiguous, or incomplete result, subsequent steps may compound the mistake, ultimately affecting the accuracy and reliability of the final output. Unlike a single-step response, the correctness of the chain depends not only on the model’s reasoning but also on the design of the intermediate prompts and how information is passed between steps. Chaining also comes with practical constraints. Each additional step requires a separate API call, which increases **latency and cost**, potentially making real-time applications slower or more expensive. Maintaining context across multiple steps can be challenging, especially for long or complex workflows, as the model may lose track of earlier details if prompts are not carefully structured. Developers often need to implement **state management**, caching, or summarization strategies to preserve context and ensure consistency, adding complexity to the application. While powerful, chaining requires careful planning to balance accuracy, performance, and cost."
   ]
  },
  {
   "cell_type": "markdown",
   "id": "70fddb76-70ca-473a-9d40-aca8bd6e23dc",
   "metadata": {},
   "source": [
    "### Reasoning Levels\n",
    "\n",
    "The **`reasoning`** argument allows you to control how the model approaches complex tasks or multi-step problem solving. Essentially, it provides a way to guide the model's internal reasoning process, such as specifying whether it should use more thorough, step-by-step thinking or produce a quicker, less detailed response. This can be particularly useful when accuracy, logical consistency, or structured problem solving is important, for example in coding tasks, math problems, or data analysis. By adjusting the `reasoning` parameter, developers can **balance performance and computational cost**. For instance, a higher reasoning effort might generate more reliable and detailed explanations but could take slightly longer and consume more tokens, while a lower reasoning setting could be used for simpler tasks where speed is more critical than depth. This makes it a powerful tool for tailoring the model’s behavior to the specific needs of your application, ensuring that outputs are aligned with your desired level of rigor and reliability. Valid values for `reasoning.effort` are\n",
    "\n",
    "* **`low`**: The model performs minimal reasoning, leading to faster responses with less detailed explanations. This setting is suitable for straightforward tasks where speed is prioritized over depth.\n",
    "\n",
    "* **`medium`**: The default setting, balancing between speed and detailed reasoning. It provides adequate depth for most tasks without significant delays.\n",
    "\n",
    "* **`high`**: The model engages in extensive reasoning, offering thorough and detailed explanations. This setting is ideal for complex problems requiring careful analysis and step-by-step breakdowns.\n",
    "\n",
    "However, it is important to note that not all models support all parameters within `reasoning`. Models that support it include `o1`, `o3`, `o3-mini` and `o4-mini`. If you try using a different model, the endpoint will respond with a corresponding error code and error message. The example below use the `o4-mini` model to process the same prompt using the three available levels of reasoning effort."
   ]
  },
  {
   "cell_type": "code",
   "execution_count": 19,
   "id": "806d213e-bdb6-418f-947d-b3d9a071582e",
   "metadata": {},
   "outputs": [
    {
     "name": "stdout",
     "output_type": "stream",
     "text": [
      "Low effort response:\n",
      "Both have the same mass—1 kg—so in that sense neither is heavier.  \n",
      "\n",
      "(If you put each on a scale in air, the lead will register very slightly heavier, because the bulkier wood displaces more air and so experiences a larger buoyant lift. But by definition of mass, 1 kg of lead = 1 kg of wood.)\n",
      "\n",
      "Medium effort response:\n",
      "They weigh the same: 1 kg of lead is 1 kg of wood. \n",
      "\n",
      "(If you put them on a scale in air, the wood will actually register a tiny bit less—because it displaces more air and so experiences a slightly larger buoyant force—but their true masses are identical.)\n",
      "\n",
      "High effort response:\n",
      " Neither one is heavier—1 kg of lead and 1 kg of wood both have the same mass (1 kg). The only difference is density: the wood takes up much more volume than the lead. (In air, the wood’s greater volume displaces more air and so experiences a slightly larger buoyant force, which can make it register a tiny bit “lighter” on a scale—but their true masses are identical.)\n"
     ]
    }
   ],
   "source": [
    "model  = \"o4-mini\"\n",
    "prompt = \"What is heavier, 1 kg of lead or 1 kg of wood?\"\n",
    "\n",
    "try:\n",
    "    # Low reasoning effort\n",
    "    response_low = client.responses.create(model=model, input=prompt, reasoning={\"effort\": \"low\"})\n",
    "    print(f\"Low effort response:\\n{response_low.output_text}\\n\")\n",
    "    \n",
    "    # Medium reasoning effort\n",
    "    response_medium = client.responses.create(model=model, input=prompt, reasoning={\"effort\": \"medium\"})\n",
    "    print(f\"Medium effort response:\\n{response_medium.output_text}\\n\")\n",
    "    \n",
    "    # High reasoning effort\n",
    "    response_high = client.responses.create(model=model, input=prompt, reasoning={\"effort\": \"high\"})\n",
    "    print(\"High effort response:\\n\", response_high.output_text)\n",
    "except Exception as e:\n",
    "    print(f\"An error occured: {e}\")"
   ]
  },
  {
   "cell_type": "markdown",
   "id": "e954af62-0144-4eaa-9766-b1e9d68c4cbd",
   "metadata": {},
   "source": [
    "<br />\n",
    "\n",
    "Keep in mind that different reasoning levels often return the same output because the underlying model may already produce an answer that is sufficiently confident and unambiguous. In cases where the question is straightforward or the context is clear, increasing the reasoning level does not change the result, since the model's standard reasoning is already adequate to generate a correct or complete response. Essentially, the extra reasoning capacity may not be \"activated\" if the problem does not require deeper or multi-step inference. Another factor is that the reasoning levels primarily influence the model's internal deliberation process rather than guaranteeing a different external output. The model may internally consider more reasoning chains at higher levels, but if all chains converge to the same conclusion, the final response remains unchanged. This behavior is typical for deterministic or high-confidence questions, whereas more complex, ambiguous, or multi-step problems are where differences between reasoning levels tend to manifest more clearly."
   ]
  },
  {
   "cell_type": "markdown",
   "id": "7f508363-87c2-4011-b1d0-c1282617a5e8",
   "metadata": {},
   "source": [
    "### Analyzing Images\n",
    "\n",
    "The `responses.create` endpoint supports **image analysis** by allowing you to send an image (or multiple images) as part of the input alongside text. Instead of only handling text prompts, the model can process visual data, extract relevant features, and generate insights in natural language. This enables tasks such as describing an image, answering questions about its content, identifying objects, reading text within an image, or reasoning about diagrams and charts.\n",
    "\n",
    "The key idea is that the model treats the image as an input modality in the same way it handles text, enabling **multimodal reasoning**. You simply provide an image file or URL in the request, and the model integrates the visual information with the text prompt to produce a coherent response. This makes it possible to build applications like visual assistants, content moderation tools, document analyzers, or tutoring systems that can explain diagrams or handwritten notes. The models that support image inputs through the endpoint are: `gpt-4o`, `gpt-4.1`, `gpt-4.5`, `o3`, and `o4-mini`.\n",
    "\n",
    "Let's consider a public domain image of a dog from [Wikimedia Commons](https://commons.wikimedia.org/wiki/Main_Page), but you can change the URL to test the endpoint using different images."
   ]
  },
  {
   "cell_type": "code",
   "execution_count": 20,
   "id": "937280b5-08a8-40ba-b658-690bfb538faf",
   "metadata": {},
   "outputs": [
    {
     "data": {
      "text/html": [
       "<img src=\"https://upload.wikimedia.org/wikipedia/commons/thumb/7/77/Hazel_the_German_Shepherd_by_a_river.png/330px-Hazel_the_German_Shepherd_by_a_river.png\"/>"
      ],
      "text/plain": [
       "<IPython.core.display.Image object>"
      ]
     },
     "execution_count": 20,
     "metadata": {},
     "output_type": "execute_result"
    }
   ],
   "source": [
    "image_url = \"https://upload.wikimedia.org/wikipedia/commons/thumb/7/77/Hazel_the_German_Shepherd_by_a_river.png/330px-Hazel_the_German_Shepherd_by_a_river.png\"\n",
    "\n",
    "Image(url=image_url)"
   ]
  },
  {
   "cell_type": "markdown",
   "id": "5acfe1ce-b34a-4303-9b53-45d9c69bb1a2",
   "metadata": {},
   "source": [
    "Since we now have to combine both a text prompt and the information (i.e., URL) about the image, we cannot just submit a simple string as the prompt. Instead we have to define the prompt again as a list containing all the relevant \"parts\". The code below shows a simple example of how this can be done."
   ]
  },
  {
   "cell_type": "code",
   "execution_count": 21,
   "id": "04b86410-8dcd-441e-9e1a-351b1947c04c",
   "metadata": {},
   "outputs": [],
   "source": [
    "# Define prompt incl. the link to the image to be analyzed\n",
    "prompt = [\n",
    "    {\n",
    "       \"role\": \"user\",\n",
    "        \"content\": [\n",
    "            {\"type\": \"input_text\", \"text\": \"Please describe this image in 1-2 sentences.\"},\n",
    "            {\"type\": \"input_image\", \"image_url\": image_url}\n",
    "        ]\n",
    "    }\n",
    "]\n"
   ]
  },
  {
   "cell_type": "markdown",
   "id": "58ee4196-b746-4cdc-881c-4b9ea7dea411",
   "metadata": {},
   "source": [
    "Using this structured prompt as the `input`, we can call the `response.create` endpoint as usual. The output itself is a generated text, and for our case, describing the content of the provided image."
   ]
  },
  {
   "cell_type": "code",
   "execution_count": 22,
   "id": "8f7c1656-c0f1-4622-96bb-e8e7215c3e18",
   "metadata": {},
   "outputs": [
    {
     "name": "stdout",
     "output_type": "stream",
     "text": [
      "A tan German Shepherd–type dog stands alert on a rocky bank beside a calm creek, its ears perked as it gazes off-camera. Lush green trees and shrubs line the water’s edge, with sunlight filtering through the foliage and reflecting on the stream.\n"
     ]
    }
   ],
   "source": [
    "model = \"o4-mini\"\n",
    "\n",
    "try:\n",
    "    # Analyze image by calling the endpoint\n",
    "    response = client.responses.create(model=model, input=prompt)  \n",
    "    # Print the generates response text\n",
    "    print(response.output_text)\n",
    "except Exception as e:\n",
    "    print(f\"An error occured: {e}\")    "
   ]
  },
  {
   "cell_type": "markdown",
   "id": "1df34ee7-3777-4654-af7e-f093675c7b3a",
   "metadata": {},
   "source": [
    "While the endpoint can describe content, answer questions about an image, or extract text, its understanding is bounded by the model's training and inference capabilities. It may struggle with fine-grained visual details, subtle patterns, or highly technical diagrams. Complex visual reasoning, such as interpreting charts with multiple variables, detecting anomalies, or performing precise measurements, can be unreliable. Similarly, the model may misinterpret ambiguous elements or overlook small but important features, limiting its accuracy for tasks that require expert-level visual analysis.\n",
    "\n",
    "Another limitation is contextual dependency and output variability. The model's responses are influenced by the prompt, the way the image is presented, and the reasoning level selected, which can result in inconsistent or incomplete analyses across similar images. Additionally, the endpoint does not perform true symbolic computation or object-level recognition like specialized computer vision models; it produces text-based interpretations, meaning it cannot directly return structured visual data (e.g., bounding boxes, pixel-level labels) without extra tooling or post-processing. These factors make it best suited for general image understanding rather than precise or highly technical visual tasks."
   ]
  },
  {
   "cell_type": "markdown",
   "id": "d044a90a-ff19-4b34-bf64-9238c9195b5d",
   "metadata": {},
   "source": [
    "### Tools\n",
    "\n",
    "In the OpenAI Responses API, **tools** are specialized functionalities that extend the capabilities of language models, enabling them to perform specific tasks beyond text generation. These tools allow models to interact with external systems, process data, and execute actions, making them suitable for building intelligent agents capable of handling complex workflows. The purpose of tools are\n",
    "\n",
    "* **Enhancing Model Capabilities**: By integrating tools, models can access real-time information, perform computations, and interact with external services, thereby providing more accurate and context-aware responses.\n",
    "\n",
    "* **Streamlining Workflows**: Tools enable models to automate tasks such as web searches, file retrieval, and code execution, reducing the need for manual intervention and improving efficiency.\n",
    "\n",
    "* **Building Intelligent Agents**: Combining models with tools allows developers to create agents that can autonomously handle a variety of tasks, from answering questions to performing actions on behalf of users.\n",
    "\n",
    "The following table outlines the built-in tools available in the Responses API:"
   ]
  },
  {
   "cell_type": "markdown",
   "id": "21c3e2bb-7caa-4f59-87bd-311df25a0999",
   "metadata": {},
   "source": [
    "| Tool Name            | Description                                                                                     | Model Support           |                                                                                            |\n",
    "| -------------------- | ----------------------------------------------------------------------------------------------- | ----------------------- | ------------------------------------------------------------------------------------------ |\n",
    "| **Web Search**       | Retrieves up-to-date information from the internet.                                             | `gpt-4o`, `gpt-4o-mini` | \n",
    "| **Function Calling**       |Give models access to new functionality and data they can use to follow instructions and respond to prompts.                                            | `gpt-4o`, `gpt-4o-mini` | \n",
    "| **File Search**      | Searches and retrieves information from uploaded files.                                         | `gpt-4o`, `gpt-4o-mini` |                                                                                            |\n",
    "| **Computer Use**     | Executes tasks on a computer, such as opening applications or interacting with the file system. | `gpt-4o`, `gpt-4o-mini` |                                                                                            |\n",
    "| **Code Interpreter** | Executes code in a sandboxed environment for computations and data analysis.                    | `gpt-4o`, `gpt-4o-mini` |                                                                                            |\n",
    "| **Image Generation** | Generates images from text prompts.                                                             | `gpt-4o`, `gpt-4o-mini` |                                                                                            |\n",
    "| **Hosted MCP Tools** | Integrates with external Model Context Protocol (MCP) servers to access custom tools.           | `gpt-4o`, `gpt-4o-mini` | "
   ]
  },
  {
   "cell_type": "markdown",
   "id": "c35205d0-450c-4bf9-b537-1f1cc1ab8b5b",
   "metadata": {},
   "source": [
    "These tools can be utilized by specifying them in the `tools` parameter when making a request to the `responses.create` endpoint. This integration allows models to perform actions such as fetching real-time data, executing code, and interacting with external systems, thereby enhancing their utility in various applications. Let's look at two tool &mdash; Web Search and Function Calling &mdash; more closely by providing working examples."
   ]
  },
  {
   "cell_type": "markdown",
   "id": "63751aa1-edae-4afd-b7b1-59bfb6758d0e",
   "metadata": {},
   "source": [
    "#### Web Search\n",
    "\n",
    "The **`web_search`** tool allows the model to access **real-time information from the internet**. Instead of relying solely on its pretrained knowledge, which may be outdated or limited, the model can perform web searches to retrieve the latest data, news, or specific details relevant to a user query. This is particularly useful for questions about current events, recent research, or niche topics that are unlikely to be fully covered in the model's training data. By integrating web search, responses can be more accurate, timely, and factually grounded. The benefits of using the `web_search` tool include **improved reliability and relevance** of answers, as the model can validate or supplement its knowledge with external sources. It also allows developers to build applications that **handle dynamic, real-world queries**, such as generating summaries of recent news, providing up-to-date statistics, or retrieving specific product information. Overall, the web search tool expands the model's utility beyond static knowledge, enabling more versatile and trustworthy AI-powered solutions."
   ]
  },
  {
   "cell_type": "code",
   "execution_count": 23,
   "id": "eaa047cb-1906-449d-a8e6-a7d322a94773",
   "metadata": {},
   "outputs": [
    {
     "name": "stdout",
     "output_type": "stream",
     "text": [
      "As of 4:36 PM local time in Singapore, the current temperature is 29°C (84°F) with partly cloudy skies.\n",
      "\n",
      "## Weather for Singapore, Singapore:\n",
      "Current Conditions: Clouds and sun, 91°F (33°C)\n",
      "\n",
      "Daily Forecast:\n",
      "* Saturday, September 6: Low: 80°F (26°C), High: 91°F (33°C), Description: Some sun, then turning cloudy\n",
      "* Sunday, September 7: Low: 78°F (26°C), High: 87°F (30°C), Description: Cloudy with a thunderstorm in spots\n",
      "* Monday, September 8: Low: 77°F (25°C), High: 86°F (30°C), Description: Cloudy with a thunderstorm in spots\n",
      "* Tuesday, September 9: Low: 77°F (25°C), High: 85°F (30°C), Description: Remaining cloudy with a couple of thunderstorms\n",
      "* Wednesday, September 10: Low: 78°F (26°C), High: 89°F (31°C), Description: Cloudy; a morning thunderstorm in parts of the area followed by a drenching thunderstorm in the afternoon\n",
      "* Thursday, September 11: Low: 79°F (26°C), High: 87°F (30°C), Description: Remaining cloudy with a couple of thunderstorms, especially early in the day\n",
      "* Friday, September 12: Low: 79°F (26°C), High: 88°F (31°C), Description: Mostly cloudy with a thunderstorm in spots\n",
      " \n"
     ]
    }
   ],
   "source": [
    "model  = \"gpt-4o-mini\"\n",
    "prompt = \"What is the current temperature in Singapore?\"\n",
    "\n",
    "try:\n",
    "    response = client.responses.create(model=model, input=prompt, tools=[{\"type\": \"web_search\"}])\n",
    "\n",
    "    print(response.output_text)\n",
    "except Exception as e:\n",
    "    print(f\"An error occured: {e}\")"
   ]
  },
  {
   "cell_type": "markdown",
   "id": "709b3fe8-e4ca-4ab3-8538-ff4862a9310e",
   "metadata": {},
   "source": [
    "When using the web search tool, one key limitation is **latency and reliability**. The model relies on external search results, which can vary in availability, relevance, and freshness. Network issues, temporary unavailability of certain pages, or poorly indexed content may lead to incomplete or outdated information. Additionally, the model's interpretation of search results can introduce errors if it misreads context or overgeneralizes from limited snippets, potentially producing responses that are inaccurate or misleading.\n",
    "\n",
    "Another limitation is **scope and filtering**. The web search tool retrieves content from the open web, which may include biased, low-quality, or unverified sources. The model cannot independently verify facts beyond what is retrieved, so the quality of answers heavily depends on the sources found. Furthermore, there are practical **rate limits** and token constraints that affect how many searches can be performed in a single session, which can restrict the depth of research and the number of results the model can effectively process. These factors make it most suitable for general information retrieval rather than high-stakes decision-making or specialized research."
   ]
  },
  {
   "cell_type": "markdown",
   "id": "1ffe031a-7cca-4d4d-bcbf-a7211a9dd9c0",
   "metadata": {},
   "source": [
    "#### Function Calling\n",
    "\n",
    "The idea behind function calling in the OpenAI API is to let the model act as a natural language interface between the user and external functions or tools. Instead of returning only plain text, the model can recognize when a user’s request matches a function you’ve defined (e.g., retrieving weather data, querying a database, or running calculations) and respond by outputting a structured JSON object with the function name and its arguments. This structured output can then be programmatically executed by your system, ensuring reliable integration between natural language inputs and precise function calls. Function calling bridges human-friendly conversation with machine-executable actions, enabling more interactive and automated workflows.\n",
    "\n",
    "**Example scenario:** Let's assume we are building a chatbot for the city that allows users to ask how crowded public places such as shopping malls, parks, museums, etc. are. A traditional LLM has no access to this localized and real-time information. However, we have a system that is able to estimate the crowd level at different locations, maybe analyzing sensor data, noise level, or camera feeds. In short, for a given location, we can get the crowd level at the location at that location as a value between, say, $0$ (low) and $1$ (high). The function `get_crowd_level()` below illustrates this idea by returning a random value for the crowd level. Of course, in practice, this function would contain the actual logic to retrieve the actual crowd level (e.g., from a database)."
   ]
  },
  {
   "cell_type": "code",
   "execution_count": 24,
   "id": "12bb6c85-47ef-4023-829b-ebed800f6ee0",
   "metadata": {},
   "outputs": [],
   "source": [
    "def get_crowd_level(location):\n",
    "    # The proper logic to retreive the crowd level would be here\n",
    "    return {\"location\": location, \"crowd_level\": random.random()}"
   ]
  },
  {
   "cell_type": "markdown",
   "id": "95d2ba09-b27a-429d-acf2-128517d4f981",
   "metadata": {},
   "source": [
    "The endpoint and the LLM now needs to know about your function and how it can be used. This is again done using the `tools` argument; see the code cell below. In case of a function, we need to specify the name as well as the expected parameters (arguments) of the function. We also need to add a meaningful description so that the LLM \"knows\", given a prompt, if the function should be used and which parts of the prompt will represent the parameters."
   ]
  },
  {
   "cell_type": "code",
   "execution_count": 25,
   "id": "d5107bae-610d-4cb4-9429-7cec9e2dfd01",
   "metadata": {},
   "outputs": [],
   "source": [
    "tools = [\n",
    "    {\n",
    "        \"type\": \"function\",\n",
    "        \"name\": \"get_crowd_level\",\n",
    "        \"description\": \"Get the current crowd level at a given location from 0 (low) to 1 (high)\",\n",
    "        \"parameters\": {\n",
    "            \"type\": \"object\",\n",
    "            \"properties\": {\n",
    "                \"location\": {\n",
    "                    \"type\": \"string\",\n",
    "                    \"description\": \"The public space (shopping mall, museum, train station, parks, tourist spots, etc.)\",\n",
    "                },\n",
    "            },\n",
    "            \"required\": [\"location\"],\n",
    "        },\n",
    "    }\n",
    "]"
   ]
  },
  {
   "cell_type": "markdown",
   "id": "c9dbc846-c556-4880-8127-22429b97e9cb",
   "metadata": {},
   "source": [
    "We can now prompt the `response.create` endpoint; see the example below. Instead of giving the endpoint direct the prompt as a simple string, we wrapped it into a `conversation` variable which is just a simple list &mdash; we see in a bit why we are doing this. The code cell below shows two example prompts to illustrate that not all prompts are required to call our function. The prompt *\"How many people are currently in VivoCity?\"* clearly indicates that a user is interested in the crowd level at VivoCity (a large shopping mall in Singapore), and therefore would rely on our function to give proper response. In contrast, the prompt *\"How far is the VivoCity mall from Changi Airport?\"* would not. By default, we let the LLM decide if our function is needed or not by setting `tool_choice=\"auto\"`."
   ]
  },
  {
   "cell_type": "code",
   "execution_count": 26,
   "id": "e9b5ebf3-3dca-4986-b137-0400e02ae9c9",
   "metadata": {},
   "outputs": [],
   "source": [
    "model = \"gpt-4o-mini\"\n",
    "\n",
    "conversation = [{\"role\": \"user\", \"content\": \"How many people are currently in VivoCity?\"}]\n",
    "#conversation = [{\"role\": \"user\", \"content\": \"How far is the VivoCity mall from Changi Airport?\"}]\n",
    "\n",
    "try:\n",
    "    response = client.responses.create(\n",
    "        model=model,\n",
    "        input=conversation,\n",
    "        tools=tools,\n",
    "        tool_choice=\"auto\"\n",
    "    )\n",
    "except Exception as e:\n",
    "    print(f\"An error occured: {e}\")"
   ]
  },
  {
   "cell_type": "markdown",
   "id": "279ab950-4c15-446c-83fa-9c326a374a52",
   "metadata": {},
   "source": [
    "The response is as usual an elaborate JSON object. Most importantly here is that the response tells us if the LLM requires a function call or not; see the first `if` statement in the code cell below. Note that we assume there is only a single function call to be required to keep the example simple. In principle, the `output` attribute of the JSON object for the response is a list which mainly contains multiple function calls.\n",
    "\n",
    "If indeed a function call is required, the output also tells us which function that is by its name as well as the arguments to make to the respective function call. Again, this is the main purpose of the API endpoint for this: taking a prompt in natural language and (a) deciding if and which function calls are required, and (b) extract all relevant arguments to call those functions. After call our function `get_crowd_level()` with the extracted argument, we add both the call itself as well as the result of our function to the conversation and make another call the the API endpoint. Sending the whole conversation ensure that the LLM has the full context to generate an appropriate reply.\n",
    "\n",
    "However, if the response to the initial prompt does not require any function call, we just print the response text; see the `else` branch at the end of the code cell below."
   ]
  },
  {
   "cell_type": "code",
   "execution_count": 27,
   "id": "7dae73f2-c12b-4049-80a8-dee19ea4a684",
   "metadata": {},
   "outputs": [
    {
     "name": "stdout",
     "output_type": "stream",
     "text": [
      "Call get_crowd_level with arguments {'location': 'VivoCity'}\n",
      "\n",
      "Final response:\n",
      "Currently, the crowd level at VivoCity is approximately 15.6%, indicating a low number of people.\n"
     ]
    }
   ],
   "source": [
    "# Check if the model wants to call a function\n",
    "if response.output and response.output[0].type == \"function_call\":\n",
    "    tool_call = response.output[0]\n",
    "    \n",
    "    # Check which function the model wants to call\n",
    "    if tool_call.name == \"get_crowd_level\":\n",
    "        # Get extracted arguments and convert to JSON obect\n",
    "        args = json.loads(tool_call.arguments)\n",
    "        print(f\"Call {tool_call.name} with arguments {args}\\n\")\n",
    "        # Call function with extract parameters to get result\n",
    "        data = get_crowd_level(**args)\n",
    "        # Add the function call and its result to the conversation\n",
    "        conversation.append(tool_call)\n",
    "        conversation.append({\n",
    "            \"type\": \"function_call_output\",\n",
    "            \"call_id\": tool_call.call_id,\n",
    "            \"output\": json.dumps(data)\n",
    "        })\n",
    "\n",
    "    try:\n",
    "        # Get the final response with the function results incorporated\n",
    "        final_response = client.responses.create(model=model, input=conversation, tools=tools)\n",
    "        # Print the final reponse text\n",
    "        print(f\"Final response:\\n{final_response.output_text}\")\n",
    "    except Exception as e:\n",
    "        print(f\"An error occured: {e}\")\n",
    "        \n",
    "else:\n",
    "    # Just print the response text of not function call was involved\n",
    "    print(f\"Final response:\\n{response.output_text}\")"
   ]
  },
  {
   "cell_type": "markdown",
   "id": "99f2b6c7-a424-410d-ba8e-2c1a319b24dd",
   "metadata": {},
   "source": [
    "<br />\n",
    "\n",
    "As the example shows, function calling provides a structured and reliable bridge between natural language and programmatic actions. Instead of parsing free-form text, developers get well-defined JSON outputs that specify the function name and its arguments, which makes automation more accurate and reduces the risk of misinterpretation. This enables seamless integration with external systems like databases, APIs, or computational tools, and allows users to interact with complex systems through simple natural language queries. Another strength is that developers can constrain the model's outputs by defining available functions and expected parameters, which improves safety, predictability, and alignment with application needs.\n",
    "\n",
    "However, function calling also has limitations. The model does not actually execute the function but only *suggests* when and how it should be called. This means developers still need to validate the arguments, handle errors, and ensure security when passing data to external systems. Additionally, function calling is limited by the model's understanding of context: if the user’s request is ambiguous, the model might generate incomplete or incorrect parameters. In high-stakes or mission-critical applications, relying solely on the model's judgment without proper checks can be risky. In practice, function calling is therefore most effective when combined with robust backend logic &mdash; using the model for intent recognition and argument filling, while letting the application enforce constraints, validate inputs, and control execution. This balance ensures that developers can take advantage of natural language flexibility without sacrificing reliability or safety."
   ]
  },
  {
   "cell_type": "markdown",
   "id": "1745679c-40f8-4e4a-9d3c-a92f44218b8c",
   "metadata": {},
   "source": [
    "---"
   ]
  },
  {
   "cell_type": "markdown",
   "id": "9fc09c9a-c817-4566-aa63-033f49b05bf4",
   "metadata": {},
   "source": [
    "## Summary\n",
    "\n",
    "OpenAI provides a suite of APIs that allow developers to integrate powerful **large language models (LLMs)** into their applications. At its core, the **Responses API** is the most flexible endpoint, capable of generating text, handling conversations, calling functions, and even using tools like web search or file analysis. Other specialized endpoints include the **Embeddings API** (for generating numerical vector representations of text, useful for semantic search, clustering, and recommendation systems), the **Audio API** (for speech-to-text transcription and translation using Whisper), and the **Image API** (for generating or editing images with models like DALL·E). Together, these endpoints cover a wide range of tasks &mdash; from natural language understanding and reasoning to multimodal generation.\n",
    "\n",
    "Using these APIs, developers can build applications such as conversational agents, code assistants, knowledge retrieval systems, personalized tutors, and content generation tools. The ability to combine endpoints is especially powerful. For example, embeddings can be paired with a vector database for retrieval-augmented generation (RAG), while function calling in the Responses API can connect an LLM to external APIs or business logic. This creates systems where the LLM not only generates text but also acts as an orchestrator of workflows, enabling richer interactivity and automation.\n",
    "\n",
    "From a practical standpoint, **pricing** is an important consideration. OpenAI charges on a usage basis, typically measured in tokens for text models and in seconds or images for audio and image models. More capable models (such as GPT-4.1) are priced higher than smaller, faster models (like GPT-4.1-mini), which encourages developers to balance performance with cost depending on their use case. For large-scale applications, optimizing prompts, caching responses, or mixing model tiers can help reduce expenses while maintaining quality.\n",
    "\n",
    "Another practical issue is **rate limits**, which cap the number of requests per minute and the maximum tokens per request. These limits vary by model and account tier, and they play a crucial role in scaling production systems. Applications that expect high user traffic need to be designed with queuing, batching, or fallback strategies to ensure a smooth experience. Additionally, developers must handle errors gracefully, as exceeding rate limits or encountering transient service issues can disrupt workflows."
   ]
  },
  {
   "cell_type": "code",
   "execution_count": null,
   "id": "9a6abd74-c484-4286-b82a-fdbcc0976009",
   "metadata": {},
   "outputs": [],
   "source": []
  }
 ],
 "metadata": {
  "kernelspec": {
   "display_name": "py311",
   "language": "python",
   "name": "py311"
  },
  "language_info": {
   "codemirror_mode": {
    "name": "ipython",
    "version": 3
   },
   "file_extension": ".py",
   "mimetype": "text/x-python",
   "name": "python",
   "nbconvert_exporter": "python",
   "pygments_lexer": "ipython3",
   "version": "3.11.8"
  }
 },
 "nbformat": 4,
 "nbformat_minor": 5
}
