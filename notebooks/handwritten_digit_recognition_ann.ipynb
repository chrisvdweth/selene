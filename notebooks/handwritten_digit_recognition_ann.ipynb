{
 "cells": [
  {
   "cell_type": "markdown",
   "id": "53621f78-15f4-4149-9e0a-0fe1c73139ad",
   "metadata": {},
   "source": [
    "<img src=\"images/logo/selene-logo-640.png\" style=\"max-height:75px;\" alt=\"SELENE Logo\" />\n",
    "\n",
    "**Disclaimer:** This Jupyter Notebook contains content generated with the assistance of AI. While every effort has been made to review and validate the outputs, users should independently verify critical information before relying on it. The SELENE notebook repository is constantly evolving. We recommend downloading or pulling the latest version of this notebook from Github."
   ]
  },
  {
   "cell_type": "markdown",
   "id": "0b809f76-f3ab-4efe-b722-6932433e1afd",
   "metadata": {},
   "source": [
    "# Handwritten Digit Recognition with Artificial Neural Networks (ANNs)\n",
    "\n",
    "**Handwritten digit recognition** is a classic task in machine learning where the goal is to develop algorithms that can accurately interpret and classify images of handwritten digits (typically 0 through 9). A well-known benchmark dataset for this task is the MNIST dataset, which contains thousands of labeled examples of handwritten digits written by different people. The challenge lies in enabling computers to recognize the variability in individual handwriting styles, sizes, and shapes, despite distortions, noise, or inconsistencies in the input images. This task typically involves techniques such as image preprocessing, feature extraction, and the application of machine learning models like neural networks, support vector machines, or more recently, deep learning models such as convolutional neural networks (CNNs).\n",
    "\n",
    "Handwritten digit recognition is important because it serves as a foundational problem in the broader field of pattern recognition and computer vision. Solving this problem effectively demonstrates the potential of machines to interpret and process human-generated data, paving the way for more complex tasks like automatic document processing, check verification in banks, and digitizing handwritten forms. Beyond its practical applications, it is also a widely used educational tool and benchmark to evaluate and compare machine learning algorithms, helping researchers refine techniques that are later adapted for more advanced problems in image classification, natural language processing, and artificial intelligence.\n",
    "\n",
    "The **MNIST dataset** (Modified National Institute of Standards and Technology dataset) is a large collection of handwritten digits that is widely used as a benchmark for evaluating machine learning models, especially in the field of image classification. It consists of 70,000 grayscale images of handwritten digits &mdash; 60,000 images in the training set and 10,000 in the test set &mdash; with each image being a 28$\\times$28 pixel square. Each image is labeled with the correct digit it represents (0 through 9), making it a supervised learning dataset. The dataset was created by modifying and combining samples from the original NIST datasets, which contained handwriting from American Census Bureau employees and high school students, to create a more standardized and accessible resource for machine learning research.\n",
    "\n",
    "MNIST gained popularity because it is relatively small and simple, making it an ideal starting point for testing and validating new image recognition algorithms. Despite its simplicity, it captures enough variability in handwriting to present a meaningful challenge, allowing researchers and practitioners to experiment with preprocessing methods, feature extraction, and different classification algorithms. Over time, MNIST has become a standard benchmark for assessing the performance of models like logistic regression, support vector machines, and convolutional neural networks, and it has played a significant role in advancing developments in computer vision and deep learning.\n",
    "\n",
    "In this notebook, we address the task of handwritten digit recognition using basic Artificial Neural Networks (ANNs). We will see that even a small ANN will yield good results, and we will discuss at the end why this task does not necessarily require more sophisticated neural network architectures such as Convolutional Neural Networks (CNNs)."
   ]
  },
  {
   "cell_type": "markdown",
   "id": "9d3e4507-286b-4080-850f-89d768ea7064",
   "metadata": {},
   "source": [
    "### Setting up the Notebook\n",
    "\n",
    "#### Make Required Imports\n",
    "\n",
    "This notebook requires the import of different Python packages but also additional Python modules that are part of the repository. If a package is missing, use your preferred package manager (e.g., [conda](https://anaconda.org/anaconda/conda) or [pip](https://pypi.org/project/pip/)) to install it. If the code cell below runs with any errors, all required packages and modules have successfully been imported."
   ]
  },
  {
   "cell_type": "code",
   "execution_count": 1,
   "id": "4d59b742-9a6b-491b-a091-b91d25aee395",
   "metadata": {},
   "outputs": [],
   "source": [
    "from src.utils.libimports.mnistann import *\n",
    "from src.utils.data.files import *\n",
    "from src.utils.compute.gpu import *\n",
    "from src.utils.plotting.nn import *"
   ]
  },
  {
   "cell_type": "markdown",
   "id": "72940d7b-8695-4218-864b-d5be08eed02b",
   "metadata": {},
   "source": [
    "#### Download MNIST Dataset\n",
    "\n",
    "You can download the MNIST dataset as a '.zip' archive file by running the code cell below. If this code cell throws any error, please check the configuration file `config.yaml` if the URL for downloading datasets is up to date and matches the one on Github. If not, simply download or pull the latest version from Github."
   ]
  },
  {
   "cell_type": "code",
   "execution_count": 2,
   "id": "a958ea5f-848b-4486-903b-c654d66f163d",
   "metadata": {},
   "outputs": [
    {
     "name": "stderr",
     "output_type": "stream",
     "text": [
      "100%|█████████████████████████████████████| 11.6M/11.6M [00:00<00:00, 18.6MiB/s]"
     ]
    },
    {
     "name": "stdout",
     "output_type": "stream",
     "text": [
      "mnist.zip downloaded into folder data/datasets/images/classification/mnist/\n"
     ]
    },
    {
     "name": "stderr",
     "output_type": "stream",
     "text": [
      "\n"
     ]
    }
   ],
   "source": [
    "mnist_zip, mnist_folder = download_dataset(\"images/classification/mnist/mnist.zip\")\n",
    "\n",
    "print(f\"mnist.zip downloaded into folder {mnist_folder}\")"
   ]
  },
  {
   "cell_type": "markdown",
   "id": "07d5c63e-c483-4281-89e8-dc482bd77a93",
   "metadata": {},
   "source": [
    "Running the code cell below extracts the `.zip` archive into the four dataset files &mdash; two for the training data and two for the test data. You can change the variable `mnist_folder` to change the folder into which the extracted files are placed; by default the files are placed into the same folder as the `.zip` file."
   ]
  },
  {
   "cell_type": "code",
   "execution_count": 3,
   "id": "c25d8800-7cb4-4bc6-b7c0-a72528393e94",
   "metadata": {},
   "outputs": [],
   "source": [
    "#mnist_folder = \"/path/to/file/location/\"\n",
    "\n",
    "decompress_file(mnist_zip, target_path=mnist_folder)"
   ]
  },
  {
   "cell_type": "markdown",
   "id": "1f7cb88a-d19f-4cc8-8a00-8902a73dc6d7",
   "metadata": {},
   "source": [
    "#### Checking & Setting Computing Device\n",
    "\n",
    "PyTorch allows to train neural networks on supported GPU to significantly speed up the training process. If you have a support GPU, feel free to utilize it. However, for this notebook it's certainly not needed as our dataset is small and our network model is very simple. We provide an auxiliary method to automatically select the best device. It checks if a supported GPU is available and if so, uses it as the preferred device."
   ]
  },
  {
   "cell_type": "code",
   "execution_count": 4,
   "id": "a4bf38f5-c161-4463-8680-0561fc9861b9",
   "metadata": {},
   "outputs": [
    {
     "name": "stdout",
     "output_type": "stream",
     "text": [
      "Available device: cuda:0\n"
     ]
    }
   ],
   "source": [
    "# Select preferred device (GPU, if available; CPU otherwise); you can enfore the use of the CPU\n",
    "device = select_device(force_cpu=False)\n",
    "\n",
    "print(\"Available device: {}\".format(device))"
   ]
  },
  {
   "cell_type": "markdown",
   "id": "877bf2aa-a342-4d66-ba97-c11cde937bb5",
   "metadata": {},
   "source": [
    "---"
   ]
  },
  {
   "cell_type": "markdown",
   "id": "725a1f34-5ad3-4e18-8c48-7635fe8b748f",
   "metadata": {},
   "source": [
    "## Load & Prepare Dataset\n",
    "\n",
    "Before we can train a model for handwritten digit recognition, we first have to load the training and test data and convert it into a suitable representation to serve as input for the model. This includes loading the data from files into an internal representation in memory, and utilizing auxiliary classes provided by the PyTorch library to streamline the training and evaluation. In the following, we go through these two main steps in more detail."
   ]
  },
  {
   "cell_type": "markdown",
   "id": "39731260-6d65-4293-84a6-a500565f4ed9",
   "metadata": {},
   "source": [
    "### Load Images & Labels\n",
    "\n",
    "The MNIST dataset is stored in a special binary file format called IDX, which has a specific header structure. For the image files (like `train-images.idx3-ubyte`), the first 16 bytes form the header that describes the metadata of the dataset. Here’s a breakdown of those first 16 bytes:"
   ]
  },
  {
   "cell_type": "markdown",
   "id": "80665656-eb54-4b7a-bfc1-36f99bb1a522",
   "metadata": {},
   "source": [
    "| Byte Offset | Length (bytes) | Description                                                |\n",
    "|-------------|----------------|------------------------------------------------------------|\n",
    "| 0           | 4              | **Magic number** (0x00000803) — identifies the file type as a set of images |\n",
    "| 4           | 4              | **Number of images** (e.g., 60,000 for training set)       |\n",
    "| 8           | 4              | **Number of rows** (28)                                    |\n",
    "| 12          | 4              | **Number of columns** (28)          "
   ]
  },
  {
   "cell_type": "markdown",
   "id": "12358380-c133-4bc6-875a-da38c58ce08d",
   "metadata": {},
   "source": [
    "In more detail:\n",
    "* **Bytes 0-3:** Magic number = 0x00000803 (2051 in decimal, which means this is an image file)\n",
    "* **Bytes 4-7:** Number of images (e.g., 60,000 or 10,000)\n",
    "* **Bytes 8-11:** Number of rows per image (28)\n",
    "* **Bytes 12-15:** Number of columns per image (28)\n",
    "\n",
    "After these 16 bytes, the actual image pixel data starts &mdash; where each pixel is stored as an unsigned byte (0 to 255).\n",
    "\n",
    "The method `load_mnist_images()` below reads an IDX image file of the MNIST dataset. The [`frombuffer()`](https://numpy.org/doc/stable/reference/generated/numpy.frombuffer.html) method of the NumPy library interprets a buffer (like a byte string or bytearray) as a 1-dimensional NumPy array without copying the data. It allows to quickly convert raw binary data into a NumPy array by specifying the desired data type (`dtype`). Since each pixel is stored as an unsigned byte (0 to 255), we can use `uint8` as the data type. Also notice the `offset=16` which conveniently allows to skip the first 16 bytes of the header\n",
    "\n",
    "The `frombuffer()` method returns a long 1d array containing the pixel values for all images. The method `load_mnist_images()` therefore reshapes this 1d array into a 2d array where the rows (i.e., 1st dimension) reflects the number of images and the columns (i.e., 2nd dimension) reflects the number of pixels per image (i.e., 28$\\times$28=784)."
   ]
  },
  {
   "cell_type": "code",
   "execution_count": 5,
   "id": "25f1829e-faba-4fc3-bfde-b7c8357b311a",
   "metadata": {},
   "outputs": [],
   "source": [
    "def load_mnist_images(path):\n",
    "    with open(path, \"rb\") as f:\n",
    "        # First 16 bytes are magic number, n_imgages, n_rows, n_columns\n",
    "        pixels = np.frombuffer(f.read(), dtype=np.uint8, offset=16)\n",
    "    # Reshape array into (n_images, n_pixels_per_image) and return\n",
    "    return pixels.reshape(-1, 784)"
   ]
  },
  {
   "cell_type": "markdown",
   "id": "7590fde4-cd56-43eb-90f1-b8c181e3ee02",
   "metadata": {},
   "source": [
    "With this method we can now load the images of the training and the test dataset. Note that this dataset is not very large, so there is no problem holding all images in memory."
   ]
  },
  {
   "cell_type": "code",
   "execution_count": 6,
   "id": "fab681da-77e7-4d8e-a717-4c8509b8a41c",
   "metadata": {},
   "outputs": [
    {
     "name": "stdout",
     "output_type": "stream",
     "text": [
      "Shape (n_images, n_pixels) of training data: (60000, 784)\n",
      "Shape (n_images, n_pixels) of test data: (10000, 784)\n"
     ]
    }
   ],
   "source": [
    "images_train = load_mnist_images(mnist_folder+\"train-images.idx3-ubyte\")\n",
    "images_test  = load_mnist_images(mnist_folder+\"t10k-images.idx3-ubyte\")\n",
    "\n",
    "print(f\"Shape (n_images, n_pixels) of training data: {images_train.shape}\")\n",
    "print(f\"Shape (n_images, n_pixels) of test data: {images_test.shape}\")"
   ]
  },
  {
   "cell_type": "markdown",
   "id": "38db3aa5-34a3-4c2a-b9a9-665224dbebf4",
   "metadata": {},
   "source": [
    "For the training and the valuation we also need the ground-truth labels which are stored in two separate files. For the label files in the MNIST dataset (like train-labels-idx1-ubyte), the first 8 bytes form the header that describes the dataset metadata. Here’s the breakdown of those first 8 bytes:"
   ]
  },
  {
   "cell_type": "markdown",
   "id": "8da03875-b34c-4d7c-83de-e89eae8f09db",
   "metadata": {},
   "source": [
    "| Byte Offset | Length (bytes) | Description                                                |\n",
    "|-------------|----------------|------------------------------------------------------------|\n",
    "| 0           | 4              | **Magic number** (0x00000801) — identifies the file type as labels |\n",
    "| 4           | 4              | **Number of labels** (e.g., 60,000 for training set)       |"
   ]
  },
  {
   "cell_type": "markdown",
   "id": "caf43a90-b9a1-4e59-b71d-bb6c3d466c9c",
   "metadata": {},
   "source": [
    "In more detail:\n",
    "* **Bytes 0-3:** Magic number = 0x00000801 (2049 in decimal — means this is a label file)\n",
    "* **Bytes 4-7:** Number of labels (e.g., 60000 or 10000)\n",
    "\n",
    "After these 8 bytes, the actual label data starts &mdash; each label is stored as a single unsigned byte (representing the digit 0–9). Again, let's define a simple method `load_mnist_labels()` to read the label files and store all labels as NumPy array."
   ]
  },
  {
   "cell_type": "code",
   "execution_count": 7,
   "id": "f95232ef-7c08-4dd5-979d-d403c42ec7ab",
   "metadata": {},
   "outputs": [],
   "source": [
    "def load_mnist_labels(path):\n",
    "    with open(path, \"rb\") as f:\n",
    "        # First 8 bytes are magic_number, n_images\n",
    "        labels = np.frombuffer(f.read(), dtype=np.uint8, offset=8)\n",
    "    return labels"
   ]
  },
  {
   "cell_type": "markdown",
   "id": "5ae29c75-9853-400a-80e4-bb056ae03d4a",
   "metadata": {},
   "source": [
    "We can now call method `load_mnist_labels()` twice to load the labels of the training and the test dataset."
   ]
  },
  {
   "cell_type": "code",
   "execution_count": 8,
   "id": "0da9cccc-6620-462d-ac51-1b318a1cead0",
   "metadata": {},
   "outputs": [
    {
     "name": "stdout",
     "output_type": "stream",
     "text": [
      "Shape (n_images, n_pixels) of training labels: (60000,)\n",
      "Shape (n_images, n_pixels) of test labels: (10000,)\n"
     ]
    }
   ],
   "source": [
    "labels_train = load_mnist_labels(mnist_folder+\"train-labels.idx1-ubyte\")\n",
    "labels_test  = load_mnist_labels(mnist_folder+\"t10k-labels.idx1-ubyte\")\n",
    "\n",
    "print(f\"Shape (n_images, n_pixels) of training labels: {labels_train.shape}\")\n",
    "print(f\"Shape (n_images, n_pixels) of test labels: {labels_test.shape}\")"
   ]
  },
  {
   "cell_type": "markdown",
   "id": "a6f49964-cb9d-44a2-9b98-cf0890b1fc5e",
   "metadata": {},
   "source": [
    "Before we continue, let's have a quick look at some example images. The code cell below plots the first $k$ handwritten digits of the test dataset. For a better visualization the images are plotted in a grid with `n_row` rows and `n_cols` columns. Thus, for the default values `n_row, n_col = 3, 5`, the number of shown images is $k=15$. You can change the values of `n_row` and `n_cols` to see more or less example images."
   ]
  },
  {
   "cell_type": "code",
   "execution_count": 9,
   "id": "5e53fdd5-afb0-4ee0-8dbe-3dfcb5743674",
   "metadata": {},
   "outputs": [
    {
     "data": {
      "image/png": "[encoded data removed]",
      "text/plain": [
       "<Figure size 750x600 with 15 Axes>"
      ]
     },
     "metadata": {},
     "output_type": "display_data"
    }
   ],
   "source": [
    "n_row, n_col = 3, 5\n",
    "\n",
    "fig, axes = plt.subplots(n_row, n_col, figsize=(1.5*n_col,2*n_row))\n",
    "for i in range(n_row*n_col):\n",
    "    ax = axes[i//n_col, i%n_col]\n",
    "    ax.imshow(images_test[i].reshape(28,28), cmap='gray_r')\n",
    "    ax.set_title('Label: {}'.format(labels_test[i]))\n",
    "    ax.tick_params(axis='both', which='both', bottom=False, top=False, labelbottom=False, right=False, left=False, labelleft=False)\n",
    "plt.tight_layout()\n",
    "plt.show()"
   ]
  },
  {
   "cell_type": "markdown",
   "id": "bb07855a-6575-44a1-a73b-c05ab4e22c7b",
   "metadata": {},
   "source": [
    "A very important observation is that the MNIST dataset (and similar datasets containing hand-written digits) contains **size-normalized** and **centered** digits in **fixed-size images** &mdash; more specifically:\n",
    "\n",
    "* **Size-normalized:** Each handwritten digit has been scaled so that its shape roughly fits within a standard size, regardless of how large or small the original handwritten digit was. This means tall, narrow, short, or wide digits are all resized to be comparable in scale, which reduces variability caused by different handwriting styles.\n",
    "\n",
    "* **Centered in fixed-size images:** Every digit is placed in the middle of a 28$\\times$28 pixel image. The image size is fixed &mdash; that is, all images have exactly the same dimensions. The digit itself is centered within the image so that it does not touch the edges and is consistently located, making it easier for machine learning models to learn relevant patterns without worrying about positional shifts.\n",
    "\n",
    "This preprocessing step helps ensure that the variation in the dataset comes mainly from handwriting style rather than inconsistencies in size or position, which simplifies the task for machine learning models and is eventually the reason why more sophisticated neural network architectures such as CNNs are not required to address this task of handwritten digit recognition."
   ]
  },
  {
   "cell_type": "markdown",
   "id": "c24a3a57-46fd-4767-8536-a57136aa9268",
   "metadata": {},
   "source": [
    "### Generate `Dataset` & `DataLoader`\n",
    "\n",
    "So far, we have both the images and labels stored as NumPy arrays. To train an Artificial Neural Network (ANN) using, here, the PyTorch library, we first need to convert the NumPy arrays into PyTorch tensors. Using the `Tensor` and `LongTensor` class of PyTorch, this is very easy to do, as shown in the code cell below.\n",
    "\n",
    "Notice that we use the `Tensor` class for the images. Although the pixel values are integer values ranging from 0 to 255, our model expects the input values of type float; the `Tensor` class automatically converts the integer values to float values. In contrast, the labels are indeed treated as integers, hence the use of the `LongTensor` class."
   ]
  },
  {
   "cell_type": "code",
   "execution_count": 10,
   "id": "aa8cec52-e4be-4dba-9641-086d1a3f055e",
   "metadata": {},
   "outputs": [],
   "source": [
    "X_train = torch.Tensor(images_train.copy())\n",
    "y_train = torch.LongTensor(labels_train.copy())\n",
    "\n",
    "X_test = torch.Tensor(images_test.copy())\n",
    "y_test = torch.LongTensor(labels_test.copy())"
   ]
  },
  {
   "cell_type": "markdown",
   "id": "89f46676-1c8f-402c-a9c1-ce94e20b7f73",
   "metadata": {},
   "source": [
    "For convenience, it is also a best practice to create an implementation of the PyTorch `Dataset` class. The `TensorDataset` class in the PyTorch library is a simple dataset wrapper that allows combining multiple tensors into a single dataset object. Each sample in the dataset is a tuple where the *n*-th element comes from the *n*-th tensor provided. Typically, this is used to pair input data (like images or features) with corresponding labels, making it easy to iterate over batches of data and labels together during training or evaluation. All tensors passed to `TensorDataset` must have the same first dimension (i.e., the same number of samples).\n",
    "\n",
    "`TensorDataset` is particularly useful when you already have your data loaded as PyTorch tensors &mdash; which we have &mdash; and want a quick way to feed them into a DataLoader for batching, shuffling, and parallel loading. It provides a minimal and clean interface, especially for small to medium-sized datasets or prototyping, without needing to define a full custom dataset class. So let's create a `TensorDataset` for both the training and test data."
   ]
  },
  {
   "cell_type": "code",
   "execution_count": 11,
   "id": "f9edcb33-639b-4ebb-87e2-41bb3431d30b",
   "metadata": {},
   "outputs": [],
   "source": [
    "dataset_train = TensorDataset(X_train, y_train)\n",
    "dataset_test  = TensorDataset(X_test,  y_test)"
   ]
  },
  {
   "cell_type": "markdown",
   "id": "46a24a41-5968-48e3-a7b9-3943fe187c61",
   "metadata": {},
   "source": [
    "The last step is to create `DataLoader` instances for the training and test dataset. The `DataLoader` class in PyTorch is a utility that provides an efficient way to load data in batches from a dataset (such as a `TensorDataset` or a custom dataset). It handles tasks like batching the data, shuffling the dataset, and loading data in parallel using multiple worker processes. By wrapping a dataset in a `DataLoader`, you can easily iterate over mini-batches of your data during training or evaluation, which is essential for efficiently training models using stochastic gradient descent and other optimization algorithms.\n",
    "\n",
    "The main benefits of `DataLoader` include automatic batching (to process multiple samples at once), shuffling (to help models generalize better), and parallel data loading (to speed up data access using multiple CPU cores). It also supports customizable sampling strategies and can handle variable-length data through custom collate functions. Overall, `DataLoader` streamlines the data management process, making it much easier and faster to feed data into your models, especially when working with large datasets."
   ]
  },
  {
   "cell_type": "code",
   "execution_count": 12,
   "id": "30baf62a-4c7e-480e-a690-290ec3d61092",
   "metadata": {},
   "outputs": [],
   "source": [
    "loader_train = DataLoader(dataset_train, batch_size=64, shuffle=True)\n",
    "loader_test  = DataLoader(dataset_test,  batch_size=64)"
   ]
  },
  {
   "cell_type": "markdown",
   "id": "c7c0182a-ce69-49a3-bc78-7845b9d35386",
   "metadata": {},
   "source": [
    "Notice that we shuffle the training dataset so that the data samples are shuffled before forming a mini-batch for the next training epoch. Shuffling the training data into different mini-batches between epochs is beneficial because it helps prevent the model from learning spurious patterns related to the order of the data rather than the actual underlying relationships in the dataset. If data is always fed to the model in the same sequence, the model might overfit to that specific order, which can reduce its ability to generalize to unseen data. Shuffling ensures that each mini-batch is varied from epoch to epoch, encouraging the model to be robust to the ordering and distribution of samples.\n",
    "\n",
    "Another important benefit is that shuffling helps break up potential correlations between consecutive samples that might bias the gradient updates during training. For example, if similar samples are grouped together in the dataset (like many examples of the same digit in a row in MNIST), feeding them consecutively could cause redundant or skewed updates to the model's parameters. By shuffling, each mini-batch becomes a more representative mix of the overall dataset, leading to more stable and effective gradient estimates, which often results in faster convergence and better generalization.\n",
    "\n",
    "Overall, shuffling increases randomness and diversity in the batches the model sees across epochs, which can improve both training efficiency and model performance on test data. That is why, in practice, `shuffle=True` is often set in PyTorch's `DataLoader` during training, but not typically used during validation or testing (where consistent evaluation is more important)."
   ]
  },
  {
   "cell_type": "markdown",
   "id": "34419e16-6957-41f5-87d6-dbbc3d638564",
   "metadata": {},
   "source": [
    "---"
   ]
  },
  {
   "cell_type": "markdown",
   "id": "9d328ff8-5030-42e4-a877-1d761059d980",
   "metadata": {},
   "source": [
    "## Create & Train Model\n",
    "\n",
    "For creating and training the ANN model, we use open source machine learning framework PyTorch. PyTorch is convenient and easy for creating and training neural network models in Python because it uses a dynamic computation graph, meaning the graph is built on-the-fly as operations are executed, which aligns naturally with Python's imperative programming style and makes model development highly intuitive and flexible. Its syntax is clean and closely mirrors NumPy, reducing the learning curve for Python users, while the built-in autograd system simplifies gradient computation for backpropagation. Additionally, PyTorch offers a seamless GPU acceleration via CUDA, making both prototyping and large-scale training straightforward and efficient."
   ]
  },
  {
   "cell_type": "markdown",
   "id": "f8e4e5a3-6903-4c16-95b7-5bcf51245565",
   "metadata": {},
   "source": [
    "### Create ANN Model Architecture\n",
    "\n",
    "The class `MnistANN` in the code cell implements a simple Artificial Neural Network (ANN) using PyTorch. The network consists of two hidden layers and one output layer. Both hidden layers use a Rectified Linear Unit (ReLU) as the activation function. The output layer is followed by a LogSoftmax function which fist calculates the Softmax and then applies the logarithm in a single function; in short:"
   ]
  },
  {
   "cell_type": "markdown",
   "id": "c5f7833d-ce5d-4df5-938e-e4934ac9091a",
   "metadata": {},
   "source": [
    "$$\\large\n",
    "LogSoftmax(x) = \\log{\\left( Softmax(x) \\right)}\n",
    "$$"
   ]
  },
  {
   "cell_type": "markdown",
   "id": "b2183496-69ad-4810-9773-6125b9564899",
   "metadata": {},
   "source": [
    "The advantage of using LogSoftmax instead of Softmax is numerical stability and computational efficiency when combined with loss functions like Negative Log-Likelihood Loss (NLLLoss) &mdash; see below &mdash; because it avoids very small probability values that can cause underflow. By working directly with log-probabilities, LogSoftmax simplifies the math in many cases (like log-likelihood computations) and reduces the risk of floating-point precision issues, making training more stable and gradients easier to compute accurately.\n",
    "\n",
    "**Your turn:** Modify class `MnistANN` to make the network simpler or more complex (e.g., by removing or adding hidden layers) or replacing the ReLU activation function with other nonlinearities."
   ]
  },
  {
   "cell_type": "code",
   "execution_count": 13,
   "id": "3b143eaa-d1b4-4d23-a778-4c9f91a97696",
   "metadata": {},
   "outputs": [],
   "source": [
    "class MnistANN(nn.Module):\n",
    "\n",
    "    def __init__(self):\n",
    "        super().__init__()\n",
    "        self.model = nn.Sequential(\n",
    "            nn.Linear(28*28, 128),\n",
    "            nn.ReLU(),\n",
    "            #nn.Linear(128, 64),\n",
    "            #nn.ReLU(),\n",
    "            nn.Linear(128, 10),\n",
    "            nn.LogSoftmax(dim=1)\n",
    "        )\n",
    "\n",
    "    def forward(self, inputs):\n",
    "        return self.model(inputs)"
   ]
  },
  {
   "cell_type": "markdown",
   "id": "640c7e83-0a43-4aed-b510-03ddef350b29",
   "metadata": {},
   "source": [
    "We can now create an instance of our model and move it to the preferred device (e.g., a GPU if available)."
   ]
  },
  {
   "cell_type": "code",
   "execution_count": 14,
   "id": "55177244-ba2b-4806-b735-50eaa6e6480f",
   "metadata": {},
   "outputs": [
    {
     "name": "stdout",
     "output_type": "stream",
     "text": [
      "MnistANN(\n",
      "  (model): Sequential(\n",
      "    (0): Linear(in_features=784, out_features=128, bias=True)\n",
      "    (1): ReLU()\n",
      "    (2): Linear(in_features=128, out_features=10, bias=True)\n",
      "    (3): LogSoftmax(dim=1)\n",
      "  )\n",
      ")\n"
     ]
    }
   ],
   "source": [
    "model = MnistANN().to(device)\n",
    "\n",
    "print(model)"
   ]
  },
  {
   "cell_type": "markdown",
   "id": "1f508d5b-342f-45d9-aafa-e1d1e1142f83",
   "metadata": {},
   "source": [
    "With the model in place, we can now use the MNIST dataset to train the model to recognize handwritten digits."
   ]
  },
  {
   "cell_type": "markdown",
   "id": "0e12fe18-9910-4114-903a-9e9ee42e2f46",
   "metadata": {},
   "source": [
    "### Model Training\n",
    "\n",
    "#### Definition of Auxiliary Methods\n",
    "\n",
    "For training the model, the code cell defines the auxiliary method `train_epoch()` that implements that basic training loop for a single epoch &mdash; the training of a model with respect to all training samples using mini-batches. In a nutshell, the method iterates through all data samples in a `DateLoader` instance and performs the following steps:\n",
    "* Extract the next mini-batch of training samples from the data loader\n",
    "* Move the mini-batch (all images and labels) to the same device running the model\n",
    "* Give the mini-batch to the model as input and to get log probabilities as the model's output\n",
    "* Calculate the mini-batch loss with respect to the ground-truth labels and the given loss function (see below)\n",
    "* Perform backpropagation and update the model parameters (done by PyTorch under the hood)\n",
    "\n",
    "During each iteration we accumulate and in the end return the overall loss for the epoch."
   ]
  },
  {
   "cell_type": "code",
   "execution_count": 15,
   "id": "fb324302-53b5-4168-adcd-3b352c889193",
   "metadata": {},
   "outputs": [],
   "source": [
    "def train_epoch(model, loader, optimizer, criterion):\n",
    "    # Initialize epoch loss (cummulative loss fo all batchs)\n",
    "    epoch_loss = 0.0\n",
    "    # Use tqdm to get a nice progress bar\n",
    "    with tqdm(total=len(loader)) as pbar:\n",
    "        # Iterate over all batches\n",
    "        for X_batch, y_batch in loader:\n",
    "            # Move the batch to the correct device\n",
    "            X_batch, y_batch = X_batch.to(device), y_batch.to(device)\n",
    "            # Get model outputs as log probabiltiies\n",
    "            log_probs = model(X_batch)\n",
    "            # Calculate loss\n",
    "            loss = criterion(log_probs, y_batch)\n",
    "            ### Pytorch magic! ###\n",
    "            optimizer.zero_grad()\n",
    "            loss.backward()\n",
    "            optimizer.step()\n",
    "            # Keep track of overall epoch loss\n",
    "            epoch_loss += loss.item()\n",
    "            # Update progress bar\n",
    "            pbar.update(1)\n",
    "    # Return total loss across whole dataset\n",
    "    return epoch_loss    "
   ]
  },
  {
   "cell_type": "markdown",
   "id": "ba28c37a-5805-4929-8801-573647969c72",
   "metadata": {},
   "source": [
    "Although not required for the training itself, we want to monitor how the prediction performance of our model changes over time, i.e., after each epoch. To this end, the model below implements the auxiliary method `evaluate()` that iterates over all samples in a data loader, calculates the predicted labels using the given model, and returns the F1 score based on the predicted and ground-truth labels."
   ]
  },
  {
   "cell_type": "code",
   "execution_count": 16,
   "id": "6450f2bf-a79d-4283-95ed-224d02808454",
   "metadata": {},
   "outputs": [],
   "source": [
    "def evaluate(model, loader):\n",
    "    # Define 2 lists holding all true labels and all predicted labels\n",
    "    y_true, y_pred = [], []\n",
    "    # Use tqdm to get a nice progress bar\n",
    "    with tqdm(total=len(loader)) as pbar:\n",
    "        # Iterate over all batches\n",
    "        for X_batch, y_batch in loader:\n",
    "            # Move the batch to the correct device\n",
    "            X_batch, y_batch = X_batch.to(device), y_batch.to(device)\n",
    "            # Get model outputs as log probabiltiies\n",
    "            log_probs = model(X_batch)\n",
    "            # Calculate predicted class labels based on largest log probability values\n",
    "            y_batch_pred = torch.argmax(log_probs, dim=1)\n",
    "            # Add the true labels and predicted labels for batch ot final lists\n",
    "            y_true += list(y_batch.cpu())\n",
    "            y_pred += list(y_batch_pred.cpu())\n",
    "            # Update progress bar\n",
    "            pbar.update(1)\n",
    "    # Return f1 score\n",
    "    return f1_score(y_true, y_pred, average='macro')"
   ]
  },
  {
   "cell_type": "markdown",
   "id": "49c20c80-abf2-473b-9483-3f3563856936",
   "metadata": {},
   "source": [
    "Let's evaluate our currently untrained model on the test data by calling method `evaluate()` and the data loader holding the test data."
   ]
  },
  {
   "cell_type": "code",
   "execution_count": 17,
   "id": "ef9d3b41-81bc-4407-a791-95b15310046c",
   "metadata": {},
   "outputs": [
    {
     "name": "stderr",
     "output_type": "stream",
     "text": [
      "100%|████████████████████████████████████████| 157/157 [00:00<00:00, 417.15it/s]\n"
     ]
    },
    {
     "name": "stdout",
     "output_type": "stream",
     "text": [
      "F1 score: 0.041\n"
     ]
    }
   ],
   "source": [
    "f1 = evaluate(model, loader_test)\n",
    "\n",
    "print(f\"F1 score: {f1:.3f}\")"
   ]
  },
  {
   "cell_type": "markdown",
   "id": "4dce27da-3706-4f4e-abca-d578b7106808",
   "metadata": {},
   "source": [
    "While the exact result will different depending on the random initialization of the model parameters, the f1 score of the untrained model should roughly be around $0.1$. This is because our untrained model is more less just guessing, and given that we have 10 possible classes (0, 1, 2, ..., 9), the model will be correct about 10% of the time."
   ]
  },
  {
   "cell_type": "markdown",
   "id": "4fdbe2b2-dd54-4a0c-a2b0-7592fecc07ff",
   "metadata": {},
   "source": [
    "#### Definition of Loss Function and Optimizer\n",
    "\n",
    "To train the model using backpropagation and parameter updates, we need to define two more components:\n",
    "* **Loss function (or *criterion*):** The loss function measures how far the neural network's predictions are from the actual correct answers (i.e., the ground-truth labels). A loss function is sometimes called a criterion &mdash; and this term is commonly used in PyTorch &mdash; because it serves as the \"standard\" or \"rule\" by which the model’s performance is judged. Since our model returns log probabilities &mdash; recall that out model uses the LogSoftmax instead of the Softmax function &mdash; the suitable criterion is the Negative Log-Likelihood Loss (NLLLoss), which of course is provided by PyTorch.\n",
    "* **Optimizer:** After calculating the gradients for all model parameters with respect to the loss, the optimizer is responsible for the actual update of the model parameters based on the calculated gradients. There are different strategies and hence different optimizers available. In this code cell below, we use the *Adam* optimizer. The Adam optimizer is a method for updating a neural network's weights that combines different ideas to make learning faster and more stable; it adjusts the learning rate for each weight automatically by keeping track of both the average of past gradients and how much those gradients have varied. This makes Adam work better than standard Gradient Descent because it can handle noisy data, works well with sparse features, and needs less fine-tuning of the learning rate, helping the model learn faster and more reliably."
   ]
  },
  {
   "cell_type": "code",
   "execution_count": 18,
   "id": "8b06198b-6c0e-49d0-8018-8773dc923d28",
   "metadata": {},
   "outputs": [],
   "source": [
    "# Define loss function\n",
    "criterion = nn.NLLLoss()\n",
    "# Define optimizer for the update step\n",
    "optimizer = torch.optim.Adam(model.parameters(), lr=0.0001)"
   ]
  },
  {
   "cell_type": "markdown",
   "id": "0209c6a8-a7b7-48ae-bec0-5cc00e63f931",
   "metadata": {},
   "source": [
    "#### Training Loop\n",
    "\n",
    "Using the our two auxiliary methods `train_epoch()` and `evaluate()` training the model for several epochs (here: 10) &mdash; and evaluating the model after each epoch &mdash; becomes very simple, as shown in the code cell below. The only additional things to mention are the two calls `model.train()` and `model.eval()`. In PyTorch, the `train()` method sets the model to training mode, which turns on behaviors like dropout and batch normalization updates that help the model learn better during training, while the `eval()` method sets the model to evaluation mode, which turns off those behaviors so that the model makes stable, consistent predictions when testing or using it in real life; switching between them ensures the model behaves correctly in both training and testing situations.\n",
    "\n",
    "Although the model does not contain any component (e.g., dropout or batch normalization), it is a good practice to switch between the training and evaluation mode appropriately. With this, we could change our model, for example, by including one or more dropout layers without the need to change the training loop in the code cell below. So run the code cell to train the model for `num_epochs` epochs. You can run the code cell multiple times to continue the training if needed."
   ]
  },
  {
   "cell_type": "code",
   "execution_count": 19,
   "id": "8f7796dd-517b-477a-9198-bbdb363293f3",
   "metadata": {},
   "outputs": [
    {
     "name": "stderr",
     "output_type": "stream",
     "text": [
      "100%|████████████████████████████████████████| 938/938 [00:02<00:00, 314.84it/s]\n",
      "100%|████████████████████████████████████████| 938/938 [00:01<00:00, 509.61it/s]\n",
      "100%|████████████████████████████████████████| 157/157 [00:00<00:00, 591.41it/s]\n"
     ]
    },
    {
     "name": "stdout",
     "output_type": "stream",
     "text": [
      "[Epoch 1] loss:\t1436.254, f1 train: 0.919, f1 test: 0.911\n"
     ]
    },
    {
     "name": "stderr",
     "output_type": "stream",
     "text": [
      "100%|████████████████████████████████████████| 938/938 [00:02<00:00, 324.43it/s]\n",
      "100%|████████████████████████████████████████| 938/938 [00:01<00:00, 523.10it/s]\n",
      "100%|████████████████████████████████████████| 157/157 [00:00<00:00, 589.31it/s]\n"
     ]
    },
    {
     "name": "stdout",
     "output_type": "stream",
     "text": [
      "[Epoch 2] loss:\t325.271, f1 train: 0.946, f1 test: 0.932\n"
     ]
    },
    {
     "name": "stderr",
     "output_type": "stream",
     "text": [
      "100%|████████████████████████████████████████| 938/938 [00:02<00:00, 326.46it/s]\n",
      "100%|████████████████████████████████████████| 938/938 [00:01<00:00, 476.34it/s]\n",
      "100%|████████████████████████████████████████| 157/157 [00:00<00:00, 590.36it/s]\n"
     ]
    },
    {
     "name": "stdout",
     "output_type": "stream",
     "text": [
      "[Epoch 3] loss:\t192.427, f1 train: 0.961, f1 test: 0.945\n"
     ]
    },
    {
     "name": "stderr",
     "output_type": "stream",
     "text": [
      "100%|████████████████████████████████████████| 938/938 [00:02<00:00, 324.78it/s]\n",
      "100%|████████████████████████████████████████| 938/938 [00:01<00:00, 493.98it/s]\n",
      "100%|████████████████████████████████████████| 157/157 [00:00<00:00, 589.79it/s]\n"
     ]
    },
    {
     "name": "stdout",
     "output_type": "stream",
     "text": [
      "[Epoch 4] loss:\t133.369, f1 train: 0.972, f1 test: 0.953\n"
     ]
    },
    {
     "name": "stderr",
     "output_type": "stream",
     "text": [
      "100%|████████████████████████████████████████| 938/938 [00:02<00:00, 324.80it/s]\n",
      "100%|████████████████████████████████████████| 938/938 [00:01<00:00, 524.41it/s]\n",
      "100%|████████████████████████████████████████| 157/157 [00:00<00:00, 592.39it/s]\n"
     ]
    },
    {
     "name": "stdout",
     "output_type": "stream",
     "text": [
      "[Epoch 5] loss:\t94.572, f1 train: 0.977, f1 test: 0.953\n"
     ]
    },
    {
     "name": "stderr",
     "output_type": "stream",
     "text": [
      "100%|████████████████████████████████████████| 938/938 [00:02<00:00, 326.00it/s]\n",
      "100%|████████████████████████████████████████| 938/938 [00:01<00:00, 521.07it/s]\n",
      "100%|████████████████████████████████████████| 157/157 [00:00<00:00, 589.23it/s]\n"
     ]
    },
    {
     "name": "stdout",
     "output_type": "stream",
     "text": [
      "[Epoch 6] loss:\t72.514, f1 train: 0.983, f1 test: 0.957\n"
     ]
    },
    {
     "name": "stderr",
     "output_type": "stream",
     "text": [
      "100%|████████████████████████████████████████| 938/938 [00:02<00:00, 324.34it/s]\n",
      "100%|████████████████████████████████████████| 938/938 [00:01<00:00, 519.89it/s]\n",
      "100%|████████████████████████████████████████| 157/157 [00:00<00:00, 589.04it/s]\n"
     ]
    },
    {
     "name": "stdout",
     "output_type": "stream",
     "text": [
      "[Epoch 7] loss:\t57.083, f1 train: 0.986, f1 test: 0.958\n"
     ]
    },
    {
     "name": "stderr",
     "output_type": "stream",
     "text": [
      "100%|████████████████████████████████████████| 938/938 [00:02<00:00, 324.45it/s]\n",
      "100%|████████████████████████████████████████| 938/938 [00:01<00:00, 522.55it/s]\n",
      "100%|████████████████████████████████████████| 157/157 [00:00<00:00, 588.84it/s]\n"
     ]
    },
    {
     "name": "stdout",
     "output_type": "stream",
     "text": [
      "[Epoch 8] loss:\t47.362, f1 train: 0.990, f1 test: 0.964\n"
     ]
    },
    {
     "name": "stderr",
     "output_type": "stream",
     "text": [
      "100%|████████████████████████████████████████| 938/938 [00:02<00:00, 324.55it/s]\n",
      "100%|████████████████████████████████████████| 938/938 [00:01<00:00, 495.74it/s]\n",
      "100%|████████████████████████████████████████| 157/157 [00:00<00:00, 591.82it/s]\n"
     ]
    },
    {
     "name": "stdout",
     "output_type": "stream",
     "text": [
      "[Epoch 9] loss:\t33.170, f1 train: 0.992, f1 test: 0.963\n"
     ]
    },
    {
     "name": "stderr",
     "output_type": "stream",
     "text": [
      "100%|████████████████████████████████████████| 938/938 [00:02<00:00, 325.00it/s]\n",
      "100%|████████████████████████████████████████| 938/938 [00:01<00:00, 473.09it/s]\n",
      "100%|████████████████████████████████████████| 157/157 [00:00<00:00, 366.78it/s]\n"
     ]
    },
    {
     "name": "stdout",
     "output_type": "stream",
     "text": [
      "[Epoch 10] loss:\t28.218, f1 train: 0.993, f1 test: 0.965\n"
     ]
    }
   ],
   "source": [
    "num_epochs = 10\n",
    "results = []\n",
    "\n",
    "for epoch in range(1, num_epochs+1):\n",
    "    # Set model into training mode\n",
    "    model.train()\n",
    "    # Train model for a single epch\n",
    "    epoch_loss = train_epoch(model, loader_train, optimizer, criterion)\n",
    "    # Set model into evaluation mode\n",
    "    model.eval()\n",
    "    # Calculate training and test f1 scores\n",
    "    f1_train = evaluate(model, loader_train)\n",
    "    f1_test = evaluate(model, loader_test)\n",
    "    # Append the epoch loss, training f1 score, and test f1 score to final result list (for plotting later)\n",
    "    results.append((epoch_loss, f1_train, f1_test))\n",
    "    # Print progress(epoch loss, training f1 score, and test f1 score)\n",
    "    print(f\"[Epoch {epoch}] loss:\\t{epoch_loss:.3f}, f1 train: {f1_train:.3f}, f1 test: {f1_test:.3f}\")  "
   ]
  },
  {
   "cell_type": "markdown",
   "id": "fd65497e-a961-40c0-b448-8cf48114d8a2",
   "metadata": {},
   "source": [
    "Even when starting from an untrained model, you should see that the model already achieves an F1 score of about $0.9$ after the first epoch, and then only improves slightly more over time. This is because the task is a relatively easy one even for a simple ANN, as we will discuss more at the end. Since we keep track of the loss as well as the F1 scores regarding the training and the test data, we can also plot the results use the auxiliary method `plot_training_results()` we provide."
   ]
  },
  {
   "cell_type": "code",
   "execution_count": 20,
   "id": "0fe171f6-7fca-4ff9-8264-d7c0e3d484a7",
   "metadata": {},
   "outputs": [
    {
     "data": {
      "image/png": "[encoded data removed]",
      "text/plain": [
       "<Figure size 640x480 with 1 Axes>"
      ]
     },
     "metadata": {},
     "output_type": "display_data"
    }
   ],
   "source": [
    "plot_training_results(results, legend=['Loss (normalized)', 'F1 (train)', 'F1 (test)'])"
   ]
  },
  {
   "cell_type": "markdown",
   "id": "5150a3c5-7815-4146-bd4f-303dadaf0ec3",
   "metadata": {},
   "source": [
    "### Making Predictions\n",
    "\n",
    "Of course, in practice, we want to use our trained model to make predictions for a given input image or batch of input images. Let's implement a simple method `predict()` that passes and input batch to the model, calculates the log probabilities for each image in the batch, and returns the predicted class label for each image."
   ]
  },
  {
   "cell_type": "code",
   "execution_count": 21,
   "id": "abf81e08-d96b-464e-86c1-5ce0fbf86748",
   "metadata": {},
   "outputs": [],
   "source": [
    "def predict(model, batch):\n",
    "    # Pass batch to model to get log probabilities\n",
    "    log_probs = model(batch)\n",
    "    # Return predictions derived from the largest log probabilities\n",
    "    return torch.argmax(log_probs, dim=1)"
   ]
  },
  {
   "cell_type": "markdown",
   "id": "7629cf94-c9ab-41f4-b613-70845865dcc6",
   "metadata": {},
   "source": [
    "To show an example, let use the method to predict the class labels of the first *k* images in our test dataset &mdash; that is, the same *k* images we have plotted at the beginning of the notebook (see above); hence the use of `n_col` and `n_row` and have previously defined."
   ]
  },
  {
   "cell_type": "code",
   "execution_count": 22,
   "id": "87dd3184-3514-48b7-9e7e-26913f6af049",
   "metadata": {},
   "outputs": [
    {
     "name": "stdout",
     "output_type": "stream",
     "text": [
      "tensor([[7, 2, 1, 0, 4],\n",
      "        [1, 4, 9, 5, 9],\n",
      "        [0, 6, 9, 0, 1]])\n"
     ]
    }
   ],
   "source": [
    "# Create batch from the first k images of the test set\n",
    "batch_pred = predict(model, X_test[:n_col*n_row].to(device)).cpu()\n",
    "# Organize the predicted class label to match the grid layout from above\n",
    "batch_pred = batch_pred.reshape(n_row, n_col)\n",
    "# Print predicted class labels\n",
    "print(batch_pred)"
   ]
  },
  {
   "cell_type": "markdown",
   "id": "2805e89d-a897-414b-be3f-d7f99c5f3dfa",
   "metadata": {},
   "source": [
    "If you compare the output with the grid of image plots above, you will notice that they match &mdash; that is, for example, the first entry is a $7$, matching the first image plot showing a $7$ in the grid. Since our model is not perfect, there is the possibility that one or two of the predictions do not match up due to misclassifications. However, since we got an F1 score of more $0.95$ most or all of the predictions are likely to be correct."
   ]
  },
  {
   "cell_type": "markdown",
   "id": "e13b0ae5-bc5a-42ac-a9f8-8275b041d3c6",
   "metadata": {},
   "source": [
    "---"
   ]
  },
  {
   "cell_type": "markdown",
   "id": "f4d03831-716d-427c-a1e7-82e6ffc4b097",
   "metadata": {},
   "source": [
    "## Error Analysis\n",
    "\n",
    "Although our model seems to work reasonably well, it is of course not perfect as it misclassified some images from the test dataset. Let's therefore have a closer look at what images of handwritten digits our model recognized incorrectly. **Error analysis** in machine learning is the process of carefully studying the mistakes a model makes &mdash; looking at the cases where it gets predictions wrong &mdash; to understand why those errors happen. By examining these incorrect predictions, you can find patterns, such as certain types of inputs the model struggles with or parts of the data that are confusing or mislabeled.\n",
    "\n",
    "The goal of error analysis is to get insights that help improve the model, whether by fixing data problems, adjusting the model, or changing how you train it. It's a way to make smarter decisions about what to fix next, instead of just blindly trying random improvements. While further improvements are beyond the scope of this notebook, we can still look at some mistakes of our model to get some ideas of its weaknesses. For this, we simply iterate again through all the samples in our test dataset and keep track of the true and predicted class labels for each image."
   ]
  },
  {
   "cell_type": "code",
   "execution_count": 23,
   "id": "7816d0fa-8c9a-4828-b010-63fe84ffb0ce",
   "metadata": {},
   "outputs": [
    {
     "name": "stderr",
     "output_type": "stream",
     "text": [
      "100%|████████████████████████████████████████| 157/157 [00:00<00:00, 538.11it/s]\n"
     ]
    }
   ],
   "source": [
    "y_true, y_pred = [], []\n",
    "\n",
    "# Use tqdm to get a nice progress bar\n",
    "with tqdm(total=len(loader_test)) as pbar:\n",
    "    # Iterate over all batches\n",
    "    for idx, (X_batch, y_batch) in enumerate(loader_test):\n",
    "        # Move the batch to the correct device\n",
    "        X_batch, y_batch = X_batch.to(device), y_batch.to(device)\n",
    "        # Get model outputs as log probabiltiies\n",
    "        log_probs = model(X_batch)\n",
    "        # Calculate predicted class labels based on largest log probability values\n",
    "        y_batch_pred = torch.argmax(log_probs, dim=1)\n",
    "        # Add the true labels and predicted labels for batch ot final lists\n",
    "        y_true += list(y_batch.cpu())\n",
    "        y_pred += list(y_batch_pred.cpu())\n",
    "        # Update progress bar\n",
    "        pbar.update(1)"
   ]
  },
  {
   "cell_type": "markdown",
   "id": "16b2a0c3-6064-4b17-82a6-2edda1cb6960",
   "metadata": {},
   "source": [
    "Using the code below, we can not find all misclassifications by finding the indices in the arrays `y_true` and `y_pred` where the values in both arrays differ. The `equal()` method in Numpy compares two arrays element by element and returns a new array of `True` or `False` values, showing where the elements are exactly the same. Since we are interested in the values that are not the same, we can flip the Boolean values in the array using `~`. We then also cast the Boolean area into an integer array where all `False` values become $0$ and all `True` values become $1$. Lastly, `flatnonzero()` method returns the indices of all the non-zero elements in an array. After all, we do not care about the predictions our model got right."
   ]
  },
  {
   "cell_type": "code",
   "execution_count": 24,
   "id": "b336fae4-13b9-4aa2-bc37-61910ce08e1a",
   "metadata": {},
   "outputs": [
    {
     "name": "stdout",
     "output_type": "stream",
     "text": [
      "Number of misclassifications: (347,)\n"
     ]
    }
   ],
   "source": [
    "# Find all misclassifications (and correct classifications)\n",
    "mismatch = (~np.equal(y_true, y_pred)).astype(int)\n",
    "# Extract the indices of all misclassifications\n",
    "indices_misclassifications = np.flatnonzero(mismatch)\n",
    "# Print the number of misclassifications\n",
    "print(f\"Number of misclassifications: {indices_misclassifications.shape}\")"
   ]
  },
  {
   "cell_type": "markdown",
   "id": "c0fdd705-d34d-4050-91d8-ef0e89a7d902",
   "metadata": {},
   "source": [
    "Again, the exact number of misclassifications will depend on the initialization of the model parameters, the choice of the optimizer (and its parameters) as well as the number of epochs the model has been trained. However, you are likely to see between 300-600 misclassifications, out of a total of 10,000 training samples.\n",
    "\n",
    "Using the indices of all misclassifications, we can now create a subset of the test dataset that only contains the samples that yield a misclassification."
   ]
  },
  {
   "cell_type": "code",
   "execution_count": 25,
   "id": "f6bbe1e9-fe08-4725-8452-4d655b1de1d6",
   "metadata": {},
   "outputs": [],
   "source": [
    "X_misclassifications = X_test[indices_misclassifications]\n",
    "y_misclassifications = y_test[indices_misclassifications]"
   ]
  },
  {
   "cell_type": "markdown",
   "id": "5e664d7a-f1f3-4f85-bf2d-6e215a5ed85f",
   "metadata": {},
   "source": [
    "We can now use the same code brom before to plot the first *k* images, however, now only from the dataset of misclassifications. The label above each image shows both the true label and the predicted label."
   ]
  },
  {
   "cell_type": "code",
   "execution_count": 26,
   "id": "436eadd7-4983-49ae-94c8-a1ab2b5183d8",
   "metadata": {},
   "outputs": [
    {
     "data": {
      "image/png": "[encoded data removed]",
      "text/plain": [
       "<Figure size 750x600 with 15 Axes>"
      ]
     },
     "metadata": {},
     "output_type": "display_data"
    }
   ],
   "source": [
    "fig, axes = plt.subplots(n_row, n_col, figsize=(1.5*n_col,2*n_row))\n",
    "for i in range(n_row*n_col):\n",
    "    ax = axes[i//n_col, i%n_col]\n",
    "    ax.imshow(X_misclassifications[i].reshape(28,28), cmap='gray_r')\n",
    "    log_probs = model(X_misclassifications[i].reshape(1,-1).to(device))\n",
    "    label_pred = torch.argmax(log_probs, dim=1).cpu().item()\n",
    "    label_true = y_misclassifications[i].cpu().item()\n",
    "    ax.set_title(f\"{label_true} vs. {label_pred}\")\n",
    "plt.tight_layout()\n",
    "plt.show()"
   ]
  },
  {
   "cell_type": "markdown",
   "id": "b9238f9d-7eb6-4491-9353-c21563d272e9",
   "metadata": {},
   "source": [
    "When looking at the examples above, you are likely to see cases where it is rather easy why the model has made a wrong prediction. For example, a \"sloppy\" $2$ (with only a small bottom part) can be mistaken for a $7$. On the other hand, you are also likely to see some cases where the digit is generally properly written but the model still recognizes it as a different digit. These cases highlight why understanding how a trained model works is both important and challenging. For example, if two very similar-looking images return different predictions, it may mean that the model is rather \"brittle\" &mdash; just small changes to the input can quickly alter the predicted output. But again, a deeper discussion is beyond the scope of this notebook."
   ]
  },
  {
   "cell_type": "markdown",
   "id": "d0f7bf0f-e424-4c96-9406-bb31c4621bb5",
   "metadata": {},
   "source": [
    "---"
   ]
  },
  {
   "cell_type": "markdown",
   "id": "d98a876a-1a40-4d81-b692-c1dccc7cc102",
   "metadata": {},
   "source": [
    "## Discussion\n",
    "\n",
    "In this notebook we addressed the task of handwritten digit recognition using a simple artificial neural network (ANN), and saw that the model performed arguably quite well. One might therefore wonder why ANNs are generally not used for similar image classification tasks. The answer to this question lies in the simple nature of the dataset in terms of the variety of the training samples.\n",
    "\n",
    "It is important that MNIST images are size-normalized and centered when using simple neural networks (fully connected networks, i.e., ANNs) because these networks do not naturally understand the spatial structure of images. A fully connected neural network treats the image as just a long list of numbers (e.g., 784 pixel values), without knowing which pixels are near each other or where features like edges and curves are located. If the digit is off-center or varies too much in size, the same number might produce very different patterns of pixel values, making it harder for the network to learn consistent patterns.\n",
    "\n",
    "* **Size-normalizing** the digits makes sure that all the handwritten numbers are roughly the same scale. This means, for example, that a small \"5\" does not get confused with noise or looks completely different from a large \"5\". When the size is consistent, the neural network sees more similar pixel patterns for the same digit across many examples, which helps it learn more effectively.\n",
    "\n",
    "* **Centering** the digits means aligning them so they sit roughly in the middle of the image, which reduces variation in where the important features (like loops or lines) appear within the pixel grid. If the same digit appears in different corners of the image, a simple neural network (which has no idea about \"position\") will struggle to recognize them as the same digit. Centering helps ensure that, no matter who wrote the digit, it shows up in the same general spot, again making it easier for the model to learn.\n",
    "\n",
    "In contrast, **Convolutional Neural Networks (CNNs)** are much better at handling shifts, scale changes, and spatial patterns because they process images in small patches and can recognize patterns no matter where they appear. But in simple ANNs, we need to help the model by making the images as uniform as possible &mdash; hence the importance of size-normalization and centering."
   ]
  },
  {
   "cell_type": "markdown",
   "id": "f69b2dad-3971-4f72-aca9-25e1b7b1ad27",
   "metadata": {},
   "source": [
    "---"
   ]
  },
  {
   "cell_type": "markdown",
   "id": "9d2adc10-7dd9-4586-ac08-ce5fd9352865",
   "metadata": {},
   "source": [
    "# Summary\n",
    "\n",
    "Recognizing handwritten digits is a classic task in machine learning where the goal is to build a model that can correctly identify the number (0 to 9) written in an image. A popular dataset for this task is MNIST, which contains thousands of grayscale images of handwritten digits, each 28$\\times$28 pixels in size. The job of the Artificial Neural Network (ANN) is to take these images as input and predict the correct digit label for each one. A basic artificial neural network for this task typically has an input layer with 784 neurons (since 28$\\times$28 = 784 pixels), one or more hidden layers where the model learns patterns in the data, and an output layer with 10 neurons &mdash; one for each possible digit. \n",
    "\n",
    "The network learns by adjusting the weights in these layers to reduce the difference between its predicted digit and the actual digit, using a process called backpropagation and an optimizer like Adam or Stochastic Gradient Descent (SGD). During training, the model is shown many examples of images and their correct labels so it can gradually improve its ability to recognize patterns like loops, edges, and shapes that make up different digits. Once trained, the model can be tested on new, unseen images to see how well it generalizes to new handwriting styles. This task is a great introduction to neural networks because it's simple yet powerful enough to show how models can learn to make accurate predictions.\n",
    "\n",
    "In practice, even basic neural networks can achieve surprisingly good accuracy on handwritten digit recognition, but more advanced models like convolutional neural networks (CNNs) often do even better because they’re specially designed to work with image data. Still, using a basic ANN for this task is a great way to understand how neural networks work and how they can be applied to solve real-world problems."
   ]
  },
  {
   "cell_type": "code",
   "execution_count": null,
   "id": "a1155c7e-32c7-46e4-99a0-dd78b4a3ba0a",
   "metadata": {},
   "outputs": [],
   "source": []
  }
 ],
 "metadata": {
  "kernelspec": {
   "display_name": "py311",
   "language": "python",
   "name": "py311"
  },
  "language_info": {
   "codemirror_mode": {
    "name": "ipython",
    "version": 3
   },
   "file_extension": ".py",
   "mimetype": "text/x-python",
   "name": "python",
   "nbconvert_exporter": "python",
   "pygments_lexer": "ipython3",
   "version": "3.11.8"
  }
 },
 "nbformat": 4,
 "nbformat_minor": 5
}
