{
 "cells": [
  {
   "cell_type": "markdown",
   "id": "58dc88d3-2ca5-43e7-99e4-fc2043769308",
   "metadata": {},
   "source": [
    "<img src=\"images/logo/selene-logo-640.png\" style=\"max-height:75px;\" alt=\"SELENE Logo\" />\n",
    "\n",
    "**Disclaimer:** This Jupyter Notebook contains content generated with the assistance of AI. While every effort has been made to review and validate the outputs, users should independently verify critical information before relying on it. The SELENE notebook repository is constantly evolving. We recommend downloading or pulling the latest version of this notebook from Github."
   ]
  },
  {
   "attachments": {},
   "cell_type": "markdown",
   "id": "e44d6254-2ea9-4f8c-ab46-5083b06e6756",
   "metadata": {},
   "source": [
    "# Mixture of Experts (MoE)\n",
    "\n",
    "In deep learning, the Mixture of Experts (MoE) model is a powerful architectural technique that enhances model efficiency by dynamically selecting specialized sub-networks &mdash; or *\"experts\"* &mdash; for different input data. Instead of relying on a single monolithic neural network to process all types of inputs, MoE divides the computational workload among multiple smaller networks, each trained to handle specific patterns or distributions. A gating network determines which experts to activate for a given input, ensuring that only the most relevant ones contribute to the final prediction.\n",
    "\n",
    "One of the key advantages of MoE is its ability to scale model capacity without a proportional increase in computation cost. Since only a subset of experts is active for each input, the model can maintain high expressiveness while keeping inference computationally efficient. This makes MoE particularly beneficial for large-scale applications, such as natural language processing (NLP), speech recognition, and computer vision, where diverse patterns exist within the data. Google's Switch Transformer and other large-scale language models have leveraged MoE to improve performance while managing computational overhead.\n",
    "\n",
    "Another major benefit of MoE is its adaptability to heterogeneous data distributions. In real-world tasks, data often follows a multi-modal distribution, meaning different sub-populations require specialized processing. MoE naturally captures this by allowing different experts to learn distinct aspects of the data. This approach improves generalization and reduces the risk of overfitting, as each expert focuses on a more manageable subset of the data distribution rather than attempting to generalize across all possible inputs.\n",
    "\n",
    "Despite its advantages, MoE also introduces challenges, such as training instability and load balancing issues among experts. If the gating network assigns most inputs to a small subset of experts, the model may fail to utilize its full capacity. Researchers have proposed techniques like regularization, auxiliary losses, and improved gating mechanisms to mitigate these issues. Overall, the MoE layer is a powerful tool for improving the scalability and efficiency of deep learning models, making it a popular choice for modern AI architectures.\n",
    "\n",
    "### Setting up the Notebook\n",
    "\n",
    "#### Make Required Imports\n",
    "\n",
    "This notebook requires the import of different Python packages but also additional Python modules that are part of the repository. If a package is missing, use your preferred package manager (e.g., [conda](https://anaconda.org/anaconda/conda) or [pip](https://pypi.org/project/pip/)) to install it. If the code cell below runs with any errors, all required packages and modules have successfully been imported."
   ]
  },
  {
   "cell_type": "code",
   "execution_count": 1,
   "id": "231c7ad1-fa2e-49fe-ac1a-efcb1585c903",
   "metadata": {},
   "outputs": [],
   "source": [
    "import torch\n",
    "import torch.nn as nn\n",
    "import torch.nn.functional as F"
   ]
  },
  {
   "cell_type": "markdown",
   "id": "5277949c-9594-4c7f-b0be-d597cec8ae57",
   "metadata": {},
   "source": [
    "#### Generate Example Data\n",
    "\n",
    "Throughout this notebook, we illustrate the basic idea of an MoE layer and its inner works using a small example batch that forms the input for the MoE layer. To keep it simple, the batch contains $4$ data samples, each sample represented by a vector of size $8$."
   ]
  },
  {
   "cell_type": "code",
   "execution_count": 2,
   "id": "67d6b746-0929-410f-9564-9739d94f91c5",
   "metadata": {},
   "outputs": [
    {
     "name": "stdout",
     "output_type": "stream",
     "text": [
      "tensor([[0.4963, 0.7682, 0.0885, 0.1320, 0.3074, 0.6341, 0.4901, 0.8964],\n",
      "        [0.4556, 0.6323, 0.3489, 0.4017, 0.0223, 0.1689, 0.2939, 0.5185],\n",
      "        [0.6977, 0.8000, 0.1610, 0.2823, 0.6816, 0.9152, 0.3971, 0.8742],\n",
      "        [0.4194, 0.5529, 0.9527, 0.0362, 0.1852, 0.3734, 0.3051, 0.9320]])\n"
     ]
    }
   ],
   "source": [
    "batch_size, hidden_size = 4, 8\n",
    "\n",
    "torch.manual_seed(0)\n",
    "batch = torch.rand((batch_size, hidden_size))\n",
    "\n",
    "print(batch)"
   ]
  },
  {
   "cell_type": "markdown",
   "id": "d789ce4e-9b94-44ae-95cd-9e33d189345e",
   "metadata": {},
   "source": [
    "---"
   ]
  },
  {
   "cell_type": "markdown",
   "id": "0ed5ae8e-dad4-41d1-bf43-f12f868ba600",
   "metadata": {},
   "source": [
    "## MoE: Basic Model Architecture\n",
    "\n",
    "To give a first overview, the figure below illustrates the basic architecture of a Mixture-of-Experts model. This architecture feature two main components:\n",
    "\n",
    "* **Experts:** The experts are separate networks that process the input $\\mathbf{x}$. The final output of the MoE model is calculated as the weighted sum of the outputs of all activated experts. The weights of the sum as well as the set of activated experts is determined by the gating mechanism. In the figure below, we assume that we have $n$ experts $E_1$, $E_2$, ..., $E_n$, and an input $\\mathbf{x}$ is passed to $2$ selected experts.\n",
    "\n",
    "* **Gating Mechanism:** The gating mechanism is a submodel that determines to which experts input $\\mathbf{x}$ should be passed to.\n",
    "Its output is a probability distribution over all experts $G(\\mathbf{x})$, and input $\\mathbf{x}$ is passed to the experts $E_i$ with the highest probabilities $G(\\mathbf{x})_i$. We can distinguish between two components in the gating mechanism (although they are often considered together). The **Gate** submodel calculates the initial distribution $G(\\mathbf{x})_i$. The **Router** submodel then uses $G(\\mathbf{x})_i$ to determine to which experts the input $\\mathbf{x}$ should be passed based on various *routing strategies*; this may include a re-scaling of the probabilities if only a subset of experts are involved in the final output.\n",
    "\n",
    "The parameters in both the experts and the gating mechanism are learned during the training."
   ]
  },
  {
   "cell_type": "markdown",
   "id": "c5de0c6f-eee4-4d11-94f1-c6c74d942e7b",
   "metadata": {},
   "source": [
    "<img src=\"images/illustrations/moe/moe-model-basics.png\" style=\"margin:auto\" alt=\"Basic MoE Model Architecture\">"
   ]
  },
  {
   "cell_type": "markdown",
   "id": "5c757fa2-f057-4120-9f39-44b7cc2fae67",
   "metadata": {},
   "source": [
    "Given this overall architecture setup, the output $\\mathbf{y}$ of an MoE model is calculated as:"
   ]
  },
  {
   "cell_type": "markdown",
   "id": "3dbe938a-4ff2-4e6f-9362-3e295f6c26d7",
   "metadata": {},
   "source": [
    "$$\\large\n",
    "\\mathbf{y} = \\sum_{i=1}^n G(\\mathbf{x})_i E_i(\\mathbf{x})\\quad ,\\ \\text{with}\\ \\sum_{i=1}^n G(\\mathbf{\\mathbf{x}})_i = 1\n",
    "$$"
   ]
  },
  {
   "cell_type": "markdown",
   "id": "76204528-9a1d-4ab8-b570-d81098e567df",
   "metadata": {},
   "source": [
    "Where $E_i(\\mathbf{x})$ is the output of expert $E_i$ given the input $\\mathbf{x}$. The interesting case is where $G(\\mathbf{x})_i = 0$ for an expert $E_i$, either because the gate probability is already $0$ or is set to $0$ as part of a routing strategy. For example, the figure above illustrates the routing strategy that sends input $\\mathbf{x}$ to only the two experts with the highest probabilities calculated by the gate. To accomplish this, all other probabilities are set to $0$ &mdash; indicated by the red bars of the probability distribution &mdash; the remaining two probabilities are re-scaled to again sum up to $1$ (green bars). Naturally, for any $G(\\mathbf{x})_i = 0$, there is no need to pass the inputs $\\mathbf{x}$ to the respective expert $E_i$. In short, for this and similar routing strategies, only a part of the overall network is activated and utilized."
   ]
  },
  {
   "cell_type": "markdown",
   "id": "12bcded5-4d2e-45d7-aeee-7d2969ff0033",
   "metadata": {},
   "source": [
    "---"
   ]
  },
  {
   "cell_type": "markdown",
   "id": "45212540-d8a0-4fec-b541-22619864df69",
   "metadata": {},
   "source": [
    "## MoE: Core Components\n",
    "\n",
    "While MoE models can become quite complex in practice, they typically all feature the same basic core components."
   ]
  },
  {
   "cell_type": "markdown",
   "id": "93540226-0e1c-464c-90c8-bf3361c8c860",
   "metadata": {},
   "source": [
    "### Experts\n",
    "\n",
    "An **expert** in the context of a Mixture-of-Expert layer is a subnetwork or submodel within a larger model. Each of these subnetworks independently perform their own computation, and their results combined to create the final output of the MoE layer. In principle, an expert subnetwork can be any kind of architecture but are commonly simple ones such as basic feed-forward neural networks (FFNNs). To give an example, the code cell below implements a very simple expert as a FFNN with two linear layers. The first linear layer transforms the input of size `hidden_size` into a higher dimensional space (here: `hidden_size*4`). After applying the `ReLU` activation function, the second linear layer transforms the result back to initial input size. As a side note: this expert mimics the FFNN layer in the transformer architecture."
   ]
  },
  {
   "cell_type": "code",
   "execution_count": 3,
   "id": "abcf5f69-cd20-40f9-80c2-979cfff42743",
   "metadata": {},
   "outputs": [],
   "source": [
    "class Expert(nn.Module):\n",
    "\n",
    "    def __init__(self, hidden_size):\n",
    "        super().__init__()\n",
    "        self.net = nn.Sequential(\n",
    "            nn.Linear(hidden_size, hidden_size*4),\n",
    "            nn.ReLU(),\n",
    "            nn.Linear(hidden_size*4, hidden_size)\n",
    "        )\n",
    "\n",
    "    def forward(self, x):\n",
    "        return self.net(x)"
   ]
  },
  {
   "cell_type": "markdown",
   "id": "65b1a57a-064f-4bec-bfdc-2470f2f4f1ed",
   "metadata": {},
   "source": [
    "Traditionally, most MoE models use **homogeneous experts** &mdash; that is, each expert uses the same architecture and therefore has the same capacity. In contrast, MoE models with **heterogeneous experts** rely on different architecture for the set of experts. While this heterogeneity allows for more specialized experts &mdash; -- which can be very useful when working with multimodal data (e.g., text & images) or multitask learning, training MoE models heterogeneous experts are generally more complex and more difficult to train. In this introduction notebook, we therefore limit ourselves to homogeneous experts.\n",
    "\n",
    "With our `Expert` class implementation, we can create an expert subnetwork as shown in the code cell below. Of course, we specify the input size of the expert as `hidden_size` which is the expected size of the input of our MoE model."
   ]
  },
  {
   "cell_type": "code",
   "execution_count": 4,
   "id": "84b33814-0131-4457-a097-abec4599a249",
   "metadata": {},
   "outputs": [
    {
     "name": "stdout",
     "output_type": "stream",
     "text": [
      "Expert(\n",
      "  (net): Sequential(\n",
      "    (0): Linear(in_features=8, out_features=32, bias=True)\n",
      "    (1): ReLU()\n",
      "    (2): Linear(in_features=32, out_features=8, bias=True)\n",
      "  )\n",
      ")\n"
     ]
    }
   ],
   "source": [
    "expert = Expert(hidden_size)\n",
    "\n",
    "print(expert)"
   ]
  },
  {
   "cell_type": "markdown",
   "id": "b91399b0-5b6f-455b-8b02-c50d4aa0efb3",
   "metadata": {},
   "source": [
    "Let's use our example batch as input for the newly created expert:"
   ]
  },
  {
   "cell_type": "code",
   "execution_count": 5,
   "id": "932281f7-01ff-44f4-a7da-5cddd00ffacd",
   "metadata": {},
   "outputs": [
    {
     "name": "stdout",
     "output_type": "stream",
     "text": [
      "torch.Size([4, 8])\n"
     ]
    }
   ],
   "source": [
    "expert_output = expert(batch)\n",
    "\n",
    "print(expert_output.shape)"
   ]
  },
  {
   "cell_type": "markdown",
   "id": "9961868c-d4d7-4f3b-98e0-5809507be216",
   "metadata": {},
   "source": [
    "Since each output of the expert is of the same shape as its input, we naturally get a tensor with the same shape as our example batch."
   ]
  },
  {
   "cell_type": "markdown",
   "id": "4aa37a13-8d4e-4778-b14a-401331645d10",
   "metadata": {},
   "source": [
    "### Gating Mechanism\n",
    "\n",
    "The **gating mechanism** used to select which experts will be activated for a given input. For example, given our example batch of $4$ samples, the gating mechanism may pass the first two samples to expert $E_2$, the third sample to expert $E_5$, and the fourth sample to expert $E_1$. Typically, this is achieved by using a gating network that takes the input and outputs a set of weights for each expert. The gating network assigns a probability distribution over the experts, determining how much each expert will contribute to the final output. Commonly, only a subset of experts is activated in forward passes to save computation and reduce model complexity.\n",
    "\n",
    "Although often implemented as a single network component, in the following, we distinguish the following two subcomponents:\n",
    "* **Gate:** The gate calculates the probability distribution over the experts. For example, in a model with $6$ experts, the gate could output weights, e.g., softmax probabilities, like $[0.1, 0.2, 0.0, 0.5, 0.2, 0.1]$.\n",
    "* **Router:** Based on the weights from the gate, the router then decides to which expert to actually pass an input. This can be done in very different ways which are commonly referred to as different routing strategies. In this notebook, we cover two very fundamental strategies.\n",
    "\n",
    "In the following, we briefly introduce the concept of a gate, and cover the router when introducing and comparing different routing strategies ans a separate section.\n",
    "\n",
    "Like an expert, the **gate** is also just \"some\" subnetwork. And again, while any architecture is possible, gates also typically utilize simple architectures such as FFNNs. The class `Gate` in the code cell below provides an example implementation for a gate based on a simple FFNN with $2$ linear layers. Most importantly, the last linear layer has an output size reflecting the number of experts `num_experts` to interpret the output of the gate as the required probability distribution over the experts."
   ]
  },
  {
   "cell_type": "code",
   "execution_count": 6,
   "id": "055ae662-1707-4a69-9abb-776ace295dad",
   "metadata": {},
   "outputs": [],
   "source": [
    "class Gate(nn.Module):\n",
    "    def __init__(self, hidden_size, num_experts):\n",
    "        super().__init__()\n",
    "        # Define a basic Feed Forward Network as the gate\n",
    "        self.net = nn.Sequential(\n",
    "            nn.Linear(hidden_size, hidden_size//2),\n",
    "            nn.ReLU(),\n",
    "            nn.Linear(hidden_size//2, num_experts),\n",
    "            nn.Softmax(dim=-1)\n",
    "        )\n",
    "\n",
    "    def forward(self, x):\n",
    "        return self.net(x)"
   ]
  },
  {
   "cell_type": "markdown",
   "id": "45a0ba28-4469-4dac-9f54-355b52365ec9",
   "metadata": {},
   "source": [
    "In the following, we assume that our MoE model will consist of $6$ experts &mdash; of course, feel free to change this number. With `num_experts` defined, we can create a gate subnetwork based on our `Gate` class as shown in the code cell below. Again, we set a random seed to ensure consistent outputs &mdash; without setting the seed, the random initialization of the weights in the linear layers would vary and hence the output would differ."
   ]
  },
  {
   "cell_type": "code",
   "execution_count": 7,
   "id": "bbf20e4e-0a99-448c-830d-76e94c3785a9",
   "metadata": {},
   "outputs": [
    {
     "name": "stdout",
     "output_type": "stream",
     "text": [
      "Gate(\n",
      "  (net): Sequential(\n",
      "    (0): Linear(in_features=8, out_features=4, bias=True)\n",
      "    (1): ReLU()\n",
      "    (2): Linear(in_features=4, out_features=6, bias=True)\n",
      "    (3): Softmax(dim=-1)\n",
      "  )\n",
      ")\n"
     ]
    }
   ],
   "source": [
    "num_experts = 6\n",
    "\n",
    "torch.manual_seed(11)\n",
    "gate = Gate(hidden_size, num_experts)\n",
    "\n",
    "print(gate)"
   ]
  },
  {
   "cell_type": "markdown",
   "id": "777923cf-75a2-4887-bd9d-687f9937af9b",
   "metadata": {},
   "source": [
    "So let's give our example batch to the gate and look at the output."
   ]
  },
  {
   "cell_type": "code",
   "execution_count": 8,
   "id": "009d52cd-cbe0-49ac-a10b-141e0ac9a439",
   "metadata": {},
   "outputs": [
    {
     "name": "stdout",
     "output_type": "stream",
     "text": [
      "tensor([[0.1974, 0.1054, 0.1133, 0.1181, 0.1990, 0.2668],\n",
      "        [0.2016, 0.1062, 0.1127, 0.1197, 0.2015, 0.2584],\n",
      "        [0.1961, 0.1022, 0.1130, 0.1183, 0.1975, 0.2730],\n",
      "        [0.2046, 0.0972, 0.1106, 0.1229, 0.2007, 0.2640]],\n",
      "       grad_fn=<SoftmaxBackward0>)\n"
     ]
    }
   ],
   "source": [
    "gate_output = gate(batch)\n",
    "\n",
    "print(gate_output)"
   ]
  },
  {
   "cell_type": "markdown",
   "id": "875e4e7a-2cc2-4f8f-b9a8-93bb96f4cfe1",
   "metadata": {},
   "source": [
    "The shape of output of the gate is `(batch_size, num_experts)` &mdash; here: $(\\text{4, 6})$ &mdash; since we get a probability distribution over the experts for each of the $4$ data samples in our example batch (i.e., in each row, all value sum up to $1$). For example, when looking at the first row representing the probability distribution for the first sample, we can see that the fifth entry has the highest probability. Therefore, a basic routing strategy may decide to pass the first stample to expert $E_6$."
   ]
  },
  {
   "cell_type": "markdown",
   "id": "3a824d65-071d-4239-9b3f-d30a20fee86d",
   "metadata": {},
   "source": [
    "---"
   ]
  },
  {
   "cell_type": "markdown",
   "id": "9bdb1302-c7fb-4e8c-a78f-0a5895bd0658",
   "metadata": {},
   "source": [
    "## Basic Routing Strategies\n",
    "\n",
    "Routing strategies refer to the decision to which expert(s) an input $\\mathbf{x}$ is passed based on the initial probability distribution by the gate. While a wider such strategies have be proposed &mdash; many include additional optimizations to ensure a more stable and faster training &mdash; here we focus on the most fundamental distinction of routing strategies: **dense MoE** and **sparse MoE**, that is, sending input $\\mathbf{x}$ to all experts (*dense*) or only a subset of experts (*sparse*)."
   ]
  },
  {
   "cell_type": "markdown",
   "id": "fa63a50c-5193-4f8f-a232-687072276c7f",
   "metadata": {},
   "source": [
    "### Dense Mixture of Experts\n",
    "\n",
    "In a dense Mixture of experts, an input $\\mathbf{x}$ is passed to all experts, and all their outputs are part of the weighted sum to calculate $\\mathbf{y}$. In other words, generally, $\\forall i: G(\\mathbf{x})_i > 0$. This makes dense MoE models very easy to implement since no actual routing in terms of selecting individual experts is performed. Dense MoE models therefore do not require a dedicated router component, and only rely on the probability distribution $G(\\mathbf{x})$ as the output of the gate.\n",
    "\n",
    "#### Basic Implementation\n",
    "\n",
    "The code cell below implements a very basic dense MoE model. Notice that the only components are the gate and the list of experts."
   ]
  },
  {
   "cell_type": "code",
   "execution_count": 9,
   "id": "cb8eb593-1a8b-4a09-aab3-15933d5f74b6",
   "metadata": {},
   "outputs": [],
   "source": [
    "class DenseMoE(nn.Module):\n",
    "\n",
    "    def __init__(self, hidden_size, num_experts):\n",
    "        super().__init__()\n",
    "        self.num_experts = num_experts\n",
    "\n",
    "        # Create gate\n",
    "        self.gate = Gate(hidden_size, num_experts)\n",
    "        \n",
    "        # Create the list of experts\n",
    "        self.experts = nn.ModuleList([Expert(hidden_size) for _ in range(self.num_experts)])\n",
    "\n",
    "\n",
    "    def forward(self, x):\n",
    "        # (1) Calculate probability distribution G(x)\n",
    "        gate_probs = self.gate(x) # (batch_size, num_experts)\n",
    "\n",
    "        # (2) Get outputs from all experts and collect them in a single tensor\n",
    "        outputs = torch.stack([expert(x) for expert in self.experts], dim=-1)\n",
    "        # (batch_size, hidden_size, num_experts)\n",
    "        \n",
    "        # (3) Adjust shape of gate tensor to enable calculation of weighted sum\n",
    "        gate_probs = gate_probs.unsqueeze(dim=1) # (batch_size, 1, num_experts)\n",
    "        \n",
    "        # (4) Calculate weighted sum of outputs based on expert probabilities\n",
    "        output = torch.sum(outputs*gate_probs, dim=-1) # (batch_size, hidden_size)\n",
    "        \n",
    "        return output"
   ]
  },
  {
   "cell_type": "markdown",
   "id": "51f16c2b-ff51-43c6-89a7-69cb3b498dcc",
   "metadata": {},
   "source": [
    "To better understand how the final output of this model is calculated, let's go to the forward method step by step:\n",
    "\n",
    "##### (1) Calculate Gate Probabilities\n",
    "\n",
    "We first calculate the probability distribution $G(x)$ over all experts for the given input $\\mathbf{x}$:"
   ]
  },
  {
   "cell_type": "markdown",
   "id": "2b5c6bd4-779b-470a-819f-1d8325a8dcef",
   "metadata": {},
   "source": [
    "`gate_probs = self.gate(x)`"
   ]
  },
  {
   "cell_type": "markdown",
   "id": "a935c1de-5ab2-4c71-86c3-fa4953a793e2",
   "metadata": {},
   "source": [
    "We have already seen the output for our example batch above, but let's still have a look at this intermediate result of our dense MoE Model."
   ]
  },
  {
   "cell_type": "markdown",
   "id": "84ce7798-f688-4695-adef-c999e86e9eb4",
   "metadata": {},
   "source": [
    "$$\\large\n",
    "\\text{gate\\_probs} =\n",
    "\\begin{bmatrix}\n",
    "0.197 & 0.105 & 0.113 & 0.118 & 0.199 & 0.267  \\\\\n",
    "0.202 & 0.106 & 0.113 & 0.120 & 0.202 & 0.258  \\\\\n",
    "0.196 & 0.102 & 0.113 & 0.118 & 0.198 & 0.273  \\\\\n",
    "0.205 & 0.097 & 0.111 & 0.123 & 0.201 & 0.264  \\\\\n",
    "\\end{bmatrix}\n",
    "$$"
   ]
  },
  {
   "cell_type": "markdown",
   "id": "cc340e24-61cf-43b1-a291-2b5e2baa55fc",
   "metadata": {},
   "source": [
    "##### (2) Calculate & Collect Outputs from all Experts\n",
    "\n",
    "Since we have a dense MoE model, the input batch (i.e., all training samples within the batch) are passed to all experts. This makes the implementation very easy:"
   ]
  },
  {
   "cell_type": "markdown",
   "id": "fef8d6c3-21d3-4b9e-b400-ea8ca5be98ea",
   "metadata": {},
   "source": [
    "`outputs = torch.stack([expert(x) for expert in self.experts], dim=-1)`"
   ]
  },
  {
   "cell_type": "markdown",
   "id": "d99c3d7c-81a0-4a1f-84ee-badade9483ce",
   "metadata": {},
   "source": [
    "The `stack()` method in PyTorch is used to combine a sequence of tensors along a new dimension. It takes a list or tuple of tensors (all with the same shape) and stacks them together, creating one higher-dimensional tensor. In our case, each expert output is a 2D tensor with a shape $(\\text{4, 8})$ reflecting the batch size (i.e., $4$) and the size of the feature vectors (i.e., $8$). Thus stacking all output tensors from our $6$ experts results in a tensor of shape $(\\text{4, 8, 6})$, which is no longer trivial to visualize."
   ]
  },
  {
   "cell_type": "markdown",
   "id": "06b31ca4-b9a3-456b-8cf9-1d8e613d4fd6",
   "metadata": {},
   "source": [
    "##### (3) Prepare Gate Probabilities\n",
    "\n",
    "To calculate the weighted sum, we first need to bring the gate probabilities &mdash; which represent the weights for the weighted sum &mdash; into a more convenient shape for further processing:"
   ]
  },
  {
   "cell_type": "markdown",
   "id": "2e9899c2-cf88-4886-a7b2-6c7a86e0cc6c",
   "metadata": {},
   "source": [
    "`gate_probs = gate_probs.unsqueeze(dim=1)`"
   ]
  },
  {
   "cell_type": "markdown",
   "id": "41663865-45ef-4964-93ec-879b6e96b980",
   "metadata": {},
   "source": [
    "This operation converts the gate probabilities from $(\\text{batch\\_size, num\\_experts})$ tensor to a $(\\text{batch\\_size, 1, num\\_experts})$ tensor. This has the advantage that we can calculate the weighted sum using a simple pointwise multiplication operation between the probability tensor and the output tensor (followed by a sum operation)."
   ]
  },
  {
   "cell_type": "markdown",
   "id": "c3cf8c51-1481-4df9-b1e8-ec7f38ab9255",
   "metadata": {},
   "source": [
    "##### (4) Calculate Final Output as Weighted Sum of all Expert Outputs\n",
    "\n",
    "In the last step, we can now calculate the weight sum of the outputs from all experts to get the final output of our dense MoE model:"
   ]
  },
  {
   "cell_type": "markdown",
   "id": "0662c172-7804-4ee0-806a-1af0b6c29ecb",
   "metadata": {},
   "source": [
    "`torch.sum(outputs*gate_probs, dim=-1)`"
   ]
  },
  {
   "cell_type": "markdown",
   "id": "8745516d-b86d-45bd-92df-9b897b7094e9",
   "metadata": {},
   "source": [
    "This operation calculates and returns the final output $\\mathbf{y} = \\sum_{i=1}^n G(\\mathbf{x})_i E_i(\\mathbf{x})$. Note that `outputs*gate_probs` calculate the elementwise multiplication between the probability and the output tensor (i.e., the [Hadamard product](https://en.wikipedia.org/wiki/Hadamard_product_(matrices))). The Hadamard product assumes that both input tensors have the same shape, but recall that the shape of `outputs` is $(\\text{batch\\_size, hidden\\_size, num\\_experts})$ while the shape of `gate_probs` is $(\\text{batch\\_size, 1, num\\_experts})$. This operation still works here, however, since both shapes are compatible with respect to concept [broadcasting](https://numpy.org/doc/stable/user/basics.broadcasting.html). For our example batch and gate, we get following final output tensor:"
   ]
  },
  {
   "cell_type": "markdown",
   "id": "7adb0bc5-ce76-48fe-8f3e-443287179af8",
   "metadata": {},
   "source": [
    "$$\\large\n",
    "\\text{output} = \n",
    "\\begin{bmatrix}\n",
    "-0.097 & -0.102 & 0.098 & -0.045 & 0.127 & 0.045 & 0.139 & 0.131  \\\\\n",
    "-0.038 & -0.085 & 0.074 & 0.006 & 0.074 & 0.023 & 0.092 & 0.040  \\\\\n",
    "-0.089 & -0.109 & 0.119 & -0.036 & 0.177 & 0.049 & 0.160 & 0.142  \\\\\n",
    "-0.038 & -0.102 & 0.102 & -0.024 & 0.152 & 0.012 & 0.143 & 0.067  \\\\\n",
    "\\end{bmatrix}\n",
    "$$"
   ]
  },
  {
   "cell_type": "markdown",
   "id": "74cd78f7-1b7f-488f-b934-18050c8f356e",
   "metadata": {},
   "source": [
    "For a practical example, let's create an instance of class `DenseMoE`:"
   ]
  },
  {
   "cell_type": "code",
   "execution_count": 10,
   "id": "0ba7523e-8a0a-4fcd-9789-781e28aa5216",
   "metadata": {},
   "outputs": [
    {
     "name": "stdout",
     "output_type": "stream",
     "text": [
      "DenseMoE(\n",
      "  (gate): Gate(\n",
      "    (net): Sequential(\n",
      "      (0): Linear(in_features=8, out_features=4, bias=True)\n",
      "      (1): ReLU()\n",
      "      (2): Linear(in_features=4, out_features=6, bias=True)\n",
      "      (3): Softmax(dim=-1)\n",
      "    )\n",
      "  )\n",
      "  (experts): ModuleList(\n",
      "    (0-5): 6 x Expert(\n",
      "      (net): Sequential(\n",
      "        (0): Linear(in_features=8, out_features=32, bias=True)\n",
      "        (1): ReLU()\n",
      "        (2): Linear(in_features=32, out_features=8, bias=True)\n",
      "      )\n",
      "    )\n",
      "  )\n",
      ")\n"
     ]
    }
   ],
   "source": [
    "torch.manual_seed(11)\n",
    "dense_moe = DenseMoE(hidden_size, num_experts)\n",
    "\n",
    "print(dense_moe)"
   ]
  },
  {
   "cell_type": "markdown",
   "id": "717c11aa-244d-4e01-b089-29ef4b90d3ca",
   "metadata": {},
   "source": [
    "We can now pass our example batch to the dense MoE model to calculate the output."
   ]
  },
  {
   "cell_type": "code",
   "execution_count": 11,
   "id": "5f81fe1f-34fe-4a82-99e9-8ca427e0081c",
   "metadata": {},
   "outputs": [
    {
     "name": "stdout",
     "output_type": "stream",
     "text": [
      "torch.Size([4, 8])\n",
      "tensor([[-0.0966, -0.1017,  0.0983, -0.0452,  0.1274,  0.0453,  0.1386,  0.1311],\n",
      "        [-0.0383, -0.0851,  0.0737,  0.0064,  0.0743,  0.0227,  0.0922,  0.0402],\n",
      "        [-0.0893, -0.1092,  0.1192, -0.0358,  0.1767,  0.0488,  0.1595,  0.1423],\n",
      "        [-0.0378, -0.1017,  0.1023, -0.0241,  0.1521,  0.0122,  0.1428,  0.0672]],\n",
      "       grad_fn=<SumBackward1>)\n"
     ]
    }
   ],
   "source": [
    "dense_moe_output = dense_moe(batch)\n",
    "\n",
    "print(dense_moe_output.shape)\n",
    "print(dense_moe_output)"
   ]
  },
  {
   "cell_type": "markdown",
   "id": "18c834a1-6272-4afc-90ac-c715ca69b5cb",
   "metadata": {},
   "source": [
    "Since each expert returns an output of the same shape as the input, the weighted sum is naturally then also of the same shape, here: $(\\text{batch\\_size, hidden\\_size})$."
   ]
  },
  {
   "cell_type": "markdown",
   "id": "7bdd3a0c-c46b-4bf2-a130-44e616e4bc15",
   "metadata": {},
   "source": [
    "#### Discussion & Limitations\n",
    "\n",
    "One key advantage of dense MoE models is their ability to leverage the full capacity of the network during inference, which can lead to improved performance on complex tasks. Since every expert is involved in processing every input, the model can learn highly specialized and fine-grained representations across its expert subnetworks. This often results in better generalization and richer feature extraction, particularly in tasks requiring nuanced understanding such as language modeling, machine translation, or image generation. Another advantage is the simplicity in implementation and debugging. Because all experts are active for each input, dense MoE models avoid the challenges associated with expert selection mechanisms in sparse models (see below). This means the model behaves more like a conventional feedforward architecture, which can make it easier to train and understand in practice. Also, gradient flow through all experts ensures every sub-network gets updated at every step, reducing the chance of “lazy” or under-trained experts.\n",
    "\n",
    "However, dense MoE models come with significant disadvantages, primarily related to computational inefficiency. Activating all experts for every input increases the computational and memory demands drastically, especially as the number of experts grows. This undermines one of the original motivations of MoE architectures &mdash; to achieve high capacity without linearly increasing computation. As a result, dense MoE models can become prohibitively expensive for large-scale deployments, especially in environments with limited resources or strict latency constraints. Another downside is the potential for redundancy among experts. Since all experts are used for every input, there's a risk that some of them may end up learning overlapping or less distinct functions. This lack of specialization can diminish the modularity benefits typically associated with MoE designs. Thus, while dense MoE models offer simplicity and performance benefits in some contexts, they may not be the optimal choice when scalability and efficiency are critical."
   ]
  },
  {
   "cell_type": "markdown",
   "id": "3330ac57-b113-4af0-be5a-65a913c777bc",
   "metadata": {},
   "source": [
    "### Sparse Mixture of Experts\n",
    "\n",
    "In a sparse Mixture of experts, an input $\\mathbf{x}$ is typically no longer passed to all experts. In contrast, different training samples may be passed to different subsets of experts. As we will see, this makes implementing sparse MoE models more challenging as compared to dense MoE models. This also includes that the sparse MoE models feature a router that implements a specific routing strategy that decides which training samples get passed to which experts."
   ]
  },
  {
   "cell_type": "markdown",
   "id": "ee39b69a-aec4-49fe-ab26-b14cb5533e74",
   "metadata": {},
   "source": [
    "#### Basic Implementation\n",
    "\n",
    "The code cell below implements a very basic top-k router, where $k$ refers to the number of experts a training sample is passed to. In a nutshell, the router takes as input the gate probabilities and performs two basic steps. It first identifies the top-k probabilities for each training sample as the well indices of the corresponding exports. The router then updates the gate probabilities by (a) setting the probabilities of all experts a training sample is *not* passed to $0$, and (b) recalculates the probabilities of the remaining top-k exports so that the sum up to $1$ again. Note that this simple implementation only performs various operations (detailed below) and does not feature any trainable parameters.\n",
    "\n",
    "The router implementation returns both the router probabilities (i.e., the recalculated gate probabilities) and the indices of the top-k experts a training sample is passed to."
   ]
  },
  {
   "cell_type": "code",
   "execution_count": 12,
   "id": "55c64584-36b4-4ef8-80d6-c1f5f94456ae",
   "metadata": {},
   "outputs": [],
   "source": [
    "class Router(nn.Module):\n",
    "\n",
    "    def __init__(self, top_k):\n",
    "        super().__init__()\n",
    "        self.top_k = top_k\n",
    "\n",
    "    def forward(self, gate_probs):\n",
    "        # (1) Get initial gate probabilities and indices od top-k experts\n",
    "        topk_probs, topk_indices = torch.topk(gate_probs, self.top_k, dim=-1)\n",
    "\n",
    "        # (2) Create a tensor the will hold all final probabilities\n",
    "        # Initialize tensor with -infinity => 0 after softmax\n",
    "        router_probs = torch.full_like(gate_probs, float('-inf'))  # (batch_size, hidden_size)\n",
    "\n",
    "        # (3) Copy only the top-k probabilities over into the tensor\n",
    "        router_probs.scatter_(-1, topk_indices, topk_probs)\n",
    "\n",
    "        # (4) Use softmax to rescale probabilities so they sum up to 1 again\n",
    "        router_probs = F.softmax(router_probs, dim=-1)\n",
    "\n",
    "        # Return probabilities and the indicies of the top-k experts\n",
    "        return router_probs, topk_indices"
   ]
  },
  {
   "cell_type": "markdown",
   "id": "137af709-70fa-4b12-b608-bb01eaaf4498",
   "metadata": {},
   "source": [
    "In practice, very common choices for the number of activated experts are $k=1$ and $k=2$. Let's create a top-2 router as it helps to better understand the individual operations when looking at the intermediate outputs (see below)."
   ]
  },
  {
   "cell_type": "code",
   "execution_count": 13,
   "id": "f2223c69-01cc-4181-86b0-cbe436994d38",
   "metadata": {},
   "outputs": [],
   "source": [
    "top_k = 2\n",
    "\n",
    "router = Router(top_k=top_k)"
   ]
  },
  {
   "cell_type": "markdown",
   "id": "ede0c8f5-e1b6-468a-ba0b-d745f5acfc44",
   "metadata": {},
   "source": [
    "Let's first apply the router to our gate probabilities before we look more closely what is going on under the hood."
   ]
  },
  {
   "cell_type": "code",
   "execution_count": 14,
   "id": "bd528eb5-fc6d-46ae-9f15-88de01d91572",
   "metadata": {},
   "outputs": [
    {
     "name": "stdout",
     "output_type": "stream",
     "text": [
      "torch.Size([4, 6])\n",
      "torch.Size([4, 2])\n"
     ]
    }
   ],
   "source": [
    "router_probs, topk_indices = router(gate_output)\n",
    "\n",
    "print(router_probs.shape)\n",
    "print(topk_indices.shape)"
   ]
  },
  {
   "cell_type": "markdown",
   "id": "91e396f7-20ae-4941-8edf-957cac33e43f",
   "metadata": {},
   "source": [
    "##### (1) Find the top-k gate probabilities and expert indices\n",
    "\n",
    "Given the gate probabilities `gate_probs`, we first need to find the k-highest probabilities for each training sample and the corresponding experts:"
   ]
  },
  {
   "cell_type": "markdown",
   "id": "01603883-cd00-4dfe-af12-1ef6848948b3",
   "metadata": {},
   "source": [
    "`topk_probs, topk_indices = torch.topk(gate_probs, self.top_k, dim=-1)`"
   ]
  },
  {
   "cell_type": "markdown",
   "id": "01660c85-6336-490f-9ef9-f4859383b358",
   "metadata": {},
   "source": [
    "The `topk()` method in PyTorch is used to retrieve the top $k$ highest (or lowest, if specified) elements from a tensor along a particular dimension. It returns a named tuple containing two tensors: one with the values of the top-k elements and another with their indices. You can specify the dimension along which to retrieve the top elements using the dim parameter, and whether to return the largest or smallest elements with the Boolean argument `largest` (default is `True`). Since we want to get the largest values with respect to the gate probabilities &mdash; which is the \"last\" dimension of tensor `gate_probs` &mdash; we can simply use `dim=-1` to specify this dimension.\n",
    "\n",
    "Let's first look at the `topk_probs`, i.e., the tensor holding the k-highest probability values:"
   ]
  },
  {
   "cell_type": "markdown",
   "id": "2b540523-cd42-4f9f-9210-c7376febef95",
   "metadata": {},
   "source": [
    "$$\\large\n",
    "\\text{topk\\_probs} =\n",
    "\\begin{bmatrix}\n",
    "0.267 & 0.199  \\\\\n",
    "0.258 & 0.202  \\\\\n",
    "0.273 & 0.198  \\\\\n",
    "0.264 & 0.205  \\\\\n",
    "\\end{bmatrix}\n",
    "$$"
   ]
  },
  {
   "cell_type": "markdown",
   "id": "5bf4bf76-d930-43a3-9b6b-579f88a44336",
   "metadata": {},
   "source": [
    "The shape of the tensor is $(\\text{4, 2})$ since we have $4$ training samples and set $k=2$. Of course, since we simply removed all other probabilities, the remaining probabilities in each row no longer sum up to $1$. This tensor also does not tell us which experts these top-2 probabilities refer to. For this we need to look at tensor `topk_indices`:"
   ]
  },
  {
   "cell_type": "markdown",
   "id": "f5c4982f-639d-44d8-972e-962b697a45af",
   "metadata": {},
   "source": [
    "$$\\large\n",
    "\\text{topk\\_indices} = \n",
    "\\begin{bmatrix}\n",
    "5 & 4  \\\\\n",
    "5 & 0  \\\\\n",
    "5 & 4  \\\\\n",
    "5 & 0  \\\\\n",
    "\\end{bmatrix}\n",
    "$$"
   ]
  },
  {
   "cell_type": "markdown",
   "id": "a0c2904c-658c-4b4e-9679-634f174af1d7",
   "metadata": {},
   "source": [
    "Again, the shape of `topk_indices` is $(\\text{4, 2})$  given the batch size and our choice of $k=2$. The values in this tensor now give us the indices of the two experts with the highest probabilities. For example, the first row `[5 4]` tells us that training sample #1 should be passed to Experts $E_6$ and $E_5$ (not the the indices are of range $0..n\\!-\\!1$, so $E_1$ has index $0$, $E_2$ has index $1$, and so on). We can also see that all four training samples need to be passed to $E_6$, while two samples also passed to $E_5$ and the other two samples passed to $E_1$."
   ]
  },
  {
   "cell_type": "markdown",
   "id": "abee8f34-7e39-43d1-a484-9d630df9dba8",
   "metadata": {},
   "source": [
    "##### (2) Initialize Output Tensor\n",
    "\n",
    "Since the output of the router has the same as the input (i.e., the gate probabilities), we can initialize the output tensor `router_probs` to match the input tensor `gate_probs` and setting all values to $-\\infty$ using:"
   ]
  },
  {
   "cell_type": "markdown",
   "id": "fedb8695-88dd-4440-8127-b289e4dd5654",
   "metadata": {},
   "source": [
    "`router_probs = torch.full_like(gate_probs, float('-inf'))`"
   ]
  },
  {
   "cell_type": "markdown",
   "id": "91ade030-c164-4d86-8e06-12207529967c",
   "metadata": {},
   "source": [
    "The `full_like()` method in PyTorch creates a new tensor with the same shape, data type, and device as a given input tensor, but filled with a specified scalar value. It's particularly useful when you need to initialize a tensor that mirrors the size and type of another tensor but contains a constant value instead of copying the original data. This operation will give us the following tensor:"
   ]
  },
  {
   "cell_type": "markdown",
   "id": "0156002d-aa8d-4182-ba31-4d55faa3c794",
   "metadata": {},
   "source": [
    "$$\\large\n",
    "\\text{router\\_probs} = \n",
    "\\begin{bmatrix}\n",
    "-\\infty & -\\infty & -\\infty & -\\infty & -\\infty & -\\infty  \\\\\n",
    "-\\infty & -\\infty & -\\infty & -\\infty & -\\infty & -\\infty  \\\\\n",
    "-\\infty & -\\infty & -\\infty & -\\infty & -\\infty & -\\infty  \\\\\n",
    "-\\infty & -\\infty & -\\infty & -\\infty & -\\infty & -\\infty  \\\\\n",
    "\\end{bmatrix}\n",
    "$$"
   ]
  },
  {
   "cell_type": "markdown",
   "id": "ab12dd28-d0fc-4d40-9af3-d1624e839a47",
   "metadata": {},
   "source": [
    "##### (3) Copy over Top-k Probabilities\n",
    "\n",
    "We can now copy over the top-k probabilities stored in tensor `topk_probs` to the output tensor `router_probs` as follows:"
   ]
  },
  {
   "cell_type": "markdown",
   "id": "ae6df26b-e2cd-4200-a25d-b3db9f866761",
   "metadata": {},
   "source": [
    "`router_probs.scatter_(-1, topk_indices, topk_probs)`"
   ]
  },
  {
   "cell_type": "markdown",
   "id": "1d733e16-3991-41be-b882-bbafd8f0948d",
   "metadata": {},
   "source": [
    "The `scatter_()` method is an in-place operation that writes values from a source tensor into a target tensor at specific indices along a given dimension. The underscore `_` indicates that it modifies the original tensor directly. It's especially useful for tasks like assigning values to specific positions.\n",
    "The method takes three main arguments: `dim` (the axis along which to scatter), `index` (a tensor containing the indices where values should be placed), and `src` (the source tensor with the values to write). For each location specified in `index`, `scatter_()` places the corresponding value from `src` into the original tensor along the specified dimension. For our example, this operation yields:"
   ]
  },
  {
   "cell_type": "markdown",
   "id": "a1697797-9a94-4fb6-a3d0-88071e7c8b54",
   "metadata": {},
   "source": [
    "$$\\large\n",
    "\\text{router\\_probs} = \n",
    "\\begin{bmatrix}\n",
    "-\\infty & -\\infty & -\\infty & -\\infty & 0.199 & 0.267  \\\\\n",
    "0.202 & -\\infty & -\\infty & -\\infty & -\\infty & 0.258  \\\\\n",
    "-\\infty & -\\infty & -\\infty & -\\infty & 0.198 & 0.273  \\\\\n",
    "0.205 & -\\infty & -\\infty & -\\infty & -\\infty & 0.264  \\\\\n",
    "\\end{bmatrix}\n",
    "$$"
   ]
  },
  {
   "cell_type": "markdown",
   "id": "47cc455d-bc4d-4d75-8bd9-eeb80ae7b80a",
   "metadata": {},
   "source": [
    "In other words, we now have a tensor that like the input tensor `gate_probs` except that all probabilities that were *not* part of the top-k probabilities are not $-\\infty$."
   ]
  },
  {
   "cell_type": "markdown",
   "id": "1ee58f01-ec80-4fc5-b71f-dbe13f869519",
   "metadata": {},
   "source": [
    "##### (4) Recalculate Gate Probabilities\n",
    "\n",
    "Using $-\\infty$ as a placeholder value to represent the probability of \"unused\" experts makes it now very easy to recalculate the top-k probabilities so the sum up to $1$ by applying the Softmax function to each row in the tensor:"
   ]
  },
  {
   "cell_type": "markdown",
   "id": "aba18994-aef9-48d2-b94e-ad5a89c7e912",
   "metadata": {},
   "source": [
    "`router_probs = F.softmax(router_probs, dim=-1)`"
   ]
  },
  {
   "cell_type": "markdown",
   "id": "ea00a069-c1a2-4158-9db0-fbd5d1079de8",
   "metadata": {},
   "source": [
    "The Softmax function maps $-\\infty$ to $0$ and normalize all other values such that they sum up to $1$; giving use the final output tensor:"
   ]
  },
  {
   "cell_type": "markdown",
   "id": "d03f4d16-f94a-4be2-af78-970d0b88c2ee",
   "metadata": {},
   "source": [
    "$$\\large\n",
    "\\text{router\\_probs} = \n",
    "\\begin{bmatrix}\n",
    "0 & 0 & 0 & 0 & 0.483 & 0.517  \\\\\n",
    "0.486 & 0 & 0 & 0 & 0 & 0.514  \\\\\n",
    "0 & 0 & 0 & 0 & 0.481 & 0.519  \\\\\n",
    "0.485 & 0 & 0 & 0 & 0 & 0.515  \\\\\n",
    "\\end{bmatrix}\n",
    "$$"
   ]
  },
  {
   "cell_type": "markdown",
   "id": "2ecf3a64-f3e2-477d-b0f8-be84908c2174",
   "metadata": {},
   "source": [
    "With the two return values `router_probs` and `topk_indices`, we have all the information to implement a sparse MoE model. The class `SparseMoE` in the code cell below provides a basic implementation. Naturally, this class now features the our top-k router implementation has a new component besides the gate. In simple terms, the `SparseMoE` model takes in a batch of training samples, and performs the following steps\n",
    "* Calculate the gate probabilities\n",
    "* Calculate the router probabilities (i.e., the rescaled gate probabilities)\n",
    "* Check each expert if it needs to be activate for one or training samples and passes the corresponding sample to that expert\n",
    "* Collects the output of all activated experts\n",
    "* Calculates the final output as the weights sum using the router probabilities.\n",
    "\n",
    "We go through each operation in more detail further down below."
   ]
  },
  {
   "cell_type": "code",
   "execution_count": 15,
   "id": "7c5db7bf-3c1e-4192-93eb-ae9ab0a17773",
   "metadata": {},
   "outputs": [],
   "source": [
    "class SparseMoE(nn.Module):\n",
    "\n",
    "    def __init__(self, hidden_size, num_experts, top_k):\n",
    "        super().__init__()\n",
    "        self.num_experts = num_experts\n",
    "        self.top_k = top_k\n",
    "\n",
    "        # Create Gate\n",
    "        self.gate = Gate(hidden_size, num_experts)\n",
    "\n",
    "        # Create Router\n",
    "        self.router = Router(top_k)\n",
    "        \n",
    "        # Create a list of experts\n",
    "        self.experts = nn.ModuleList([Expert(hidden_size) for _ in range(self.num_experts)])\n",
    "\n",
    "\n",
    "    def forward(self, x):\n",
    "        # (1) Calculate initial gate probabilties\n",
    "        gate_probs = self.gate(x) # (batch_size, num_experts)\n",
    "\n",
    "        # (2) Get router probabilities and get indices of top-k experts\n",
    "        router_probs, topk_indices = self.router(gate_probs) # (batch_size, num_experts)\n",
    "\n",
    "        # (3) Create tensor that will hold the final output\n",
    "        output = torch.zeros_like(x)\n",
    "\n",
    "        for idx, expert in enumerate(self.experts):\n",
    "            # (4) Check if the expert is needed at all (i.e., at least 1 sample is passed to that expert)\n",
    "            expert_mask = (topk_indices == idx).any(dim=-1)\n",
    "\n",
    "            # (5) Find the indices of all samples in the batch that are passed to the current expert\n",
    "            selected_indices = torch.nonzero(expert_mask).squeeze(-1)\n",
    "\n",
    "            if selected_indices.numel() > 0:\n",
    "                # (6) Push the relevant subset of samples through the expert subnetwork layer\n",
    "                expert_output = expert(x[selected_indices])\n",
    "                # (7) Extract the probabilities for the expert and each sample\n",
    "                expert_probs = router_probs[selected_indices, idx].unsqueeze(1)\n",
    "                # (8) Recalculate the expert output by multiplying the corresponding probabilities\n",
    "                export_output = expert_output * expert_probs\n",
    "                # (9) Update the final output tensor\n",
    "                output.index_add_(0, selected_indices, export_output)\n",
    "                \n",
    "        return output"
   ]
  },
  {
   "cell_type": "markdown",
   "id": "0361a881-0e1d-442b-ae01-906dec86fef1",
   "metadata": {},
   "source": [
    "Let's create an instance of the `SparseMoE` class to actually use it. For consistency, we use the same number of experts (i.e., $6$) and the same value for the top-k experts (i.e., $2$)."
   ]
  },
  {
   "cell_type": "code",
   "execution_count": 16,
   "id": "042c1468-ce00-41e9-9b20-94fe577ad8b4",
   "metadata": {},
   "outputs": [
    {
     "name": "stdout",
     "output_type": "stream",
     "text": [
      "SparseMoE(\n",
      "  (gate): Gate(\n",
      "    (net): Sequential(\n",
      "      (0): Linear(in_features=8, out_features=4, bias=True)\n",
      "      (1): ReLU()\n",
      "      (2): Linear(in_features=4, out_features=6, bias=True)\n",
      "      (3): Softmax(dim=-1)\n",
      "    )\n",
      "  )\n",
      "  (router): Router()\n",
      "  (experts): ModuleList(\n",
      "    (0-5): 6 x Expert(\n",
      "      (net): Sequential(\n",
      "        (0): Linear(in_features=8, out_features=32, bias=True)\n",
      "        (1): ReLU()\n",
      "        (2): Linear(in_features=32, out_features=8, bias=True)\n",
      "      )\n",
      "    )\n",
      "  )\n",
      ")\n"
     ]
    }
   ],
   "source": [
    "torch.manual_seed(11)\n",
    "sparse_moe = SparseMoE(hidden_size, num_experts, top_k)\n",
    "\n",
    "# Print model\n",
    "print(sparse_moe)"
   ]
  },
  {
   "cell_type": "markdown",
   "id": "07ca25c0-015b-4bf8-9ce7-c678ad7f4810",
   "metadata": {},
   "source": [
    "Like we did for the implementation of the dense MoE model, we can now give our `SparseMoE` instance our example batch as input:"
   ]
  },
  {
   "cell_type": "code",
   "execution_count": 17,
   "id": "db91c95e-9bb4-4503-8fc7-a6b3621bd839",
   "metadata": {},
   "outputs": [
    {
     "name": "stdout",
     "output_type": "stream",
     "text": [
      "torch.Size([4, 8])\n"
     ]
    }
   ],
   "source": [
    "sparse_moe_output = sparse_moe(batch)\n",
    "\n",
    "print(sparse_moe_output.shape)"
   ]
  },
  {
   "cell_type": "markdown",
   "id": "6e5af062-2693-46e5-ad1a-114bf3db496b",
   "metadata": {},
   "source": [
    "Naturally, like for the dense MoE model, the output shape is again $(4, 8)$ reflecting the batch size and the size of output vectors (same size as the input vectors in our examples). However, if you look at the implementation above, the `forward()` method is noticeably more complex. This is because the method now has to perform the routing &mdash; that is, that activation of each experts for only the relevant training samples. The better understand the code, let's go step-by-step through the important operations."
   ]
  },
  {
   "cell_type": "markdown",
   "id": "f0d99ea4-877b-4d4d-b3e8-604a6b873c0c",
   "metadata": {},
   "source": [
    "##### (1)+(2) Calculate Router Probabilities and Indices of Experts\n",
    "\n",
    "Here we first use the gate to get the gate probabilities, which are then given to the router to get the router probabilities and indices of all activated experts as already seen above. In short, we again have our tensor `router_probs` with all router probabilities:"
   ]
  },
  {
   "cell_type": "markdown",
   "id": "2275c2ff-7589-4ed2-8c5e-54d4c5220dd3",
   "metadata": {},
   "source": [
    "$$\\large\n",
    "\\text{router\\_probs} = \n",
    "\\begin{bmatrix}\n",
    "0 & 0 & 0 & 0 & 0.483 & 0.517  \\\\\n",
    "0.486 & 0 & 0 & 0 & 0 & 0.514  \\\\\n",
    "0 & 0 & 0 & 0 & 0.481 & 0.519  \\\\\n",
    "0.485 & 0 & 0 & 0 & 0 & 0.515  \\\\\n",
    "\\end{bmatrix}\n",
    "$$"
   ]
  },
  {
   "cell_type": "markdown",
   "id": "dbbff79c-7323-4597-a066-4e3aea68abae",
   "metadata": {},
   "source": [
    "... and tensor `topk_indices` containing the indices of all the experts we need to pass each training sample to:"
   ]
  },
  {
   "cell_type": "markdown",
   "id": "29dbd5ca-8bde-4bf4-96d7-f0630c39fc41",
   "metadata": {},
   "source": [
    "$$\\large\n",
    "\\text{topk\\_indices} = \n",
    "\\begin{bmatrix}\n",
    "5 & 4  \\\\\n",
    "5 & 0  \\\\\n",
    "5 & 4  \\\\\n",
    "5 & 0  \\\\\n",
    "\\end{bmatrix}\n",
    "$$"
   ]
  },
  {
   "cell_type": "markdown",
   "id": "c776ced3-e537-4e49-ae5d-a4c43ced5305",
   "metadata": {},
   "source": [
    "For consistency, we use the same value we have calculated previously. In fact, you can add `print()` statements to the `forward()` method to actually print all tensors, if you want."
   ]
  },
  {
   "cell_type": "markdown",
   "id": "2dbc4a57-01c0-44f5-ac0e-2b136306890c",
   "metadata": {},
   "source": [
    "##### (3) Initialize Output Tensor\n",
    "\n",
    "Since we loop over the list of experts and pass all relevant training samples to activated experts, we need a tensor to collect the results from all experts. To this end, we simply create a tensor containing all zeros. Since we defined out MoE model so that the input has the same shape as the input, we can use the `zeros_like()` method:\n",
    "\n",
    "`output = torch.zeros_like(x)`\n",
    "\n",
    "The `zeros_like()` method in PyTorch creates a new tensor filled with zeros that has the same shape and data type as a given input tensor. As such, tensor `outputs` will look as follows:"
   ]
  },
  {
   "cell_type": "markdown",
   "id": "ec857cec-4400-4202-a96c-7b1fe866d8fc",
   "metadata": {},
   "source": [
    "$$\\large\n",
    "\\text{output} = \n",
    "\\begin{bmatrix}\n",
    "0 & 0 & 0 & 0 & 0 & 0  \\\\\n",
    "0 & 0 & 0 & 0 & 0 & 0  \\\\\n",
    "0 & 0 & 0 & 0 & 0 & 0  \\\\\n",
    "0 & 0 & 0 & 0 & 0 & 0  \\\\\n",
    "\\end{bmatrix}\n",
    "$$"
   ]
  },
  {
   "cell_type": "markdown",
   "id": "4dd20ad0-75b1-4248-92ca-7516f9623cbe",
   "metadata": {},
   "source": [
    "We can now iterate through the list of experts to check if we need to pass any training samples to them, and if so, pass the samples and add the results to the `outputs` tensors. In more detail, for each expert, we perform the following steps:"
   ]
  },
  {
   "cell_type": "markdown",
   "id": "5b2dfad9-9cbc-47d0-bd76-b9049e56d83a",
   "metadata": {},
   "source": [
    "##### (4) Calculate Expert Mask\n",
    "\n",
    "To identify if the current expert will receive at least one training sample, we need to check if and where the index of the current expert appears in `topk_indices`. For example, for Expert $E_1$ with index $0$, we can see that $0$ appears twice in `topk_indices`, in row for the second training sample and in the row for the forth training sample. This means the Expert $E_1$ is activated and we need to pass the 2nd and 4th training sample to that expert. To implement this check, we first calculate a mask using:"
   ]
  },
  {
   "cell_type": "markdown",
   "id": "cde211f3-e10f-4687-b076-c1c5543fbceb",
   "metadata": {},
   "source": [
    "`expert_mask = (topk_indices == idx).any(dim=-1)`"
   ]
  },
  {
   "cell_type": "markdown",
   "id": "c17b3e15-2607-4fff-921f-30e494ab2086",
   "metadata": {},
   "source": [
    "The `any()` method checks whether any elements in a tensor evaluate to `True` (i.e., are non-zero). It returns a Boolean value if no dimension is specified, or a tensor of Boolean values if applied along a specific dimension using the `dim` argument. In our case, we can set `dim=-1` since we need to check along the experts dimension, which is the \"last\" dimension. For example, for Expert $E_1$ this yields the following mask"
   ]
  },
  {
   "cell_type": "markdown",
   "id": "a2235bf6-e31e-48ed-9254-6181490fb8aa",
   "metadata": {},
   "source": [
    "$$\\large\n",
    "\\text{expert\\_mask} = \n",
    "\\begin{bmatrix}\n",
    "\\text{False} & \\text{True} & \\text{False} & \\text{True}\n",
    "\\end{bmatrix}\n",
    "$$"
   ]
  },
  {
   "cell_type": "markdown",
   "id": "d0cf856e-7bbd-4e40-bb3b-0258c6872913",
   "metadata": {},
   "source": [
    "As indicated before, this mask tells us that we need to pass the 2nd and 4th training sample to that $E_1$."
   ]
  },
  {
   "cell_type": "markdown",
   "id": "48067d4e-de0b-476b-9ffa-436ce87674be",
   "metadata": {},
   "source": [
    "##### (5) Extract Indices of Training Samples\n",
    "\n",
    "Using the expert mask, we can easily get the indices of the training sample we need to pass to the current expert:"
   ]
  },
  {
   "cell_type": "markdown",
   "id": "80d7baac-a81c-4482-b493-23c68f849e11",
   "metadata": {},
   "source": [
    "`selected_indices = torch.nonzero(expert_mask).squeeze(-1)`"
   ]
  },
  {
   "cell_type": "markdown",
   "id": "6d61be00-d49d-4f7d-8372-92bb00acb3a5",
   "metadata": {},
   "source": [
    "The `nonzero()` method returns the indices of all non-zero elements in a tensor. It is commonly used to locate or extract elements that meet a specific condition (i.e., not equal to zero). Note that our expert mask contains Boolean values. However, `False` is interpreted as zero and `True` is interpreted as non-zero, So this operation works just fine, giving us:"
   ]
  },
  {
   "cell_type": "markdown",
   "id": "38cfb750-953d-49f1-a62e-7ff416750afd",
   "metadata": {},
   "source": [
    "$$\\large\n",
    "\\text{selected\\_indices} = \n",
    "\\begin{bmatrix}\n",
    "1 & 3\n",
    "\\end{bmatrix}\n",
    "$$"
   ]
  },
  {
   "cell_type": "markdown",
   "id": "2fc5ce09-eb3d-4ff0-8570-dd23e1bae32f",
   "metadata": {},
   "source": [
    "Of course, this directly reflects our knowledge that Expert $E_1$ will receive the 2nd and forth training sample (again, keep in mind that all tensors are zero index meaning that the 2nd training sample has an index of $1$, and so on).\n",
    "\n",
    "By using the `numel()` method we can check if `selected_indices` is empty or contains at least one index of a training sample. Only in the latter case we need to activate the current expert and pass the corresponding training samples. Naturally, if `selected_indices` is empty, there is nothing to do and we can check the next expert. Now, assuming the current expert is activated, we perform the following steps."
   ]
  },
  {
   "cell_type": "markdown",
   "id": "2903379a-cdc1-48d7-8c50-6b6ce051c7bb",
   "metadata": {},
   "source": [
    "##### (6) Get Output of Expert\n",
    "\n",
    "Using `selected_indices`, we can directly extract the relevant training samples from the input batch and pass them as a smaller batch to the current expert to get its output:"
   ]
  },
  {
   "cell_type": "markdown",
   "id": "543cd5c7-888e-40c0-8331-f0a310df6ada",
   "metadata": {},
   "source": [
    "`expert_output = expert(x[selected_indices])`"
   ]
  },
  {
   "cell_type": "markdown",
   "id": "472636e2-edbb-4f9b-8dfc-a6d1f6b8fa95",
   "metadata": {},
   "source": [
    "For example, for Expert $E_1$ the result might look like shown below:"
   ]
  },
  {
   "cell_type": "markdown",
   "id": "f73912f2-6fb5-46bd-9baf-c8c3061c0a23",
   "metadata": {},
   "source": [
    "$$\\large\n",
    "\\text{expert\\_output} = \n",
    "\\begin{bmatrix}\n",
    "-0.087 & -0.142 & 0.022 & -0.000 & 0.019 & 0.087 & 0.108 & 0.323  \\\\\n",
    "-0.144 & -0.118 & 0.061 & -0.025 & 0.072 & 0.083 & 0.072 & 0.269  \\\\\n",
    "\\end{bmatrix}\n",
    "$$"
   ]
  },
  {
   "cell_type": "markdown",
   "id": "6966705e-9bcc-455b-982c-4a0d37f4c32a",
   "metadata": {},
   "source": [
    "This tensor has a shape of $(2, 8)$ since the input batch for the expert contained only $2$ out of the $4$ overall training samples."
   ]
  },
  {
   "cell_type": "markdown",
   "id": "25f09711-c3d1-49b9-992d-7c0e10d78e48",
   "metadata": {},
   "source": [
    "##### (7) Extract Indices of Training Samples\n",
    "\n",
    "Of course, the current `expert_output` tensor is not the final output of the current expert as it needs to be scaled down with respect to the router probabilities. Thus, we first need to extract the relevant router probabilities &mdash; the probabilities with respect to the current expert and the relevant data samples:"
   ]
  },
  {
   "cell_type": "markdown",
   "id": "836413f2-f8e2-42d7-8d5f-4859026cf87d",
   "metadata": {},
   "source": [
    "`expert_probs = router_probs[selected_indices, idx].unsqueeze(1)`"
   ]
  },
  {
   "cell_type": "markdown",
   "id": "56795c04-5084-4fad-9b5e-d816f9e29432",
   "metadata": {},
   "source": [
    "which will yield the following result:"
   ]
  },
  {
   "cell_type": "markdown",
   "id": "3d7186f0-1634-4512-aac6-292f03534fcf",
   "metadata": {},
   "source": [
    "$$\\large\n",
    "\\text{expert\\_probs} = \n",
    "\\begin{bmatrix}\n",
    "0.486 \\\\\n",
    "0.485 \\\\\n",
    "\\end{bmatrix}\n",
    "$$"
   ]
  },
  {
   "cell_type": "markdown",
   "id": "53e2af23-21bb-4c9c-8085-7dc4cff50e96",
   "metadata": {},
   "source": [
    "This result means that, for example, the probability for the 2nd training sample (index $1$) to be passed to Expert $E_1$ (index $0$) is $G(\\mathbf{x}_1)_0 = 0.486$. Note that the two probabilities for the two training samples are quite similar. This is due to the fact that the trainable parameters/weights in the layers of the gate are randomly initialized, so that all probabilities are overall similar."
   ]
  },
  {
   "cell_type": "markdown",
   "id": "1686f93e-b256-4fd9-b217-7f15a9538e71",
   "metadata": {},
   "source": [
    "##### (8) Rescaling Expert Output\n",
    "\n",
    "We can now recalculate the output of the expert by multiplying the initial output with the respective router probabilities using elementwise multiplication (i.e., the [Hadamard product](https://en.wikipedia.org/wiki/Hadamard_product_(matrices))). Like before, we use the concept of [broadcasting](https://numpy.org/doc/stable/user/basics.broadcasting.html) to perform the elementwise multiplication:"
   ]
  },
  {
   "cell_type": "markdown",
   "id": "16f48fca-9a25-4a31-bcbd-dad2556e0001",
   "metadata": {},
   "source": [
    "`export_output = expert_output * expert_probs`"
   ]
  },
  {
   "cell_type": "markdown",
   "id": "e9550bec-a602-4495-ad2b-90e38c36dd18",
   "metadata": {},
   "source": [
    "resulting in:"
   ]
  },
  {
   "cell_type": "markdown",
   "id": "a44fc169-422b-4a2c-a21d-bb0f85fbab63",
   "metadata": {},
   "source": [
    "$$\\large\n",
    "\\text{expert\\_output} = \n",
    "\\begin{bmatrix}\n",
    "-0.042 & -0.069 & 0.011 & -0.000 & 0.009 & 0.042 & 0.053 & 0.157  \\\\\n",
    "-0.070 & -0.057 & 0.030 & -0.012 & 0.035 & 0.040 & 0.035 & 0.130  \\\\\n",
    "\\end{bmatrix}\n",
    "$$"
   ]
  },
  {
   "cell_type": "markdown",
   "id": "8b2264cf-49bb-48b2-8dc9-2dbd3eee33d9",
   "metadata": {},
   "source": [
    "Since both router probabilities are around $0.5$, all values in `expert_output` have roughly halved."
   ]
  },
  {
   "cell_type": "markdown",
   "id": "ddbc6b48-8cfc-4fee-85a5-3dd9beb2e5bc",
   "metadata": {},
   "source": [
    "##### (9) Update Final Output Tensor\n",
    "\n",
    "As the last step, we need to add the output of the current expert to the final output tensor, which is very easy to do using PyTorch:"
   ]
  },
  {
   "cell_type": "markdown",
   "id": "9749bf3f-fe33-4476-88ab-cf623c1b7e63",
   "metadata": {},
   "source": [
    "`output.index_add_(0, selected_indices, export_output)`"
   ]
  },
  {
   "cell_type": "markdown",
   "id": "5f176dcf-2a0e-45ab-a200-0c9326554a91",
   "metadata": {},
   "source": [
    "The `index_add_()` method is an in-place operation that adds values from a source tensor to specified indices of a destination tensor along a given dimension. The underscore at the end of `index_add_()` indicates that this operation modifies the original tensor directly, rather than returning a new one. It's particularly useful when you want to accumulate values into specific positions efficiently, such as during scatter or gather operations &mdash; which we do here by accumulating the outputs of all activated experts. For example, after adding the result from Expert $E_1$, we get:"
   ]
  },
  {
   "cell_type": "markdown",
   "id": "0f63ec6c-ded0-4e14-9be9-75e4897ae8c2",
   "metadata": {},
   "source": [
    "$$\\large\n",
    "\\text{output} = \n",
    "\\begin{bmatrix}\n",
    "0 & 0 & 0 & 0 & 0 & 0 & 0 & 0  \\\\\n",
    "-0.042 & -0.069 & 0.011 & 0.000 & 0.009 & 0.042 & 0.053 & 0.157  \\\\\n",
    "0 & 0 & 0 & 0 & 0 & 0 & 0 & 0  \\\\\n",
    "-0.070 & -0.057 & 0.030 & -0.012 & 0.035 & 0.040 & 0.035 & 0.130  \\\\\n",
    "\\end{bmatrix}\n",
    "$$"
   ]
  },
  {
   "cell_type": "markdown",
   "id": "a7fd75d6-0c27-49d2-8cff-4b9775e4fc9e",
   "metadata": {},
   "source": [
    "Now the iteration is completed and restarts with the next expert until all experts have been considered. Again, only experts that receive at least one training sample are activated, and then only get passed the relevant samples and not the whole batch. Of course, there might be experts that have the highest router probability for all training samples in a batch. For example, if we look at the router probabilities for out example batch again:"
   ]
  },
  {
   "cell_type": "markdown",
   "id": "d7007f61-78d3-4090-a19d-4e10897fa332",
   "metadata": {},
   "source": [
    "$$\\large\n",
    "\\text{router\\_probs} = \n",
    "\\begin{bmatrix}\n",
    "0 & 0 & 0 & 0 & 0.483 & 0.517  \\\\\n",
    "0.486 & 0 & 0 & 0 & 0 & 0.514  \\\\\n",
    "0 & 0 & 0 & 0 & 0.481 & 0.519  \\\\\n",
    "0.485 & 0 & 0 & 0 & 0 & 0.515  \\\\\n",
    "\\end{bmatrix}\n",
    "$$"
   ]
  },
  {
   "cell_type": "markdown",
   "id": "35453626-3059-4985-854b-e2acc2c812fe",
   "metadata": {},
   "source": [
    "We can see that Expert $E_6$ will indeed get the whole batch since $E_6$ has one of the top-2 highest probabilities for each training sample."
   ]
  },
  {
   "cell_type": "markdown",
   "id": "b42f82a4-a17d-43e8-9f18-511d83e68de3",
   "metadata": {},
   "source": [
    "#### Discussion & Limitations\n",
    "\n",
    "Sparse Mixture of Experts (MoE) models have several key advantages, particularly around computational efficiency and scalability. Since only a sparse subset of experts is used for each forward pass, the model can be scaled up with many parameters without a proportional increase in compute cost. This allows for training very large models (e.g., trillions of parameters) while maintaining manageable inference and training time per example. Another benefit is specialization: each expert can learn to focus on a specific subset or aspect of the data, potentially improving performance and generalization.\n",
    "\n",
    "However, sparse MoE models come with several challenges. One of the biggest is **load balancing** &mdash; ensuring that all experts are utilized evenly. Without careful design, some experts may be overused while others are rarely activated, leading to undertrained parts of the model and degraded performance. Techniques like auxiliary loss terms or routing constraints are often needed to encourage balanced usage of experts, which adds complexity to the training process. Another major difficulty is routing &mdash; deciding which experts to activate for a given input. This is typically done via a learned gating mechanism, which must be efficient and differentiable. The routing introduces discrete choices that can make training harder to optimize using gradient-based methods. Lastly &mdash; as we could already see in our basic example implementation &mdash; implementation and deployment complexity is higher for sparse MoE models. They require dynamic computation graphs and often non-standard memory access patterns, which can be difficult to scale efficiently on GPUs or in distributed systems. This makes sparse MoEs powerful but also technically demanding to use in practice."
   ]
  },
  {
   "cell_type": "markdown",
   "id": "ddf6c7d6-35a2-46db-ad02-c4147ce93cde",
   "metadata": {},
   "source": [
    "---"
   ]
  },
  {
   "cell_type": "markdown",
   "id": "e1fc1082-306b-41bc-9a7c-fcb7a82679f4",
   "metadata": {},
   "source": [
    "## Discussion &mdash; What's Next?\n",
    "\n",
    "In this notebook, we delved into the core principles of Mixture of Experts (MoE) models, placing particular emphasis on the two foundational strategies: dense MoEs and sparse MoEs. At a theoretical level, these models are relatively intuitive, offering a modular design where different \"experts\" contribute to the overall task in either a fully active (dense) or selectively active (sparse) manner. This structural elegance makes them conceptually accessible and relatively straightforward to implement in controlled settings. However, transitioning from theory to practice introduces a layer of complexity. Real-world applications of MoE models often require careful design choices, such as managing expert specialization, ensuring balanced expert utilization, and optimizing the routing mechanisms &mdash; especially in large-scale or dynamic environments. These considerations are crucial to ensure the model behaves as expected and achieves both efficiency and performance in practical deployments.\n",
    "\n",
    "### Improving Sparse MoE Models\n",
    "\n",
    "Training sparse Mixture of Experts  models successfully in practice presents several challenges that must be carefully addressed to achieve efficiency, scalability, and high performance. One of the key issues is the expert routing mechanism. Sparse MoE models route input tokens to only a small subset of available experts, typically using a learned gating function. If the gating mechanism is poorly trained or unstable, it can lead to unbalanced expert utilization where only a few experts are active while others remain underutilized. This imbalance not only wastes resources but can also harm model performance due to insufficient training of certain experts. Techniques such as load balancing losses and noise in the gating function (e.g., GShard or Switch Transformer) are commonly used to encourage even expert usage.\n",
    "\n",
    "Another important issue is training stability and convergence. Sparse MoEs introduce discontinuities in the computation graph due to the hard gating decisions, which can make optimization more difficult compared to fully dense models. In some cases, small changes in the input can lead to entirely different experts being selected, destabilizing the learning process. To mitigate this, some implementations adopt soft gating during early training or use auxiliary losses to smooth the transition. Additionally, MoEs can suffer from expert collapse, where multiple experts converge to similar functions. Regularization methods and diversity-promoting losses are often necessary to maintain specialization across experts.\n",
    "\n",
    "Lastly, evaluation and inference efficiency must be addressed. Sparse MoEs promise reduced compute during training, but inference can be inefficient if the expert routing is not optimized, especially when batch sizes are small or the workload is irregular. Moreover, the variability in expert routing decisions can introduce unpredictability in latency. Practical solutions involve pruning unused experts, caching routing decisions, or simplifying the gating mechanism for inference. Overall, successfully training sparse MoEs in practice requires a careful balance between algorithmic design, training stability, and systems-level efficiency.\n",
    "\n",
    "### Beyond Simple Inputs\n",
    "\n",
    "Throughout this notebook, we assumed that our input of an MoE model is a batch of feature vectors with each vector representing a single training sample. When using MoE models for, say, sequential data like text, the added complexity primarily comes from the need to make routing decisions for *each token* (instead of the sequence as a whole). In natural language tasks, each input sequence consists of multiple tokens that are processed either independently or in context. For MoE models, this means the gating mechanism must decide which experts to activate not just once per input, but potentially for each token in the sequence. This greatly increases the computational and implementation complexity, especially when dealing with long sequences, as it introduces many more routing decisions that need to be computed and optimized.\n",
    "\n",
    "Additionally, maintaining consistency and coherence across time steps adds further challenges. In sequential models like Transformers, each token's representation depends on the others through attention mechanisms. If different tokens in a sequence are routed to different sets of experts, it can become difficult for the model to maintain a unified understanding of the sequence as a whole. This can lead to fragmented learning or loss of important contextual information unless the routing and expert combination strategies are carefully designed. Balancing expert utilization across a batch of sequences while keeping routing efficient and contextually aware adds another layer of engineering and optimization difficulty unique to sequential data processing.\n",
    "\n",
    "### MoEs in Action\n",
    "\n",
    "We implemented basic versions of both a dense MoE and a sparse MoE layer to better understand their inner workings. However, we only considered both models in isolation and not as part of a complete network architecture to solve a particular task. Other notebooks will provide concrete examples for training and using neural networks containing MoE models. But again, this will first require the consideration and understanding of important requirements such as load balancing or the support of sequential or otherwise more complex data."
   ]
  },
  {
   "cell_type": "markdown",
   "id": "2b76565c-26c8-43b6-9051-179f8103af07",
   "metadata": {},
   "source": [
    "---"
   ]
  },
  {
   "cell_type": "markdown",
   "id": "88718834-96e0-4728-837b-04b209dffc5c",
   "metadata": {},
   "source": [
    "## Summary\n",
    "\n",
    "Mixture of Experts (MoE) models are a class of neural network architectures designed to improve scalability, efficiency, and specialization in deep learning systems. The core idea behind MoE is to divide a large model into several smaller subnetworks, known as experts, and route different inputs through different combinations of these experts. This allows the overall model to have high capacity while only using a fraction of the computation per input, depending on the routing strategy. MoE models are particularly useful in large-scale tasks such as natural language processing and computer vision, where traditional models struggle to scale efficiently.\n",
    "\n",
    "There are two primary strategies in MoE models: dense MoE and sparse MoE. In dense MoE models, all experts are activated for every input. This means every subnetwork contributes to processing each data point, resulting in richer feature representations and potentially higher accuracy. Dense MoEs are easier to implement and train because there's no need to manage routing decisions or load balancing. Additionally, every expert receives gradient updates on each training step, which can lead to more stable learning. However, this approach is computationally expensive and limits scalability, as the cost grows linearly with the number of experts.\n",
    "\n",
    "In contrast, sparse MoE models activate only a small subset of experts for each input, often selected through a gating mechanism. This dramatically reduces computational cost while still benefiting from a large number of parameters. Sparse MoEs are more scalable and efficient, making them ideal for training massive models that wouldn't be feasible with dense architectures. Moreover, the selective routing encourages experts to specialize in particular patterns or features within the data. The challenge, however, lies in designing an effective gating mechanism and ensuring balanced usage of all experts to prevent some from being underutilized or overfitted.\n",
    "\n",
    "Overall, MoE models offer a powerful framework for building flexible and scalable deep learning systems. Dense and sparse MoEs each come with their own strengths and trade-offs. Dense MoEs favor simplicity and performance at the cost of computational efficiency, while sparse MoEs provide scalability and efficiency with added complexity in training and routing design. The choice between them depends on the specific use case, available computational resources, and the desired balance between performance and efficiency."
   ]
  },
  {
   "cell_type": "code",
   "execution_count": null,
   "id": "f978fe75-aa7d-4c7d-984d-8d105488276d",
   "metadata": {},
   "outputs": [],
   "source": []
  }
 ],
 "metadata": {
  "kernelspec": {
   "display_name": "py311",
   "language": "python",
   "name": "py311"
  },
  "language_info": {
   "codemirror_mode": {
    "name": "ipython",
    "version": 3
   },
   "file_extension": ".py",
   "mimetype": "text/x-python",
   "name": "python",
   "nbconvert_exporter": "python",
   "pygments_lexer": "ipython3",
   "version": "3.11.8"
  }
 },
 "nbformat": 4,
 "nbformat_minor": 5
}
