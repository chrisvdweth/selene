{
 "cells": [
  {
   "cell_type": "markdown",
   "id": "8d796672-3e22-4c88-8a55-2df116dbb11e",
   "metadata": {},
   "source": [
    "<img src=\"images/logo/selene-logo-640.png\" style=\"max-height:75px;\" alt=\"SELENE Logo\" />\n",
    "\n",
    "**Disclaimer:** This Jupyter Notebook contains content generated with the assistance of AI. While every effort has been made to review and validate the outputs, users should independently verify critical information before relying on it. The SELENE notebook repository is constantly evolving. We recommend downloading or pulling the latest version of this notebook from Github."
   ]
  },
  {
   "cell_type": "markdown",
   "id": "f54b1090-10ae-4dcf-849c-25d53e5a16a5",
   "metadata": {},
   "source": [
    "# Text Normalization\n",
    "\n",
    "## Motivation\n",
    "\n",
    "Natural language is inherently expressive and exhibits significant variation due to its role as a primary medium for human communication. It allows individuals to convey not just factual information but also emotions, intentions, cultural nuances, and creativity. This expressiveness enables a rich diversity of expression, ranging from poetic language to technical jargon, informal slang, and structured academic writing. The same message can often be communicated in countless ways, influenced by context, culture, and personal style.\n",
    "\n",
    "One main dimension of variation &mdash; the one that text normalization aims to address &mdash; arises from morphology and syntax. Morphological variation in text documents increases complexity for natural language processing (NLP) tasks because it introduces a high degree of word form variation that can make it difficult for machines to accurately understand and process language. Morphology refers to the structure and form of words, including how words are constructed from roots and affixes (such as prefixes, suffixes, and infixes). In languages with rich morphology, a single root word can take many different forms depending on tense, aspect, number, gender, case, and other grammatical features. The table below list some of the most common linguistic phenomena that results in morphological and syntactic variations."
   ]
  },
  {
   "cell_type": "markdown",
   "id": "4adcc543-0c54-48d0-8e64-0504efaf97c8",
   "metadata": {},
   "source": [
    "| **Linguistic Phenomenon**     \t| **Description**                                                                                       \t| **Example Before Normalization**    \t|\n",
    "|------------------------------------|-----------------------------------------------------------------------------------------------------------|------------------------------------------|\n",
    "| **Spelling Variations**        \t| The same words may alternate spellings or regional differences.                                   \t| *\"color/colour'*                   \t|\n",
    "| **Case Sensitivity**           \t| .                                          \t| *\"HELLO/hello\"*                    \t|\n",
    "| **Inflected Forms**            \t| Verbs may have different forms depending on the tense; nouns may have different forms in their singular and plural form.                        \t| *\"run/runs/ran/running\"*, *\"foot/feet\"*  |\n",
    "| **Contractions**               \t| .                                            \t|  *\"I am / I'm\"*, *\"will no / won't\"*                    \t|\n",
    "| **Stop Words**                 \t| Words may not contribute useful information to ....                               \t| *\"a/an\"*, *\"the\"*, *\"and\"*, *\"or\"*, *\"from\"*, *\"with\"*   |\n",
    "| **Punctuation**                \t| Removes or standardizes punctuation that might interfere with tokenization or processing.             \t|   |\n",
    "| **Non-Standard Words**         \t| A text may contain words that are not common dictionary words; particular in user-generated content on social media.                             \t| *\"u (you)\"*, *\"gr8 (great)\"*, *\"lol (laughing out loud)\"*                   \t|\n",
    "| **Numerical Expressions**      \t| The Number can be differently represented using digits and words.                                                         \t| *\"1000 / 1000.00 / 1,000 / 1k / one thousand\"*,  |\n",
    "| **Compound Words**             \t| Compounds may be spelled differently depending on conventions.                                         \t| *\"ice-cream / ice cream\"*`            \t|\n",
    "| **Unicode Variants**           \t| Characters to are visually similar maybe in fact be different Unicode characters.                   \t| `ﬁ`, `fi` (ligature and standard)   \t|\n",
    "| **Diacritics and Accents**     \t| The same word may be spelled with or without diacritical marks.                              \t| *\"café / cafe\"*                      \t|\n",
    "| **Special Characters**         \t| Removes or replaces characters like emojis, symbols, and hashtags.                                    \t| *\"@Selene Hello 😊 #AI\"*                      \t|\n",
    "| **Whitespace**                 \t| Removes unnecessary spaces or line breaks.                                                            \t| *\"Hello  \tworld!\"*                    \t|\n",
    "| **Ambiguity in Abbreviations** \t| Expands or standardizes abbreviations for better comprehension.                                       \t| *\"e.g.\"*, *\"i.e.\"*                        \t|"
   ]
  },
  {
   "cell_type": "markdown",
   "id": "26a8279f-cdae-4ede-acaa-528d73156ba1",
   "metadata": {},
   "source": [
    "These variations in text documents can complicate tasks like text classification, information retrieval, machine translation, and sentiment analysis since they introduce data sparsity issues, especially in languages with complex inflectional systems. A large corpus of text may contain many different forms of a single root word, making it difficult for machine learning models to capture the full range of forms. For example, a machine learning model trained on a corpus might encounter only a small subset of possible word forms, leading to problems when it needs to process unseen forms. If a model only encounters the word \"run\" during training, it may fail to understand the various forms such as \"running,\" \"ran,\" or \"runner\" in future documents.\n",
    "\n",
    "The goal of text normalization is to reduce morphological and syntactic variations and convert documents into a canonical form. &mdash; that is, transforming raw, unstructured text into a standard, consistent representation that makes it easier for NLP systems to analyze and process. The goal is to reduce the complexity and variability inherent in natural language, simplifying the text to its most basic, meaningful components. This often means to remove different word forms, typographical errors, informal language, or inconsistencies that could confuse machine learning models or complicate analysis."
   ]
  },
  {
   "cell_type": "markdown",
   "id": "31a00c47-1963-4087-8501-67ebb768526f",
   "metadata": {},
   "source": [
    "### Preliminaries\n",
    "\n",
    "#### Scope\n",
    "\n",
    "Text normalization is a crucial preprocessing step in NLP, but its implementation varies significantly depending on the specific task or application. For instance, in sentiment analysis, normalization might involve converting text to lowercase, removing punctuation, or expanding contractions to standardize inputs without altering the sentiment-bearing elements. In contrast, machine translation systems might require more nuanced normalization, such as handling diacritics or resolving locale-specific variations, to preserve linguistic accuracy and ensure correct translations.\n",
    "\n",
    "The dependency on the application stems from the need to balance retaining meaningful information with simplifying the text for the model. In tasks like named entity recognition (NER), it may be essential to preserve case sensitivity and special characters that contribute to identifying entities. On the other hand, applications such as search engine optimization might focus on normalizing text for keyword matching by removing stop words or stemming words. This task-specific adaptability underscores the importance of tailoring normalization approaches to the objectives and constraints of the given NLP application.\n",
    "\n",
    "As such, there is no single fixed series of normalization steps that need to be performed every time. In this notebook, we cover a wide range of the most common normalization steps and include some discussion for which use cases they are more suitable than others. Keep in mind, however, that the covered steps are not comprehensive. Many NLP tasks or applications might involve text that requires custom normalization (e.g., handling LaTeX math formulas, domain-specific vocabulary such as chemical compounds, or mixed-language content).\n",
    "\n",
    "#### Strings vs Token Lists\n",
    "\n",
    "Different normalization steps may be more easily applied before or after tokenization. For example, changing a text to all lowercase characters is equally straightforward when considering a text as a single string or as a list of tokens. Removing stopwords, numbers, or punctuation marks is generally easier when a text has already been tokenized &mdash; although doing so with a string is still very much possible. For the normalization steps covered in this notebook, we either look at both approaches or the more convenient one. Apart from showing the \"manual\" implementation of different normalization steps, we also show, if applicable, how they can be performed using common text processing libraries. In this notebook, we consider[spaCy](https://spacy.io/) for those examples."
   ]
  },
  {
   "cell_type": "markdown",
   "id": "56758c72-a8e7-4360-a82f-c7f715a27a75",
   "metadata": {},
   "source": [
    "### Setting up the Notebook\n",
    "\n",
    "#### Make Required Imports\n",
    "\n",
    "This notebook requires the import of different Python packages but also additional Python modules that are part of the repository. If a package is missing, use your preferred package manager (e.g., [conda](https://anaconda.org/anaconda/conda) or [pip](https://pypi.org/project/pip/)) to install it. If the code cell below runs with any errors, all required packages and modules have successfully been imported."
   ]
  },
  {
   "cell_type": "code",
   "execution_count": 1,
   "id": "d3b89ad3-bb5c-4d96-bf03-1e663130fc0f",
   "metadata": {},
   "outputs": [],
   "source": [
    "from src.utils.libimports.textnorm import *\n",
    "from src.text.preprocessing.normalizing import EmoticonNormalizer\n",
    "from src.utils.data.files import *"
   ]
  },
  {
   "cell_type": "markdown",
   "id": "e072e9ac-d82b-4008-bf4a-71eb6e3625b5",
   "metadata": {},
   "source": [
    "#### Download Required Data\n",
    "\n",
    "Some code examples in this notebook use data that first need to be downloaded by running the code cell below. If this code cell throws any error, please check the configuration file `config.yaml` if the URL for downloading datasets is up to date and matches the one on Github. If not, simply download or pull the latest version from Github."
   ]
  },
  {
   "cell_type": "code",
   "execution_count": 2,
   "id": "1df036d9-3912-41e5-8519-c933d7a7ca8d",
   "metadata": {},
   "outputs": [
    {
     "name": "stdout",
     "output_type": "stream",
     "text": [
      "File 'data/datasets/text/lexicons/normalization/slang-dictionary.csv' already exists (use 'overwrite=True' to overwrite it).\n",
      "File 'data/datasets/text/lexicons/normalization/vocabulary-american-english.csv' already exists (use 'overwrite=True' to overwrite it).\n",
      "File 'data/datasets/text/lexicons/normalization/british-to-american.csv' already exists (use 'overwrite=True' to overwrite it).\n",
      "File 'data/datasets/text/lexicons/normalization/emoji-mapping-subset.csv' already exists (use 'overwrite=True' to overwrite it).\n"
     ]
    }
   ],
   "source": [
    "slang_dictionary, _    = download_dataset(\"text/lexicons/normalization/slang-dictionary.csv\")\n",
    "english_vocabulary, _  = download_dataset(\"text/lexicons/normalization/vocabulary-american-english.csv\")\n",
    "british_to_american, _ = download_dataset(\"text/lexicons/normalization/british-to-american.csv\")\n",
    "emoji_mapping, _       = download_dataset(\"text/lexicons/normalization/emoji-mapping-subset.csv\")"
   ]
  },
  {
   "cell_type": "markdown",
   "id": "e19592f9-5d0a-4f79-95ee-e7cd9f25781e",
   "metadata": {},
   "source": [
    "---"
   ]
  },
  {
   "cell_type": "markdown",
   "id": "e8a6d86d-a699-4f8d-a8e1-3192101a4ce1",
   "metadata": {},
   "source": [
    "## Case Folding\n",
    "\n",
    "Case folding is a fundamental step in text preprocessing used to standardize text data by converting all characters to the same case, typically lowercase. This standardization ensures that words with the same meaning but different capitalization are treated as identical. For example, \"Data,\" \"DATA,\" and \"data\" would all be converted to \"data.\" This process reduces redundancy in text data, simplifying analysis and improving the performance of natural language processing (NLP) models.\n",
    "\n",
    "One of the primary purposes of case folding is to enhance the efficiency and accuracy of text-matching algorithms, such as search engines or sentiment analysis tools. By eliminating case distinctions, case folding ensures that queries and documents align regardless of capitalization. For instance, a search for \"Python\" would return results for \"python,\" \"PYTHON,\" and \"PyThOn\" equally. This uniformity makes case-insensitive matching possible, which is crucial for tasks like keyword extraction and information retrieval.\n",
    "\n",
    "In addition, case folding reduces the complexity of text processing by minimizing the number of unique tokens in a dataset. This is particularly important for machine learning models, as it reduces the dimensionality of input data and ensures that models focus on semantic meaning rather than superficial differences. For example, without case folding, a model might interpret \"AI\" and \"ai\" as separate entities, leading to inefficiency and potential inaccuracies."
   ]
  },
  {
   "cell_type": "markdown",
   "id": "8ce75312-6682-41ad-ab5a-6fd5ac6c4610",
   "metadata": {},
   "source": [
    "#### Application\n",
    "\n",
    "Converting a text to all lowercase or all uppercase is one of the easiest text normalization steps to perform. All modern programming languages or tools support strings and provide built-in methods for this task. In the case of Python, these methods are `lower()` and `upper()`. Here is a simple example:"
   ]
  },
  {
   "cell_type": "code",
   "execution_count": 3,
   "id": "4cd448f1-27bf-42cc-9176-3d873dc887bd",
   "metadata": {},
   "outputs": [
    {
     "name": "stdout",
     "output_type": "stream",
     "text": [
      "That movie was AMAZING! I went to see it twice.\n",
      "that movie was amazing! i went to see it twice.\n",
      "THAT MOVIE WAS AMAZING! I WENT TO SEE IT TWICE.\n"
     ]
    }
   ],
   "source": [
    "text = \"That movie was AMAZING! I went to see it twice.\"\n",
    "\n",
    "print(text)\n",
    "print(text.lower())\n",
    "print(text.upper())"
   ]
  },
  {
   "cell_type": "markdown",
   "id": "edc44cb2-155f-4d9b-a3d9-b7b0359ae331",
   "metadata": {},
   "source": [
    "#### Discussion\n",
    "\n",
    "While case folding is a valuable tool for text normalization, it does come with certain risks that can impact the quality and accuracy of downstream tasks. These risks primarily arise from the loss of information carried by capitalization, which can be critical in some contexts.\n",
    "\n",
    "* **Loss of semantic information:** Capitalization often conveys meaning, and removing it through case folding can result in ambiguity. For instance, *\"Apple\"* (the company) and *\"apple\"* (the fruit) have distinct meanings, but case folding would treat them as identical. This loss of differentiation can negatively affect tasks like named entity recognition (NER) or sentiment analysis, where proper nouns and specific terms are significant.\n",
    "\n",
    "* **Challenges in domain-specific texts:** In domains like legal or medical texts, capitalization may follow specific conventions to denote importance, abbreviations, or categories. For example, *\"HIV\"* (the virus) and *\"hiv\"* (a casual or misspelled term; e.g., a misspelling of *\"hive\"*) could convey very different contexts. Case folding could lead to misinterpretation or reduced precision in such cases.\n",
    "\n",
    "* **Issues with acronyms and initialisms:** Acronyms and initialisms like *\"NASA\"* and *\"nasa\"* might lose their emphasis or context when converted to lowercase. In some applications, especially those involving technical or formal documents, this can result in decreased readability or unintended changes in meaning.\n",
    "\n",
    "* **Impact on style and formatting:** Case folding might strip text of stylistic or formatting nuances important for specific tasks, such as analyzing social media posts, where capitalization might indicate emphasis (e.g., *\"THIS is important\"* vs. *\"this is important\"*).\n",
    "\n",
    "To mitigate these risks, it is crucial to consider the context and goals of the task before applying case folding. In scenarios where capitalization carries important meaning, additional preprocessing steps or hybrid approaches that selectively apply case folding may be necessary to retain essential information while standardizing the text."
   ]
  },
  {
   "cell_type": "markdown",
   "id": "a82d1c91-dfd3-4392-9d28-4afde577a537",
   "metadata": {},
   "source": [
    "---"
   ]
  },
  {
   "cell_type": "markdown",
   "id": "4b2aee1b-598f-48d1-88e0-c70cefcc3bf4",
   "metadata": {},
   "source": [
    "### Punctuation & Non-Word Removal\n",
    "\n",
    "For fundamental NLP tasks such as text classification, it is typically the \"normal\" words &mdash; in crude terms, every token that can be found in a standard dictionary &mdash; that matters most. In contrast, punctuation marks, URLs, email addresses, specific numbers often carry hardly any meaning and could even be considered noise depending on the task. For example, consider the task of classifying to which news category a article belongs (e.g., *politics*, *economy*, *sports*, *technology*, *weather*, etc.). Words such as *\"match\"*, *\"player\"*, *\"ball\"*, *\"goal\"*, *\"halftime\"* and similar are much more indicative that an article talks about sports than a specific date or number/digit (representing the result of a game). Thus, to allow a classifier to focus on the most relevant parts in a document, punctuation marks and other non-words are often simply removed."
   ]
  },
  {
   "cell_type": "markdown",
   "id": "f46a2b10-cd37-41e4-b427-1e8853736df9",
   "metadata": {},
   "source": [
    "#### Application\n",
    "\n",
    "In general, the decision if and which (types) of tokens should be removed depends on the application use case. In the code cell below, we make the simple assumption that we want to remove all tokens that are not completely composed of letters. Or simply speaking, we want to remove each token that is not a word. The `isalpha()` method in Python is a string method that checks if all the characters in a string are alphabetic (letters of the alphabet) and returns `True` if they are, and `False` otherwise. It does not accept numbers, spaces, or special characters, and the string must contain at least one character for it to return True. For example, `\"hello\".isalpha()` would return `True`, whereas `\"hello123\".isalpha()` or `\"\".isalpha()` would return `False`. This method is commonly used to validate input or filter strings for purely alphabetic content, and makes our task very simple."
   ]
  },
  {
   "cell_type": "code",
   "execution_count": 4,
   "id": "6b6b9d63-c117-44a8-92cb-7aa2afac5b31",
   "metadata": {},
   "outputs": [
    {
     "name": "stdout",
     "output_type": "stream",
     "text": [
      "['Yesterday', 'pm', 'the', 'match', 'ended', 'all', 'players', 'left', 'dissappointed']\n"
     ]
    }
   ],
   "source": [
    "tokens = [\"Yesterday\", \"@\", \"9.30\", \"pm\", \",\", \"the\", \"match\", \"ended\", \"0:0\", \"--\", \"all\", \"players\", \"left\", \"dissappointed\", \".\"]\n",
    "\n",
    "def is_invalid_token(token):\n",
    "    if token.isalpha() is False:\n",
    "        return True\n",
    "    return False\n",
    "\n",
    "print([ token for token in tokens if is_invalid_token(token) is False ])\n",
    "#print([ token for token in tokens if token.isalpha() is True ]) # Simpler but less flexible"
   ]
  },
  {
   "cell_type": "markdown",
   "id": "9cbfb5dc-0568-4fc6-b30c-cca031892580",
   "metadata": {},
   "source": [
    "For our simple example, the method `is_invalid_token()` is not really needed as it only wraps the `isalpha()` method. However, it should be easy to see how `is_invalid_token()` can be extended to include other, and potentially more indicate, conditions to test if a token is invalid and should therefore be removed. Since the basic token categories such was words, numbers, and punctuation marks are a common filter criteria, spaCy does automatically derives the following attributes for each token in a text when using the default analysis pipeline:\n",
    "\n",
    "* `is_alpha`: token text consists of alphabetic characters\n",
    "* `is_digit`: Token text consists of digits\n",
    "* `is_punct`: Token is a punctuation character\n",
    "\n",
    "Using these three attributes, we can easily implement the removal of punctuation, numbers, and everything else that are not \"normal\" words:"
   ]
  },
  {
   "cell_type": "code",
   "execution_count": 5,
   "id": "da5a0f7e-210f-4502-a2b5-64e263fb37e9",
   "metadata": {},
   "outputs": [
    {
     "name": "stdout",
     "output_type": "stream",
     "text": [
      "['Yesterday', 'pm', 'the', 'match', 'ended', 'all', 'players', 'left', 'dissappointed']\n"
     ]
    }
   ],
   "source": [
    "text = \"Yesterday @ 9.30 pm, the match ended 0:0 -- all players left dissappointed.\"\n",
    "\n",
    "print([ token.text for token in nlp(text) if token.is_alpha == True and token.is_punct == False and token.is_digit == False ])"
   ]
  },
  {
   "cell_type": "markdown",
   "id": "08902015-20e1-41b8-8c3c-2afc7a6c842b",
   "metadata": {},
   "source": [
    "#### Discussion\n",
    "\n",
    "The removal of punctuation and non-words is typically meaningful for Natural Language Processing (NLP) tasks where the focus is on analyzing the semantic or syntactic meaning of text without the noise introduced by punctuation or irrelevant symbols. The two most common scenarios include, for one, text classification task where removing non-words helps models focus on meaningful features such as word frequencies. The second common application use case is search and information retrieval where non-words and punctuation may interfere with query matching or ranking algorithms, so preprocessing often involves their removal."
   ]
  },
  {
   "cell_type": "markdown",
   "id": "f63b1420-b5db-455e-81c0-26853fe8eb50",
   "metadata": {},
   "source": [
    "---"
   ]
  },
  {
   "cell_type": "markdown",
   "id": "29c193c3-63ba-4d3e-87be-6874c309612d",
   "metadata": {},
   "source": [
    "## Stopword Removal\n",
    "\n",
    "Stopwords are common words in a language that are often filtered out in text preprocessing because they carry little to no significant meaning for text analysis or modeling tasks. Examples of stopwords in English include *\"a\"*, *\"an\"*, *\"the\"*, *\"and\"*, *\"in\"*, *\"on\"*, *\"of\"*, and *\"to\"*. These words are ubiquitous and usually do not contribute much to the context or semantics of the text being analyzed. There various reasons that stop words are removed:\n",
    "\n",
    "* **Reduce noise in text:** Stopwords often clutter text data without adding meaningful information. For example, in the sentence \"The cat is on the mat\", the significant words for analysis are likely *\"cat\"* and \"mat,\" while *\"the\"*, *\"is\"*, and *\"on\"* provide grammatical structure but little semantic value. Removing stop words helps focus on the core content.\n",
    "\n",
    "* **Improve computational Efficiency:** Text data can be large, and processing irrelevant words increases computational overhead. Removing stopwords reduces the size of the text corpus and simplifies subsequent steps, like tokenization and vectorization, thereby speeding up the analysis or training process.\n",
    "\n",
    "* **Enhance model performance:** Machine learning models can become distracted by irrelevant features. For instance, including stopwords in text classification or sentiment analysis may dilute the importance of meaningful words, leading to less accurate predictions. Removing stopwords ensures the model focuses on content that carries actual weight.\n",
    "\n",
    "* **Reduce dimensionality:** Stopwords are often among the most frequent tokens in a dataset. By eliminating them, the dimensionality of text representations, such as term frequency-inverse document frequency (TF-IDF) matrices or word embeddings, is reduced. This makes the data less sparse and easier to analyze.\n",
    "\n",
    "* **Improve clarity in information retrieval:** In search engines or recommendation systems, stopwords can lead to irrelevant matches if retained. For instance, searching for \"history of computers\" might yield more relevant results when stopwords like *\"of\"* are removed, leaving *\"history\"* and *\"computers\"* as the primary keywords."
   ]
  },
  {
   "cell_type": "markdown",
   "id": "020c7f77-07f4-4f68-9695-fe4b038d7bd0",
   "metadata": {},
   "source": [
    "#### Application\n",
    "\n",
    "Once we have decided which words to consider stopwords, their removal is rather straightforward to implement, particularly if we assume that an input text has already been tokenized. In this case, we only need to check if any token is in this predefined set of stopwords. However, using Regular Expression, removing stop words directly from a text string is equally straightforward. For the following example, we define a very small list of stopwords and also assume a simple sentence from which we want to remove the stopwords."
   ]
  },
  {
   "cell_type": "code",
   "execution_count": 6,
   "id": "a135ef1f-8b7b-4a8a-9c9c-94445baf4a54",
   "metadata": {},
   "outputs": [],
   "source": [
    "stopwords = [\"a\", \"an\", \"the\", \"not\", \"and\", \"or\", \"but\", \"to\"]\n",
    "\n",
    "text = \"Alice and Bob went to KFC but did not eat anything\""
   ]
  },
  {
   "cell_type": "markdown",
   "id": "878de3fe-cb92-4445-bd54-4ccab686bc9c",
   "metadata": {},
   "source": [
    "We can now define a Regular Expression that matches any of the predefined stopwords. For this we can make use of the `\\b` anchor. This anchor in Regular Expressions represents a word boundary. It matches the position between a word character (letters, digits, or underscore: `[a-zA-Z0-9_]`) and a non-word character (anything else, such as spaces, punctuation, or the start/end of a string). It does not consume characters itself but ensures that a match occurs only at the boundary of a word. For example, the pattern `\\bcat\\b` matches the word *\"cat\"* when it stands alone (e.g., in *\"cat\"* or *\"the cat is here\"*), but not in *\"catch\"* or *\"scatter\"*. This makes the \\b anchor particularly useful for tasks such as searching for whole words, enforcing word-level constraints, or tokenizing text. So let's remove the stopwords from the example sentence; see the code cell below. Notice that we also require some minor additional cleaning steps to remove unnecessary whitespace that may occur after removing stopwords. Depending on the next preprocessing steps, such a cleaning of the string might not be needed."
   ]
  },
  {
   "cell_type": "code",
   "execution_count": 7,
   "id": "c0ae1108-5cf0-4baa-aa3a-c7d6a31a6c41",
   "metadata": {},
   "outputs": [
    {
     "name": "stdout",
     "output_type": "stream",
     "text": [
      "Alice Bob went KFC did eat anything\n"
     ]
    }
   ],
   "source": [
    "pattern = r\"|\".join([ r\"\\b({})\\b\".format(w) for w in stopwords ])\n",
    "\n",
    "text = re.sub(pattern, r\"\", text, flags=re.I)  # Remove stopwords\n",
    "text = re.sub(r\"\\s+\", r\" \", text)              # Remove duplicate whitespace (introduced by removing stopwords)\n",
    "text = text.strip()                            # Remove trailing whitespaces (needed of string started or ended with a stopword)\n",
    "\n",
    "print(text)"
   ]
  },
  {
   "cell_type": "markdown",
   "id": "cf5c17ef-7677-481a-a70c-a9b57e03670f",
   "metadata": {},
   "source": [
    "Of course, we can also show the removal of stopwords assuming the text was already tokenized, making it even simpler."
   ]
  },
  {
   "cell_type": "code",
   "execution_count": 8,
   "id": "6fd25d34-ea75-4682-8a66-d725453fd0c4",
   "metadata": {},
   "outputs": [
    {
     "name": "stdout",
     "output_type": "stream",
     "text": [
      "['Alice', 'Bob', 'went', 'KFC', 'did', 'eat', 'anything']\n"
     ]
    }
   ],
   "source": [
    "tokens = [ token for token in text.split() if token not in stopwords ]\n",
    "\n",
    "print(tokens)"
   ]
  },
  {
   "cell_type": "markdown",
   "id": "d261fc02-f1fb-4ed5-89d8-86b9a924d26d",
   "metadata": {},
   "source": [
    "The consideration whether a token is a stopword not is common for many NLP tasks. As such, libraries such as spaCy often include the annotation of tokens as part of the analysis. For example, spaCy derives for each token the Boolean attribute `is_stop` that specifies if a token is a stopword or not. Keep in mind, however, that under the hood, spaCy also assume a predefined [list of stopwords](https://github.com/explosion/spaCy/blob/master/spacy/lang/en/stop_words.py) for this analysis step. Thus, using spaCy, we can remove the stopwords from our example sentence as follows:"
   ]
  },
  {
   "cell_type": "code",
   "execution_count": 9,
   "id": "7dde0add-7408-431d-b33d-5252f54dfc46",
   "metadata": {},
   "outputs": [
    {
     "name": "stdout",
     "output_type": "stream",
     "text": [
      "['Alice', 'Bob', 'went', 'KFC', 'eat']\n"
     ]
    }
   ],
   "source": [
    "doc = nlp(text)\n",
    "\n",
    "tokens = [ token.text for token in doc if token.is_stop == False ]\n",
    "\n",
    "print(tokens)"
   ]
  },
  {
   "cell_type": "markdown",
   "id": "2105dce4-9e61-4447-8de1-251aca2e05ab",
   "metadata": {},
   "source": [
    "#### Discussion\n",
    "\n",
    "Removing stop words is a common normalizing step, but it comes with important caveats that can impact the quality of the analysis or model performance. These caveats highlight situations where stopwords may carry significant meaning or where their removal could lead to unintended consequences.\n",
    "\n",
    "* **Loss of semantic meaning:** Stopwords, though seemingly insignificant, can be crucial for conveying relationships or context in text. For instance, idiomatic expressions like *\"out of the blue\"* or *\"in the dark\"* the stop words are essential to the meaning. Similarly, in sentiment analysis, words like *\"not\"* are sometimes treated as stopwords, but their removal could invert the sentiment of a phrase (e.g., *\"not happy\"* vs. *\"happy\"*).\n",
    "\n",
    "* **Domain-specific importance:** In certain domains, stopwords might carry valuable information. For example, in legal and financial texts, Words like *\"and\"* or *\"or\"* can denote critical logical relationships (e.g., in a contract, *\"A and B\"* implies something different from *\"A or B.\"*). In biomedical or scientific texts, articles like *\"the\"* might specify a unique entity or subject, and their removal could change the context or make the text ambiguous.\n",
    "\n",
    "* **Phrase-level context:** Removing stop words may disrupt the structure of multi-word terms or phrases, potentially reducing the ability to understand the text. For example, the bigram *\"New York\"* might lose its meaning if *\"New\"* is removed as a stopword, leaving just *\"York\"*. Similarly, in *\"The University of Singapore\"*, removing *\"of\"* and *\"the\"* might reduce clarity or mislead downstream tasks.\n",
    "\n",
    "* **Impact on grammatical integrity:** Stop words contribute to the grammatical structure of sentences. Removing them can make sentences harder to parse and interpret, especially in tasks like text summarization or machine translation where sentence fluency is important.\n",
    "\n",
    "The decision whether to remove or retain a stop word comes down to the assumption, expectation or simple fact if stopwords are likely to play a critical role for a specific NLP task or application. For example, in the case of basic text classification, the presence or absence of discriminate words typically matters more compared to the grammatical integrity. Here, stopwords can typically be safely removed and even improve the performance of the tasks. However, particularly for tasks where \"all words matter\" (e.g., text summarization, machine translation, question answering), stopwords matter too and should therefore not be removed. In summary, while removing stop words can streamline NLP tasks, it is essential to carefully evaluate their importance based on the context, domain, and goals of the analysis. An overly aggressive approach to stopword removal can lead to loss of information or misinterpretation.\n",
    "\n",
    "To give an concrete example, look again at our example sentence *\"Alice and Bob went to KFC but did not eat anything\"*. After stop word removal, we were left with *\"Alice Bob went KFC eat\"*. Depending on the use exact use case, the meaning often sentence has been significantly altered, as it might have been important to capture that Alice and Bob did actually *not* eat there; see \"Loss of semantic meaning\" above. By removing words/tokens such as *\"not\"*, *\"n't\"*, *\"never\"*, *\"neither\"*, etc. we run the risk of losing the linguistic phenomenon of negation. Again, whether this is critical or not depends on the task or application. It should be easy to see that applications such as sentiment analysis will be negatively affected if negation is not properly captured. A common solution is therefore to use a customized stop word list. For example, start with a common stopword list but remove all words that might indicate negation."
   ]
  },
  {
   "cell_type": "markdown",
   "id": "29234bfb-a481-4489-8994-ce77c139422a",
   "metadata": {},
   "source": [
    "---"
   ]
  },
  {
   "cell_type": "markdown",
   "id": "10c72c9d-3586-42bd-bb04-e9e3951be33b",
   "metadata": {},
   "source": [
    "## Stemming and Lemmatization\n",
    "\n",
    "Consider the following to sentences:\n",
    "\n",
    "* *\"Dogs make the best friends.\"*\n",
    "* *\"A dog makes a good friend.\"*\n",
    "\n",
    "Semantically, both sentences are essentially conveying the same message, but syntactically they are very different since the vocabulary is different: *\"dog\"* vs. *\"dog\"*, *\"make\"* vs. *\"makes\"*, *\"friends\"* vs. *\"friend\"*. This is a big problem when comparing documents or when searching for documents in a database. For example, when one uses \"dog\" as a search term, both sentences should be returned and not just the second one. Stemming and lemmatization are two common techniques used in natural language processing (NLP) for text normalization. Both methods aim to reduce words to their base or root forms, but they differ in their approaches and outcomes.\n",
    "\n",
    "* **Stemming:** Stemming is a process of reducing words to their \"stems\" by removing prefixes and suffixes, typically through simple heuristic rules. The resulting stems may not always be actual words. The goal of stemming is to normalize words that have the same base meaning but may have different inflections or variations. For example, stemming the words *\"running\"*, *\"runs\"*, and *\"runner\"* would result in the common stem *\"run\"*. A popular stemming algorithm is the Porter stemming algorithm.\n",
    "\n",
    "* **Lemmatization:** Lemmatization, on the other hand, is a more advanced technique that aims to transform words to their \"lemmas,\" which are the base or dictionary forms of words. Lemmatization takes into account the morphological analysis of words and considers factors such as part-of-speech (POS) tags to determine the correct lemma. The output of lemmatization is usually a real word that exists in the language. For example, lemmatizing the words *\"running\"* and *\"runs\"* would yield the lemma \"run\", assuming that both words are used as verbs in a given sentence; *\"runner\"* is a noun and would not be lemmatized to *\"run\"*. Lemmatization requires more linguistic knowledge and often relies on dictionaries or language-specific resources.\n",
    "\n",
    "Both stemming and lemmatization are the methods to normalize documents on a syntactical level. Often the same words are used in different forms depending on their grammatical use in a sentence. The choice between stemming and lemmatization depends on the specific NLP task and its requirements. Stemming is a simpler and faster technique, often used when the exact word form is not critical, such as in information retrieval or indexing tasks. Lemmatization, being more linguistically sophisticated, is preferred in tasks where the base form and the semantic meaning of words are important, such as in machine translation, sentiment analysis, or question-answering systems. It's also important to note that stemming and lemmatization may not always produce the same results, and the choice between them should consider the trade-offs between accuracy and computational complexity."
   ]
  },
  {
   "cell_type": "markdown",
   "id": "ab1595d7-93f2-4190-bf52-3c9ec0ca6079",
   "metadata": {},
   "source": [
    "### Application\n",
    "\n",
    "Compared to, say, stopword and punctuation removal, stemming and lemmatization are less trivial text normalization tasks, and we cover them in a separate notebook. However, due to their importance, many to most existing libraries for NLP support either stemming, lemmatization, or both out of the box. For example, spaCy performs lemmatization as part of its default analysis pipeline to map each word/token to its respective lemma. The `lemma_` attribute of a spaCy token provides the lemmatized form of the token, which is its base or dictionary form. In spaCy, `lemma_` is a string, while `lemma` gives the corresponding hash integer value. This makes lemmatizing a text very simple:"
   ]
  },
  {
   "cell_type": "code",
   "execution_count": 10,
   "id": "8b3971b9-e33a-461d-b095-86f85bb24abf",
   "metadata": {},
   "outputs": [
    {
     "name": "stdout",
     "output_type": "stream",
     "text": [
      "['dog', 'make', 'the', 'good', 'friend', '.']\n",
      "['a', 'dog', 'make', 'a', 'good', 'friend', '.']\n"
     ]
    }
   ],
   "source": [
    "print([ token.lemma_ for token in nlp(\"Dogs make the best friends.\") ])\n",
    "print([ token.lemma_ for token in nlp(\"A dog makes a good friend.\") ])"
   ]
  },
  {
   "cell_type": "markdown",
   "id": "0b0eca90-3356-49b9-8dfa-567bac61b9a9",
   "metadata": {},
   "source": [
    "To further improve the example, we can also combine lemmatization with stopword and punctuation removal as seen before:"
   ]
  },
  {
   "cell_type": "code",
   "execution_count": 11,
   "id": "1b01b2ab-03b1-4062-9b77-8025ca33c338",
   "metadata": {},
   "outputs": [
    {
     "name": "stdout",
     "output_type": "stream",
     "text": [
      "['dog', 'good', 'friend']\n",
      "['dog', 'make', 'good', 'friend']\n"
     ]
    }
   ],
   "source": [
    "print([ token.lemma_ for token in nlp(\"Dogs make the best friends.\") if token.is_stop is False and token.is_punct is False ])\n",
    "print([ token.lemma_ for token in nlp(\"A dog makes a good friend.\") if token.is_stop is False and token.is_punct is False ])"
   ]
  },
  {
   "cell_type": "markdown",
   "id": "f9de570d-3acb-44f8-81bf-87aa11d06396",
   "metadata": {},
   "source": [
    "Notice how our two example sentences, which have been syntactically very different in the beginning, are now much more similar to appropriately reflect the similar (and almost identical) semantics."
   ]
  },
  {
   "cell_type": "markdown",
   "id": "5bb4717c-49d6-4016-bbd3-47fc697b2f18",
   "metadata": {},
   "source": [
    "### Discussion\n",
    "\n",
    "Stemming and lemmatization can greatly reduce variation in documents as variations caused by different tenses of verbs or singular/plural forms for nouns are very common. Still, most common text normalization steps, stemming and lemmatization only affects variations with respect to the morphology and syntax of words and not variation due to synonymy. For example, the sentence \"*Canines are inclined to be excellent companions.*\" arguably conveys the same meaning as *\"Dogs make the best friends.\"* However, their canonical form after lemmatization (and stopword/punctuation removal) would still be very different. When deciding whether to use stemming or lemmatization, the application context is a critical consideration. Stemming is computationally faster and might suffice for tasks where precision in word meaning is less critical, such as search engine indexing or topic modeling. However, the crudeness of stemming can lead to errors, such as treating *\"universal\"* and *\"universe\"* as equivalent. Lemmatization, being more sophisticated, is suited for applications requiring linguistic accuracy, like sentiment analysis or machine translation, but it is computationally more intensive and requires access to a lexicon or Part-of-Speech (POS) tagger.\n",
    "\n",
    "There are scenarios where stemming or lemmatization might not be necessary or beneficial. For example, in applications like named entity recognition or when analyzing specific domains like legal or medical texts, reducing terms to their root forms could remove critical nuances. Similarly, if the corpus relies on inflections or derivations to convey meaning, such as poetry or language with complex morphological rules, stemming or lemmatization could distort the interpretation. In such cases, preserving the original word forms might be more appropriate. Another consideration is language diversity. Stemming and lemmatization tools are typically designed for specific languages and may perform poorly with multilingual corpora. Additionally, for embeddings or transformer-based models, these techniques are often unnecessary because such models process tokens in their original forms and derive contextual meaning directly. Thus, the decision to apply stemming or lemmatization should be guided by the specific requirements and constraints of the NLP task at hand."
   ]
  },
  {
   "cell_type": "markdown",
   "id": "802f767f-7d07-40c9-9b47-6e6e3490b5a3",
   "metadata": {},
   "source": [
    "---"
   ]
  },
  {
   "cell_type": "markdown",
   "id": "021eb06b-22fe-4c18-a0b5-80c31212c57f",
   "metadata": {},
   "source": [
    "## Unicode Variants\n",
    "\n",
    "**Unicode** is a universal character encoding standard designed to ensure that text and symbols from all the world's writing systems can be consistently represented, processed, and displayed across different platforms and devices. Developed by the Unicode Consortium, it assigns a unique code point (a numeric identifier) to every character, symbol, or glyph, regardless of the platform, program, or language. This eliminates ambiguities and inconsistencies caused by earlier encoding systems like ASCII, which were limited to specific languages or character sets.\n",
    "\n",
    "A Unicode character refers to any textual or symbolic element encoded in the Unicode standard, ranging from letters, numbers, and punctuation marks to emojis, mathematical symbols, and characters from ancient scripts. For instance, the English letter *\"A\"* has the Unicode code point U+0041, while the emoji 😊 has `U+1F60A`. These code points are typically represented in hexadecimal notation, and Unicode supports over 149,000 characters as of its latest version, covering more than 150 scripts. Unicode's broad scope and standardization have made it indispensable for modern computing, enabling seamless text exchange and display across diverse languages and applications. Whether you're reading an email in Japanese, viewing a webpage with Arabic text, or sending emojis in a message, Unicode ensures consistent interpretation and rendering of characters.\n",
    "\n",
    "However, Unicode also poses challenges when working with text data. For example, Some Unicode characters look very similar because the Unicode standard aims to encode every character from all the world's writing systems, including those with overlapping visual designs. This can lead to the inclusion of characters that are nearly indistinguishable in appearance but are distinct in their linguistic, cultural, or technical usage. To give a simple example, have look at the following three Unicode characters:"
   ]
  },
  {
   "cell_type": "code",
   "execution_count": 12,
   "id": "b6f4ce12-b1bb-4677-b3bc-d0bc5fc79cc7",
   "metadata": {},
   "outputs": [
    {
     "name": "stdout",
     "output_type": "stream",
     "text": [
      "'\n",
      "’\n",
      "ʼ\n"
     ]
    }
   ],
   "source": [
    "print(\"\\U00000027\") # Apostrophe (equivalent to ASCII character)\n",
    "print(\"\\U00002019\") # Right Single Quotation Mark\n",
    "print(\"\\U000002BC\") # Modifier Letter Apostrophe"
   ]
  },
  {
   "cell_type": "markdown",
   "id": "29f81bca-bf82-4918-9c83-23a5311bbf1a",
   "metadata": {},
   "source": [
    "All three characters can are used to represent an apostrophe. The [Unicode Standard 16.0](https://www.unicode.org/versions/Unicode16.0.0/UnicodeStandard-16.0.pdf), Section *6.2.7 Apostrophes*, actually states:\n",
    "\n",
    "> U+0027 APOSTROPHE is the most commonly used character for apostrophe. For historical reasons, U+0027 is a particularly overloaded character. In ASCII, it is used to represent a punctuation mark (such as right single quotation mark, left single quotation mark, apostrophe punctuation, vertical line, or prime) or a modifier letter (such as apostrophe modifier or acute accent). [...] When text is set, U+2019 RIGHT SINGLE QUOTATION MARK is preferred as apostrophe. [...] U+02BC MODIFIER LETTER APOSTROPHE is preferred where the\n",
    "apostrophe is to represent a modifier letter (for example, in transliterations to indicate a glottal stop). [...] An implementation cannot assume that users' text always adheres to the distinction between these characters. [...]"
   ]
  },
  {
   "cell_type": "markdown",
   "id": "fc62839d-3f63-4c1e-8871-cf1e0004c91f",
   "metadata": {},
   "source": [
    "And this is just for a single character, the apostrophe, but situations are very similar for many other characters such as hyphen/dashes, punctuation marks, letters or more.\n",
    "\n",
    "Another issue is that the same &mdash; that is, same-looking &mdash; character may be represented by different Unicode code points. For example, the German umlaut *\"ä\"* has its own single coded point `U+00E4`. However, Unicode also supports multi-code point characters. These are sequences of multiple code points that together represent a single visual or semantic unit. While many characters are represented by a single code point, others require multiple code points to fully encode. A common example for using multiple code points are **diacritics**. Diacritics are small marks or symbols added to letters to modify their pronunciation, tone, or meaning. They are commonly used in many languages to indicate aspects like vowel quality, stress, intonation, or nasalization. For example, the acute accent (*\"é\"*), grave accent (*\"è\"*), and umlaut (*\"ä\"*) are diacritics that alter how the base letter is pronounced. Diacritics can also serve grammatical purposes, such as distinguishing homonyms (e.g., *\"resume\"* vs. *\"résumé\"*) or marking emphasis. In Unicode, diacritics are often represented as combining characters that attach to a base letter, allowing for a flexible representation of diverse scripts. For example the umlaut *\"ä\"* can be encoded by combining the code point for *\"a\"* and the code point for the diacritic representing the two dots above a character. Thus, we can print the umlaut *\"ä\"* in two different ways>"
   ]
  },
  {
   "cell_type": "code",
   "execution_count": 13,
   "id": "87b40c6a-03e6-46d4-87aa-f094b1bc057e",
   "metadata": {},
   "outputs": [
    {
     "name": "stdout",
     "output_type": "stream",
     "text": [
      "ä\n",
      "ä\n"
     ]
    }
   ],
   "source": [
    "print(\"\\U000000E4\")\n",
    "print(\"\\U00000061\\U00000308\")"
   ]
  },
  {
   "cell_type": "markdown",
   "id": "09822b92-2508-402d-a9bf-3c755159ba70",
   "metadata": {},
   "source": [
    "### Application\n",
    "\n",
    "Converting different Unicode characters that essentially have the same appearance to a canonical form typically requires some hand-crafted mapping, since there is a single agreed-upon convention. Such a mapping can be done by creating and curating a dictionary that maps Unicode code points to their canonical form. For example, the code cell below shows a simple solutions that maps the two code points for the umlaut *\"ä\"* to the ASCII character *\"a\"*."
   ]
  },
  {
   "cell_type": "code",
   "execution_count": 14,
   "id": "26ebc358-6ac8-43c4-9611-b309eb46d0c6",
   "metadata": {},
   "outputs": [
    {
     "name": "stdout",
     "output_type": "stream",
     "text": [
      "Der Bar lasst sich argern\n"
     ]
    }
   ],
   "source": [
    "unicode_map1 = {\"\\U000000E4\": \"a\", \"\\U00000061\\U00000308\": \"a\"}\n",
    "\n",
    "text = u\"Der Bär lässt sich ärgern\" # German for \"The bear let itself get taunted\" (silly; just to have multiple umlauts)\n",
    "\n",
    "print(''.join(idx if idx not in unicode_map1 else unicode_map1[idx] for idx in text))"
   ]
  },
  {
   "cell_type": "markdown",
   "id": "4620a4db-ef20-4d60-a193-d55b0ebcf8be",
   "metadata": {},
   "source": [
    "Given the vast size of the Unicode standard, compiling such a dictionary for all (relevant) code points takes a lot of effort. However, there are libraries available to implement such a mapping. For example, the `unidecode` library in Python is a utility that transliterates Unicode text into ASCII characters. It is particularly useful for converting non-Latin scripts, accented characters, and special symbols into their closest Latin equivalents. For example, *\"ä\"* becomes *\"a\"*, and *\"你好\"* becomes *\"Ni Hao\"*. This is helpful in scenarios like data preprocessing, where ASCII-only text is required, such as in URL generation, search indexing, or working with systems that do not support Unicode. By preserving the readability of the original text as much as possible, `unidecode` makes it easier to handle multilingual or accented input in ASCII-restricted environments. Let's use this library to convert our German example sentence from above."
   ]
  },
  {
   "cell_type": "code",
   "execution_count": 15,
   "id": "62fc2aa7-db80-44f3-acda-3bcae94db808",
   "metadata": {},
   "outputs": [
    {
     "name": "stdout",
     "output_type": "stream",
     "text": [
      "Der Bar lasst sich argern\n"
     ]
    }
   ],
   "source": [
    "print(unidecode(text))"
   ]
  },
  {
   "cell_type": "markdown",
   "id": "f4ee34e6-ffb9-4304-b23f-272cf2aa2cb0",
   "metadata": {},
   "source": [
    "### Discussion\n",
    "\n",
    "While libraries such as `unidecode` can make life quite simple, it assumes that the output is indeed as expected or required by a given application use case. For one, `unidecode` converts unicode characters to ASCII characters, but desired canonical representation of a text may still contain Unicode characters. For example, we could use our maps simple to map the same umlaut to the same code point:"
   ]
  },
  {
   "cell_type": "code",
   "execution_count": 16,
   "id": "acda4e46-e79c-4b5f-adc7-826f1276e57b",
   "metadata": {},
   "outputs": [
    {
     "name": "stdout",
     "output_type": "stream",
     "text": [
      "Der Bär lässt sich ärgern\n"
     ]
    }
   ],
   "source": [
    "unicode_map2 = {\"\\U000000E4\": \"\\U000000E4\", \"\\U00000061\\U00000308\": \"\\U000000E4\"}\n",
    "\n",
    "print(''.join(idx if idx not in unicode_map2 else unicode_map2[idx] for idx in text))"
   ]
  },
  {
   "cell_type": "markdown",
   "id": "136a65bd-bca8-43d2-a9c5-4cbcc0ec4dcf",
   "metadata": {},
   "source": [
    "But also, we might want to map Unicode characters to different characters or sets of characters. For example, in German, the umlaut *\"ä\"* is commonly be replaced with the digraph *\"ae\"* if only the Latin alphabet is available. This means that a German using an English keyboard would write the example sentence from before as *\"Der Baer laesst sich aergern\"*. Of course, with a custom manually curated dictionary for the mapping this simple to implement, e.g.:"
   ]
  },
  {
   "cell_type": "code",
   "execution_count": 17,
   "id": "ff796ef9-f2f7-4b42-a7d9-76a7d1ce3eec",
   "metadata": {},
   "outputs": [
    {
     "name": "stdout",
     "output_type": "stream",
     "text": [
      "Der Baer laesst sich aergern\n"
     ]
    }
   ],
   "source": [
    "unicode_map3 = {\"\\U000000E4\": \"ae\", \"\\U00000061\\U00000308\": \"ae\"}\n",
    "\n",
    "print(''.join(idx if idx not in unicode_map3 else unicode_map3[idx] for idx in text))"
   ]
  },
  {
   "cell_type": "markdown",
   "id": "6371a9d1-d2d4-4d84-9233-6300fb6a24dd",
   "metadata": {},
   "source": [
    "To sum up, working with Unicode for text normalization is challenging due to the vast diversity of scripts, languages, and character representations it supports. Unicode is designed to be a universal encoding system, but this universality introduces complexities. A single character can often be represented in multiple ways which look identical but have different underlying code points. Ensuring that these representations are treated equivalently requires normalization, a process that can be computationally intensive and error-prone when dealing with large datasets or multiple languages. Mistakes in choosing the appropriate normalization form can lead to inconsistencies or data loss. The cultural and linguistic diversity supported by Unicode introduces edge cases that make normalization even harder. Scripts like Arabic, Indic scripts, or Chinese may involve context-dependent rendering, bidirectional text, or complex glyph shaping, all of which can complicate the process. In practice, text normalization requires not only technical expertise in Unicode standards but also awareness of the linguistic nuances involved, making it a multifaceted challenge in software development.\n",
    "\n",
    "Lastly &mdash; beyond letters, punctuation marks, diacritics, and similar &mdash; the Unicode standard also includes emojis. Emojis are pictorial symbols used in digital communication to express emotions, ideas, objects, or actions. Each emoji is defined in the Unicode standard, with many represented as single code points, while others are formed using multiple code points, often combined with modifiers for skin tone, gender, or family compositions. Emojis add context, tone, and personality to messages, making them more engaging and expressive. While emojis are part of the Unicode standard, due to their special meanings, we discuss their potential normalization separately later."
   ]
  },
  {
   "cell_type": "markdown",
   "id": "8241057d-c1a8-4e5d-ae64-9d805e644a95",
   "metadata": {},
   "source": [
    "---"
   ]
  },
  {
   "cell_type": "markdown",
   "id": "79fedebb-e9ed-4b86-89d6-c22ba86f401d",
   "metadata": {},
   "source": [
    "## Handling Non-Standard Words"
   ]
  },
  {
   "cell_type": "markdown",
   "id": "0f0ab878-60f2-44ec-bbe6-6107474588c4",
   "metadata": {},
   "source": [
    "### Internet Slang\n",
    "\n",
    "Internet slang refers to informal, non-standardized language used in online communication, such as instant messaging, online forums, social media, and other digital platforms. It evolves rapidly and reflects the casual, fast-paced nature of digital communication. Internet slang often includes abbreviations, acronyms, and creative spellings that help users express themselves quickly and efficiently. Common example are *\"gr8 (great)\"*, *\"yolo (you only live once)\"*, *\"brb (be right back)\"*, *\"omg (oh my god)\"*, and many more. Given the popularity of Internet slang in online conversations, it is perfectly valid to treat such words \"as is\" without any form of normalization, even if they are not (yet!) in an standard English dictionary. This is particularly true if the text is used to train a new model based on this larger vocabulary. After all, to any algorithm *\"gr8\"* is just as a word as *\"(great)\"*, only that the vocabulary is now slightly inflated.\n",
    "\n",
    "However, if the size of the vocabulary is an issue, or we have to rely on a model that has been trained with a vocabulary containing Internet slang. This means the slang terms would need to be considered out-of-vocabulary (OOV) terms. In this situation, it can be meaningful to normalize slang words by converting them into their corresponding standard words &mdash; that is, to convert the OOV terms to terms that are (more likely to be) in the vocabulary."
   ]
  },
  {
   "cell_type": "markdown",
   "id": "5dc00b34-41f0-4b78-8681-491446398140",
   "metadata": {},
   "source": [
    "#### Application\n",
    "\n",
    "The most common approach to handle slang words is the use of dictionaries or lexicons. Such precompiled slang dictionaries map slang terms to their standard equivalents (e.g., *\"brb\"* $\\rightarrow$ *\"be right back\"*, or *\"idk\"* $\\rightarrow$ *\"I don't know\"*). Given the popularity of Intern slang, various such dictionaries or lexicons are available online. In the following, we will be using a simple dictionary in the form of a `csv` file with 5,300 entries. The code cell below loads this file into a pandas DataFrame."
   ]
  },
  {
   "cell_type": "code",
   "execution_count": 18,
   "id": "6ed006cb-b8ae-43c5-aee4-ddf7e0c3a1b1",
   "metadata": {},
   "outputs": [
    {
     "data": {
      "text/html": [
       "<div>\n",
       "<style scoped>\n",
       "    .dataframe tbody tr th:only-of-type {\n",
       "        vertical-align: middle;\n",
       "    }\n",
       "\n",
       "    .dataframe tbody tr th {\n",
       "        vertical-align: top;\n",
       "    }\n",
       "\n",
       "    .dataframe thead th {\n",
       "        text-align: right;\n",
       "    }\n",
       "</style>\n",
       "<table border=\"1\" class=\"dataframe\">\n",
       "  <thead>\n",
       "    <tr style=\"text-align: right;\">\n",
       "      <th></th>\n",
       "      <th>slang</th>\n",
       "      <th>translation</th>\n",
       "    </tr>\n",
       "  </thead>\n",
       "  <tbody>\n",
       "    <tr>\n",
       "      <th>0</th>\n",
       "      <td>*4u</td>\n",
       "      <td>kiss for you</td>\n",
       "    </tr>\n",
       "    <tr>\n",
       "      <th>1</th>\n",
       "      <td>*67</td>\n",
       "      <td>unknown</td>\n",
       "    </tr>\n",
       "    <tr>\n",
       "      <th>2</th>\n",
       "      <td>*eg*</td>\n",
       "      <td>evil grin</td>\n",
       "    </tr>\n",
       "    <tr>\n",
       "      <th>3</th>\n",
       "      <td>07734</td>\n",
       "      <td>hello</td>\n",
       "    </tr>\n",
       "    <tr>\n",
       "      <th>4</th>\n",
       "      <td>0day</td>\n",
       "      <td>software illegally obtained before it was rele...</td>\n",
       "    </tr>\n",
       "    <tr>\n",
       "      <th>5</th>\n",
       "      <td>0noe</td>\n",
       "      <td>oh no</td>\n",
       "    </tr>\n",
       "    <tr>\n",
       "      <th>6</th>\n",
       "      <td>0vr</td>\n",
       "      <td>over</td>\n",
       "    </tr>\n",
       "    <tr>\n",
       "      <th>7</th>\n",
       "      <td>10q</td>\n",
       "      <td>thank you</td>\n",
       "    </tr>\n",
       "  </tbody>\n",
       "</table>\n",
       "</div>"
      ],
      "text/plain": [
       "   slang                                        translation\n",
       "0    *4u                                       kiss for you\n",
       "1    *67                                            unknown\n",
       "2   *eg*                                          evil grin\n",
       "3  07734                                              hello\n",
       "4   0day  software illegally obtained before it was rele...\n",
       "5   0noe                                              oh no\n",
       "6    0vr                                               over\n",
       "7    10q                                          thank you"
      ]
     },
     "execution_count": 18,
     "metadata": {},
     "output_type": "execute_result"
    }
   ],
   "source": [
    "df_slang = pd.read_csv(slang_dictionary)\n",
    "\n",
    "df_slang.head(8)"
   ]
  },
  {
   "cell_type": "markdown",
   "id": "42a1ebc1-9235-42f7-b4ba-dfb51b83db54",
   "metadata": {},
   "source": [
    "In most cases, the \"translation\" of a slang term is the word or phrase it stands for. However, there are examples such as *\"0day\"*, where the translation is an definition or explanation of the slang term. Normalizing a slang term with such a definition is arguably not perfectly suitable. However, these examples are rather uncommon, so we simple ignore them here. In short, normalizing Internet slang simply mean replacing the slang term with the translation given by the dictionary file. To simplify the implementation, we first convert the DataFrame into a Python dictionary with the keys being the slang terms and the values their corresponding translations."
   ]
  },
  {
   "cell_type": "code",
   "execution_count": 19,
   "id": "7e58a771-a876-4377-9bf1-a5d2c72840e2",
   "metadata": {},
   "outputs": [
    {
     "name": "stdout",
     "output_type": "stream",
     "text": [
      "be right back\n"
     ]
    }
   ],
   "source": [
    "slang_dict = df_slang.set_index('slang')['translation'].to_dict()\n",
    "\n",
    "print(slang_dict[\"brb\"])"
   ]
  },
  {
   "cell_type": "markdown",
   "id": "97963fd0-08a3-483d-a378-09c3ba5a03f4",
   "metadata": {},
   "source": [
    "Next we define a simple auxiliary method `translate_slang()` which captures two considerations to help us with the normalization. Firstly, we do not want to care if the slang term is uppercase, lowercase or anything in between, particularly since all keys in the dictionary are lowercase. This method checks if the lowercase version of the input term is in the dictionary or not. And secondly, since not all (or even most) words/terms in a text are slang terms, we need to handle the case where we try to translate a slang term that is not in the dictionary. In the method, we achieve this by simply using a `try ... except ...` block when accessing the dictionary. If the access fails due to the key not being found, we return the original input word."
   ]
  },
  {
   "cell_type": "code",
   "execution_count": 20,
   "id": "3ce03a96-a177-40b2-b971-6690f38a0fe8",
   "metadata": {},
   "outputs": [],
   "source": [
    "def translate_slang(word, slang_dict):\n",
    "    try:\n",
    "        return slang_dict[word.lower()]\n",
    "    except:\n",
    "        return word"
   ]
  },
  {
   "cell_type": "markdown",
   "id": "ee4f5d86-ddb6-41c8-b0e6-60ce07d180f3",
   "metadata": {},
   "source": [
    "Let's apply this method to a couple of example words/terms."
   ]
  },
  {
   "cell_type": "code",
   "execution_count": 21,
   "id": "b2ccbf2d-fe1f-4fbf-97e0-04868b99c212",
   "metadata": {},
   "outputs": [
    {
     "name": "stdout",
     "output_type": "stream",
     "text": [
      "be right back\n",
      "oh my god\n",
      "good night\n",
      "car\n",
      "bus\n"
     ]
    }
   ],
   "source": [
    "print(translate_slang(\"brb\", slang_dict))\n",
    "print(translate_slang(\"omg\", slang_dict))\n",
    "print(translate_slang(\"gn8\", slang_dict))\n",
    "print(translate_slang(\"car\", slang_dict))\n",
    "print(translate_slang(\"bus\", slang_dict))"
   ]
  },
  {
   "cell_type": "markdown",
   "id": "3ddbd23a-4166-4bf4-8b90-8cf7054104e9",
   "metadata": {},
   "source": [
    "In the examples above, *\"brb\"*, *\"omg\"*, and *\"gn8\"* are Internet slang terms and part of their dictionary. They therefore get translated into their respective proper word or phrase. In contrast *\"car\"* and *\"bus\"* are not valid keys in the slang dictionary, and as such do not get normalized. We can now use this method and apply it to a complete input text. It is easy to see that it is much more convenient if the text is already tokenized."
   ]
  },
  {
   "cell_type": "code",
   "execution_count": 22,
   "id": "4febd0fc-9028-427f-b760-74a01f685fe3",
   "metadata": {},
   "outputs": [
    {
     "name": "stdout",
     "output_type": "stream",
     "text": [
      "['Good', 'joke', 'laughing out loud', '!', 'The', 'delivery', 'was', ' crazy', 'oh my god']\n"
     ]
    }
   ],
   "source": [
    "tokens = [\"Good\", \"joke\", \"lol\", \"!\", \"The\",  \"delivery\",  \"was\", \" crazy\", \"OMG\"]\n",
    "\n",
    "print([ translate_slang(token, slang_dict) for token in tokens ])"
   ]
  },
  {
   "cell_type": "markdown",
   "id": "5bc698a7-30ac-4835-91c3-c747fe55c339",
   "metadata": {},
   "source": [
    "The only additional consideration is that an individual Slang term might be translated into multiple words. This means that the resulting list is no longer a proper token list. However, this can easily be handled using the `flatten()` method provided by the pandas library. This method takes in an arbitrary nested list and returns a flat list of all the items. The change to the initial call of `translate_slang()` slang is to split the output to get a list of each word. This list of lists we can then give to the `flatten()` method. The code cell below shows these two steps for our tokenized example sentence."
   ]
  },
  {
   "cell_type": "code",
   "execution_count": 23,
   "id": "1e054d05-9125-4b47-bdb3-a27bd73a5d1d",
   "metadata": {},
   "outputs": [
    {
     "name": "stdout",
     "output_type": "stream",
     "text": [
      "[['Good'], ['joke'], ['laughing', 'out', 'loud'], ['!'], ['The'], ['delivery'], ['was'], ['crazy'], ['oh', 'my', 'god']]\n",
      "['Good', 'joke', 'laughing', 'out', 'loud', '!', 'The', 'delivery', 'was', 'crazy', 'oh', 'my', 'god']\n"
     ]
    }
   ],
   "source": [
    "tokens_normalized = [ translate_slang(token, slang_dict).split() for token in tokens ]\n",
    "print(tokens_normalized)\n",
    "\n",
    "tokens_normalized = list(pd.core.common.flatten(tokens_normalized))\n",
    "print(tokens_normalized)"
   ]
  },
  {
   "cell_type": "markdown",
   "id": "350b1b9e-5703-46b5-b258-031d67fcb7bc",
   "metadata": {},
   "source": [
    "#### Discussion\n",
    "\n",
    "One main issue of normalizing Internet slang terms by translating them into \"normal\" words is that a term/word in the slang dictionary might in fact be a valid token in itself. For example, *\"4\"* is often used as short form for the word *\"for\"*. However, a *\"4\"* in a sentence might very well refer to the actual digit e.g., *\"I ate 4 pieces of cake.\"*. Converting this sentence to *\"I ate four pieces of cake.\"* would alter the meaning of the sentence. Here some more examples, where *\"F8\"* may refer to the function key in a keyboard, and *\"GM\"* to the company *General Motors*."
   ]
  },
  {
   "cell_type": "code",
   "execution_count": 24,
   "id": "67801ff1-1961-4887-a8df-d6d4f36eb49c",
   "metadata": {},
   "outputs": [
    {
     "name": "stdout",
     "output_type": "stream",
     "text": [
      "for\n",
      "fate\n",
      "good morning\n"
     ]
    }
   ],
   "source": [
    "print(translate_slang(\"4\", slang_dict))\n",
    "print(translate_slang(\"F8\", slang_dict))\n",
    "print(translate_slang(\"GM\", slang_dict))"
   ]
  },
  {
   "cell_type": "markdown",
   "id": "0aac1347-a478-4e7f-b802-d28a515d41a2",
   "metadata": {},
   "source": [
    "Although not many slang terms can also be considered proper words, the use of numbers/digits or greetings such as *\"GM\"* for *\"good morning\"* are very common in online conversations. The most straightforward solution is to manually curate the slang dictionary to remove such ambiguous instances. More general approaches might use simple heuristics that always ignore numbers/digits when normalizing tokens."
   ]
  },
  {
   "cell_type": "markdown",
   "id": "864b1394-9f87-47fe-b565-95433af045d3",
   "metadata": {},
   "source": [
    "### Emojis\n",
    "\n",
    "Emojis are small digital images or icons used to express emotions, ideas, or concepts in text-based communication. Originating in Japan in the late 1990s, they have become a universal feature of online interaction, ranging from social media posts to messaging apps. Emojis add a layer of non-verbal communication, allowing users to convey tone, mood, or feelings that might otherwise be ambiguous in written text. For instance, a 😊 (smiling face) can indicate happiness, while a 😢 (crying face) can convey sadness, enhancing the emotional context of a message.\n",
    "\n",
    "In sentiment analysis, emojis play a crucial role because they act as direct indicators of a user's emotional state or intent. Sentiment analysis involves analyzing text to determine the sentiment it expresses, such as positive, negative, or neutral. Emojis help enrich this analysis by providing explicit emotional cues. For example, a tweet containing a thumbs-up emoji (👍) likely suggests approval or positivity, whereas one with an angry face emoji (😠) may indicate dissatisfaction. By considering emojis, sentiment analysis models can achieve greater accuracy in interpreting the nuances of human communication.\n",
    "\n",
    "Emojis can also bridge gaps in sentiment analysis where text alone might be ambiguous. For instance, the phrase \"great\" could be sarcastic or genuine, depending on the accompanying emoji. \"Great 🙄\" suggests annoyance or sarcasm, while \"Great 😊\" indicates enthusiasm. Thus, incorporating emoji analysis into sentiment analysis allows for a more precise understanding of the emotional context and intent behind a message.\n",
    "\n",
    "Analyzing emojis poses its challenges, however, as their meanings can vary depending on cultural context, personal usage, or the platform displaying them. For example, the 🙏 emoji might be interpreted as a prayer gesture in some cultures but as a thank-you or high-five in others. Despite these complexities, advancements in NLP and machine learning have enabled models to account for such variability, improving the reliability of sentiment analysis."
   ]
  },
  {
   "cell_type": "markdown",
   "id": "aa1f92c5-05e3-4e12-b5b7-e50c1a3f2118",
   "metadata": {},
   "source": [
    "#### Application\n",
    "\n",
    "By now, the official list of Unicode code points representing emojis contains 3,790 entries (Unicode 16.0). The vast majority of them are typically not used to express a certain mood or sentiment (e.g., animals, cars, flags, everyday objects, etc.). However, some of the most popular emojis are face emojis that people use to express happiness, sadness, anger, joy, and so on. When building a sentiment analysis system, such emojis can therefore be extremely useful. On the other hand, it is typically not needed to distinguish between, say, 😀 and 😊. It is mainly important that both these faces indicate a positive mood or emotion. We can therefore treat the normalization of emojis as converting them to predefined placeholder terms (*\"[EMOJI+]\"* for positive emojis, *\"[EMOJI0]\"* for negative emojis, and *\"[EMOJI-]\"* for negative emojis). For this, we provide a `csv` file that contains this label for each covered emoji."
   ]
  },
  {
   "cell_type": "code",
   "execution_count": 25,
   "id": "b18ab540-fcb4-453e-99c4-0884e0abff9b",
   "metadata": {},
   "outputs": [
    {
     "data": {
      "text/html": [
       "<div>\n",
       "<style scoped>\n",
       "    .dataframe tbody tr th:only-of-type {\n",
       "        vertical-align: middle;\n",
       "    }\n",
       "\n",
       "    .dataframe tbody tr th {\n",
       "        vertical-align: top;\n",
       "    }\n",
       "\n",
       "    .dataframe thead th {\n",
       "        text-align: right;\n",
       "    }\n",
       "</style>\n",
       "<table border=\"1\" class=\"dataframe\">\n",
       "  <thead>\n",
       "    <tr style=\"text-align: right;\">\n",
       "      <th></th>\n",
       "      <th>CODE_POINT</th>\n",
       "      <th>EMOJI</th>\n",
       "      <th>LABEL</th>\n",
       "    </tr>\n",
       "  </thead>\n",
       "  <tbody>\n",
       "    <tr>\n",
       "      <th>0</th>\n",
       "      <td>1F600</td>\n",
       "      <td>😀</td>\n",
       "      <td>[EMOJI+]</td>\n",
       "    </tr>\n",
       "    <tr>\n",
       "      <th>1</th>\n",
       "      <td>1F603</td>\n",
       "      <td>😃</td>\n",
       "      <td>[EMOJI+]</td>\n",
       "    </tr>\n",
       "    <tr>\n",
       "      <th>2</th>\n",
       "      <td>1F604</td>\n",
       "      <td>😄</td>\n",
       "      <td>[EMOJI+]</td>\n",
       "    </tr>\n",
       "    <tr>\n",
       "      <th>3</th>\n",
       "      <td>1F601</td>\n",
       "      <td>😁</td>\n",
       "      <td>[EMOJI+]</td>\n",
       "    </tr>\n",
       "    <tr>\n",
       "      <th>4</th>\n",
       "      <td>1F606</td>\n",
       "      <td>😆</td>\n",
       "      <td>[EMOJI+]</td>\n",
       "    </tr>\n",
       "  </tbody>\n",
       "</table>\n",
       "</div>"
      ],
      "text/plain": [
       "  CODE_POINT EMOJI     LABEL\n",
       "0      1F600     😀  [EMOJI+]\n",
       "1      1F603     😃  [EMOJI+]\n",
       "2      1F604     😄  [EMOJI+]\n",
       "3      1F601     😁  [EMOJI+]\n",
       "4      1F606     😆  [EMOJI+]"
      ]
     },
     "execution_count": 25,
     "metadata": {},
     "output_type": "execute_result"
    }
   ],
   "source": [
    "df_emojis = pd.read_csv(emoji_mapping)\n",
    "\n",
    "df_emojis.head()"
   ]
  },
  {
   "cell_type": "markdown",
   "id": "f79368cd-60d0-4a63-b818-fd9db2a19336",
   "metadata": {},
   "source": [
    "Note that this file only includes the most popular face emoji. In principle, one can maintain such a file for all existing emojis, but it has already been argued that most emojis are not really used to express any sentiment. While we could always map such case to *\"[EMOJI0]\"*, it is typically perfectly fine to simply remove those.\n",
    "\n",
    "Like for the slang terms, let's first create a Python dictionary to easily find the label for a given emoji &mdash; that is, the keys are the emojis and the values are the respective labels."
   ]
  },
  {
   "cell_type": "code",
   "execution_count": 26,
   "id": "d6e71bbf-c043-4461-a48b-3bdc5a6c35fe",
   "metadata": {},
   "outputs": [
    {
     "name": "stdout",
     "output_type": "stream",
     "text": [
      "[EMOJI+]\n"
     ]
    }
   ],
   "source": [
    "emoji_dict = df_emojis.set_index(\"EMOJI\")[\"LABEL\"].to_dict()\n",
    "\n",
    "print(emoji_dict[\"😆\"])"
   ]
  },
  {
   "cell_type": "markdown",
   "id": "4440fd42-8e00-4296-aec2-3713f09647e5",
   "metadata": {},
   "source": [
    "And again, more for convenience, we create a small auxiliary method `translate_emoji()` that returns the label if the emoji is in the dictionary, and returns the emoji \"as is\" otherwise."
   ]
  },
  {
   "cell_type": "code",
   "execution_count": 27,
   "id": "3735d393-663a-422b-95c9-def520845120",
   "metadata": {},
   "outputs": [],
   "source": [
    "def translate_emoji(emoji, emoji_dict):\n",
    "    try:\n",
    "        return emoji_dict[emoji]\n",
    "    except:\n",
    "        return emoji"
   ]
  },
  {
   "cell_type": "markdown",
   "id": "340a2edf-d893-47b1-912f-dfa120d3369f",
   "metadata": {},
   "source": [
    "Let's see how it works when applied to individual emojis."
   ]
  },
  {
   "cell_type": "code",
   "execution_count": 28,
   "id": "63f4a148-8ed3-421d-b38a-d0bb65af1b8e",
   "metadata": {},
   "outputs": [
    {
     "name": "stdout",
     "output_type": "stream",
     "text": [
      "[EMOJI+]\n",
      "[EMOJI0]\n",
      "[EMOJI-]\n",
      "🙈\n"
     ]
    }
   ],
   "source": [
    "print(translate_emoji(\"😆\", emoji_dict))\n",
    "print(translate_emoji(\"🤔\", emoji_dict))\n",
    "print(translate_emoji(\"🤢\", emoji_dict))\n",
    "print(translate_emoji(\"🙈\", emoji_dict))"
   ]
  },
  {
   "cell_type": "markdown",
   "id": "799c5395-275a-489c-9baf-3702ac3921aa",
   "metadata": {},
   "source": [
    "Assuming a tokenized input text, we can now use this method to normalize each token; here is an example:"
   ]
  },
  {
   "cell_type": "code",
   "execution_count": 29,
   "id": "9345783e-8119-4ba4-aeb1-0e5e695be5a9",
   "metadata": {},
   "outputs": [
    {
     "name": "stdout",
     "output_type": "stream",
     "text": [
      "['The', 'movie', 'was', '[EMOJI+]', ',', 'only', 'the', 'ending', 'was', '[EMOJI-]', '🙈', '.']\n"
     ]
    }
   ],
   "source": [
    "tokens = [\"The\", \"movie\", \"was\", \"😆\", \",\", \"only\", \"the\", \"ending\", \"was\", \"😩\", \"🙈\", \".\"]\n",
    "\n",
    "print([ translate_emoji(token, emoji_dict) for token in tokens ])"
   ]
  },
  {
   "cell_type": "markdown",
   "id": "3e135c29-2cba-4335-ac2d-e4ece750e88c",
   "metadata": {},
   "source": [
    "Since the method `translate_emoji()` will return the same emoji if it was not found in the dictionary the normalized token list may still contain emojis, like in the example above. If this is problem and removing such emojis is the preferred output, we can easily accomplish this first converting all unicode characters to ASCII &mdash; which will fail for the emojis and return an empty string &mdash; and then remove all empty string from the token list. The code cell below implements all steps to get the final normalized token list."
   ]
  },
  {
   "cell_type": "code",
   "execution_count": 30,
   "id": "2c5d0383-930e-4670-a5a3-6175e552959c",
   "metadata": {},
   "outputs": [
    {
     "name": "stdout",
     "output_type": "stream",
     "text": [
      "['The', 'movie', 'was', '[EMOJI+]', ',', 'only', 'the', 'ending', 'was', '[EMOJI-]', '🙈', '.']\n",
      "['The', 'movie', 'was', '[EMOJI+]', ',', 'only', 'the', 'ending', 'was', '[EMOJI-]', '', '.']\n",
      "['The', 'movie', 'was', '[EMOJI+]', ',', 'only', 'the', 'ending', 'was', '[EMOJI-]', '.']\n"
     ]
    }
   ],
   "source": [
    "tokens_normalized = [ translate_emoji(token, emoji_dict) for token in tokens ]\n",
    "print(tokens_normalized)\n",
    "\n",
    "tokens_normalized = [ token.encode(\"ascii\", \"ignore\").decode(\"utf-8\") for token in tokens_normalized ]\n",
    "print(tokens_normalized)\n",
    "\n",
    "tokens_normalized = [ token for token in tokens_normalized if token.strip() != \"\" ]\n",
    "print(tokens_normalized)"
   ]
  },
  {
   "cell_type": "markdown",
   "id": "1d839456-69fe-47a9-84eb-815204d2b4a9",
   "metadata": {},
   "source": [
    "#### Discussion\n",
    "\n",
    "Normalizing emojis can significantly enhance the accuracy and depth of sentiment analysis because emojis often convey strong emotional, contextual, or relational cues. Emojis are widely used in informal communication, especially on social media platforms, to express emotions succinctly. For example, a smiling face 😊 typically conveys positivity, while a crying face 😢 indicates sadness. Without normalization, sentiment analysis models may fail to recognize these semantic meanings, leading to reduced performance in tasks requiring an understanding of the user's emotional state. Incorporating emojis into sentiment analysis by normalizing them into text labels or embeddings ensures that their meanings are captured effectively. The example shown above is very simple and various extensions are conceivable. For one, we could map emojis to more fine grained labels, e.g., mapping 😍 to \"love\" or 😭 to \"crying\". Also, the dictionary should also other emojis beyond face emojis that are often used to express some sentiment, mood, or feelings (e.g., ❤️, 👍🏼, 🌞, 🍀)."
   ]
  },
  {
   "cell_type": "markdown",
   "id": "20c33182-a622-4f8a-be2e-b3d9728f7084",
   "metadata": {},
   "source": [
    "### Emoticons\n",
    "\n",
    "Text emoticons are symbolic representations of facial expressions or emotions created using standard keyboard characters. Originating before the widespread use of graphical emojis, they offer a way to convey emotions, tone, or intent in text-based communication. Examples include *\":)\"* for a smile, *\":(\"* for sadness, and *\":D\"* for excitement or happiness. These simple combinations of punctuation marks and letters add emotional context to messages, making them particularly useful in digital communication, where tone can often be misunderstood. In sentiment analysis, text emoticons are valuable indicators of a user's emotional state and can enhance the interpretation of a text's sentiment. Sentiment analysis involves identifying the emotional tone of a text, such as whether it is positive, negative, or neutral. Emoticons provide explicit cues; for instance, a message with *\"I got the job! :D\"* clearly expresses happiness and positivity. By incorporating emoticon detection into sentiment analysis algorithms, analysts can improve the accuracy of their assessments.\n",
    "\n",
    "One advantage of emoticons is their universality and simplicity, as they rely on a limited set of keyboard characters. Unlike emojis, which can vary in appearance across platforms, emoticons retain a consistent form. This makes them particularly useful in contexts where graphical emojis may not be supported, such as older devices, programming environments, or text-only systems. Moreover, their straightforward nature makes them easier to categorize for sentiment analysis tasks. However, the interpretation of text emoticons is not without challenges. Some emoticons, such as *\";)\"* (winking face), can carry nuanced or context-dependent meanings, indicating sarcasm, humor, or flirtation depending on the context. Additionally, variations like *\":-P\"* (playful or teasing) may not always align perfectly with a binary sentiment classification of positive or negative. To address this, sentiment analysis systems must incorporate contextual understanding and possibly combine emoticon analysis with linguistic cues in the surrounding text.\n",
    "\n",
    "There are two fundamental types of emoticons, Western-style emoticons and Japanese-style emoticons, which have distinct ways of expressing emotions and facial expressions using text characters. Each style reflects cultural and linguistic preferences, resulting in unique approaches to conveying emotion in digital communication.\n",
    "\n",
    "* **Western-style emoticons** are typically horizontal and require the viewer to tilt their head to interpret them. Examples include *\":-)\"* (smile), *\":-(\"* (frown), and *\":-D\"* (big smile). These emoticons often use basic punctuation marks like colons, semicolons, dashes, and parentheses to represent facial features. They are minimalist and rely on a small set of characters, making them straightforward and universally recognizable. Western emoticons focus primarily on the mouth to convey emotion, such as *\":P\"* for a playful tongue-out expression or ;) for a wink.\n",
    "\n",
    "* **Japanese-style emoticons, known as kaomoji**, are designed to be read upright, and they tend to include a wider range of characters to create more detailed and expressive faces. Examples include *\"(^^)\"*, *\"(T_T)\"*, and *\"(¬¬)\"*. Kaomoji often emphasize the eyes rather than the mouth, as eyes play a significant role in conveying emotion in Japanese culture. These emoticons also use non-standard characters, such as underscores, carets, and Japanese text symbols, to achieve greater variety and expressiveness.\n",
    "\n",
    "The primary difference lies in their orientation and level of detail. Western emoticons are simpler and rely on a horizontal layout, while Japanese kaomoji are more complex, upright, and visually detailed. This distinction reflects cultural differences in emotional expression and communication style. Western emoticons often focus on efficiency and brevity, whereas kaomoji emphasize creativity and nuance, providing users with a broader emotional palette to communicate their feelings."
   ]
  },
  {
   "cell_type": "markdown",
   "id": "6b6de4b2-71e1-4989-a74d-5db935378543",
   "metadata": {},
   "source": [
    "#### Application\n",
    "\n",
    "In principle, we can handle emoticons similar to emojis (and Internet slang), by collecting a dictionary that maps popular emoticons to some meaningful value or label. For example, the [lexicon](https://github.com/cjhutto/vaderSentiment/blob/master/vaderSentiment/vader_lexicon.txt) of the [VADER](https://github.com/cjhutto/vaderSentiment) sentiment analysis system &mdash; which is also [part of the NLTK library](https://www.nltk.org/_modules/nltk/sentiment/vader.html) &mdash; contains a selection of emoticons together with a sentiment score reflecting the average of human-annotated score between $-4$ and $+4$. These kinds of lexicons are more essentially required for Japanese-style emoticons. However, many to most Western-style emoticons have well-defined structure. At the minimum, these emoji use two characters to represent eyes and a mouth, respectively (e.g., *\":(\"* or *\";)\"*). Two optional characters may be used to represent a nose or top (e.g., hat, hair, furrowed brows), respectively (e.g., *\">:o(\"* or *\"{:p\"*). Since the choice of characters for each part of the emoticon (mouth, noise, eyes, top) is typically limited, we can\n",
    "\n",
    "* Identify (almost) arbitrary emoticons based pattern matching (e.g., using Regular Expression)\n",
    "* Automatically derive the general sentiment without the need for human annotation or curating\n",
    "\n",
    "To showcase this idea, we provide you with the implementation of a `EmoticonNormalizer` class; see `src/normalizer.py` file. Let's first see how it works:"
   ]
  },
  {
   "cell_type": "code",
   "execution_count": 31,
   "id": "4705f02a-ca1b-475e-a912-385b293cf6fa",
   "metadata": {},
   "outputs": [
    {
     "name": "stdout",
     "output_type": "stream",
     "text": [
      ":-)]] ==> :-) / [EMOTICON+]\n",
      ";o)))) ==> ;o) / [EMOTICON+]\n",
      ":-((( ==> :-( / [EMOTICON-]\n",
      "((: ==> (: / [EMOTICON+]\n",
      ":o| ==> :o| / [EMOTICON-]\n"
     ]
    }
   ],
   "source": [
    "emoticon_normalizer = EmoticonNormalizer()\n",
    "\n",
    "for emoticon in [\":-)]]\", \";o))))\", \":-(((\", \"((:\", \":o|\"]:\n",
    "    _, _, emoticon_normalized, sentiment_label = emoticon_normalizer.normalize(emoticon)\n",
    "    print(f\"{emoticon} ==> {emoticon_normalized} / {sentiment_label}\")"
   ]
  },
  {
   "cell_type": "markdown",
   "id": "8c331c7c-6fa4-4655-865f-1bc7e00b23f8",
   "metadata": {},
   "source": [
    "Since this implementation is an example of a highly customized normalization step, we only give a high-level explanation how this class works &mdash; but the source code is not difficult to follow, so check it out if you are interested. The `EmoticonNormalizer` uses a Regular Expression to check if a string is an emoticon by trying to match the mouth, nose, eyes, and top with respect to a predefined set of characters. For example, the eyes can be represented by any character in the: `.:;8BX=` (the nose and the top characters are optional). In fact, the normalizer uses two regular expressions to handle both orientations: mount-nose-eyes-top and top-eyes-noise-mouth.\n",
    "\n",
    "Once a string has been identified as an emoticon, the normalizer tries to automatically derive the general sentiment (positive, neutral, or negative). To this end, the normalizer makes the assumption that the sentiment is captured by the character for the mouth alone. In fact, the mouth character is often duplicated to make the sentiment or mood more explicit. For example, the emoticons *\":o)\"* or *\":)))\"* arguably express a positive sentiment since the parenthesis for the mouth mimics are smiles. Therefore the normalizer checks if the mouth characters belonging to a predefined set of characters indicate a positive or negative sentiment, again with the consideration of both orientations.\n",
    "\n",
    "While this is the basic approach of the `EmoticonNormalizer` class, its implementation contains some refinements to handle some additional corner cases. But again, these details are beyond the scope here. Instead, let's use the class to normalize a tokenized example sentence."
   ]
  },
  {
   "cell_type": "code",
   "execution_count": 32,
   "id": "192522c6-889b-41ae-aa31-5a0fef0fe5c5",
   "metadata": {},
   "outputs": [
    {
     "name": "stdout",
     "output_type": "stream",
     "text": [
      "['The', 'movie', 'was', '[EMOTICON+]', ',', 'only', 'the', 'ending', 'was', '[EMOTICON-]', '[EMOTICON-]', '.']\n"
     ]
    }
   ],
   "source": [
    "tokens = [\"The\", \"movie\", \"was\", \":p\", \",\", \"only\", \"the\", \"ending\", \"was\", \":(((\", \">:o|\", \".\"]\n",
    "\n",
    "print([ emoticon_normalizer.normalize(token)[-1] for token in tokens ])"
   ]
  },
  {
   "cell_type": "markdown",
   "id": "665073db-a5b0-4791-a5a7-bffa38b98b64",
   "metadata": {},
   "source": [
    "#### Discussion\n",
    "\n",
    "As mentioned before the `EmoticonNormalizer` relies on the observation that Western-style emoticons commonly feature a well-defined structure using well-defined sets of characters. These characteristics allow the identification of an emoticon and its general sentiment as a pattern-matching task. Japanese-style emoticons generally lack this simple structure, so a basic lookup-based approach is likely to perform much better. The `EmoticonNormalizer` is also likely not capable of properly normalizing all conceivable Western-style emoticons, but it should cover the most popular ones. In the end, whether it is worthy to put such additional efforts into handling emoticons (as well as emojis) depends on the exact task or application. For sentiment analysis, these efforts are arguably justified as many people make ample use of emoticons and emojis to express their mood or feelings in online conversation."
   ]
  },
  {
   "cell_type": "markdown",
   "id": "6a0a4599-c57d-4733-aa0f-4e8633bac646",
   "metadata": {},
   "source": [
    "---"
   ]
  },
  {
   "cell_type": "markdown",
   "id": "d5592dfb-bc5d-4246-9ff4-991e78f3a109",
   "metadata": {},
   "source": [
    "## Misspelled Words\n",
    "\n",
    "Misspelled words are words that are not spelled correctly according to the standard rules of a particular language. These errors can arise from various reasons, including typographical mistakes, lack of familiarity with correct spelling, phonetic spelling, or even intentional alterations like slang. For example, writing *\"definately\"* instead of *\"definitely\"* is a common misspelling in English. Unfortunately, the automatic correction of misspelled words poses several challenges:\n",
    "\n",
    "* **Ambiguity in intent:** One of the primary difficulties in correcting misspelled words is determining the writer's intent. A misspelled word might resemble multiple valid words, and without context, it's challenging to discern which word was intended. For instance, \"baet\" could be a misspelling of \"bait\" or \"beat,\" and the correct choice depends on the surrounding text.\n",
    "\n",
    "* **Context dependence:** Automatic correction tools often rely on context to decide the correct replacement for a misspelled word. For example, in the sentence *\"He reed the book\"* the word *\"reed\"* could be corrected to *\"read\"* (past tense) or *\"reed\"* (a type of plant) based on the sentence's broader meaning. Ensuring tools can understand and analyze context effectively is a complex task, especially in longer or more nuanced text.\n",
    "\n",
    "* **Nonstandard language use:** Variations in dialect, slang, and creative writing often intentionally deviate from standard spelling rules. For example, phrases like \"gonna\" (informal for \"going to\") or \"luv\" (informal for \"love\") may not technically be misspellings but are often flagged by automated systems. Correcting these words incorrectly could disrupt the intended tone or style of the text.\n",
    "\n",
    "* **Typographical variations:** Typos are another layer of complexity, as they often result in words that are not close to the intended word in spelling but might resemble other valid words. For example, *\"wokr\"* could be a typo for *\"work\"* or *\"woke\"* and distinguishing between these options requires advanced pattern recognition and linguistic understanding.\n",
    "\n",
    "* **Dynamic vocabulary:** Language evolves constantly, with new words, names, and acronyms being introduced regularly. Spell-checking systems must be updated to accommodate these changes, which is challenging and resource-intensive. Without regular updates, these systems may misidentify newly coined or culturally specific terms as misspelled words.\n",
    "\n",
    "While algorithms and machine learning models have made significant strides in correcting misspellings, the task remains inherently complex due to the intricacies of human language, the need for contextual understanding, and the dynamic nature of vocabulary and language use. This includes that spell checking is generally considered its own dedicated task that goes beyond \"classic\" text normalization. However, some spelling mistakes may have straightforward and \"systematic\" causes that can be fixed in a rather simple manner as part of normalization. In the following, we look at two concrete examples."
   ]
  },
  {
   "cell_type": "markdown",
   "id": "4b8473e0-9136-47aa-9430-e0ef5c1b9706",
   "metadata": {},
   "source": [
    "### Americanize Text\n",
    "\n",
    "American English and British English differ due to historical, cultural, and linguistic developments that emerged after the colonization of North America by English settlers in the 17th century. When English speakers migrated to the New World, they carried with them the language and dialects of their time. Over the centuries, as the American colonies developed independently from Britain, their language evolved separately, influenced by diverse factors such as geography, politics, cultural exchange, and contact with other languages. One major factor contributing to the differences is the influence of other languages on American English. The United States became a melting pot of cultures, incorporating vocabulary and linguistic features from Native American, Spanish, French, Dutch, and German languages, among others. Words like *\"raccoon\"*, *\"barbecue\"*, *\"prairie\"*, and *\"cookie\"* reflect these influences. Meanwhile, British English continued to be shaped by interactions with European languages closer to home. Noah Webster, a key figure in shaping American English, played a significant role in formalizing many of its distinctions. In the late 18th and early 19th centuries, Webster advocated for spelling reforms to simplify and differentiate American English from British English. His dictionary introduced spellings such as *\"color\"* instead of *\"colour\"* and *\"theater\"* instead of *\"theatre\"*, aiming for a more phonetic and uniquely American style.\n",
    "\n",
    "Other distinction is between American and British English is the use of different words for the same concept; for example:\n",
    "\n",
    "| British English  | American English  | Description                         |\n",
    "|-------------------|------------------|-------------------------------------|\n",
    "| Flat             | Apartment         | A place to live                     |\n",
    "| Lift             | Elevator          | Used to move between floors         |\n",
    "| Lorry            | Truck             | A large vehicle for goods transport |\n",
    "| Petrol           | Gas/Gasoline      | Fuel for cars                       |\n",
    "| Boot             | Trunk             | The storage area of a car           |\n",
    "| Bonnet           | Hood              | The front cover of a car engine     |\n",
    "| Biscuit          | Cookie            | A baked sweet treat                 |\n",
    "| Crisps           | Chips             | Thinly sliced fried potatoes        |\n",
    "| Chips            | Fries             | Fried potato strips                 |\n",
    "| Holiday          | Vacation          | A break or time off work/school     |\n",
    "| Jumper           | Sweater           | A knitted upper garment             |\n",
    "| Torch            | Flashlight        | A portable light source             |\n",
    "| Queue            | Line              | A row of people waiting             |\n",
    "| Dustbin          | Trash can         | A container for garbage             |\n",
    "| Trousers         | Pants             | Lower body clothing                 |"
   ]
  },
  {
   "cell_type": "markdown",
   "id": "9c318795-5bfe-402b-bf36-9e6731890b07",
   "metadata": {},
   "source": [
    "#### Application\n",
    "\n",
    "While all these differences could be considered for americanizing an input text, to keep it simple, we only focus on the differences in the spelling of certain words (e.g., *\"color\"* vs. *\"colour\"*; *\"theater\"* instead of *\"theatre\"*). Like normalizing slang terms or emojis, we solve this task using publicly available dictionaries to look up the American spelling for a British word and replace it."
   ]
  },
  {
   "cell_type": "code",
   "execution_count": 33,
   "id": "7fdc9fde-3f1d-4ba7-8bc3-bfef8683a16b",
   "metadata": {},
   "outputs": [
    {
     "data": {
      "text/html": [
       "<div>\n",
       "<style scoped>\n",
       "    .dataframe tbody tr th:only-of-type {\n",
       "        vertical-align: middle;\n",
       "    }\n",
       "\n",
       "    .dataframe tbody tr th {\n",
       "        vertical-align: top;\n",
       "    }\n",
       "\n",
       "    .dataframe thead th {\n",
       "        text-align: right;\n",
       "    }\n",
       "</style>\n",
       "<table border=\"1\" class=\"dataframe\">\n",
       "  <thead>\n",
       "    <tr style=\"text-align: right;\">\n",
       "      <th></th>\n",
       "      <th>BRITISH ENGLISH</th>\n",
       "      <th>AMERICAN ENGLISH</th>\n",
       "    </tr>\n",
       "  </thead>\n",
       "  <tbody>\n",
       "    <tr>\n",
       "      <th>0</th>\n",
       "      <td>africanisation</td>\n",
       "      <td>africanization</td>\n",
       "    </tr>\n",
       "    <tr>\n",
       "      <th>1</th>\n",
       "      <td>africanise</td>\n",
       "      <td>africanize</td>\n",
       "    </tr>\n",
       "    <tr>\n",
       "      <th>2</th>\n",
       "      <td>americanisation</td>\n",
       "      <td>americanization</td>\n",
       "    </tr>\n",
       "    <tr>\n",
       "      <th>3</th>\n",
       "      <td>americanise</td>\n",
       "      <td>americanize</td>\n",
       "    </tr>\n",
       "    <tr>\n",
       "      <th>4</th>\n",
       "      <td>arabise</td>\n",
       "      <td>arabize</td>\n",
       "    </tr>\n",
       "  </tbody>\n",
       "</table>\n",
       "</div>"
      ],
      "text/plain": [
       "   BRITISH ENGLISH AMERICAN ENGLISH\n",
       "0   africanisation   africanization\n",
       "1       africanise       africanize\n",
       "2  americanisation  americanization\n",
       "3      americanise      americanize\n",
       "4          arabise          arabize"
      ]
     },
     "execution_count": 33,
     "metadata": {},
     "output_type": "execute_result"
    }
   ],
   "source": [
    "df_be2ae = pd.read_csv(british_to_american)\n",
    "\n",
    "df_be2ae.head()"
   ]
  },
  {
   "cell_type": "markdown",
   "id": "1c762d91-780d-4567-9ccd-5a17c3c27a9d",
   "metadata": {},
   "source": [
    "We convert the DataFrame to a Python dictionary first to make to lookup easier."
   ]
  },
  {
   "cell_type": "code",
   "execution_count": 34,
   "id": "99624bf3-d7f9-4925-92da-d25354237706",
   "metadata": {},
   "outputs": [
    {
     "name": "stdout",
     "output_type": "stream",
     "text": [
      "organize\n"
     ]
    }
   ],
   "source": [
    "be2ae = df_be2ae.set_index(\"BRITISH ENGLISH\")[\"AMERICAN ENGLISH\"].to_dict()\n",
    "\n",
    "print(be2ae[\"organise\"])"
   ]
  },
  {
   "cell_type": "markdown",
   "id": "c60b24bc-04f0-4383-ac1f-0ecf6cd895d3",
   "metadata": {},
   "source": [
    "The auxiliary method `americanize_word()` helps us to handle the case if an input token is not a British spelling, in which case we return the word unchanged."
   ]
  },
  {
   "cell_type": "code",
   "execution_count": 35,
   "id": "55f6e57f-5e00-4257-837b-9e898582240e",
   "metadata": {},
   "outputs": [],
   "source": [
    "def americanize_word(word, word_dict):\n",
    "    try:\n",
    "        return word_dict[word]\n",
    "    except:\n",
    "        return word"
   ]
  },
  {
   "cell_type": "markdown",
   "id": "176d3679-337f-4382-a7b3-40a5f5183545",
   "metadata": {},
   "source": [
    "Let's normalize a tokenized text by applying `americanize_word()` to each token in the token list."
   ]
  },
  {
   "cell_type": "code",
   "execution_count": 36,
   "id": "4c92c1c6-ee74-4b9a-882c-4066960d6387",
   "metadata": {},
   "outputs": [
    {
     "name": "stdout",
     "output_type": "stream",
     "text": [
      "['The', 'program', 'was', 'grueling', 'but', 'useful', '.']\n"
     ]
    }
   ],
   "source": [
    "tokens = [\"The\", \"programme\", \"was\", \"gruelling\", \"but\", \"useful\", \".\"]\n",
    "\n",
    "print([ americanize_word(token, be2ae) for token in tokens ])"
   ]
  },
  {
   "cell_type": "markdown",
   "id": "3fbdcab4-3d2f-4dac-8d61-48486597eda4",
   "metadata": {},
   "source": [
    "#### Discussion\n",
    "\n",
    "Automatically converting text from British spelling to American spelling is especially useful in scenarios where consistency and alignment with local preferences are important. For instance, in **content localization**, businesses or websites targeting an American audience may need to convert British spelling to American spelling to match the regional language norms. This is common for e-commerce platforms, product manuals, or promotional content, ensuring that terms like *\"colour\"* become *\"color\"* or *\"favour\"* becomes *\"favor\"*, making the content more relatable and accessible to local users.\n",
    "\n",
    "In the **academic and research publishing** domain, it's common for journals to require submissions in a specific style guide. For example, many American academic publications prefer American English, so authors may need to change spellings like *\"organise\"* to *\"organize\"* or *\"defence\"* to *\"defense\"* when submitting their work. This ensures the research aligns with the expectations of the journal and its readers, providing a more standardized approach to international academic writing.\n",
    "\n",
    "**NLP systems** also benefit from converting spelling between regional varieties. Chatbots or AI systems designed for customer interaction may need to adjust to local norms to better understand and respond to users. For example, if the NLP model is trained on American English, it might struggle with words like *\"analyse\"* or *\"realise\"* from British English. By converting these to their American equivalents (*\"analyze\"* and *\"realize\"*), the system becomes more efficient and accurate in processing user input, improving communication.\n",
    "\n",
    "**Global journalism and multinational corporations** are also key use cases for automatic spelling conversion. Media outlets might need to adapt their content depending on the regional focus, such as adjusting a news article's spelling for the U.S. edition. Similarly, multinational companies that operate across different regions may standardize their internal communications or marketing materials in American English, especially if the majority of their stakeholders or customers are based in the U.S. This helps maintain uniformity in corporate communication, ensuring it resonates well with the target audience."
   ]
  },
  {
   "cell_type": "markdown",
   "id": "6f3c2e39-b830-4bd5-bd58-6f1b963707f5",
   "metadata": {},
   "source": [
    "### Expressive Lengthenings\n",
    "\n",
    "Expressive lengthenings in text refer to the deliberate extension of letters within a word to emphasize emotion, tone, or intensity. For example, writing *\"sooo cute\"* or *\"nooooo\"* stretches certain vowels or consonants to convey feelings such as excitement, hesitation, distress, or urgency. These lengthenings mimic spoken intonations, translating non-verbal cues like pitch, volume, and elongation of speech into written form. By doing so, they add an emotional or conversational quality that standard spelling might lack. In digital communication, expressive lengthenings often appear in informal contexts, such as social media posts, texts, or chats. They provide nuance, enabling the writer to convey sarcasm, enthusiasm, or exaggerated reactions without additional explanation. For instance, *\"yeees\"* communicates excitement and approval, while *\"whyyyy\"* suggests frustration or disbelief. These modifications break away from conventional grammar rules, reflecting the casual and creative nature of modern digital language. This stylistic choice is not merely playful but also functional, fostering a sense of intimacy and connection in text-based interactions. Expressive lengthenings help readers infer emotional undertones, enriching the overall meaning. As a result, they contribute to the evolving nature of written communication, blending textual precision with the dynamic, expressive qualities of spoken language."
   ]
  },
  {
   "cell_type": "markdown",
   "id": "50410bb9-65fb-49b2-92b5-8e5c740b6c65",
   "metadata": {},
   "source": [
    "#### Application\n",
    "\n",
    "When trying to normalize expressive lengthenings, we have consider the fact that many words contain indeed repeated characters (e.g., *\"book\"*, *\"beer\"*, *\"bookkeeping\"*). There are also cases where simply removing duplicate characters might actually change the meaning for a word (e.g., *\"boot\"* vs. *\"bot\"*, both being proper English words). We therefore have to try a bit smarter approach. Firstly, we need to be able to see if any modification of a word may yield a string that is no longer a valid English word. For this, we can first load a dictionary of common English words."
   ]
  },
  {
   "cell_type": "code",
   "execution_count": 37,
   "id": "6d7f421c-3ba1-46ee-b829-c15fc875cb29",
   "metadata": {},
   "outputs": [
    {
     "data": {
      "text/html": [
       "<div>\n",
       "<style scoped>\n",
       "    .dataframe tbody tr th:only-of-type {\n",
       "        vertical-align: middle;\n",
       "    }\n",
       "\n",
       "    .dataframe tbody tr th {\n",
       "        vertical-align: top;\n",
       "    }\n",
       "\n",
       "    .dataframe thead th {\n",
       "        text-align: right;\n",
       "    }\n",
       "</style>\n",
       "<table border=\"1\" class=\"dataframe\">\n",
       "  <thead>\n",
       "    <tr style=\"text-align: right;\">\n",
       "      <th></th>\n",
       "      <th>WORD</th>\n",
       "    </tr>\n",
       "  </thead>\n",
       "  <tbody>\n",
       "    <tr>\n",
       "      <th>0</th>\n",
       "      <td>A</td>\n",
       "    </tr>\n",
       "    <tr>\n",
       "      <th>1</th>\n",
       "      <td>AA</td>\n",
       "    </tr>\n",
       "    <tr>\n",
       "      <th>2</th>\n",
       "      <td>AAA</td>\n",
       "    </tr>\n",
       "    <tr>\n",
       "      <th>3</th>\n",
       "      <td>AA's</td>\n",
       "    </tr>\n",
       "    <tr>\n",
       "      <th>4</th>\n",
       "      <td>AB</td>\n",
       "    </tr>\n",
       "  </tbody>\n",
       "</table>\n",
       "</div>"
      ],
      "text/plain": [
       "   WORD\n",
       "0     A\n",
       "1    AA\n",
       "2   AAA\n",
       "3  AA's\n",
       "4    AB"
      ]
     },
     "execution_count": 37,
     "metadata": {},
     "output_type": "execute_result"
    }
   ],
   "source": [
    "df_vocab = pd.read_csv(english_vocabulary)\n",
    "\n",
    "df_vocab.head()"
   ]
  },
  {
   "cell_type": "markdown",
   "id": "90d41057-defb-4f2c-828b-aeaf547ae0cc",
   "metadata": {},
   "source": [
    "For a quick check if a string is an English word &mdash; at least one covered by the dictionary &mdash; let's convert the DataFrame into a Python set."
   ]
  },
  {
   "cell_type": "code",
   "execution_count": 38,
   "id": "ee5bd151-ae95-4ad3-88af-c2df91b4fc8a",
   "metadata": {},
   "outputs": [],
   "source": [
    "vocab_ae = set(df_vocab[\"WORD\"])"
   ]
  },
  {
   "cell_type": "markdown",
   "id": "af354110-22a1-4225-9898-f39e557285af",
   "metadata": {},
   "source": [
    "The dictionary we just loaded covers only \"normal\" words. However, expressive lengthenings may also be used for Internet slang terms (e.g., \"*looool*\"). Luckily, we already loaded a dictionary of slang terms, so we can just add them to our vocabulary of valid words/terms."
   ]
  },
  {
   "cell_type": "code",
   "execution_count": 39,
   "id": "7df874a3-a167-493d-a96e-f38bd49d0d31",
   "metadata": {},
   "outputs": [],
   "source": [
    "vocab_ae.update(set(slang_dict.keys()))"
   ]
  },
  {
   "cell_type": "markdown",
   "id": "3dc5163b-5a88-4bcb-afc2-b33fc272e154",
   "metadata": {},
   "source": [
    "Since the number of additional characters may be arbitrary, we can use a Regular Expression to match substrings where the same character appears at least three times in a row, and then replace it with only two of those characters. Again, checking for only two repeated characters and/or reducing it to only one character can lead to invalid words. The code cell below shows the Regular Expression applied to an example word."
   ]
  },
  {
   "cell_type": "code",
   "execution_count": 40,
   "id": "e05b8d4a-7dc4-4157-b903-c1ae5cd9364a",
   "metadata": {},
   "outputs": [
    {
     "name": "stdout",
     "output_type": "stream",
     "text": [
      "cool\n"
     ]
    }
   ],
   "source": [
    "print(re.sub(r\"(\\w)\\1{2,}\", r\"\\1\\1\", \"cooool\", flags=re.I))"
   ]
  },
  {
   "cell_type": "markdown",
   "id": "546e010d-b8bd-4c60-989d-28a3df62c2ae",
   "metadata": {},
   "source": [
    "This example works just fine since *\"cool\"* does indeed feature to *o*'s. However, if we try:"
   ]
  },
  {
   "cell_type": "code",
   "execution_count": 41,
   "id": "8b21718b-66e4-47b8-b461-9c70805e7225",
   "metadata": {},
   "outputs": [
    {
     "name": "stdout",
     "output_type": "stream",
     "text": [
      "lool\n"
     ]
    }
   ],
   "source": [
    "print(re.sub(r\"(\\w)\\1{2,}\", r\"\\1\\1\", \"looool\", flags=re.I))"
   ]
  },
  {
   "cell_type": "markdown",
   "id": "cc91ac3c-1e43-4c30-ae75-c65b0ce479be",
   "metadata": {},
   "source": [
    "We won't get the arguably correct result of *\"lol\"*. The address this issues, the method `handle_expressive_lengthening()` implements the normalization of expressive lengthenings as a two-step process:\n",
    "\n",
    "* Firstly, the method reduces all characters that are repeated at least three times in a row down to two characters. If this change indeed modified the input token, the method checks if the new token is a valid word by looking if the word is contained in the vocabulary. If that is the case, this news token gets return as the normalization results; *otherwise*\n",
    "\n",
    "* Secondly, if the new token is not a valid word, the method uses a second Regular Expression to reduce repeated characters down to only one character. Again, the method then checks if this further modified is a valid word and returns it if that is the case. If this step also fails, the method simple returns the initial input token without any changes."
   ]
  },
  {
   "cell_type": "code",
   "execution_count": 42,
   "id": "9501a5e6-3521-4d84-b913-19acb09cc382",
   "metadata": {},
   "outputs": [],
   "source": [
    "def handle_expressive_lengthening(token, vocabulary):\n",
    "    token_copy = token\n",
    "    if re.match(r\"(\\w)\\1{2,}\", token_copy, flags=re.I) is False:\n",
    "        return token\n",
    "    token_copy = re.sub(r\"(\\w)\\1{2,}\", r\"\\1\\1\", token_copy, flags=re.I)\n",
    "    if token_copy.lower() in vocab_ae:\n",
    "        return token_copy\n",
    "    token_copy = re.sub(r\"(\\w)\\1\", r\"\\1\", token_copy, flags=re.I)\n",
    "    if token_copy.lower() in vocab_ae:\n",
    "        return token_copy\n",
    "    else:\n",
    "        return token"
   ]
  },
  {
   "cell_type": "markdown",
   "id": "3ddf9664-f513-48a8-bc08-00cf8c5c5ada",
   "metadata": {},
   "source": [
    "Let's checkout some examples to see how the method `handle_expressive_lengthening` behaves."
   ]
  },
  {
   "cell_type": "code",
   "execution_count": 43,
   "id": "97dcfc69-3a34-4988-89a2-1b45e0bb134b",
   "metadata": {},
   "outputs": [
    {
     "name": "stdout",
     "output_type": "stream",
     "text": [
      "lol\n",
      "cool\n",
      "damn\n",
      "nice\n",
      "heck\n"
     ]
    }
   ],
   "source": [
    "print(handle_expressive_lengthening(\"looool\", vocab_ae))\n",
    "print(handle_expressive_lengthening(\"cooooool\", vocab_ae))\n",
    "print(handle_expressive_lengthening(\"daaaaamn\", vocab_ae))\n",
    "print(handle_expressive_lengthening(\"niiiiceee\", vocab_ae))\n",
    "print(handle_expressive_lengthening(\"heeeckkkk\", vocab_ae))"
   ]
  },
  {
   "cell_type": "markdown",
   "id": "11e0b174-49db-4ad2-81e0-4bddbced55b5",
   "metadata": {},
   "source": [
    "And of course, we can also apply the method to an example sentences that has already been tokenized."
   ]
  },
  {
   "cell_type": "code",
   "execution_count": 44,
   "id": "bc8db9a9-8cf3-40f0-ad39-6b50170c350c",
   "metadata": {},
   "outputs": [
    {
     "name": "stdout",
     "output_type": "stream",
     "text": [
      "['The', 'movie', 'was', 'amazing', 'lol', '.']\n"
     ]
    }
   ],
   "source": [
    "tokens = [\"The\", \"movie\", \"was\", \"amaaaazing\", \"looool\", \".\"]\n",
    "\n",
    "print([ handle_expressive_lengthening(token, vocab_ae) for token in tokens ])"
   ]
  },
  {
   "cell_type": "markdown",
   "id": "67c48c67-039e-471f-9392-8b360646bf18",
   "metadata": {},
   "source": [
    "#### Discussion\n",
    "\n",
    "The implementation of the method `handle_expressive_lengthening()` makes several simplifying assumptions and is therefore far from perfect. Most obviously, it relies on the vocabulary to be complete to reliably check if a modified token is now a valid word. For example, our current vocabulary does not contain named entities such as *\"Microsoft\"*. So any mentioning of this word with some expressive lengthenings will not be normalized correctly:"
   ]
  },
  {
   "cell_type": "code",
   "execution_count": 45,
   "id": "ceeeef10-b494-40fb-8bc1-ca61a06d504e",
   "metadata": {},
   "outputs": [
    {
     "name": "stdout",
     "output_type": "stream",
     "text": [
      "microsooooft\n"
     ]
    }
   ],
   "source": [
    "print(handle_expressive_lengthening(\"microsooooft\", vocab_ae))"
   ]
  },
  {
   "cell_type": "markdown",
   "id": "b56eabf0-0d8f-4db5-8e13-bb73989c765c",
   "metadata": {},
   "source": [
    "A more subtle &mdash; and arguably less likely &mdash; case of normalization errors occurs if a word contains multiple expressive lengthenings for different characters, but those characters would need to be reduced to different lengths, either one or two. The code cell below shows three example where only the first one returns the expected result:"
   ]
  },
  {
   "cell_type": "code",
   "execution_count": 46,
   "id": "955f182d-d799-40a5-a2f9-ce1e220d16f8",
   "metadata": {},
   "outputs": [
    {
     "name": "stdout",
     "output_type": "stream",
     "text": [
      "lol\n",
      "col\n",
      "beeerrrr\n"
     ]
    }
   ],
   "source": [
    "print(handle_expressive_lengthening(\"loooollll\", vocab_ae)) # Works because both \"o\" and \"l\" need to get reduced to one character each\n",
    "print(handle_expressive_lengthening(\"coooollll\", vocab_ae)) # Does arguably not work since \"cooll\" is not a proper word so further reduction\n",
    "print(handle_expressive_lengthening(\"beeerrrr\", vocab_ae)) # Does not work since neither \"beerr\" nor \"ber\" are proper words"
   ]
  },
  {
   "cell_type": "markdown",
   "id": "88968450-f288-4203-bec2-346e90cce272",
   "metadata": {},
   "source": [
    "In the case of *\"coooollll\"* the algorithm first reduces the expressive lengthenings to *\"cooll\"*. Since this is not a proper word, it further reduced it the *\"col\"*. While this is a proper word, it is arguably not the correct one (which is most likely *\"cool\"*). In the case, of *\"beeerrrr\"*, both *\"beerr\"* after the first reduction step and *\"ber\"* after the second step are not valid words found in the vocabulary. There, the method falls back to returning the input token unchanged. In principle, many of such cases can be covered by improving the method `handle_expressive_lengthening()`. However, this would quickly increase its complexity, and in practice it is often not worth the effort. This includes the consideration that the more complex the method becomes, the more likely it will behave unexpectedly in other situations, including cases that work right now with the simple implementation."
   ]
  },
  {
   "cell_type": "markdown",
   "id": "4c5fa33b-5294-4ef7-a71f-33d79db8ce76",
   "metadata": {},
   "source": [
    "---"
   ]
  },
  {
   "cell_type": "markdown",
   "id": "1b2a0da9-b9d2-4686-ad6a-f0063a8a1f09",
   "metadata": {},
   "source": [
    "## Summary\n",
    "\n",
    "Text normalization is a vital preprocessing step in natural language processing (NLP) that involves transforming raw text into a standardized and consistent format. This process ensures compatibility and enhances the performance of NLP systems by addressing the inconsistencies, variations, and noise present in raw text. Such issues might include misspellings, abbreviations, slang, or irregular punctuation, all of which can hinder the accuracy and reliability of computational models.\n",
    "\n",
    "The process typically begins with transforming text to lowercase to standardize its appearance, particularly in languages where case does not alter meaning. Another common step is removing unnecessary punctuation and special characters, which often do not contribute significantly to the semantic understanding of the text. Additionally, tokenization is employed to split the text into smaller units, such as words or sentences, which serve as the foundation for subsequent processing. Normalization often includes correcting misspellings or expanding contractions and abbreviations, such as converting *\"u\"* to *\"you\"* or *\"can't\"* to *\"cannot\"*. In some cases, words are reduced to their root forms through stemming or lemmatization, and uninformative words, like *\"and\"* or *\"the\"*, may be removed if they do not add value to the task.\n",
    "\n",
    "Text normalization poses several challenges. Languages differ in their grammatical rules, syntax, and cultural nuances, making it essential to tailor normalization strategies for each language. Moreover, preserving context and meaning during normalization is difficult; for instance, indiscriminate removal of words or symbols might strip the text of valuable information, particularly in tasks like sentiment analysis. Social media and informal text add another layer of complexity, as they often include unconventional spellings, slang, and emojis. Named entities, such as names of people or brands, must often be retained in their original form, further complicating the process.\n",
    "\n",
    "The exact approach to text normalization is highly dependent on the NLP task or application. For sentiment analysis, it is crucial to preserve elements like emojis, contractions, and slang, as these carry emotional nuance. In contrast, tasks like machine translation benefit from stricter uniformity in text, such as consistent casing and corrected spelling, to ensure accurate translations. Similarly, search engines rely on stemming or lemmatization to match user queries with indexed content effectively. Task-specific requirements emphasize the importance of tailoring normalization strategies. Over-normalizing can degrade performance in specialized applications; for instance, stemming might improve search retrieval but could impair readability in tasks like text summarization. A balanced and adaptive approach is essential to align text normalization with the specific goals of the NLP task, ensuring both computational efficiency and semantic fidelity. Ultimately, text normalization serves as a foundational step, bridging the gap between raw text data and sophisticated NLP analysis."
   ]
  },
  {
   "cell_type": "code",
   "execution_count": null,
   "id": "423850f3-8678-44fb-80ed-c87d94b15eaa",
   "metadata": {},
   "outputs": [],
   "source": []
  }
 ],
 "metadata": {
  "kernelspec": {
   "display_name": "py311",
   "language": "python",
   "name": "py311"
  },
  "language_info": {
   "codemirror_mode": {
    "name": "ipython",
    "version": 3
   },
   "file_extension": ".py",
   "mimetype": "text/x-python",
   "name": "python",
   "nbconvert_exporter": "python",
   "pygments_lexer": "ipython3",
   "version": "3.11.8"
  }
 },
 "nbformat": 4,
 "nbformat_minor": 5
}
